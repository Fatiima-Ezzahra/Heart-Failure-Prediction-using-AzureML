{
 "cells": [
  {
   "cell_type": "markdown",
   "metadata": {},
   "source": [
    "# Automated ML"
   ]
  },
  {
   "cell_type": "markdown",
   "metadata": {},
   "source": [
    "Import all dependencies."
   ]
  },
  {
   "cell_type": "code",
   "execution_count": 1,
   "metadata": {
    "gather": {
     "logged": 1598423888013
    },
    "jupyter": {
     "outputs_hidden": false,
     "source_hidden": false
    },
    "nteract": {
     "transient": {
      "deleting": false
     }
    }
   },
   "outputs": [
    {
     "ename": "ModuleNotFoundError",
     "evalue": "No module named 'azureml'",
     "output_type": "error",
     "traceback": [
      "\u001b[0;31m---------------------------------------------------------------------------\u001b[0m",
      "\u001b[0;31mModuleNotFoundError\u001b[0m                       Traceback (most recent call last)",
      "\u001b[0;32m<ipython-input-1-d128d8421908>\u001b[0m in \u001b[0;36m<module>\u001b[0;34m()\u001b[0m\n\u001b[1;32m      1\u001b[0m \u001b[0;32mimport\u001b[0m \u001b[0mjson\u001b[0m\u001b[0;34m\u001b[0m\u001b[0;34m\u001b[0m\u001b[0m\n\u001b[0;32m----> 2\u001b[0;31m \u001b[0;32mimport\u001b[0m \u001b[0mazureml\u001b[0m\u001b[0;34m.\u001b[0m\u001b[0mcore\u001b[0m\u001b[0;34m\u001b[0m\u001b[0;34m\u001b[0m\u001b[0m\n\u001b[0m\u001b[1;32m      3\u001b[0m \u001b[0;32mfrom\u001b[0m \u001b[0mazureml\u001b[0m\u001b[0;34m.\u001b[0m\u001b[0mcore\u001b[0m \u001b[0;32mimport\u001b[0m \u001b[0mWorkspace\u001b[0m\u001b[0;34m,\u001b[0m \u001b[0mExperiment\u001b[0m\u001b[0;34m,\u001b[0m \u001b[0mModel\u001b[0m\u001b[0;34m\u001b[0m\u001b[0;34m\u001b[0m\u001b[0m\n\u001b[1;32m      4\u001b[0m \u001b[0;32mfrom\u001b[0m \u001b[0mazureml\u001b[0m\u001b[0;34m.\u001b[0m\u001b[0mcore\u001b[0m\u001b[0;34m.\u001b[0m\u001b[0mcompute\u001b[0m \u001b[0;32mimport\u001b[0m \u001b[0mComputeTarget\u001b[0m\u001b[0;34m,\u001b[0m \u001b[0mAmlCompute\u001b[0m\u001b[0;34m\u001b[0m\u001b[0;34m\u001b[0m\u001b[0m\n\u001b[1;32m      5\u001b[0m \u001b[0;32mfrom\u001b[0m \u001b[0mazureml\u001b[0m\u001b[0;34m.\u001b[0m\u001b[0mcore\u001b[0m\u001b[0;34m.\u001b[0m\u001b[0mcompute_target\u001b[0m \u001b[0;32mimport\u001b[0m \u001b[0mComputeTargetException\u001b[0m\u001b[0;34m\u001b[0m\u001b[0;34m\u001b[0m\u001b[0m\n",
      "\u001b[0;31mModuleNotFoundError\u001b[0m: No module named 'azureml'"
     ]
    }
   ],
   "source": [
    "import json\n",
    "import azureml.core\n",
    "from azureml.core import Workspace, Experiment, Model\n",
    "from azureml.core.compute import ComputeTarget, AmlCompute\n",
    "from azureml.core.compute_target import ComputeTargetException\n",
    "from azureml.widgets import RunDetails\n",
    "from azureml.train.automl import AutoMLConfig\n",
    "from azureml.core.environment import Environment\n",
    "from azureml.core.model import InferenceConfig\n",
    "from azureml.core.webservice import AciWebservice, Webservice\n",
    "\n",
    "print(\"SDK version:\", azureml.core.VERSION)"
   ]
  },
  {
   "cell_type": "markdown",
   "metadata": {},
   "source": [
    "## Initialize workspace\n",
    "\n",
    "Initialize a workspace object from persisted configuration. Make sure the config file is present at .\\config.json"
   ]
  },
  {
   "cell_type": "code",
   "execution_count": 2,
   "metadata": {},
   "outputs": [
    {
     "name": "stdout",
     "output_type": "stream",
     "text": [
      "quick-starts-ws-134098\n",
      "aml-quickstarts-134098\n",
      "southcentralus\n",
      "9b72f9e6-56c5-4c16-991b-19c652994860\n"
     ]
    }
   ],
   "source": [
    "ws = Workspace.from_config()\n",
    "\n",
    "print(ws.name, ws.resource_group, ws.location, ws.subscription_id, sep = '\\n')"
   ]
  },
  {
   "cell_type": "markdown",
   "metadata": {},
   "source": [
    "## Create an Azure ML experiment"
   ]
  },
  {
   "cell_type": "code",
   "execution_count": 3,
   "metadata": {
    "gather": {
     "logged": 1598423890461
    },
    "jupyter": {
     "outputs_hidden": false,
     "source_hidden": false
    },
    "nteract": {
     "transient": {
      "deleting": false
     }
    }
   },
   "outputs": [],
   "source": [
    "# choose a name for experiment\n",
    "experiment_name = 'automl-heart-experiment'\n",
    "\n",
    "experiment = Experiment(ws, experiment_name)\n",
    "\n",
    "run = experiment.start_logging()"
   ]
  },
  {
   "cell_type": "markdown",
   "metadata": {},
   "source": [
    "## Create a Compute Cluster"
   ]
  },
  {
   "cell_type": "code",
   "execution_count": 4,
   "metadata": {},
   "outputs": [
    {
     "name": "stdout",
     "output_type": "stream",
     "text": [
      "Creating\n",
      "Succeeded...............................................................................................................\n",
      "AmlCompute wait for completion finished\n",
      "\n",
      "Wait timeout has been reached\n",
      "Current provisioning state of AmlCompute is \"Succeeded\" and current node count is \"0\"\n"
     ]
    }
   ],
   "source": [
    "amlcompute_cluster_name = \"heart-compute\"\n",
    "\n",
    "# Verify that cluster does not exist already\n",
    "try:\n",
    "    compute_target = ComputeTarget(workspace=ws, name=amlcompute_cluster_name)\n",
    "    print('Found existing cluster, use it.')\n",
    "except ComputeTargetException:\n",
    "    compute_config = AmlCompute.provisioning_configuration(vm_size='STANDARD_D2_V2', max_nodes=4)\n",
    "    compute_target = ComputeTarget.create(ws, amlcompute_cluster_name, compute_config)\n",
    "\n",
    "compute_target.wait_for_completion(show_output=True, min_node_count = 1, timeout_in_minutes = 10)"
   ]
  },
  {
   "cell_type": "markdown",
   "metadata": {},
   "source": [
    "## Dataset\n",
    "\n",
    "### Overview\n",
    "For this project, I used the [Heart Failure dataset](https://www.kaggle.com/andrewmvd/heart-failure-clinical-data) from Kaggle. \n",
    "\n",
    "Heart failure is a common event caused by CVDs and this dataset contains 12 features that can be used to predict mortality by heart failure."
   ]
  },
  {
   "cell_type": "code",
   "execution_count": 5,
   "metadata": {},
   "outputs": [
    {
     "data": {
      "text/html": [
       "<div>\n",
       "<style scoped>\n",
       "    .dataframe tbody tr th:only-of-type {\n",
       "        vertical-align: middle;\n",
       "    }\n",
       "\n",
       "    .dataframe tbody tr th {\n",
       "        vertical-align: top;\n",
       "    }\n",
       "\n",
       "    .dataframe thead th {\n",
       "        text-align: right;\n",
       "    }\n",
       "</style>\n",
       "<table border=\"1\" class=\"dataframe\">\n",
       "  <thead>\n",
       "    <tr style=\"text-align: right;\">\n",
       "      <th></th>\n",
       "      <th>age</th>\n",
       "      <th>anaemia</th>\n",
       "      <th>creatinine_phosphokinase</th>\n",
       "      <th>diabetes</th>\n",
       "      <th>ejection_fraction</th>\n",
       "      <th>high_blood_pressure</th>\n",
       "      <th>platelets</th>\n",
       "      <th>serum_creatinine</th>\n",
       "      <th>serum_sodium</th>\n",
       "      <th>sex</th>\n",
       "      <th>smoking</th>\n",
       "      <th>time</th>\n",
       "      <th>DEATH_EVENT</th>\n",
       "    </tr>\n",
       "  </thead>\n",
       "  <tbody>\n",
       "    <tr>\n",
       "      <th>count</th>\n",
       "      <td>299.000000</td>\n",
       "      <td>299.000000</td>\n",
       "      <td>299.000000</td>\n",
       "      <td>299.000000</td>\n",
       "      <td>299.000000</td>\n",
       "      <td>299.000000</td>\n",
       "      <td>299.000000</td>\n",
       "      <td>299.00000</td>\n",
       "      <td>299.000000</td>\n",
       "      <td>299.000000</td>\n",
       "      <td>299.00000</td>\n",
       "      <td>299.000000</td>\n",
       "      <td>299.00000</td>\n",
       "    </tr>\n",
       "    <tr>\n",
       "      <th>mean</th>\n",
       "      <td>60.833893</td>\n",
       "      <td>0.431438</td>\n",
       "      <td>581.839465</td>\n",
       "      <td>0.418060</td>\n",
       "      <td>38.083612</td>\n",
       "      <td>0.351171</td>\n",
       "      <td>263358.029264</td>\n",
       "      <td>1.39388</td>\n",
       "      <td>136.625418</td>\n",
       "      <td>0.648829</td>\n",
       "      <td>0.32107</td>\n",
       "      <td>130.260870</td>\n",
       "      <td>0.32107</td>\n",
       "    </tr>\n",
       "    <tr>\n",
       "      <th>std</th>\n",
       "      <td>11.894809</td>\n",
       "      <td>0.496107</td>\n",
       "      <td>970.287881</td>\n",
       "      <td>0.494067</td>\n",
       "      <td>11.834841</td>\n",
       "      <td>0.478136</td>\n",
       "      <td>97804.236869</td>\n",
       "      <td>1.03451</td>\n",
       "      <td>4.412477</td>\n",
       "      <td>0.478136</td>\n",
       "      <td>0.46767</td>\n",
       "      <td>77.614208</td>\n",
       "      <td>0.46767</td>\n",
       "    </tr>\n",
       "    <tr>\n",
       "      <th>min</th>\n",
       "      <td>40.000000</td>\n",
       "      <td>0.000000</td>\n",
       "      <td>23.000000</td>\n",
       "      <td>0.000000</td>\n",
       "      <td>14.000000</td>\n",
       "      <td>0.000000</td>\n",
       "      <td>25100.000000</td>\n",
       "      <td>0.50000</td>\n",
       "      <td>113.000000</td>\n",
       "      <td>0.000000</td>\n",
       "      <td>0.00000</td>\n",
       "      <td>4.000000</td>\n",
       "      <td>0.00000</td>\n",
       "    </tr>\n",
       "    <tr>\n",
       "      <th>25%</th>\n",
       "      <td>51.000000</td>\n",
       "      <td>0.000000</td>\n",
       "      <td>116.500000</td>\n",
       "      <td>0.000000</td>\n",
       "      <td>30.000000</td>\n",
       "      <td>0.000000</td>\n",
       "      <td>212500.000000</td>\n",
       "      <td>0.90000</td>\n",
       "      <td>134.000000</td>\n",
       "      <td>0.000000</td>\n",
       "      <td>0.00000</td>\n",
       "      <td>73.000000</td>\n",
       "      <td>0.00000</td>\n",
       "    </tr>\n",
       "    <tr>\n",
       "      <th>50%</th>\n",
       "      <td>60.000000</td>\n",
       "      <td>0.000000</td>\n",
       "      <td>250.000000</td>\n",
       "      <td>0.000000</td>\n",
       "      <td>38.000000</td>\n",
       "      <td>0.000000</td>\n",
       "      <td>262000.000000</td>\n",
       "      <td>1.10000</td>\n",
       "      <td>137.000000</td>\n",
       "      <td>1.000000</td>\n",
       "      <td>0.00000</td>\n",
       "      <td>115.000000</td>\n",
       "      <td>0.00000</td>\n",
       "    </tr>\n",
       "    <tr>\n",
       "      <th>75%</th>\n",
       "      <td>70.000000</td>\n",
       "      <td>1.000000</td>\n",
       "      <td>582.000000</td>\n",
       "      <td>1.000000</td>\n",
       "      <td>45.000000</td>\n",
       "      <td>1.000000</td>\n",
       "      <td>303500.000000</td>\n",
       "      <td>1.40000</td>\n",
       "      <td>140.000000</td>\n",
       "      <td>1.000000</td>\n",
       "      <td>1.00000</td>\n",
       "      <td>203.000000</td>\n",
       "      <td>1.00000</td>\n",
       "    </tr>\n",
       "    <tr>\n",
       "      <th>max</th>\n",
       "      <td>95.000000</td>\n",
       "      <td>1.000000</td>\n",
       "      <td>7861.000000</td>\n",
       "      <td>1.000000</td>\n",
       "      <td>80.000000</td>\n",
       "      <td>1.000000</td>\n",
       "      <td>850000.000000</td>\n",
       "      <td>9.40000</td>\n",
       "      <td>148.000000</td>\n",
       "      <td>1.000000</td>\n",
       "      <td>1.00000</td>\n",
       "      <td>285.000000</td>\n",
       "      <td>1.00000</td>\n",
       "    </tr>\n",
       "  </tbody>\n",
       "</table>\n",
       "</div>"
      ],
      "text/plain": [
       "              age     anaemia  creatinine_phosphokinase    diabetes  \\\n",
       "count  299.000000  299.000000                299.000000  299.000000   \n",
       "mean    60.833893    0.431438                581.839465    0.418060   \n",
       "std     11.894809    0.496107                970.287881    0.494067   \n",
       "min     40.000000    0.000000                 23.000000    0.000000   \n",
       "25%     51.000000    0.000000                116.500000    0.000000   \n",
       "50%     60.000000    0.000000                250.000000    0.000000   \n",
       "75%     70.000000    1.000000                582.000000    1.000000   \n",
       "max     95.000000    1.000000               7861.000000    1.000000   \n",
       "\n",
       "       ejection_fraction  high_blood_pressure      platelets  \\\n",
       "count         299.000000           299.000000     299.000000   \n",
       "mean           38.083612             0.351171  263358.029264   \n",
       "std            11.834841             0.478136   97804.236869   \n",
       "min            14.000000             0.000000   25100.000000   \n",
       "25%            30.000000             0.000000  212500.000000   \n",
       "50%            38.000000             0.000000  262000.000000   \n",
       "75%            45.000000             1.000000  303500.000000   \n",
       "max            80.000000             1.000000  850000.000000   \n",
       "\n",
       "       serum_creatinine  serum_sodium         sex    smoking        time  \\\n",
       "count         299.00000    299.000000  299.000000  299.00000  299.000000   \n",
       "mean            1.39388    136.625418    0.648829    0.32107  130.260870   \n",
       "std             1.03451      4.412477    0.478136    0.46767   77.614208   \n",
       "min             0.50000    113.000000    0.000000    0.00000    4.000000   \n",
       "25%             0.90000    134.000000    0.000000    0.00000   73.000000   \n",
       "50%             1.10000    137.000000    1.000000    0.00000  115.000000   \n",
       "75%             1.40000    140.000000    1.000000    1.00000  203.000000   \n",
       "max             9.40000    148.000000    1.000000    1.00000  285.000000   \n",
       "\n",
       "       DEATH_EVENT  \n",
       "count    299.00000  \n",
       "mean       0.32107  \n",
       "std        0.46767  \n",
       "min        0.00000  \n",
       "25%        0.00000  \n",
       "50%        0.00000  \n",
       "75%        1.00000  \n",
       "max        1.00000  "
      ]
     },
     "execution_count": 5,
     "metadata": {},
     "output_type": "execute_result"
    }
   ],
   "source": [
    "key = \"heart-failure\"\n",
    "\n",
    "dataset = ws.datasets[key]\n",
    "\n",
    "df = dataset.to_pandas_dataframe()\n",
    "df.describe()"
   ]
  },
  {
   "cell_type": "markdown",
   "metadata": {},
   "source": [
    "### Explore"
   ]
  },
  {
   "cell_type": "code",
   "execution_count": 6,
   "metadata": {},
   "outputs": [
    {
     "data": {
      "text/html": [
       "<div>\n",
       "<style scoped>\n",
       "    .dataframe tbody tr th:only-of-type {\n",
       "        vertical-align: middle;\n",
       "    }\n",
       "\n",
       "    .dataframe tbody tr th {\n",
       "        vertical-align: top;\n",
       "    }\n",
       "\n",
       "    .dataframe thead th {\n",
       "        text-align: right;\n",
       "    }\n",
       "</style>\n",
       "<table border=\"1\" class=\"dataframe\">\n",
       "  <thead>\n",
       "    <tr style=\"text-align: right;\">\n",
       "      <th></th>\n",
       "      <th>age</th>\n",
       "      <th>anaemia</th>\n",
       "      <th>creatinine_phosphokinase</th>\n",
       "      <th>diabetes</th>\n",
       "      <th>ejection_fraction</th>\n",
       "      <th>high_blood_pressure</th>\n",
       "      <th>platelets</th>\n",
       "      <th>serum_creatinine</th>\n",
       "      <th>serum_sodium</th>\n",
       "      <th>sex</th>\n",
       "      <th>smoking</th>\n",
       "      <th>time</th>\n",
       "      <th>DEATH_EVENT</th>\n",
       "    </tr>\n",
       "  </thead>\n",
       "  <tbody>\n",
       "    <tr>\n",
       "      <th>0</th>\n",
       "      <td>75.0</td>\n",
       "      <td>0</td>\n",
       "      <td>582</td>\n",
       "      <td>0</td>\n",
       "      <td>20</td>\n",
       "      <td>1</td>\n",
       "      <td>265000.00</td>\n",
       "      <td>1.9</td>\n",
       "      <td>130</td>\n",
       "      <td>1</td>\n",
       "      <td>0</td>\n",
       "      <td>4</td>\n",
       "      <td>1</td>\n",
       "    </tr>\n",
       "    <tr>\n",
       "      <th>1</th>\n",
       "      <td>55.0</td>\n",
       "      <td>0</td>\n",
       "      <td>7861</td>\n",
       "      <td>0</td>\n",
       "      <td>38</td>\n",
       "      <td>0</td>\n",
       "      <td>263358.03</td>\n",
       "      <td>1.1</td>\n",
       "      <td>136</td>\n",
       "      <td>1</td>\n",
       "      <td>0</td>\n",
       "      <td>6</td>\n",
       "      <td>1</td>\n",
       "    </tr>\n",
       "    <tr>\n",
       "      <th>2</th>\n",
       "      <td>65.0</td>\n",
       "      <td>0</td>\n",
       "      <td>146</td>\n",
       "      <td>0</td>\n",
       "      <td>20</td>\n",
       "      <td>0</td>\n",
       "      <td>162000.00</td>\n",
       "      <td>1.3</td>\n",
       "      <td>129</td>\n",
       "      <td>1</td>\n",
       "      <td>1</td>\n",
       "      <td>7</td>\n",
       "      <td>1</td>\n",
       "    </tr>\n",
       "    <tr>\n",
       "      <th>3</th>\n",
       "      <td>50.0</td>\n",
       "      <td>1</td>\n",
       "      <td>111</td>\n",
       "      <td>0</td>\n",
       "      <td>20</td>\n",
       "      <td>0</td>\n",
       "      <td>210000.00</td>\n",
       "      <td>1.9</td>\n",
       "      <td>137</td>\n",
       "      <td>1</td>\n",
       "      <td>0</td>\n",
       "      <td>7</td>\n",
       "      <td>1</td>\n",
       "    </tr>\n",
       "    <tr>\n",
       "      <th>4</th>\n",
       "      <td>65.0</td>\n",
       "      <td>1</td>\n",
       "      <td>160</td>\n",
       "      <td>1</td>\n",
       "      <td>20</td>\n",
       "      <td>0</td>\n",
       "      <td>327000.00</td>\n",
       "      <td>2.7</td>\n",
       "      <td>116</td>\n",
       "      <td>0</td>\n",
       "      <td>0</td>\n",
       "      <td>8</td>\n",
       "      <td>1</td>\n",
       "    </tr>\n",
       "  </tbody>\n",
       "</table>\n",
       "</div>"
      ],
      "text/plain": [
       "    age  anaemia  creatinine_phosphokinase  diabetes  ejection_fraction  \\\n",
       "0  75.0        0                       582         0                 20   \n",
       "1  55.0        0                      7861         0                 38   \n",
       "2  65.0        0                       146         0                 20   \n",
       "3  50.0        1                       111         0                 20   \n",
       "4  65.0        1                       160         1                 20   \n",
       "\n",
       "   high_blood_pressure  platelets  serum_creatinine  serum_sodium  sex  \\\n",
       "0                    1  265000.00               1.9           130    1   \n",
       "1                    0  263358.03               1.1           136    1   \n",
       "2                    0  162000.00               1.3           129    1   \n",
       "3                    0  210000.00               1.9           137    1   \n",
       "4                    0  327000.00               2.7           116    0   \n",
       "\n",
       "   smoking  time  DEATH_EVENT  \n",
       "0        0     4            1  \n",
       "1        0     6            1  \n",
       "2        1     7            1  \n",
       "3        0     7            1  \n",
       "4        0     8            1  "
      ]
     },
     "execution_count": 6,
     "metadata": {},
     "output_type": "execute_result"
    }
   ],
   "source": [
    "dataset.take(5).to_pandas_dataframe()"
   ]
  },
  {
   "cell_type": "markdown",
   "metadata": {},
   "source": [
    "## AutoML Configuration\n",
    "\n",
    "\n",
    "Let me explain the reasoning behind my choices for the AutoML Config:\n",
    "* **experiment_timeout_minutes**: I chose 15 minutes as the maximum amount of time the experiment can takee before it terminates because I have a small dataset with only 299 entries.\n",
    "* **max_concurrent_iterations**: Represents the maximum number of iterations that would be executed in parallel. The default value is 1.\n",
    "* **n_cross_validations**: To avoid overfitting, we need to user cross validation.\n",
    "* **primary_metric**: Area Under Curve (AUC) is one of the most widely used metrics for evaluation. It is used for binary classification problem.\n",
    "* **task**: Classification, since we want to have a binary prediction (O or 1)."
   ]
  },
  {
   "cell_type": "code",
   "execution_count": 9,
   "metadata": {
    "gather": {
     "logged": 1598429217746
    },
    "jupyter": {
     "outputs_hidden": false,
     "source_hidden": false
    },
    "nteract": {
     "transient": {
      "deleting": false
     }
    }
   },
   "outputs": [],
   "source": [
    "automl_settings = {\n",
    "    \"experiment_timeout_minutes\": 15,\n",
    "    \"max_concurrent_iterations\": 5,\n",
    "    \"n_cross_validations\": 3,\n",
    "    \"primary_metric\" : 'Accuracy'\n",
    "}\n",
    "automl_config = AutoMLConfig(compute_target=compute_target,\n",
    "                             task = \"classification\",\n",
    "                             training_data=dataset,\n",
    "                             label_column_name=\"DEATH_EVENT\",\n",
    "                             enable_early_stopping= True,\n",
    "                             debug_log = \"automl_errors.log\",\n",
    "                             **automl_settings\n",
    "                            )"
   ]
  },
  {
   "cell_type": "code",
   "execution_count": 10,
   "metadata": {
    "gather": {
     "logged": 1598431107951
    },
    "jupyter": {
     "outputs_hidden": false,
     "source_hidden": false
    },
    "nteract": {
     "transient": {
      "deleting": false
     }
    }
   },
   "outputs": [
    {
     "name": "stdout",
     "output_type": "stream",
     "text": [
      "Running on remote.\n",
      "No run_configuration provided, running on heart-compute with default configuration\n",
      "Running on remote compute: heart-compute\n",
      "Parent Run ID: AutoML_fb653870-cda0-4ccf-ba05-21ef2c29173f\n",
      "\n",
      "Current status: FeaturesGeneration. Generating features for the dataset.\n",
      "Current status: DatasetCrossValidationSplit. Generating individually featurized CV splits.\n",
      "Current status: ModelSelection. Beginning model selection.\n",
      "\n",
      "****************************************************************************************************\n",
      "DATA GUARDRAILS: \n",
      "\n",
      "TYPE:         Class balancing detection\n",
      "STATUS:       PASSED\n",
      "DESCRIPTION:  Your inputs were analyzed, and all classes are balanced in your training data.\n",
      "              Learn more about imbalanced data: https://aka.ms/AutomatedMLImbalancedData\n",
      "\n",
      "****************************************************************************************************\n",
      "\n",
      "TYPE:         Missing feature values imputation\n",
      "STATUS:       PASSED\n",
      "DESCRIPTION:  No feature missing values were detected in the training data.\n",
      "              Learn more about missing value imputation: https://aka.ms/AutomatedMLFeaturization\n",
      "\n",
      "****************************************************************************************************\n",
      "\n",
      "TYPE:         High cardinality feature detection\n",
      "STATUS:       PASSED\n",
      "DESCRIPTION:  Your inputs were analyzed, and no high cardinality features were detected.\n",
      "              Learn more about high cardinality feature handling: https://aka.ms/AutomatedMLFeaturization\n",
      "\n",
      "****************************************************************************************************\n",
      "\n",
      "****************************************************************************************************\n",
      "ITERATION: The iteration being evaluated.\n",
      "PIPELINE: A summary description of the pipeline being evaluated.\n",
      "DURATION: Time taken for the current iteration.\n",
      "METRIC: The result of computing score on the fitted pipeline.\n",
      "BEST: The best observed score thus far.\n",
      "****************************************************************************************************\n",
      "\n",
      " ITERATION   PIPELINE                                       DURATION      METRIC      BEST\n",
      "         3   MinMaxScaler RandomForest                      0:00:43       0.8295    0.8295\n",
      "         1   MaxAbsScaler XGBoostClassifier                 0:01:01       0.8193    0.8295\n",
      "         2   MinMaxScaler RandomForest                      0:00:51       0.8294    0.8295\n",
      "         6   MinMaxScaler KNN                               0:00:44       0.6991    0.8295\n",
      "         7   MinMaxScaler SVM                               0:00:42       0.7223    0.8295\n",
      "         8   SparseNormalizer XGBoostClassifier             0:00:46       0.8161    0.8295\n",
      "         5   MinMaxScaler LightGBM                          0:03:12       0.8327    0.8327\n",
      "         4   MinMaxScaler RandomForest                      0:03:23       0.8261    0.8327\n",
      "         9   RobustScaler RandomForest                      0:00:43       0.8461    0.8461\n",
      "        10   MaxAbsScaler ExtremeRandomTrees                0:00:46       0.8227    0.8461\n",
      "        11   StandardScalerWrapper GradientBoosting         0:00:40       0.8294    0.8461\n",
      "        12   SparseNormalizer LightGBM                      0:00:43       0.8092    0.8461\n",
      "        13   SparseNormalizer XGBoostClassifier             0:00:50       0.8160    0.8461\n",
      "        14   RobustScaler ExtremeRandomTrees                0:00:40       0.8495    0.8495\n",
      "        15   MinMaxScaler LightGBM                          0:00:41       0.7993    0.8495\n",
      "        16   SparseNormalizer XGBoostClassifier             0:00:43       0.8094    0.8495\n",
      "        18   StandardScalerWrapper RandomForest             0:00:40       0.8562    0.8562\n",
      "         0   MaxAbsScaler LightGBM                          0:06:13       0.8025    0.8562\n",
      "        17   SparseNormalizer XGBoostClassifier             0:01:10       0.8128    0.8562\n",
      "        19   MinMaxScaler LightGBM                          0:00:44       0.8394    0.8562\n",
      "        20   RobustScaler LightGBM                          0:00:44       0.7959    0.8562\n",
      "        21   TruncatedSVDWrapper XGBoostClassifier          0:00:40       0.7625    0.8562\n",
      "Received interrupt. Returning now."
     ]
    }
   ],
   "source": [
    "remote_run = experiment.submit(automl_config, show_output=True)"
   ]
  },
  {
   "cell_type": "markdown",
   "metadata": {},
   "source": [
    "## Run Details\n",
    "Use the `RunDetails` widget to show the different experiments."
   ]
  },
  {
   "cell_type": "code",
   "execution_count": 11,
   "metadata": {},
   "outputs": [
    {
     "data": {
      "application/vnd.jupyter.widget-view+json": {
       "model_id": "741898d8095449f5a5048dff7484f90c",
       "version_major": 2,
       "version_minor": 0
      },
      "text/plain": [
       "_AutoMLWidget(widget_settings={'childWidgetDisplay': 'popup', 'send_telemetry': False, 'log_level': 'INFO', 's…"
      ]
     },
     "metadata": {},
     "output_type": "display_data"
    },
    {
     "data": {
      "application/aml.mini.widget.v1": "{\"status\": \"Running\", \"workbench_run_details_uri\": \"https://ml.azure.com/experiments/automl-heart-experiment/runs/AutoML_fb653870-cda0-4ccf-ba05-21ef2c29173f?wsid=/subscriptions/9b72f9e6-56c5-4c16-991b-19c652994860/resourcegroups/aml-quickstarts-134098/workspaces/quick-starts-ws-134098\", \"run_id\": \"AutoML_fb653870-cda0-4ccf-ba05-21ef2c29173f\", \"run_properties\": {\"run_id\": \"AutoML_fb653870-cda0-4ccf-ba05-21ef2c29173f\", \"created_utc\": \"2021-01-09T15:22:04.914969Z\", \"properties\": {\"num_iterations\": \"1000\", \"training_type\": \"TrainFull\", \"acquisition_function\": \"EI\", \"primary_metric\": \"accuracy\", \"train_split\": \"0\", \"acquisition_parameter\": \"0\", \"num_cross_validation\": \"3\", \"target\": \"heart-compute\", \"AMLSettingsJsonString\": \"{\\\"path\\\":null,\\\"name\\\":\\\"automl-heart-experiment\\\",\\\"subscription_id\\\":\\\"9b72f9e6-56c5-4c16-991b-19c652994860\\\",\\\"resource_group\\\":\\\"aml-quickstarts-134098\\\",\\\"workspace_name\\\":\\\"quick-starts-ws-134098\\\",\\\"region\\\":\\\"southcentralus\\\",\\\"compute_target\\\":\\\"heart-compute\\\",\\\"spark_service\\\":null,\\\"azure_service\\\":\\\"remote\\\",\\\"many_models\\\":false,\\\"pipeline_fetch_max_batch_size\\\":1,\\\"iterations\\\":1000,\\\"primary_metric\\\":\\\"accuracy\\\",\\\"task_type\\\":\\\"classification\\\",\\\"data_script\\\":null,\\\"validation_size\\\":0.0,\\\"n_cross_validations\\\":3,\\\"y_min\\\":null,\\\"y_max\\\":null,\\\"num_classes\\\":null,\\\"featurization\\\":\\\"auto\\\",\\\"_ignore_package_version_incompatibilities\\\":false,\\\"is_timeseries\\\":false,\\\"max_cores_per_iteration\\\":1,\\\"max_concurrent_iterations\\\":5,\\\"iteration_timeout_minutes\\\":null,\\\"mem_in_mb\\\":null,\\\"enforce_time_on_windows\\\":false,\\\"experiment_timeout_minutes\\\":15,\\\"experiment_exit_score\\\":null,\\\"whitelist_models\\\":null,\\\"blacklist_algos\\\":[\\\"TensorFlowLinearClassifier\\\",\\\"TensorFlowDNN\\\"],\\\"supported_models\\\":[\\\"LightGBM\\\",\\\"KNN\\\",\\\"ExtremeRandomTrees\\\",\\\"SGD\\\",\\\"TensorFlowDNN\\\",\\\"BernoulliNaiveBayes\\\",\\\"SVM\\\",\\\"LogisticRegression\\\",\\\"DecisionTree\\\",\\\"RandomForest\\\",\\\"TensorFlowLinearClassifier\\\",\\\"XGBoostClassifier\\\",\\\"GradientBoosting\\\",\\\"MultinomialNaiveBayes\\\",\\\"AveragedPerceptronClassifier\\\",\\\"LinearSVM\\\"],\\\"auto_blacklist\\\":true,\\\"blacklist_samples_reached\\\":false,\\\"exclude_nan_labels\\\":true,\\\"verbosity\\\":20,\\\"_debug_log\\\":\\\"azureml_automl.log\\\",\\\"show_warnings\\\":false,\\\"model_explainability\\\":true,\\\"service_url\\\":null,\\\"sdk_url\\\":null,\\\"sdk_packages\\\":null,\\\"enable_onnx_compatible_models\\\":false,\\\"enable_split_onnx_featurizer_estimator_models\\\":false,\\\"vm_type\\\":\\\"STANDARD_D2_V2\\\",\\\"telemetry_verbosity\\\":20,\\\"send_telemetry\\\":true,\\\"enable_dnn\\\":false,\\\"scenario\\\":\\\"SDK-1.13.0\\\",\\\"environment_label\\\":null,\\\"force_text_dnn\\\":false,\\\"enable_feature_sweeping\\\":true,\\\"enable_early_stopping\\\":true,\\\"early_stopping_n_iters\\\":10,\\\"metrics\\\":null,\\\"enable_ensembling\\\":true,\\\"enable_stack_ensembling\\\":true,\\\"ensemble_iterations\\\":15,\\\"enable_tf\\\":false,\\\"enable_subsampling\\\":null,\\\"subsample_seed\\\":null,\\\"enable_nimbusml\\\":false,\\\"enable_streaming\\\":false,\\\"force_streaming\\\":false,\\\"track_child_runs\\\":true,\\\"allowed_private_models\\\":[],\\\"label_column_name\\\":\\\"DEATH_EVENT\\\",\\\"weight_column_name\\\":null,\\\"cv_split_column_names\\\":null,\\\"enable_local_managed\\\":false,\\\"_local_managed_run_id\\\":null,\\\"cost_mode\\\":1,\\\"lag_length\\\":0,\\\"metric_operation\\\":\\\"maximize\\\",\\\"preprocess\\\":true}\", \"DataPrepJsonString\": \"{\\\\\\\"training_data\\\\\\\": \\\\\\\"{\\\\\\\\\\\\\\\"blocks\\\\\\\\\\\\\\\": [{\\\\\\\\\\\\\\\"id\\\\\\\\\\\\\\\": \\\\\\\\\\\\\\\"c9be90dc-a486-47eb-a849-8efb7d2d199c\\\\\\\\\\\\\\\", \\\\\\\\\\\\\\\"type\\\\\\\\\\\\\\\": \\\\\\\\\\\\\\\"Microsoft.DPrep.GetDatastoreFilesBlock\\\\\\\\\\\\\\\", \\\\\\\\\\\\\\\"arguments\\\\\\\\\\\\\\\": {\\\\\\\\\\\\\\\"datastores\\\\\\\\\\\\\\\": [{\\\\\\\\\\\\\\\"datastoreName\\\\\\\\\\\\\\\": \\\\\\\\\\\\\\\"workspaceblobstore\\\\\\\\\\\\\\\", \\\\\\\\\\\\\\\"path\\\\\\\\\\\\\\\": \\\\\\\\\\\\\\\"UI/01-09-2021_021415_UTC/heart_failure_clinical_records_dataset.csv\\\\\\\\\\\\\\\", \\\\\\\\\\\\\\\"resourceGroup\\\\\\\\\\\\\\\": \\\\\\\\\\\\\\\"aml-quickstarts-134098\\\\\\\\\\\\\\\", \\\\\\\\\\\\\\\"subscription\\\\\\\\\\\\\\\": \\\\\\\\\\\\\\\"9b72f9e6-56c5-4c16-991b-19c652994860\\\\\\\\\\\\\\\", \\\\\\\\\\\\\\\"workspaceName\\\\\\\\\\\\\\\": \\\\\\\\\\\\\\\"quick-starts-ws-134098\\\\\\\\\\\\\\\"}]}, \\\\\\\\\\\\\\\"localData\\\\\\\\\\\\\\\": {}, \\\\\\\\\\\\\\\"isEnabled\\\\\\\\\\\\\\\": true, \\\\\\\\\\\\\\\"name\\\\\\\\\\\\\\\": null, \\\\\\\\\\\\\\\"annotation\\\\\\\\\\\\\\\": null}, {\\\\\\\\\\\\\\\"id\\\\\\\\\\\\\\\": \\\\\\\\\\\\\\\"5a14ec3c-a653-4955-a264-e4c3327b89c1\\\\\\\\\\\\\\\", \\\\\\\\\\\\\\\"type\\\\\\\\\\\\\\\": \\\\\\\\\\\\\\\"Microsoft.DPrep.ParseDelimitedBlock\\\\\\\\\\\\\\\", \\\\\\\\\\\\\\\"arguments\\\\\\\\\\\\\\\": {\\\\\\\\\\\\\\\"columnHeadersMode\\\\\\\\\\\\\\\": 1, \\\\\\\\\\\\\\\"fileEncoding\\\\\\\\\\\\\\\": 0, \\\\\\\\\\\\\\\"handleQuotedLineBreaks\\\\\\\\\\\\\\\": false, \\\\\\\\\\\\\\\"preview\\\\\\\\\\\\\\\": false, \\\\\\\\\\\\\\\"separator\\\\\\\\\\\\\\\": \\\\\\\\\\\\\\\",\\\\\\\\\\\\\\\", \\\\\\\\\\\\\\\"skipRows\\\\\\\\\\\\\\\": 0, \\\\\\\\\\\\\\\"skipRowsMode\\\\\\\\\\\\\\\": 0}, \\\\\\\\\\\\\\\"localData\\\\\\\\\\\\\\\": {}, \\\\\\\\\\\\\\\"isEnabled\\\\\\\\\\\\\\\": true, \\\\\\\\\\\\\\\"name\\\\\\\\\\\\\\\": null, \\\\\\\\\\\\\\\"annotation\\\\\\\\\\\\\\\": null}, {\\\\\\\\\\\\\\\"id\\\\\\\\\\\\\\\": \\\\\\\\\\\\\\\"c890b3c3-4d9a-4414-8540-2f05a937d203\\\\\\\\\\\\\\\", \\\\\\\\\\\\\\\"type\\\\\\\\\\\\\\\": \\\\\\\\\\\\\\\"Microsoft.DPrep.DropColumnsBlock\\\\\\\\\\\\\\\", \\\\\\\\\\\\\\\"arguments\\\\\\\\\\\\\\\": {\\\\\\\\\\\\\\\"columns\\\\\\\\\\\\\\\": {\\\\\\\\\\\\\\\"type\\\\\\\\\\\\\\\": 0, \\\\\\\\\\\\\\\"details\\\\\\\\\\\\\\\": {\\\\\\\\\\\\\\\"selectedColumns\\\\\\\\\\\\\\\": [\\\\\\\\\\\\\\\"Path\\\\\\\\\\\\\\\"]}}}, \\\\\\\\\\\\\\\"localData\\\\\\\\\\\\\\\": {}, \\\\\\\\\\\\\\\"isEnabled\\\\\\\\\\\\\\\": true, \\\\\\\\\\\\\\\"name\\\\\\\\\\\\\\\": null, \\\\\\\\\\\\\\\"annotation\\\\\\\\\\\\\\\": null}, {\\\\\\\\\\\\\\\"id\\\\\\\\\\\\\\\": \\\\\\\\\\\\\\\"aec17421-fa6f-44e4-b0f6-0f5018cd5551\\\\\\\\\\\\\\\", \\\\\\\\\\\\\\\"type\\\\\\\\\\\\\\\": \\\\\\\\\\\\\\\"Microsoft.DPrep.SetColumnTypesBlock\\\\\\\\\\\\\\\", \\\\\\\\\\\\\\\"arguments\\\\\\\\\\\\\\\": {\\\\\\\\\\\\\\\"columnConversion\\\\\\\\\\\\\\\": [{\\\\\\\\\\\\\\\"column\\\\\\\\\\\\\\\": {\\\\\\\\\\\\\\\"type\\\\\\\\\\\\\\\": 2, \\\\\\\\\\\\\\\"details\\\\\\\\\\\\\\\": {\\\\\\\\\\\\\\\"selectedColumn\\\\\\\\\\\\\\\": \\\\\\\\\\\\\\\"Path\\\\\\\\\\\\\\\"}}, \\\\\\\\\\\\\\\"typeProperty\\\\\\\\\\\\\\\": 0}, {\\\\\\\\\\\\\\\"column\\\\\\\\\\\\\\\": {\\\\\\\\\\\\\\\"type\\\\\\\\\\\\\\\": 2, \\\\\\\\\\\\\\\"details\\\\\\\\\\\\\\\": {\\\\\\\\\\\\\\\"selectedColumn\\\\\\\\\\\\\\\": \\\\\\\\\\\\\\\"age\\\\\\\\\\\\\\\"}}, \\\\\\\\\\\\\\\"typeProperty\\\\\\\\\\\\\\\": 3}, {\\\\\\\\\\\\\\\"column\\\\\\\\\\\\\\\": {\\\\\\\\\\\\\\\"type\\\\\\\\\\\\\\\": 2, \\\\\\\\\\\\\\\"details\\\\\\\\\\\\\\\": {\\\\\\\\\\\\\\\"selectedColumn\\\\\\\\\\\\\\\": \\\\\\\\\\\\\\\"anaemia\\\\\\\\\\\\\\\"}}, \\\\\\\\\\\\\\\"typeProperty\\\\\\\\\\\\\\\": 2}, {\\\\\\\\\\\\\\\"column\\\\\\\\\\\\\\\": {\\\\\\\\\\\\\\\"type\\\\\\\\\\\\\\\": 2, \\\\\\\\\\\\\\\"details\\\\\\\\\\\\\\\": {\\\\\\\\\\\\\\\"selectedColumn\\\\\\\\\\\\\\\": \\\\\\\\\\\\\\\"creatinine_phosphokinase\\\\\\\\\\\\\\\"}}, \\\\\\\\\\\\\\\"typeProperty\\\\\\\\\\\\\\\": 2}, {\\\\\\\\\\\\\\\"column\\\\\\\\\\\\\\\": {\\\\\\\\\\\\\\\"type\\\\\\\\\\\\\\\": 2, \\\\\\\\\\\\\\\"details\\\\\\\\\\\\\\\": {\\\\\\\\\\\\\\\"selectedColumn\\\\\\\\\\\\\\\": \\\\\\\\\\\\\\\"diabetes\\\\\\\\\\\\\\\"}}, \\\\\\\\\\\\\\\"typeProperty\\\\\\\\\\\\\\\": 2}, {\\\\\\\\\\\\\\\"column\\\\\\\\\\\\\\\": {\\\\\\\\\\\\\\\"type\\\\\\\\\\\\\\\": 2, \\\\\\\\\\\\\\\"details\\\\\\\\\\\\\\\": {\\\\\\\\\\\\\\\"selectedColumn\\\\\\\\\\\\\\\": \\\\\\\\\\\\\\\"ejection_fraction\\\\\\\\\\\\\\\"}}, \\\\\\\\\\\\\\\"typeProperty\\\\\\\\\\\\\\\": 2}, {\\\\\\\\\\\\\\\"column\\\\\\\\\\\\\\\": {\\\\\\\\\\\\\\\"type\\\\\\\\\\\\\\\": 2, \\\\\\\\\\\\\\\"details\\\\\\\\\\\\\\\": {\\\\\\\\\\\\\\\"selectedColumn\\\\\\\\\\\\\\\": \\\\\\\\\\\\\\\"high_blood_pressure\\\\\\\\\\\\\\\"}}, \\\\\\\\\\\\\\\"typeProperty\\\\\\\\\\\\\\\": 2}, {\\\\\\\\\\\\\\\"column\\\\\\\\\\\\\\\": {\\\\\\\\\\\\\\\"type\\\\\\\\\\\\\\\": 2, \\\\\\\\\\\\\\\"details\\\\\\\\\\\\\\\": {\\\\\\\\\\\\\\\"selectedColumn\\\\\\\\\\\\\\\": \\\\\\\\\\\\\\\"platelets\\\\\\\\\\\\\\\"}}, \\\\\\\\\\\\\\\"typeProperty\\\\\\\\\\\\\\\": 3}, {\\\\\\\\\\\\\\\"column\\\\\\\\\\\\\\\": {\\\\\\\\\\\\\\\"type\\\\\\\\\\\\\\\": 2, \\\\\\\\\\\\\\\"details\\\\\\\\\\\\\\\": {\\\\\\\\\\\\\\\"selectedColumn\\\\\\\\\\\\\\\": \\\\\\\\\\\\\\\"serum_creatinine\\\\\\\\\\\\\\\"}}, \\\\\\\\\\\\\\\"typeProperty\\\\\\\\\\\\\\\": 3}, {\\\\\\\\\\\\\\\"column\\\\\\\\\\\\\\\": {\\\\\\\\\\\\\\\"type\\\\\\\\\\\\\\\": 2, \\\\\\\\\\\\\\\"details\\\\\\\\\\\\\\\": {\\\\\\\\\\\\\\\"selectedColumn\\\\\\\\\\\\\\\": \\\\\\\\\\\\\\\"serum_sodium\\\\\\\\\\\\\\\"}}, \\\\\\\\\\\\\\\"typeProperty\\\\\\\\\\\\\\\": 2}, {\\\\\\\\\\\\\\\"column\\\\\\\\\\\\\\\": {\\\\\\\\\\\\\\\"type\\\\\\\\\\\\\\\": 2, \\\\\\\\\\\\\\\"details\\\\\\\\\\\\\\\": {\\\\\\\\\\\\\\\"selectedColumn\\\\\\\\\\\\\\\": \\\\\\\\\\\\\\\"sex\\\\\\\\\\\\\\\"}}, \\\\\\\\\\\\\\\"typeProperty\\\\\\\\\\\\\\\": 2}, {\\\\\\\\\\\\\\\"column\\\\\\\\\\\\\\\": {\\\\\\\\\\\\\\\"type\\\\\\\\\\\\\\\": 2, \\\\\\\\\\\\\\\"details\\\\\\\\\\\\\\\": {\\\\\\\\\\\\\\\"selectedColumn\\\\\\\\\\\\\\\": \\\\\\\\\\\\\\\"smoking\\\\\\\\\\\\\\\"}}, \\\\\\\\\\\\\\\"typeProperty\\\\\\\\\\\\\\\": 2}, {\\\\\\\\\\\\\\\"column\\\\\\\\\\\\\\\": {\\\\\\\\\\\\\\\"type\\\\\\\\\\\\\\\": 2, \\\\\\\\\\\\\\\"details\\\\\\\\\\\\\\\": {\\\\\\\\\\\\\\\"selectedColumn\\\\\\\\\\\\\\\": \\\\\\\\\\\\\\\"time\\\\\\\\\\\\\\\"}}, \\\\\\\\\\\\\\\"typeProperty\\\\\\\\\\\\\\\": 2}, {\\\\\\\\\\\\\\\"column\\\\\\\\\\\\\\\": {\\\\\\\\\\\\\\\"type\\\\\\\\\\\\\\\": 2, \\\\\\\\\\\\\\\"details\\\\\\\\\\\\\\\": {\\\\\\\\\\\\\\\"selectedColumn\\\\\\\\\\\\\\\": \\\\\\\\\\\\\\\"DEATH_EVENT\\\\\\\\\\\\\\\"}}, \\\\\\\\\\\\\\\"typeProperty\\\\\\\\\\\\\\\": 2}]}, \\\\\\\\\\\\\\\"localData\\\\\\\\\\\\\\\": {}, \\\\\\\\\\\\\\\"isEnabled\\\\\\\\\\\\\\\": true, \\\\\\\\\\\\\\\"name\\\\\\\\\\\\\\\": null, \\\\\\\\\\\\\\\"annotation\\\\\\\\\\\\\\\": null}], \\\\\\\\\\\\\\\"inspectors\\\\\\\\\\\\\\\": [], \\\\\\\\\\\\\\\"meta\\\\\\\\\\\\\\\": {\\\\\\\\\\\\\\\"savedDatasetId\\\\\\\\\\\\\\\": \\\\\\\\\\\\\\\"d3c0f209-c4fe-44b7-aa81-da281c10fc05\\\\\\\\\\\\\\\", \\\\\\\\\\\\\\\"datasetType\\\\\\\\\\\\\\\": \\\\\\\\\\\\\\\"tabular\\\\\\\\\\\\\\\", \\\\\\\\\\\\\\\"subscriptionId\\\\\\\\\\\\\\\": \\\\\\\\\\\\\\\"9b72f9e6-56c5-4c16-991b-19c652994860\\\\\\\\\\\\\\\", \\\\\\\\\\\\\\\"workspaceId\\\\\\\\\\\\\\\": \\\\\\\\\\\\\\\"24ffc999-8625-476f-84b4-0be3c4ba4729\\\\\\\\\\\\\\\", \\\\\\\\\\\\\\\"workspaceLocation\\\\\\\\\\\\\\\": \\\\\\\\\\\\\\\"southcentralus\\\\\\\\\\\\\\\"}}\\\\\\\", \\\\\\\"activities\\\\\\\": 0}\", \"EnableSubsampling\": null, \"runTemplate\": \"AutoML\", \"azureml.runsource\": \"automl\", \"display_task_type\": \"classification\", \"dependencies_versions\": \"{\\\"azureml-widgets\\\": \\\"1.19.0\\\", \\\"azureml-train\\\": \\\"1.19.0\\\", \\\"azureml-train-restclients-hyperdrive\\\": \\\"1.19.0\\\", \\\"azureml-train-core\\\": \\\"1.19.0\\\", \\\"azureml-train-automl\\\": \\\"1.19.0\\\", \\\"azureml-train-automl-runtime\\\": \\\"1.19.0\\\", \\\"azureml-train-automl-client\\\": \\\"1.19.0\\\", \\\"azureml-tensorboard\\\": \\\"1.19.0\\\", \\\"azureml-telemetry\\\": \\\"1.19.0\\\", \\\"azureml-sdk\\\": \\\"1.19.0\\\", \\\"azureml-samples\\\": \\\"0+unknown\\\", \\\"azureml-pipeline\\\": \\\"1.19.0\\\", \\\"azureml-pipeline-steps\\\": \\\"1.19.0\\\", \\\"azureml-pipeline-core\\\": \\\"1.19.0\\\", \\\"azureml-opendatasets\\\": \\\"1.19.0\\\", \\\"azureml-model-management-sdk\\\": \\\"1.0.1b6.post1\\\", \\\"azureml-mlflow\\\": \\\"1.19.0\\\", \\\"azureml-interpret\\\": \\\"1.19.0\\\", \\\"azureml-explain-model\\\": \\\"1.19.0\\\", \\\"azureml-defaults\\\": \\\"1.19.0\\\", \\\"azureml-dataset-runtime\\\": \\\"1.19.0\\\", \\\"azureml-dataprep\\\": \\\"2.6.1\\\", \\\"azureml-dataprep-rslex\\\": \\\"1.4.0\\\", \\\"azureml-dataprep-native\\\": \\\"26.0.0\\\", \\\"azureml-datadrift\\\": \\\"1.19.0\\\", \\\"azureml-core\\\": \\\"1.19.0\\\", \\\"azureml-contrib-services\\\": \\\"1.19.0\\\", \\\"azureml-contrib-server\\\": \\\"1.19.0\\\", \\\"azureml-contrib-reinforcementlearning\\\": \\\"1.19.0\\\", \\\"azureml-contrib-pipeline-steps\\\": \\\"1.19.0\\\", \\\"azureml-contrib-notebook\\\": \\\"1.19.0\\\", \\\"azureml-contrib-interpret\\\": \\\"1.19.0\\\", \\\"azureml-contrib-gbdt\\\": \\\"1.19.0\\\", \\\"azureml-contrib-fairness\\\": \\\"1.19.0\\\", \\\"azureml-contrib-dataset\\\": \\\"1.19.0\\\", \\\"azureml-cli-common\\\": \\\"1.19.0\\\", \\\"azureml-automl-runtime\\\": \\\"1.19.0\\\", \\\"azureml-automl-core\\\": \\\"1.19.0\\\", \\\"azureml-accel-models\\\": \\\"1.19.0\\\"}\", \"_aml_system_scenario_identification\": \"Remote.Parent\", \"ClientType\": \"SDK\", \"environment_cpu_name\": \"AzureML-AutoML\", \"environment_cpu_label\": \"prod\", \"environment_gpu_name\": \"AzureML-AutoML-GPU\", \"environment_gpu_label\": \"prod\", \"root_attribution\": \"automl\", \"attribution\": \"AutoML\", \"Orchestrator\": \"AutoML\", \"CancelUri\": \"https://southcentralus.experiments.azureml.net/jasmine/v1.0/subscriptions/9b72f9e6-56c5-4c16-991b-19c652994860/resourceGroups/aml-quickstarts-134098/providers/Microsoft.MachineLearningServices/workspaces/quick-starts-ws-134098/experimentids/c4703204-17fd-415d-9628-a1cbfbe0913a/cancel/AutoML_fb653870-cda0-4ccf-ba05-21ef2c29173f\", \"ClientSdkVersion\": \"1.19.0\", \"snapshotId\": \"00000000-0000-0000-0000-000000000000\", \"SetupRunId\": \"AutoML_fb653870-cda0-4ccf-ba05-21ef2c29173f_setup\", \"SetupRunContainerId\": \"dcid.AutoML_fb653870-cda0-4ccf-ba05-21ef2c29173f_setup\", \"FeaturizationRunJsonPath\": \"featurizer_container.json\", \"FeaturizationRunId\": \"AutoML_fb653870-cda0-4ccf-ba05-21ef2c29173f_featurize\", \"ProblemInfoJsonString\": \"{\\\"dataset_num_categorical\\\": 0, \\\"is_sparse\\\": false, \\\"subsampling\\\": false, \\\"dataset_classes\\\": 2, \\\"dataset_features\\\": 12, \\\"dataset_samples\\\": 299, \\\"single_frequency_class_detected\\\": false}\"}, \"tags\": {\"model_explain_run\": \"best_run\", \"_aml_system_azureml.automlComponent\": \"AutoML\", \"pipeline_id\": \"<b19eeb61727e9c4fbb5aa45fb6e9fe3fab5b1f04>;<c7af0367625be6ac5c2fecbfc72ed444cb7a2111>;<cf1dc9b7ea4a50d759bce352343ec6737501695a>;<bade8352b30d2ffbe5753f48c2e9abef219fe592>;<54d1f68a5b840751d165dd1e62e212fac7a0826c>;<a1a8a8d721a4a21920496cad156c2cb8a18be08a>;<2d1b091251f9693becd680e870c31ece028a8219>;<032c2f067189c1f56172ca21b98c8843539dd9de>;<410d4efc9c4dc1502b5fc819c9b7906dfa08a822>;<d0f1df945887f9020094a0aac3b0b4af78bc2526>;<172e2cc4bfb30bb6bd2f617e2a4f4c86402d22eb>;<cbdc4b871425deb1c44850dbcf05f26b6d8d6414>;<cf75e51ad4d88fbb0b59b70023b8ca3b77c01861>;<e3212a7716ff2c5c66a7d794a69a0a43af3b7761>;<d4a0230cdc4e757b3ecd2a2f364f8f0141fb5e8d>;<82b7a511bb356ccec67e5e1d975af2ebb63e564e>;<8d8bbc86e60505299c7e25ffdf284c5d4f3fd55d>;<5dfac790c5c209f98a1da2dc1c7fb76f0397324f>;<3d18c589366e91fc346a33ffa97d723418136ee7>;<2300d88b672c301dd03c529b5ce9ce0e9c618e08>;<ffeaf2f84edf800e416130b6d641b3133f84f75e>;<8a0857f4d3a42e2468b33f9b5925ccd523b256e2>;<7e4f0a5f3ab9d5d0e5c04f20808f5ab74103d35f>;<773913055ad98d235387df0300aea88cba1d42ed>;<2a4d6884653b914a3c776e7938f6ae32acfc26c6>;<3a02dba4c75ef1b4c10f06551126f5a12434ee7e>;<6b7e2cac4e52f6094f11407615c82708c996fb4d>;<d4219702fed9d83d50c56d8c3c4498b43e7da284>;<77e2460a0d14372c87de4abd63e53f5be8581962>;<659c78413b1abb2ef1174aa329e4147d4753d8cf>;<4dd55b036135bcfa201fa6a64f844461a976a207>;<9226e0dd1f52526832d9e04bdd94020ba5ddc2e2>;<4bb3ed355cc3eecdcc3dcf963bedab0e29ab5fd3>;<34220ef4b93b2429c325daf5f3eca268a1d9d828>;<13dd7c1a9e11452c9795d4dd2cfda48541120353>;<be3b253736dcbab1094e5e7981a4d259e9cfeb19>;<91ade27088067eaebf0383fc15693332cffdc034>;<d1f0aa77d6ae1af0922db4fd2afb2ed6f83f5a8d>;\", \"score\": \"<0.8294612794612793>;<0.8192929292929293>;<0.8293939393939395>;<0.699057239057239>;<0.7223232323232324>;<0.816060606060606>;<0.8327272727272726>;<0.8260606060606062>;<0.8460606060606061>;<0.8226936026936027>;<0.8293602693602694>;<0.8091919191919192>;<0.816026936026936>;<0.8494949494949496>;<0.7992929292929292>;<0.8093939393939394>;<0.8561616161616161>;<0.8025252525252524>;<0.8128282828282828>;<0.8393939393939395>;<0.7958585858585859>;<0.7624915824915824>;<0.8327272727272729>;<0.795892255892256>;<0.8326262626262627>;<0.8158585858585857>;<0.8294276094276095>;<0.8392255892255892>;<0.7988215488215489>;<0.7892255892255893>;<0.6790235690235691>;<0.8393939393939395>;<0.8294276094276095>;<0.7925925925925926>;<0.7224242424242423>;<0.816060606060606>;<NaN>;<0.8193265993265993>;\", \"predicted_cost\": \"<0.5>;<0>;<0.5>;<0.026252333333333332>;<0.02168740489280831>;<0.011690447742928238>;<0.026252333333333332>;<0.5>;<0.012100497821746535>;<0.013289666929016642>;<0.011881688031849734>;<0.017861493766263153>;<0.023517004040016706>;<0.026289268714718587>;<0.03808980035848254>;<0.025527314141228608>;<0.02658898523910016>;<0>;<0.025837325514692446>;<0.04106418150952744>;<0.07010110929498586>;<0.05564318473023916>;<0.03699648601239673>;<0.07627464343408161>;<0.01872387572153237>;<0.05974264956783535>;<0.04204607564546784>;<0.05654591013952947>;<0.028919969642869754>;<0.03615419834488902>;<0.021573330918167172>;<0.014186812502288077>;<0.03418467652467762>;<0.027540023293057797>;<0.015561849591262392>;<0.03793118863002109>;<0.05702915804562673>;<0.0440624866300248>;\", \"fit_time\": \"<0.026252333333333332>;<0.030861333333333334>;<0.016064666666666668>;<0.004092666666666667>;<0.015425>;<0.013416666666666667>;<0.017434666666666664>;<0.051271333333333335>;<0.07625266666666668>;<0.02451666666666667>;<0.059368000000000004>;<0.017027999999999998>;<0.020237333333333333>;<0.11558333333333333>;<0.03254066666666667>;<0.018352999999999998>;<0.035924333333333336>;<0.026201000000000002>;<0.013222>;<0.033954000000000005>;<0.09272599999999999>;<0.027477666666666664>;<0.02501766666666667>;<0.08540966666666666>;<0.019089666666666668>;<0.8019506666666668>;<0.10600899999999998>;<0.3088263333333333>;<0.017967666666666667>;<0.018234666666666666>;<0.020073666666666667>;<0.014931333333333333>;<0.015550000000000001>;<0.013072>;<0.013277666666666667>;<0.07933233333333334>;<NaN>;<0.023474>;\", \"training_percent\": \"<100>;<100>;<100>;<100>;<100>;<100>;<100>;<100>;<100>;<100>;<100>;<100>;<100>;<100>;<100>;<100>;<100>;<100>;<100>;<100>;<100>;<100>;<100>;<100>;<100>;<100>;<100>;<100>;<100>;<100>;<100>;<100>;<100>;<100>;<100>;<100>;<100>;<100>;\", \"iteration\": \"<3>;<1>;<2>;<6>;<7>;<8>;<5>;<4>;<9>;<10>;<11>;<12>;<13>;<14>;<15>;<16>;<18>;<0>;<17>;<19>;<20>;<21>;<22>;<23>;<25>;<24>;<26>;<27>;<28>;<29>;<30>;<31>;<32>;<36>;<33>;<35>;<37>;<34>;\", \"run_preprocessor\": \"<MinMaxScaler>;<MaxAbsScaler>;<MinMaxScaler>;<MinMaxScaler>;<MinMaxScaler>;<SparseNormalizer>;<MinMaxScaler>;<MinMaxScaler>;<RobustScaler>;<MaxAbsScaler>;<StandardScalerWrapper>;<SparseNormalizer>;<SparseNormalizer>;<RobustScaler>;<MinMaxScaler>;<SparseNormalizer>;<StandardScalerWrapper>;<MaxAbsScaler>;<SparseNormalizer>;<MinMaxScaler>;<RobustScaler>;<TruncatedSVDWrapper>;<StandardScalerWrapper>;<MinMaxScaler>;<MinMaxScaler>;<StandardScalerWrapper>;<MaxAbsScaler>;<MinMaxScaler>;<RobustScaler>;<StandardScalerWrapper>;<MinMaxScaler>;<StandardScalerWrapper>;<MaxAbsScaler>;<RobustScaler>;<StandardScalerWrapper>;<MaxAbsScaler>;<>;<MinMaxScaler>;\", \"run_algorithm\": \"<RandomForest>;<XGBoostClassifier>;<RandomForest>;<KNN>;<SVM>;<XGBoostClassifier>;<LightGBM>;<RandomForest>;<RandomForest>;<ExtremeRandomTrees>;<GradientBoosting>;<LightGBM>;<XGBoostClassifier>;<ExtremeRandomTrees>;<LightGBM>;<XGBoostClassifier>;<RandomForest>;<LightGBM>;<XGBoostClassifier>;<LightGBM>;<LightGBM>;<XGBoostClassifier>;<LightGBM>;<LightGBM>;<RandomForest>;<RandomForest>;<RandomForest>;<RandomForest>;<RandomForest>;<LightGBM>;<RandomForest>;<XGBoostClassifier>;<LightGBM>;<LightGBM>;<LightGBM>;<RandomForest>;<>;<LightGBM>;\", \"dynamic_whitelisting_iterations\": \"<25>;<30>;<35>;\"}, \"end_time_utc\": null, \"status\": \"Running\", \"log_files\": {}, \"log_groups\": [], \"run_duration\": \"0:21:24\"}, \"child_runs\": [{\"run_id\": \"AutoML_fb653870-cda0-4ccf-ba05-21ef2c29173f_0\", \"run_number\": 6, \"metric\": null, \"status\": \"Completed\", \"run_type\": \"azureml.scriptrun\", \"training_percent\": \"100\", \"start_time\": \"2021-01-09T15:32:58.365297Z\", \"end_time\": \"2021-01-09T15:39:11.701216Z\", \"created_time\": \"2021-01-09T15:30:37.220365Z\", \"created_time_dt\": \"2021-01-09T15:30:37.220365Z\", \"duration\": \"0:08:34\", \"iteration\": \"0\", \"goal\": \"accuracy_max\", \"run_name\": \"MaxAbsScaler, LightGBM\", \"run_properties\": \"copy=True\", \"primary_metric\": 0.80252525, \"best_metric\": 0.80252525}, {\"run_id\": \"AutoML_fb653870-cda0-4ccf-ba05-21ef2c29173f_4\", \"run_number\": 7, \"metric\": null, \"status\": \"Completed\", \"run_type\": \"azureml.scriptrun\", \"training_percent\": \"100\", \"start_time\": \"2021-01-09T15:32:59.227187Z\", \"end_time\": \"2021-01-09T15:36:22.398562Z\", \"created_time\": \"2021-01-09T15:30:37.285103Z\", \"created_time_dt\": \"2021-01-09T15:30:37.285103Z\", \"duration\": \"0:05:45\", \"iteration\": \"4\", \"goal\": \"accuracy_max\", \"run_name\": \"MinMaxScaler, RandomForest\", \"run_properties\": \"copy=True, feature_range=(0, 1\", \"primary_metric\": 0.82606061, \"best_metric\": 0.82946128}, {\"run_id\": \"AutoML_fb653870-cda0-4ccf-ba05-21ef2c29173f_1\", \"run_number\": 8, \"metric\": null, \"status\": \"Completed\", \"run_type\": \"azureml.scriptrun\", \"training_percent\": \"100\", \"start_time\": \"2021-01-09T15:31:36.172446Z\", \"end_time\": \"2021-01-09T15:32:36.694275Z\", \"created_time\": \"2021-01-09T15:30:37.297732Z\", \"created_time_dt\": \"2021-01-09T15:30:37.297732Z\", \"duration\": \"0:01:59\", \"iteration\": \"1\", \"goal\": \"accuracy_max\", \"run_name\": \"MaxAbsScaler, XGBoostClassifier\", \"run_properties\": \"copy=True\", \"primary_metric\": 0.81929293, \"best_metric\": 0.81929293}, {\"run_id\": \"AutoML_fb653870-cda0-4ccf-ba05-21ef2c29173f_2\", \"run_number\": 9, \"metric\": null, \"status\": \"Completed\", \"run_type\": \"azureml.scriptrun\", \"training_percent\": \"100\", \"start_time\": \"2021-01-09T15:32:40.784058Z\", \"end_time\": \"2021-01-09T15:33:31.774185Z\", \"created_time\": \"2021-01-09T15:30:37.285857Z\", \"created_time_dt\": \"2021-01-09T15:30:37.285857Z\", \"duration\": \"0:02:54\", \"iteration\": \"2\", \"goal\": \"accuracy_max\", \"run_name\": \"MinMaxScaler, RandomForest\", \"run_properties\": \"copy=True, feature_range=(0, 1\", \"primary_metric\": 0.82939394, \"best_metric\": 0.82939394}, {\"run_id\": \"AutoML_fb653870-cda0-4ccf-ba05-21ef2c29173f_3\", \"run_number\": 10, \"metric\": null, \"status\": \"Completed\", \"run_type\": \"azureml.scriptrun\", \"training_percent\": \"100\", \"start_time\": \"2021-01-09T15:30:48.671892Z\", \"end_time\": \"2021-01-09T15:31:32.128377Z\", \"created_time\": \"2021-01-09T15:30:37.287638Z\", \"created_time_dt\": \"2021-01-09T15:30:37.287638Z\", \"duration\": \"0:00:54\", \"iteration\": \"3\", \"goal\": \"accuracy_max\", \"run_name\": \"MinMaxScaler, RandomForest\", \"run_properties\": \"copy=True, feature_range=(0, 1\", \"primary_metric\": 0.82946128, \"best_metric\": 0.82946128}, {\"run_id\": \"AutoML_fb653870-cda0-4ccf-ba05-21ef2c29173f_5\", \"run_number\": 11, \"metric\": null, \"status\": \"Completed\", \"run_type\": \"azureml.scriptrun\", \"training_percent\": \"100\", \"start_time\": \"2021-01-09T15:33:02.83031Z\", \"end_time\": \"2021-01-09T15:36:15.260605Z\", \"created_time\": \"2021-01-09T15:31:35.201606Z\", \"created_time_dt\": \"2021-01-09T15:31:35.201606Z\", \"duration\": \"0:04:40\", \"iteration\": \"5\", \"goal\": \"accuracy_max\", \"run_name\": \"MinMaxScaler, LightGBM\", \"run_properties\": \"copy=True, feature_range=(0, 1\", \"primary_metric\": 0.83272727, \"best_metric\": 0.83272727}, {\"run_id\": \"AutoML_fb653870-cda0-4ccf-ba05-21ef2c29173f_6\", \"run_number\": 12, \"metric\": null, \"status\": \"Completed\", \"run_type\": \"azureml.scriptrun\", \"training_percent\": \"100\", \"start_time\": \"2021-01-09T15:33:33.286433Z\", \"end_time\": \"2021-01-09T15:34:17.018032Z\", \"created_time\": \"2021-01-09T15:32:39.782448Z\", \"created_time_dt\": \"2021-01-09T15:32:39.782448Z\", \"duration\": \"0:01:37\", \"iteration\": \"6\", \"goal\": \"accuracy_max\", \"run_name\": \"MinMaxScaler, KNN\", \"run_properties\": \"copy=True, feature_range=(0, 1\", \"primary_metric\": 0.69905724, \"best_metric\": 0.83272727}, {\"run_id\": \"AutoML_fb653870-cda0-4ccf-ba05-21ef2c29173f_7\", \"run_number\": 13, \"metric\": null, \"status\": \"Completed\", \"run_type\": \"azureml.scriptrun\", \"training_percent\": \"100\", \"start_time\": \"2021-01-09T15:34:20.315363Z\", \"end_time\": \"2021-01-09T15:35:02.677276Z\", \"created_time\": \"2021-01-09T15:33:33.934479Z\", \"created_time_dt\": \"2021-01-09T15:33:33.934479Z\", \"duration\": \"0:01:28\", \"iteration\": \"7\", \"goal\": \"accuracy_max\", \"run_name\": \"MinMaxScaler, SVM\", \"run_properties\": \"copy=True, feature_range=(0, 1\", \"primary_metric\": 0.72232323, \"best_metric\": 0.83272727}, {\"run_id\": \"AutoML_fb653870-cda0-4ccf-ba05-21ef2c29173f_8\", \"run_number\": 14, \"metric\": null, \"status\": \"Completed\", \"run_type\": \"azureml.scriptrun\", \"training_percent\": \"100\", \"start_time\": \"2021-01-09T15:35:05.047276Z\", \"end_time\": \"2021-01-09T15:35:50.61729Z\", \"created_time\": \"2021-01-09T15:34:20.618132Z\", \"created_time_dt\": \"2021-01-09T15:34:20.618132Z\", \"duration\": \"0:01:29\", \"iteration\": \"8\", \"goal\": \"accuracy_max\", \"run_name\": \"SparseNormalizer, XGBoostClassifier\", \"run_properties\": \"<azureml.automl.runtime.shared.model_wrappers.SparseNormalizer object at 0x7fc625572f28\", \"primary_metric\": 0.81606061, \"best_metric\": 0.83272727}, {\"run_id\": \"AutoML_fb653870-cda0-4ccf-ba05-21ef2c29173f_9\", \"run_number\": 15, \"metric\": null, \"status\": \"Completed\", \"run_type\": \"azureml.scriptrun\", \"training_percent\": \"100\", \"start_time\": \"2021-01-09T15:35:54.236173Z\", \"end_time\": \"2021-01-09T15:36:37.017846Z\", \"created_time\": \"2021-01-09T15:35:06.777162Z\", \"created_time_dt\": \"2021-01-09T15:35:06.777162Z\", \"duration\": \"0:01:30\", \"iteration\": \"9\", \"goal\": \"accuracy_max\", \"run_name\": \"RobustScaler, RandomForest\", \"run_properties\": \"copy=True, quantile_range=[25, 75], with_centering=False,\\n             with_scaling=True\", \"primary_metric\": 0.84606061, \"best_metric\": 0.84606061}, {\"run_id\": \"AutoML_fb653870-cda0-4ccf-ba05-21ef2c29173f_10\", \"run_number\": 16, \"metric\": null, \"status\": \"Completed\", \"run_type\": \"azureml.scriptrun\", \"training_percent\": \"100\", \"start_time\": \"2021-01-09T15:36:16.624588Z\", \"end_time\": \"2021-01-09T15:37:02.269539Z\", \"created_time\": \"2021-01-09T15:35:54.282421Z\", \"created_time_dt\": \"2021-01-09T15:35:54.282421Z\", \"duration\": \"0:01:07\", \"iteration\": \"10\", \"goal\": \"accuracy_max\", \"run_name\": \"MaxAbsScaler, ExtremeRandomTrees\", \"run_properties\": \"copy=True\", \"primary_metric\": 0.8226936, \"best_metric\": 0.84606061}, {\"run_id\": \"AutoML_fb653870-cda0-4ccf-ba05-21ef2c29173f_11\", \"run_number\": 17, \"metric\": null, \"status\": \"Completed\", \"run_type\": \"azureml.scriptrun\", \"training_percent\": \"100\", \"start_time\": \"2021-01-09T15:36:31.293784Z\", \"end_time\": \"2021-01-09T15:37:11.230382Z\", \"created_time\": \"2021-01-09T15:36:18.868533Z\", \"created_time_dt\": \"2021-01-09T15:36:18.868533Z\", \"duration\": \"0:00:52\", \"iteration\": \"11\", \"goal\": \"accuracy_max\", \"run_name\": \"StandardScalerWrapper, GradientBoosting\", \"run_properties\": \"<azureml.automl.runtime.shared.model_wrappers.StandardScalerWrapper object at 0x7f8711727f98\", \"primary_metric\": 0.82936027, \"best_metric\": 0.84606061}, {\"run_id\": \"AutoML_fb653870-cda0-4ccf-ba05-21ef2c29173f_12\", \"run_number\": 18, \"metric\": null, \"status\": \"Completed\", \"run_type\": \"azureml.scriptrun\", \"training_percent\": \"100\", \"start_time\": \"2021-01-09T15:36:39.244403Z\", \"end_time\": \"2021-01-09T15:37:22.648539Z\", \"created_time\": \"2021-01-09T15:36:25.486315Z\", \"created_time_dt\": \"2021-01-09T15:36:25.486315Z\", \"duration\": \"0:00:57\", \"iteration\": \"12\", \"goal\": \"accuracy_max\", \"run_name\": \"SparseNormalizer, LightGBM\", \"run_properties\": \"<azureml.automl.runtime.shared.model_wrappers.SparseNormalizer object at 0x7ff4dc11ac88\", \"primary_metric\": 0.80919192, \"best_metric\": 0.84606061}, {\"run_id\": \"AutoML_fb653870-cda0-4ccf-ba05-21ef2c29173f_13\", \"run_number\": 19, \"metric\": null, \"status\": \"Completed\", \"run_type\": \"azureml.scriptrun\", \"training_percent\": \"100\", \"start_time\": \"2021-01-09T15:37:06.173498Z\", \"end_time\": \"2021-01-09T15:37:55.784376Z\", \"created_time\": \"2021-01-09T15:36:40.52048Z\", \"created_time_dt\": \"2021-01-09T15:36:40.52048Z\", \"duration\": \"0:01:15\", \"iteration\": \"13\", \"goal\": \"accuracy_max\", \"run_name\": \"SparseNormalizer, XGBoostClassifier\", \"run_properties\": \"<azureml.automl.runtime.shared.model_wrappers.SparseNormalizer object at 0x7ff65c02bf98\", \"primary_metric\": 0.81602694, \"best_metric\": 0.84606061}, {\"run_id\": \"AutoML_fb653870-cda0-4ccf-ba05-21ef2c29173f_14\", \"run_number\": 20, \"metric\": null, \"status\": \"Completed\", \"run_type\": \"azureml.scriptrun\", \"training_percent\": \"100\", \"start_time\": \"2021-01-09T15:37:19.342298Z\", \"end_time\": \"2021-01-09T15:37:59.311192Z\", \"created_time\": \"2021-01-09T15:37:06.305106Z\", \"created_time_dt\": \"2021-01-09T15:37:06.305106Z\", \"duration\": \"0:00:53\", \"iteration\": \"14\", \"goal\": \"accuracy_max\", \"run_name\": \"RobustScaler, ExtremeRandomTrees\", \"run_properties\": \"copy=True, quantile_range=[25, 75], with_centering=True,\\n             with_scaling=False\", \"primary_metric\": 0.84949495, \"best_metric\": 0.84949495}, {\"run_id\": \"AutoML_fb653870-cda0-4ccf-ba05-21ef2c29173f_15\", \"run_number\": 21, \"metric\": null, \"status\": \"Completed\", \"run_type\": \"azureml.scriptrun\", \"training_percent\": \"100\", \"start_time\": \"2021-01-09T15:37:28.790659Z\", \"end_time\": \"2021-01-09T15:38:09.461495Z\", \"created_time\": \"2021-01-09T15:37:14.659676Z\", \"created_time_dt\": \"2021-01-09T15:37:14.659676Z\", \"duration\": \"0:00:54\", \"iteration\": \"15\", \"goal\": \"accuracy_max\", \"run_name\": \"MinMaxScaler, LightGBM\", \"run_properties\": \"copy=True, feature_range=(0, 1\", \"primary_metric\": 0.79929293, \"best_metric\": 0.84949495}, {\"run_id\": \"AutoML_fb653870-cda0-4ccf-ba05-21ef2c29173f_16\", \"run_number\": 22, \"metric\": null, \"status\": \"Completed\", \"run_type\": \"azureml.scriptrun\", \"training_percent\": \"100\", \"start_time\": \"2021-01-09T15:38:01.286032Z\", \"end_time\": \"2021-01-09T15:38:44.229316Z\", \"created_time\": \"2021-01-09T15:37:25.855219Z\", \"created_time_dt\": \"2021-01-09T15:37:25.855219Z\", \"duration\": \"0:01:18\", \"iteration\": \"16\", \"goal\": \"accuracy_max\", \"run_name\": \"SparseNormalizer, XGBoostClassifier\", \"run_properties\": \"<azureml.automl.runtime.shared.model_wrappers.SparseNormalizer object at 0x7feca0173d68\", \"primary_metric\": 0.80939394, \"best_metric\": 0.84949495}, {\"run_id\": \"AutoML_fb653870-cda0-4ccf-ba05-21ef2c29173f_17\", \"run_number\": 23, \"metric\": null, \"status\": \"Completed\", \"run_type\": \"azureml.scriptrun\", \"training_percent\": \"100\", \"start_time\": \"2021-01-09T15:38:17.521243Z\", \"end_time\": \"2021-01-09T15:39:27.932704Z\", \"created_time\": \"2021-01-09T15:38:05.88799Z\", \"created_time_dt\": \"2021-01-09T15:38:05.88799Z\", \"duration\": \"0:01:22\", \"iteration\": \"17\", \"goal\": \"accuracy_max\", \"run_name\": \"SparseNormalizer, XGBoostClassifier\", \"run_properties\": \"<azureml.automl.runtime.shared.model_wrappers.SparseNormalizer object at 0x7f22f0f4fda0\", \"primary_metric\": 0.81282828, \"best_metric\": 0.84949495}, {\"run_id\": \"AutoML_fb653870-cda0-4ccf-ba05-21ef2c29173f_18\", \"run_number\": 24, \"metric\": null, \"status\": \"Completed\", \"run_type\": \"azureml.scriptrun\", \"training_percent\": \"100\", \"start_time\": \"2021-01-09T15:38:21.115959Z\", \"end_time\": \"2021-01-09T15:39:00.906078Z\", \"created_time\": \"2021-01-09T15:38:09.208545Z\", \"created_time_dt\": \"2021-01-09T15:38:09.208545Z\", \"duration\": \"0:00:51\", \"iteration\": \"18\", \"goal\": \"accuracy_max\", \"run_name\": \"StandardScalerWrapper, RandomForest\", \"run_properties\": \"<azureml.automl.runtime.shared.model_wrappers.StandardScalerWrapper object at 0x7f83a6f87cc0\", \"primary_metric\": 0.85616162, \"best_metric\": 0.85616162}, {\"run_id\": \"AutoML_fb653870-cda0-4ccf-ba05-21ef2c29173f_19\", \"run_number\": 25, \"metric\": null, \"status\": \"Completed\", \"run_type\": \"azureml.scriptrun\", \"training_percent\": \"100\", \"start_time\": \"2021-01-09T15:38:50.060909Z\", \"end_time\": \"2021-01-09T15:39:33.647727Z\", \"created_time\": \"2021-01-09T15:38:12.410602Z\", \"created_time_dt\": \"2021-01-09T15:38:12.410602Z\", \"duration\": \"0:01:21\", \"iteration\": \"19\", \"goal\": \"accuracy_max\", \"run_name\": \"MinMaxScaler, LightGBM\", \"run_properties\": \"copy=True, feature_range=(0, 1\", \"primary_metric\": 0.83939394, \"best_metric\": 0.85616162}, {\"run_id\": \"AutoML_fb653870-cda0-4ccf-ba05-21ef2c29173f_20\", \"run_number\": 26, \"metric\": null, \"status\": \"Completed\", \"run_type\": \"azureml.scriptrun\", \"training_percent\": \"100\", \"start_time\": \"2021-01-09T15:39:04.716227Z\", \"end_time\": \"2021-01-09T15:39:49.074717Z\", \"created_time\": \"2021-01-09T15:38:45.912022Z\", \"created_time_dt\": \"2021-01-09T15:38:45.912022Z\", \"duration\": \"0:01:03\", \"iteration\": \"20\", \"goal\": \"accuracy_max\", \"run_name\": \"RobustScaler, LightGBM\", \"run_properties\": \"copy=True, quantile_range=[10, 90], with_centering=False,\\n             with_scaling=False\", \"primary_metric\": 0.79585859, \"best_metric\": 0.85616162}, {\"run_id\": \"AutoML_fb653870-cda0-4ccf-ba05-21ef2c29173f_21\", \"run_number\": 27, \"metric\": null, \"status\": \"Completed\", \"run_type\": \"azureml.scriptrun\", \"training_percent\": \"100\", \"start_time\": \"2021-01-09T15:39:13.43976Z\", \"end_time\": \"2021-01-09T15:39:53.234631Z\", \"created_time\": \"2021-01-09T15:39:02.541388Z\", \"created_time_dt\": \"2021-01-09T15:39:02.541388Z\", \"duration\": \"0:00:50\", \"iteration\": \"21\", \"goal\": \"accuracy_max\", \"run_name\": \"TruncatedSVDWrapper, XGBoostClassifier\", \"run_properties\": \"n_components=0.6036842105263158, random_state=None\", \"primary_metric\": 0.76249158, \"best_metric\": 0.85616162}, {\"run_id\": \"AutoML_fb653870-cda0-4ccf-ba05-21ef2c29173f_22\", \"run_number\": 28, \"metric\": null, \"status\": \"Completed\", \"run_type\": \"azureml.scriptrun\", \"training_percent\": \"100\", \"start_time\": \"2021-01-09T15:39:32.301223Z\", \"end_time\": \"2021-01-09T15:40:19.799239Z\", \"created_time\": \"2021-01-09T15:39:13.258621Z\", \"created_time_dt\": \"2021-01-09T15:39:13.258621Z\", \"duration\": \"0:01:06\", \"iteration\": \"22\", \"goal\": \"accuracy_max\", \"run_name\": \"StandardScalerWrapper, LightGBM\", \"run_properties\": \"<azureml.automl.runtime.shared.model_wrappers.StandardScalerWrapper object at 0x7f24065b6860\", \"primary_metric\": 0.83272727, \"best_metric\": 0.85616162}, {\"run_id\": \"AutoML_fb653870-cda0-4ccf-ba05-21ef2c29173f_23\", \"run_number\": 29, \"metric\": null, \"status\": \"Completed\", \"run_type\": \"azureml.scriptrun\", \"training_percent\": \"100\", \"start_time\": \"2021-01-09T15:39:41.044497Z\", \"end_time\": \"2021-01-09T15:40:25.63628Z\", \"created_time\": \"2021-01-09T15:39:29.911028Z\", \"created_time_dt\": \"2021-01-09T15:39:29.911028Z\", \"duration\": \"0:00:55\", \"iteration\": \"23\", \"goal\": \"accuracy_max\", \"run_name\": \"MinMaxScaler, LightGBM\", \"run_properties\": \"copy=True, feature_range=(0, 1\", \"primary_metric\": 0.79589226, \"best_metric\": 0.85616162}, {\"run_id\": \"AutoML_fb653870-cda0-4ccf-ba05-21ef2c29173f_24\", \"run_number\": 30, \"metric\": null, \"status\": \"Completed\", \"run_type\": \"azureml.scriptrun\", \"training_percent\": \"100\", \"start_time\": \"2021-01-09T15:39:53.363894Z\", \"end_time\": \"2021-01-09T15:40:59.040776Z\", \"created_time\": \"2021-01-09T15:39:35.404012Z\", \"created_time_dt\": \"2021-01-09T15:39:35.404012Z\", \"duration\": \"0:01:23\", \"iteration\": \"24\", \"goal\": \"accuracy_max\", \"run_name\": \"StandardScalerWrapper, RandomForest\", \"run_properties\": \"<azureml.automl.runtime.shared.model_wrappers.StandardScalerWrapper object at 0x7f44898c0198\", \"primary_metric\": 0.81585859, \"best_metric\": 0.85616162}, {\"run_id\": \"AutoML_fb653870-cda0-4ccf-ba05-21ef2c29173f_25\", \"run_number\": 31, \"metric\": null, \"status\": \"Completed\", \"run_type\": \"azureml.scriptrun\", \"training_percent\": \"100\", \"start_time\": \"2021-01-09T15:40:05.40407Z\", \"end_time\": \"2021-01-09T15:40:45.290908Z\", \"created_time\": \"2021-01-09T15:39:52.415136Z\", \"created_time_dt\": \"2021-01-09T15:39:52.415136Z\", \"duration\": \"0:00:52\", \"iteration\": \"25\", \"goal\": \"accuracy_max\", \"run_name\": \"MinMaxScaler, RandomForest\", \"run_properties\": \"copy=True, feature_range=(0, 1\", \"primary_metric\": 0.83262626, \"best_metric\": 0.85616162}, {\"run_id\": \"AutoML_fb653870-cda0-4ccf-ba05-21ef2c29173f_26\", \"run_number\": 32, \"metric\": null, \"status\": \"Completed\", \"run_type\": \"azureml.scriptrun\", \"training_percent\": \"100\", \"start_time\": \"2021-01-09T15:40:22.96872Z\", \"end_time\": \"2021-01-09T15:41:06.278016Z\", \"created_time\": \"2021-01-09T15:39:57.360857Z\", \"created_time_dt\": \"2021-01-09T15:39:57.360857Z\", \"duration\": \"0:01:08\", \"iteration\": \"26\", \"goal\": \"accuracy_max\", \"run_name\": \"MaxAbsScaler, RandomForest\", \"run_properties\": \"copy=True\", \"primary_metric\": 0.82942761, \"best_metric\": 0.85616162}, {\"run_id\": \"AutoML_fb653870-cda0-4ccf-ba05-21ef2c29173f_27\", \"run_number\": 33, \"metric\": null, \"status\": \"Completed\", \"run_type\": \"azureml.scriptrun\", \"training_percent\": \"100\", \"start_time\": \"2021-01-09T15:40:35.116529Z\", \"end_time\": \"2021-01-09T15:41:19.731819Z\", \"created_time\": \"2021-01-09T15:40:21.718346Z\", \"created_time_dt\": \"2021-01-09T15:40:21.718346Z\", \"duration\": \"0:00:58\", \"iteration\": \"27\", \"goal\": \"accuracy_max\", \"run_name\": \"MinMaxScaler, RandomForest\", \"run_properties\": \"copy=True, feature_range=(0, 1\", \"primary_metric\": 0.83922559, \"best_metric\": 0.85616162}, {\"run_id\": \"AutoML_fb653870-cda0-4ccf-ba05-21ef2c29173f_28\", \"run_number\": 34, \"metric\": null, \"status\": \"Completed\", \"run_type\": \"azureml.scriptrun\", \"training_percent\": \"100\", \"start_time\": \"2021-01-09T15:40:48.169551Z\", \"end_time\": \"2021-01-09T15:41:34.856681Z\", \"created_time\": \"2021-01-09T15:40:28.788053Z\", \"created_time_dt\": \"2021-01-09T15:40:28.788053Z\", \"duration\": \"0:01:06\", \"iteration\": \"28\", \"goal\": \"accuracy_max\", \"run_name\": \"RobustScaler, RandomForest\", \"run_properties\": \"copy=True, quantile_range=[25, 75], with_centering=False,\\n             with_scaling=True\", \"primary_metric\": 0.79882155, \"best_metric\": 0.85616162}, {\"run_id\": \"AutoML_fb653870-cda0-4ccf-ba05-21ef2c29173f_29\", \"run_number\": 35, \"metric\": null, \"status\": \"Completed\", \"run_type\": \"azureml.scriptrun\", \"training_percent\": \"100\", \"start_time\": \"2021-01-09T15:41:03.790567Z\", \"end_time\": \"2021-01-09T15:41:50.394179Z\", \"created_time\": \"2021-01-09T15:40:47.354617Z\", \"created_time_dt\": \"2021-01-09T15:40:47.354617Z\", \"duration\": \"0:01:03\", \"iteration\": \"29\", \"goal\": \"accuracy_max\", \"run_name\": \"StandardScalerWrapper, LightGBM\", \"run_properties\": \"<azureml.automl.runtime.shared.model_wrappers.StandardScalerWrapper object at 0x7fdc3429f860\", \"primary_metric\": 0.78922559, \"best_metric\": 0.85616162}, {\"run_id\": \"AutoML_fb653870-cda0-4ccf-ba05-21ef2c29173f_30\", \"run_number\": 36, \"metric\": null, \"status\": \"Completed\", \"run_type\": \"azureml.scriptrun\", \"training_percent\": \"100\", \"start_time\": \"2021-01-09T15:41:14.60117Z\", \"end_time\": \"2021-01-09T15:41:54.370995Z\", \"created_time\": \"2021-01-09T15:41:03.507684Z\", \"created_time_dt\": \"2021-01-09T15:41:03.507684Z\", \"duration\": \"0:00:50\", \"iteration\": \"30\", \"goal\": \"accuracy_max\", \"run_name\": \"MinMaxScaler, RandomForest\", \"run_properties\": \"copy=True, feature_range=(0, 1\", \"primary_metric\": 0.67902357, \"best_metric\": 0.85616162}, {\"run_id\": \"AutoML_fb653870-cda0-4ccf-ba05-21ef2c29173f_31\", \"run_number\": 37, \"metric\": null, \"status\": \"Completed\", \"run_type\": \"azureml.scriptrun\", \"training_percent\": \"100\", \"start_time\": \"2021-01-09T15:41:22.087964Z\", \"end_time\": \"2021-01-09T15:42:08.037003Z\", \"created_time\": \"2021-01-09T15:41:07.97817Z\", \"created_time_dt\": \"2021-01-09T15:41:07.97817Z\", \"duration\": \"0:01:00\", \"iteration\": \"31\", \"goal\": \"accuracy_max\", \"run_name\": \"StandardScalerWrapper, XGBoostClassifier\", \"run_properties\": \"<azureml.automl.runtime.shared.model_wrappers.StandardScalerWrapper object at 0x7f4575b54710\", \"primary_metric\": 0.83939394, \"best_metric\": 0.85616162}, {\"run_id\": \"AutoML_fb653870-cda0-4ccf-ba05-21ef2c29173f_32\", \"run_number\": 38, \"metric\": null, \"status\": \"Completed\", \"run_type\": \"azureml.scriptrun\", \"training_percent\": \"100\", \"start_time\": \"2021-01-09T15:41:36.576864Z\", \"end_time\": \"2021-01-09T15:42:16.745086Z\", \"created_time\": \"2021-01-09T15:41:21.448276Z\", \"created_time_dt\": \"2021-01-09T15:41:21.448276Z\", \"duration\": \"0:00:55\", \"iteration\": \"32\", \"goal\": \"accuracy_max\", \"run_name\": \"MaxAbsScaler, LightGBM\", \"run_properties\": \"copy=True\", \"primary_metric\": 0.82942761, \"best_metric\": 0.85616162}, {\"run_id\": \"AutoML_fb653870-cda0-4ccf-ba05-21ef2c29173f_33\", \"run_number\": 39, \"metric\": null, \"status\": \"Completed\", \"run_type\": \"azureml.scriptrun\", \"training_percent\": \"100\", \"start_time\": \"2021-01-09T15:41:53.572479Z\", \"end_time\": \"2021-01-09T15:42:46.262629Z\", \"created_time\": \"2021-01-09T15:41:36.727263Z\", \"created_time_dt\": \"2021-01-09T15:41:36.727263Z\", \"duration\": \"0:01:09\", \"iteration\": \"33\", \"goal\": \"accuracy_max\", \"run_name\": \"StandardScalerWrapper, LightGBM\", \"run_properties\": \"<azureml.automl.runtime.shared.model_wrappers.StandardScalerWrapper object at 0x7f469c0b84e0\", \"primary_metric\": 0.72242424, \"best_metric\": 0.85616162}, {\"run_id\": \"AutoML_fb653870-cda0-4ccf-ba05-21ef2c29173f_34\", \"run_number\": 40, \"metric\": null, \"status\": \"Canceled\", \"run_type\": \"azureml.scriptrun\", \"training_percent\": \"100\", \"start_time\": \"2021-01-09T15:42:06.554496Z\", \"end_time\": \"2021-01-09T15:42:49.593388Z\", \"created_time\": \"2021-01-09T15:41:52.196069Z\", \"created_time_dt\": \"2021-01-09T15:41:52.196069Z\", \"duration\": \"0:00:57\", \"iteration\": \"34\", \"goal\": \"accuracy_max\", \"run_name\": \"MinMaxScaler, LightGBM\", \"run_properties\": \"copy=True, feature_range=(0, 1\", \"primary_metric\": 0.8193266, \"best_metric\": 0.85616162}, {\"run_id\": \"AutoML_fb653870-cda0-4ccf-ba05-21ef2c29173f_35\", \"run_number\": 41, \"metric\": null, \"status\": \"Canceled\", \"run_type\": \"azureml.scriptrun\", \"training_percent\": \"100\", \"start_time\": \"2021-01-09T15:42:13.806861Z\", \"end_time\": \"2021-01-09T15:42:53.587475Z\", \"created_time\": \"2021-01-09T15:41:58.780106Z\", \"created_time_dt\": \"2021-01-09T15:41:58.780106Z\", \"duration\": \"0:00:54\", \"iteration\": \"35\", \"goal\": \"accuracy_max\", \"run_name\": \"MaxAbsScaler, RandomForest\", \"run_properties\": \"copy=True\", \"primary_metric\": 0.81606061, \"best_metric\": 0.85616162}, {\"run_id\": \"AutoML_fb653870-cda0-4ccf-ba05-21ef2c29173f_36\", \"run_number\": 42, \"metric\": null, \"status\": \"Canceled\", \"run_type\": \"azureml.scriptrun\", \"training_percent\": \"100\", \"start_time\": \"2021-01-09T15:42:21.720064Z\", \"end_time\": \"2021-01-09T15:43:07.92266Z\", \"created_time\": \"2021-01-09T15:42:09.811981Z\", \"created_time_dt\": \"2021-01-09T15:42:09.811981Z\", \"duration\": \"0:00:58\", \"iteration\": \"36\", \"goal\": \"accuracy_max\", \"run_name\": \"RobustScaler, LightGBM\", \"run_properties\": \"copy=True, quantile_range=[25, 75], with_centering=False,\\n             with_scaling=False\", \"primary_metric\": 0.79259259, \"best_metric\": 0.85616162}, {\"run_id\": \"AutoML_fb653870-cda0-4ccf-ba05-21ef2c29173f_37\", \"run_number\": 43, \"metric\": null, \"status\": \"Canceled\", \"run_type\": \"azureml.scriptrun\", \"training_percent\": \"100\", \"start_time\": \"2021-01-09T15:42:18.382436Z\", \"end_time\": \"2021-01-09T15:42:53.895734Z\", \"created_time\": \"2021-01-09T15:42:18.382436Z\", \"created_time_dt\": \"2021-01-09T15:42:18.382436Z\", \"duration\": \"0:00:35\", \"iteration\": \"37\", \"goal\": null, \"run_name\": \"Canceled\", \"run_properties\": null}, {\"run_id\": \"AutoML_fb653870-cda0-4ccf-ba05-21ef2c29173f_39\", \"run_number\": 44, \"metric\": null, \"status\": \"Running\", \"run_type\": \"azureml.scriptrun\", \"training_percent\": \"100\", \"start_time\": \"2021-01-09T15:43:22.111253Z\", \"end_time\": \"\", \"created_time\": \"2021-01-09T15:43:10.16246Z\", \"created_time_dt\": \"2021-01-09T15:43:10.16246Z\", \"duration\": \"0:00:20\", \"iteration\": \"39\", \"goal\": null, \"run_name\": \"Running\", \"run_properties\": null}, {\"run_id\": \"AutoML_fb653870-cda0-4ccf-ba05-21ef2c29173f_38\", \"run_number\": 45, \"metric\": null, \"status\": \"Running\", \"run_type\": \"azureml.scriptrun\", \"training_percent\": \"100\", \"start_time\": \"2021-01-09T15:43:24.104164Z\", \"end_time\": \"\", \"created_time\": \"2021-01-09T15:43:10.280344Z\", \"created_time_dt\": \"2021-01-09T15:43:10.280344Z\", \"duration\": \"0:00:20\", \"iteration\": \"38\", \"goal\": null, \"run_name\": \"Running\", \"run_properties\": null}], \"children_metrics\": {\"categories\": [0], \"series\": {\"AUC_weighted\": [{\"categories\": [\"0\", \"1\", \"2\", \"3\", \"4\", \"5\", \"6\", \"7\", \"8\", \"9\", \"10\", \"11\", \"12\", \"13\", \"14\", \"15\", \"16\", \"17\", \"18\", \"19\", \"20\", \"21\", \"22\", \"23\", \"24\", \"25\", \"26\", \"27\", \"28\", \"29\", \"30\", \"31\", \"32\", \"33\", \"34\", \"35\", \"36\"], \"mode\": \"markers\", \"name\": \"AUC_weighted\", \"stepped\": false, \"type\": \"scatter\", \"data\": [0.8550287233045855, 0.875938401455643, 0.890575008506043, 0.8950479543582993, 0.8913482941069147, 0.8752083117600361, 0.683160253849909, 0.7416044616044616, 0.8537696070454691, 0.9134786510648579, 0.8849074085280982, 0.8922508715612163, 0.8573723477171753, 0.8633355523010696, 0.8853804543459715, 0.8765208558312007, 0.8720135899446243, 0.8621193360848532, 0.8941273786101371, 0.8918877498187842, 0.8665557182798561, 0.8338769804287045, 0.8866426525047215, 0.8559702559702559, 0.8983469183469183, 0.8925978688047653, 0.8972208168759893, 0.9061030488616696, 0.885186886393783, 0.8638583904101145, 0.6322845012500186, 0.8774873149011081, 0.8728101500515294, 0.8482411968618866, 0.8866317055972228, 0.8107900511348788, 0.8758797713970128]}, {\"categories\": [\"0\", \"1\", \"2\", \"3\", \"4\", \"5\", \"6\", \"7\", \"8\", \"9\", \"10\", \"11\", \"12\", \"13\", \"14\", \"15\", \"16\", \"17\", \"18\", \"19\", \"20\", \"21\", \"22\", \"23\", \"24\", \"25\", \"26\", \"27\", \"28\", \"29\", \"30\", \"31\", \"32\", \"33\", \"34\", \"35\", \"36\"], \"mode\": \"lines\", \"name\": \"AUC_weighted_max\", \"stepped\": true, \"type\": \"scatter\", \"data\": [0.8550287233045855, 0.875938401455643, 0.890575008506043, 0.8950479543582993, 0.8950479543582993, 0.8950479543582993, 0.8950479543582993, 0.8950479543582993, 0.8950479543582993, 0.9134786510648579, 0.9134786510648579, 0.9134786510648579, 0.9134786510648579, 0.9134786510648579, 0.9134786510648579, 0.9134786510648579, 0.9134786510648579, 0.9134786510648579, 0.9134786510648579, 0.9134786510648579, 0.9134786510648579, 0.9134786510648579, 0.9134786510648579, 0.9134786510648579, 0.9134786510648579, 0.9134786510648579, 0.9134786510648579, 0.9134786510648579, 0.9134786510648579, 0.9134786510648579, 0.9134786510648579, 0.9134786510648579, 0.9134786510648579, 0.9134786510648579, 0.9134786510648579, 0.9134786510648579, 0.9134786510648579]}], \"AUC_micro\": [{\"categories\": [\"0\", \"1\", \"2\", \"3\", \"4\", \"5\", \"6\", \"7\", \"8\", \"9\", \"10\", \"11\", \"12\", \"13\", \"14\", \"15\", \"16\", \"17\", \"18\", \"19\", \"20\", \"21\", \"22\", \"23\", \"24\", \"25\", \"26\", \"27\", \"28\", \"29\", \"30\", \"31\", \"32\", \"33\", \"34\", \"35\", \"36\"], \"mode\": \"markers\", \"name\": \"AUC_micro\", \"stepped\": false, \"type\": \"scatter\", \"data\": [0.8769284528789579, 0.8907238819168114, 0.9023484134272013, 0.9034660102710609, 0.8967727782879299, 0.8949893616297656, 0.7634917457402306, 0.7945117981158386, 0.8732277726762576, 0.914008142026324, 0.8960186324524709, 0.9040979900010203, 0.8797969764989967, 0.883237754650886, 0.9003355507941366, 0.8813441859674183, 0.8851369077985239, 0.8758695609291568, 0.9048367377478489, 0.9039064483215998, 0.8841003605074312, 0.8569101792334116, 0.8996697309798319, 0.8727480801278782, 0.895128452878958, 0.8948763357480529, 0.9029128796381322, 0.9055621229126279, 0.8805054518246438, 0.8764377580518995, 0.7367668707274767, 0.8934946059925858, 0.8909128796381321, 0.8434577288031834, 0.897329292929293, 0.8514399585076352, 0.8874348807944767]}, {\"categories\": [\"0\", \"1\", \"2\", \"3\", \"4\", \"5\", \"6\", \"7\", \"8\", \"9\", \"10\", \"11\", \"12\", \"13\", \"14\", \"15\", \"16\", \"17\", \"18\", \"19\", \"20\", \"21\", \"22\", \"23\", \"24\", \"25\", \"26\", \"27\", \"28\", \"29\", \"30\", \"31\", \"32\", \"33\", \"34\", \"35\", \"36\"], \"mode\": \"lines\", \"name\": \"AUC_micro_max\", \"stepped\": true, \"type\": \"scatter\", \"data\": [0.8769284528789579, 0.8907238819168114, 0.9023484134272013, 0.9034660102710609, 0.9034660102710609, 0.9034660102710609, 0.9034660102710609, 0.9034660102710609, 0.9034660102710609, 0.914008142026324, 0.914008142026324, 0.914008142026324, 0.914008142026324, 0.914008142026324, 0.914008142026324, 0.914008142026324, 0.914008142026324, 0.914008142026324, 0.914008142026324, 0.914008142026324, 0.914008142026324, 0.914008142026324, 0.914008142026324, 0.914008142026324, 0.914008142026324, 0.914008142026324, 0.914008142026324, 0.914008142026324, 0.914008142026324, 0.914008142026324, 0.914008142026324, 0.914008142026324, 0.914008142026324, 0.914008142026324, 0.914008142026324, 0.914008142026324, 0.914008142026324]}], \"f1_score_micro\": [{\"categories\": [\"0\", \"1\", \"2\", \"3\", \"4\", \"5\", \"6\", \"7\", \"8\", \"9\", \"10\", \"11\", \"12\", \"13\", \"14\", \"15\", \"16\", \"17\", \"18\", \"19\", \"20\", \"21\", \"22\", \"23\", \"24\", \"25\", \"26\", \"27\", \"28\", \"29\", \"30\", \"31\", \"32\", \"33\", \"34\", \"35\", \"36\"], \"mode\": \"markers\", \"name\": \"f1_score_micro\", \"stepped\": false, \"type\": \"scatter\", \"data\": [0.8025252525252525, 0.8192929292929293, 0.8293939393939395, 0.8294612794612793, 0.826060606060606, 0.8327272727272726, 0.699057239057239, 0.7223232323232324, 0.816060606060606, 0.8460606060606061, 0.8226936026936027, 0.8293602693602694, 0.8091919191919192, 0.816026936026936, 0.8494949494949496, 0.7992929292929292, 0.8093939393939394, 0.812828282828283, 0.8561616161616161, 0.8393939393939395, 0.7958585858585859, 0.7624915824915824, 0.8327272727272729, 0.7958922558922558, 0.8158585858585857, 0.8326262626262627, 0.8294276094276095, 0.8392255892255892, 0.7988215488215489, 0.7892255892255892, 0.6790235690235691, 0.8393939393939395, 0.8294276094276095, 0.7224242424242423, 0.8193265993265993, 0.816060606060606, 0.7925925925925926]}, {\"categories\": [\"0\", \"1\", \"2\", \"3\", \"4\", \"5\", \"6\", \"7\", \"8\", \"9\", \"10\", \"11\", \"12\", \"13\", \"14\", \"15\", \"16\", \"17\", \"18\", \"19\", \"20\", \"21\", \"22\", \"23\", \"24\", \"25\", \"26\", \"27\", \"28\", \"29\", \"30\", \"31\", \"32\", \"33\", \"34\", \"35\", \"36\"], \"mode\": \"lines\", \"name\": \"f1_score_micro_max\", \"stepped\": true, \"type\": \"scatter\", \"data\": [0.8025252525252525, 0.8192929292929293, 0.8293939393939395, 0.8294612794612793, 0.8294612794612793, 0.8327272727272726, 0.8327272727272726, 0.8327272727272726, 0.8327272727272726, 0.8460606060606061, 0.8460606060606061, 0.8460606060606061, 0.8460606060606061, 0.8460606060606061, 0.8494949494949496, 0.8494949494949496, 0.8494949494949496, 0.8494949494949496, 0.8561616161616161, 0.8561616161616161, 0.8561616161616161, 0.8561616161616161, 0.8561616161616161, 0.8561616161616161, 0.8561616161616161, 0.8561616161616161, 0.8561616161616161, 0.8561616161616161, 0.8561616161616161, 0.8561616161616161, 0.8561616161616161, 0.8561616161616161, 0.8561616161616161, 0.8561616161616161, 0.8561616161616161, 0.8561616161616161, 0.8561616161616161]}], \"f1_score_macro\": [{\"categories\": [\"0\", \"1\", \"2\", \"3\", \"4\", \"5\", \"6\", \"7\", \"8\", \"9\", \"10\", \"11\", \"12\", \"13\", \"14\", \"15\", \"16\", \"17\", \"18\", \"19\", \"20\", \"21\", \"22\", \"23\", \"24\", \"25\", \"26\", \"27\", \"28\", \"29\", \"30\", \"31\", \"32\", \"33\", \"34\", \"35\", \"36\"], \"mode\": \"markers\", \"name\": \"f1_score_macro\", \"stepped\": false, \"type\": \"scatter\", \"data\": [0.7670520318568558, 0.7892216866138503, 0.7971771610833102, 0.7931743339921415, 0.7896445940247032, 0.8045194462778099, 0.5498265377492432, 0.6139480206438904, 0.7809103257894829, 0.8176619209704553, 0.7876651364711315, 0.7953585624347218, 0.7682423345883111, 0.7826984559862074, 0.8129044761582515, 0.7347803828261782, 0.7706948901564097, 0.7648189938100477, 0.8296571071490301, 0.8091856426478637, 0.7506534671023251, 0.7169480602316424, 0.8021449720608205, 0.7502119627775823, 0.7979648526982629, 0.8118184499827171, 0.8012347456086292, 0.823046049522547, 0.785833640787669, 0.7325318152362165, 0.40415631893298937, 0.8034043554914453, 0.7943894502981556, 0.5765425360787927, 0.7848115112950437, 0.7669944245083883, 0.7322349437239296]}, {\"categories\": [\"0\", \"1\", \"2\", \"3\", \"4\", \"5\", \"6\", \"7\", \"8\", \"9\", \"10\", \"11\", \"12\", \"13\", \"14\", \"15\", \"16\", \"17\", \"18\", \"19\", \"20\", \"21\", \"22\", \"23\", \"24\", \"25\", \"26\", \"27\", \"28\", \"29\", \"30\", \"31\", \"32\", \"33\", \"34\", \"35\", \"36\"], \"mode\": \"lines\", \"name\": \"f1_score_macro_max\", \"stepped\": true, \"type\": \"scatter\", \"data\": [0.7670520318568558, 0.7892216866138503, 0.7971771610833102, 0.7971771610833102, 0.7971771610833102, 0.8045194462778099, 0.8045194462778099, 0.8045194462778099, 0.8045194462778099, 0.8176619209704553, 0.8176619209704553, 0.8176619209704553, 0.8176619209704553, 0.8176619209704553, 0.8176619209704553, 0.8176619209704553, 0.8176619209704553, 0.8176619209704553, 0.8296571071490301, 0.8296571071490301, 0.8296571071490301, 0.8296571071490301, 0.8296571071490301, 0.8296571071490301, 0.8296571071490301, 0.8296571071490301, 0.8296571071490301, 0.8296571071490301, 0.8296571071490301, 0.8296571071490301, 0.8296571071490301, 0.8296571071490301, 0.8296571071490301, 0.8296571071490301, 0.8296571071490301, 0.8296571071490301, 0.8296571071490301]}], \"average_precision_score_macro\": [{\"categories\": [\"0\", \"1\", \"2\", \"3\", \"4\", \"5\", \"6\", \"7\", \"8\", \"9\", \"10\", \"11\", \"12\", \"13\", \"14\", \"15\", \"16\", \"17\", \"18\", \"19\", \"20\", \"21\", \"22\", \"23\", \"24\", \"25\", \"26\", \"27\", \"28\", \"29\", \"30\", \"31\", \"32\", \"33\", \"34\", \"35\", \"36\"], \"mode\": \"markers\", \"name\": \"average_precision_score_macro\", \"stepped\": false, \"type\": \"scatter\", \"data\": [0.8323265818260129, 0.8521645844042397, 0.8649417124573245, 0.8738980301391918, 0.8746137640481515, 0.8550084590395727, 0.6635427287973936, 0.7217187955984543, 0.8308970934877967, 0.8911443903960915, 0.8744123553493766, 0.8730482202106455, 0.8409112446862334, 0.848449264198126, 0.8745650286245924, 0.8566700727851876, 0.8557386113690734, 0.8450288454144724, 0.8819682526046351, 0.873018428262748, 0.8474108067204359, 0.7989751878691368, 0.8680196133218345, 0.83652268838219, 0.8808049049452072, 0.8748588923923512, 0.8665152190814883, 0.8849466453816658, 0.8671493045966855, 0.8370122422081557, 0.600619400922824, 0.8539672495111782, 0.8552735228873374, 0.8290003603463703, 0.8658614045878653, 0.7729451070533963, 0.8619458632950144]}, {\"categories\": [\"0\", \"1\", \"2\", \"3\", \"4\", \"5\", \"6\", \"7\", \"8\", \"9\", \"10\", \"11\", \"12\", \"13\", \"14\", \"15\", \"16\", \"17\", \"18\", \"19\", \"20\", \"21\", \"22\", \"23\", \"24\", \"25\", \"26\", \"27\", \"28\", \"29\", \"30\", \"31\", \"32\", \"33\", \"34\", \"35\", \"36\"], \"mode\": \"lines\", \"name\": \"average_precision_score_macro_max\", \"stepped\": true, \"type\": \"scatter\", \"data\": [0.8323265818260129, 0.8521645844042397, 0.8649417124573245, 0.8738980301391918, 0.8746137640481515, 0.8746137640481515, 0.8746137640481515, 0.8746137640481515, 0.8746137640481515, 0.8911443903960915, 0.8911443903960915, 0.8911443903960915, 0.8911443903960915, 0.8911443903960915, 0.8911443903960915, 0.8911443903960915, 0.8911443903960915, 0.8911443903960915, 0.8911443903960915, 0.8911443903960915, 0.8911443903960915, 0.8911443903960915, 0.8911443903960915, 0.8911443903960915, 0.8911443903960915, 0.8911443903960915, 0.8911443903960915, 0.8911443903960915, 0.8911443903960915, 0.8911443903960915, 0.8911443903960915, 0.8911443903960915, 0.8911443903960915, 0.8911443903960915, 0.8911443903960915, 0.8911443903960915, 0.8911443903960915]}], \"norm_macro_recall\": [{\"categories\": [\"0\", \"1\", \"2\", \"3\", \"4\", \"5\", \"6\", \"7\", \"8\", \"9\", \"10\", \"11\", \"12\", \"13\", \"14\", \"15\", \"16\", \"17\", \"18\", \"19\", \"20\", \"21\", \"22\", \"23\", \"24\", \"25\", \"26\", \"27\", \"28\", \"29\", \"30\", \"31\", \"32\", \"33\", \"34\", \"35\", \"36\"], \"mode\": \"markers\", \"name\": \"norm_macro_recall\", \"stepped\": false, \"type\": \"scatter\", \"data\": [0.5331084779360642, 0.5799208075070145, 0.5880032742101707, 0.5650916926778996, 0.5828779518434691, 0.6110060799715972, 0.13653900205624336, 0.22610541576058826, 0.5552616656064931, 0.6237044926700098, 0.564931433896951, 0.5863873725942691, 0.5159400780090434, 0.5589796693244969, 0.5985423847492813, 0.44099962030996515, 0.5269678545540615, 0.49908578529268177, 0.6540861058102437, 0.6180017455879525, 0.5000098620788277, 0.43351775420740934, 0.6025118714773887, 0.4945728980211739, 0.6339201270235754, 0.6449883380917864, 0.6057150746805918, 0.6808641153468739, 0.6145322662564042, 0.44737742668777153, 0.0, 0.5875915324191185, 0.5748383851832126, 0.18053127018644263, 0.5636503498572464, 0.49921744404503027, 0.4415430208533657]}, {\"categories\": [\"0\", \"1\", \"2\", \"3\", \"4\", \"5\", \"6\", \"7\", \"8\", \"9\", \"10\", \"11\", \"12\", \"13\", \"14\", \"15\", \"16\", \"17\", \"18\", \"19\", \"20\", \"21\", \"22\", \"23\", \"24\", \"25\", \"26\", \"27\", \"28\", \"29\", \"30\", \"31\", \"32\", \"33\", \"34\", \"35\", \"36\"], \"mode\": \"lines\", \"name\": \"norm_macro_recall_max\", \"stepped\": true, \"type\": \"scatter\", \"data\": [0.5331084779360642, 0.5799208075070145, 0.5880032742101707, 0.5880032742101707, 0.5880032742101707, 0.6110060799715972, 0.6110060799715972, 0.6110060799715972, 0.6110060799715972, 0.6237044926700098, 0.6237044926700098, 0.6237044926700098, 0.6237044926700098, 0.6237044926700098, 0.6237044926700098, 0.6237044926700098, 0.6237044926700098, 0.6237044926700098, 0.6540861058102437, 0.6540861058102437, 0.6540861058102437, 0.6540861058102437, 0.6540861058102437, 0.6540861058102437, 0.6540861058102437, 0.6540861058102437, 0.6540861058102437, 0.6808641153468739, 0.6808641153468739, 0.6808641153468739, 0.6808641153468739, 0.6808641153468739, 0.6808641153468739, 0.6808641153468739, 0.6808641153468739, 0.6808641153468739, 0.6808641153468739]}], \"weighted_accuracy\": [{\"categories\": [\"0\", \"1\", \"2\", \"3\", \"4\", \"5\", \"6\", \"7\", \"8\", \"9\", \"10\", \"11\", \"12\", \"13\", \"14\", \"15\", \"16\", \"17\", \"18\", \"19\", \"20\", \"21\", \"22\", \"23\", \"24\", \"25\", \"26\", \"27\", \"28\", \"29\", \"30\", \"31\", \"32\", \"33\", \"34\", \"35\", \"36\"], \"mode\": \"markers\", \"name\": \"weighted_accuracy\", \"stepped\": false, \"type\": \"scatter\", \"data\": [0.8310099034285422, 0.8426543037328149, 0.857138908315305, 0.8657489712808677, 0.8544406831875362, 0.8545993805342542, 0.7979173116639003, 0.8051073376778657, 0.8465257639803268, 0.8729901851319554, 0.8545231531912307, 0.8581348032101509, 0.8485035877019725, 0.8448608405394921, 0.8886593910532382, 0.8599370602347979, 0.8451312340618644, 0.861173742719668, 0.8797468363546054, 0.8638532143980356, 0.8321872610395263, 0.798034893356678, 0.8580244008828286, 0.8343568378023608, 0.8164112207757345, 0.8417877260456762, 0.8507066669075231, 0.8398451653546607, 0.7933512929953808, 0.8398516158802279, 0.8139581109686231, 0.8749245010280248, 0.8625701312698625, 0.8228114614540284, 0.8489096845952661, 0.8668668962597832, 0.8479273092077563]}, {\"categories\": [\"0\", \"1\", \"2\", \"3\", \"4\", \"5\", \"6\", \"7\", \"8\", \"9\", \"10\", \"11\", \"12\", \"13\", \"14\", \"15\", \"16\", \"17\", \"18\", \"19\", \"20\", \"21\", \"22\", \"23\", \"24\", \"25\", \"26\", \"27\", \"28\", \"29\", \"30\", \"31\", \"32\", \"33\", \"34\", \"35\", \"36\"], \"mode\": \"lines\", \"name\": \"weighted_accuracy_max\", \"stepped\": true, \"type\": \"scatter\", \"data\": [0.8310099034285422, 0.8426543037328149, 0.857138908315305, 0.8657489712808677, 0.8657489712808677, 0.8657489712808677, 0.8657489712808677, 0.8657489712808677, 0.8657489712808677, 0.8729901851319554, 0.8729901851319554, 0.8729901851319554, 0.8729901851319554, 0.8729901851319554, 0.8886593910532382, 0.8886593910532382, 0.8886593910532382, 0.8886593910532382, 0.8886593910532382, 0.8886593910532382, 0.8886593910532382, 0.8886593910532382, 0.8886593910532382, 0.8886593910532382, 0.8886593910532382, 0.8886593910532382, 0.8886593910532382, 0.8886593910532382, 0.8886593910532382, 0.8886593910532382, 0.8886593910532382, 0.8886593910532382, 0.8886593910532382, 0.8886593910532382, 0.8886593910532382, 0.8886593910532382, 0.8886593910532382]}], \"average_precision_score_weighted\": [{\"categories\": [\"0\", \"1\", \"2\", \"3\", \"4\", \"5\", \"6\", \"7\", \"8\", \"9\", \"10\", \"11\", \"12\", \"13\", \"14\", \"15\", \"16\", \"17\", \"18\", \"19\", \"20\", \"21\", \"22\", \"23\", \"24\", \"25\", \"26\", \"27\", \"28\", \"29\", \"30\", \"31\", \"32\", \"33\", \"34\", \"35\", \"36\"], \"mode\": \"markers\", \"name\": \"average_precision_score_weighted\", \"stepped\": false, \"type\": \"scatter\", \"data\": [0.8648843990393956, 0.8836277505100775, 0.8939242162605344, 0.8985649211196218, 0.8953828642305689, 0.8839190939263304, 0.7116466912529741, 0.7694268662294181, 0.8624339762603066, 0.915423503934603, 0.8975006182143508, 0.8976186349768144, 0.8722098476939625, 0.8752819198520859, 0.8978957805112797, 0.8876716433322301, 0.8853675811007778, 0.8748359191804077, 0.9036065721085679, 0.8981150416561746, 0.8763831763173631, 0.8437844366684185, 0.8933940874981271, 0.8694397805502468, 0.9046073269874038, 0.8996791837070596, 0.8946410240123148, 0.9091765572839959, 0.8949889874077762, 0.8724540397234372, 0.6613012149236078, 0.8773213563832852, 0.8827540964237269, 0.8626328900746153, 0.8923610998643086, 0.8024661965769573, 0.8890343869186109]}, {\"categories\": [\"0\", \"1\", \"2\", \"3\", \"4\", \"5\", \"6\", \"7\", \"8\", \"9\", \"10\", \"11\", \"12\", \"13\", \"14\", \"15\", \"16\", \"17\", \"18\", \"19\", \"20\", \"21\", \"22\", \"23\", \"24\", \"25\", \"26\", \"27\", \"28\", \"29\", \"30\", \"31\", \"32\", \"33\", \"34\", \"35\", \"36\"], \"mode\": \"lines\", \"name\": \"average_precision_score_weighted_max\", \"stepped\": true, \"type\": \"scatter\", \"data\": [0.8648843990393956, 0.8836277505100775, 0.8939242162605344, 0.8985649211196218, 0.8985649211196218, 0.8985649211196218, 0.8985649211196218, 0.8985649211196218, 0.8985649211196218, 0.915423503934603, 0.915423503934603, 0.915423503934603, 0.915423503934603, 0.915423503934603, 0.915423503934603, 0.915423503934603, 0.915423503934603, 0.915423503934603, 0.915423503934603, 0.915423503934603, 0.915423503934603, 0.915423503934603, 0.915423503934603, 0.915423503934603, 0.915423503934603, 0.915423503934603, 0.915423503934603, 0.915423503934603, 0.915423503934603, 0.915423503934603, 0.915423503934603, 0.915423503934603, 0.915423503934603, 0.915423503934603, 0.915423503934603, 0.915423503934603, 0.915423503934603]}], \"accuracy\": [{\"categories\": [\"0\", \"1\", \"2\", \"3\", \"4\", \"5\", \"6\", \"7\", \"8\", \"9\", \"10\", \"11\", \"12\", \"13\", \"14\", \"15\", \"16\", \"17\", \"18\", \"19\", \"20\", \"21\", \"22\", \"23\", \"24\", \"25\", \"26\", \"27\", \"28\", \"29\", \"30\", \"31\", \"32\", \"33\", \"34\", \"35\", \"36\"], \"mode\": \"markers\", \"name\": \"accuracy\", \"stepped\": false, \"type\": \"scatter\", \"data\": [0.8025252525252524, 0.8192929292929293, 0.8293939393939395, 0.8294612794612793, 0.8260606060606062, 0.8327272727272726, 0.699057239057239, 0.7223232323232324, 0.816060606060606, 0.8460606060606061, 0.8226936026936027, 0.8293602693602694, 0.8091919191919192, 0.816026936026936, 0.8494949494949496, 0.7992929292929292, 0.8093939393939394, 0.8128282828282828, 0.8561616161616161, 0.8393939393939395, 0.7958585858585859, 0.7624915824915824, 0.8327272727272729, 0.795892255892256, 0.8158585858585857, 0.8326262626262627, 0.8294276094276095, 0.8392255892255892, 0.7988215488215489, 0.7892255892255893, 0.6790235690235691, 0.8393939393939395, 0.8294276094276095, 0.7224242424242423, 0.8193265993265993, 0.816060606060606, 0.7925925925925926]}, {\"categories\": [\"0\", \"1\", \"2\", \"3\", \"4\", \"5\", \"6\", \"7\", \"8\", \"9\", \"10\", \"11\", \"12\", \"13\", \"14\", \"15\", \"16\", \"17\", \"18\", \"19\", \"20\", \"21\", \"22\", \"23\", \"24\", \"25\", \"26\", \"27\", \"28\", \"29\", \"30\", \"31\", \"32\", \"33\", \"34\", \"35\", \"36\"], \"mode\": \"lines\", \"name\": \"accuracy_max\", \"stepped\": true, \"type\": \"scatter\", \"data\": [0.8025252525252524, 0.8192929292929293, 0.8293939393939395, 0.8294612794612793, 0.8294612794612793, 0.8327272727272726, 0.8327272727272726, 0.8327272727272726, 0.8327272727272726, 0.8460606060606061, 0.8460606060606061, 0.8460606060606061, 0.8460606060606061, 0.8460606060606061, 0.8494949494949496, 0.8494949494949496, 0.8494949494949496, 0.8494949494949496, 0.8561616161616161, 0.8561616161616161, 0.8561616161616161, 0.8561616161616161, 0.8561616161616161, 0.8561616161616161, 0.8561616161616161, 0.8561616161616161, 0.8561616161616161, 0.8561616161616161, 0.8561616161616161, 0.8561616161616161, 0.8561616161616161, 0.8561616161616161, 0.8561616161616161, 0.8561616161616161, 0.8561616161616161, 0.8561616161616161, 0.8561616161616161]}], \"recall_score_weighted\": [{\"categories\": [\"0\", \"1\", \"2\", \"3\", \"4\", \"5\", \"6\", \"7\", \"8\", \"9\", \"10\", \"11\", \"12\", \"13\", \"14\", \"15\", \"16\", \"17\", \"18\", \"19\", \"20\", \"21\", \"22\", \"23\", \"24\", \"25\", \"26\", \"27\", \"28\", \"29\", \"30\", \"31\", \"32\", \"33\", \"34\", \"35\", \"36\"], \"mode\": \"markers\", \"name\": \"recall_score_weighted\", \"stepped\": false, \"type\": \"scatter\", \"data\": [0.8025252525252524, 0.8192929292929293, 0.8293939393939395, 0.8294612794612793, 0.8260606060606062, 0.8327272727272726, 0.699057239057239, 0.7223232323232324, 0.816060606060606, 0.8460606060606061, 0.8226936026936027, 0.8293602693602694, 0.8091919191919192, 0.816026936026936, 0.8494949494949496, 0.7992929292929292, 0.8093939393939394, 0.8128282828282828, 0.8561616161616161, 0.8393939393939395, 0.7958585858585859, 0.7624915824915824, 0.8327272727272729, 0.795892255892256, 0.8158585858585857, 0.8326262626262627, 0.8294276094276095, 0.8392255892255892, 0.7988215488215489, 0.7892255892255893, 0.6790235690235691, 0.8393939393939395, 0.8294276094276095, 0.7224242424242423, 0.8193265993265993, 0.816060606060606, 0.7925925925925926]}, {\"categories\": [\"0\", \"1\", \"2\", \"3\", \"4\", \"5\", \"6\", \"7\", \"8\", \"9\", \"10\", \"11\", \"12\", \"13\", \"14\", \"15\", \"16\", \"17\", \"18\", \"19\", \"20\", \"21\", \"22\", \"23\", \"24\", \"25\", \"26\", \"27\", \"28\", \"29\", \"30\", \"31\", \"32\", \"33\", \"34\", \"35\", \"36\"], \"mode\": \"lines\", \"name\": \"recall_score_weighted_max\", \"stepped\": true, \"type\": \"scatter\", \"data\": [0.8025252525252524, 0.8192929292929293, 0.8293939393939395, 0.8294612794612793, 0.8294612794612793, 0.8327272727272726, 0.8327272727272726, 0.8327272727272726, 0.8327272727272726, 0.8460606060606061, 0.8460606060606061, 0.8460606060606061, 0.8460606060606061, 0.8460606060606061, 0.8494949494949496, 0.8494949494949496, 0.8494949494949496, 0.8494949494949496, 0.8561616161616161, 0.8561616161616161, 0.8561616161616161, 0.8561616161616161, 0.8561616161616161, 0.8561616161616161, 0.8561616161616161, 0.8561616161616161, 0.8561616161616161, 0.8561616161616161, 0.8561616161616161, 0.8561616161616161, 0.8561616161616161, 0.8561616161616161, 0.8561616161616161, 0.8561616161616161, 0.8561616161616161, 0.8561616161616161, 0.8561616161616161]}], \"recall_score_macro\": [{\"categories\": [\"0\", \"1\", \"2\", \"3\", \"4\", \"5\", \"6\", \"7\", \"8\", \"9\", \"10\", \"11\", \"12\", \"13\", \"14\", \"15\", \"16\", \"17\", \"18\", \"19\", \"20\", \"21\", \"22\", \"23\", \"24\", \"25\", \"26\", \"27\", \"28\", \"29\", \"30\", \"31\", \"32\", \"33\", \"34\", \"35\", \"36\"], \"mode\": \"markers\", \"name\": \"recall_score_macro\", \"stepped\": false, \"type\": \"scatter\", \"data\": [0.7665542389680322, 0.7899604037535072, 0.7940016371050854, 0.7825458463389499, 0.7914389759217345, 0.8055030399857985, 0.5682695010281217, 0.6130527078802941, 0.7776308328032465, 0.8118522463350049, 0.7824657169484756, 0.7931936862971346, 0.7579700390045216, 0.7794898346622485, 0.7992711923746407, 0.7204998101549825, 0.7634839272770307, 0.7495428926463409, 0.8270430529051218, 0.8090008727939763, 0.7500049310394138, 0.7167588771037047, 0.8012559357386944, 0.7472864490105869, 0.8169600635117877, 0.8224941690458931, 0.8028575373402959, 0.8404320576734369, 0.8072661331282021, 0.7236887133438857, 0.5, 0.7937957662095593, 0.7874191925916062, 0.5902656350932213, 0.7818251749286231, 0.749608722022515, 0.7207715104266829]}, {\"categories\": [\"0\", \"1\", \"2\", \"3\", \"4\", \"5\", \"6\", \"7\", \"8\", \"9\", \"10\", \"11\", \"12\", \"13\", \"14\", \"15\", \"16\", \"17\", \"18\", \"19\", \"20\", \"21\", \"22\", \"23\", \"24\", \"25\", \"26\", \"27\", \"28\", \"29\", \"30\", \"31\", \"32\", \"33\", \"34\", \"35\", \"36\"], \"mode\": \"lines\", \"name\": \"recall_score_macro_max\", \"stepped\": true, \"type\": \"scatter\", \"data\": [0.7665542389680322, 0.7899604037535072, 0.7940016371050854, 0.7940016371050854, 0.7940016371050854, 0.8055030399857985, 0.8055030399857985, 0.8055030399857985, 0.8055030399857985, 0.8118522463350049, 0.8118522463350049, 0.8118522463350049, 0.8118522463350049, 0.8118522463350049, 0.8118522463350049, 0.8118522463350049, 0.8118522463350049, 0.8118522463350049, 0.8270430529051218, 0.8270430529051218, 0.8270430529051218, 0.8270430529051218, 0.8270430529051218, 0.8270430529051218, 0.8270430529051218, 0.8270430529051218, 0.8270430529051218, 0.8404320576734369, 0.8404320576734369, 0.8404320576734369, 0.8404320576734369, 0.8404320576734369, 0.8404320576734369, 0.8404320576734369, 0.8404320576734369, 0.8404320576734369, 0.8404320576734369]}], \"f1_score_weighted\": [{\"categories\": [\"0\", \"1\", \"2\", \"3\", \"4\", \"5\", \"6\", \"7\", \"8\", \"9\", \"10\", \"11\", \"12\", \"13\", \"14\", \"15\", \"16\", \"17\", \"18\", \"19\", \"20\", \"21\", \"22\", \"23\", \"24\", \"25\", \"26\", \"27\", \"28\", \"29\", \"30\", \"31\", \"32\", \"33\", \"34\", \"35\", \"36\"], \"mode\": \"markers\", \"name\": \"f1_score_weighted\", \"stepped\": false, \"type\": \"scatter\", \"data\": [0.7994850745596541, 0.8173118768300475, 0.8257427228538065, 0.8236745055433522, 0.8188836530008133, 0.830872502247956, 0.6425019202582273, 0.6874990554844919, 0.8114441718384593, 0.8430938058981193, 0.8177055695650094, 0.8243226121587939, 0.8032593377690294, 0.8124539763918238, 0.8412308668248126, 0.7802473065797187, 0.8033925219486608, 0.8028154417022301, 0.8528505686275221, 0.8355009655377303, 0.787537278494043, 0.7574370627613506, 0.8292090611585702, 0.7874038877056552, 0.8198892867817723, 0.8338739280889556, 0.8277174198379997, 0.842268426254459, 0.8043990005091524, 0.7758755245213562, 0.5497345001811592, 0.8326682661855158, 0.8238109508599608, 0.6640667497146934, 0.8152966788029902, 0.8048831480163677, 0.7767009573515754]}, {\"categories\": [\"0\", \"1\", \"2\", \"3\", \"4\", \"5\", \"6\", \"7\", \"8\", \"9\", \"10\", \"11\", \"12\", \"13\", \"14\", \"15\", \"16\", \"17\", \"18\", \"19\", \"20\", \"21\", \"22\", \"23\", \"24\", \"25\", \"26\", \"27\", \"28\", \"29\", \"30\", \"31\", \"32\", \"33\", \"34\", \"35\", \"36\"], \"mode\": \"lines\", \"name\": \"f1_score_weighted_max\", \"stepped\": true, \"type\": \"scatter\", \"data\": [0.7994850745596541, 0.8173118768300475, 0.8257427228538065, 0.8257427228538065, 0.8257427228538065, 0.830872502247956, 0.830872502247956, 0.830872502247956, 0.830872502247956, 0.8430938058981193, 0.8430938058981193, 0.8430938058981193, 0.8430938058981193, 0.8430938058981193, 0.8430938058981193, 0.8430938058981193, 0.8430938058981193, 0.8430938058981193, 0.8528505686275221, 0.8528505686275221, 0.8528505686275221, 0.8528505686275221, 0.8528505686275221, 0.8528505686275221, 0.8528505686275221, 0.8528505686275221, 0.8528505686275221, 0.8528505686275221, 0.8528505686275221, 0.8528505686275221, 0.8528505686275221, 0.8528505686275221, 0.8528505686275221, 0.8528505686275221, 0.8528505686275221, 0.8528505686275221, 0.8528505686275221]}], \"precision_score_weighted\": [{\"categories\": [\"0\", \"1\", \"2\", \"3\", \"4\", \"5\", \"6\", \"7\", \"8\", \"9\", \"10\", \"11\", \"12\", \"13\", \"14\", \"15\", \"16\", \"17\", \"18\", \"19\", \"20\", \"21\", \"22\", \"23\", \"24\", \"25\", \"26\", \"27\", \"28\", \"29\", \"30\", \"31\", \"32\", \"33\", \"34\", \"35\", \"36\"], \"mode\": \"markers\", \"name\": \"precision_score_weighted\", \"stepped\": false, \"type\": \"scatter\", \"data\": [0.8103076903348296, 0.8235687391092353, 0.8321452639533348, 0.830085455996762, 0.8381473025649525, 0.8398266076323003, 0.6793737924716186, 0.7125471595962077, 0.8209253215826392, 0.8502438048142033, 0.8289240524368822, 0.8349967210204756, 0.8095252169180044, 0.820279890585773, 0.8557347965960981, 0.8119992386183142, 0.8084514584514585, 0.8137995337995338, 0.863736955866255, 0.8457490506083857, 0.8060327498732834, 0.7668032599941474, 0.8392915079138885, 0.8092732023033739, 0.8390257073324645, 0.846111470643181, 0.8353185935069994, 0.8607196923287704, 0.8333070004545623, 0.7942406155709101, 0.46228299493248987, 0.8421201490142725, 0.8355824587242499, 0.7401492614882197, 0.8246211044804395, 0.8215246454316704, 0.7980994776828111]}, {\"categories\": [\"0\", \"1\", \"2\", \"3\", \"4\", \"5\", \"6\", \"7\", \"8\", \"9\", \"10\", \"11\", \"12\", \"13\", \"14\", \"15\", \"16\", \"17\", \"18\", \"19\", \"20\", \"21\", \"22\", \"23\", \"24\", \"25\", \"26\", \"27\", \"28\", \"29\", \"30\", \"31\", \"32\", \"33\", \"34\", \"35\", \"36\"], \"mode\": \"lines\", \"name\": \"precision_score_weighted_max\", \"stepped\": true, \"type\": \"scatter\", \"data\": [0.8103076903348296, 0.8235687391092353, 0.8321452639533348, 0.8321452639533348, 0.8381473025649525, 0.8398266076323003, 0.8398266076323003, 0.8398266076323003, 0.8398266076323003, 0.8502438048142033, 0.8502438048142033, 0.8502438048142033, 0.8502438048142033, 0.8502438048142033, 0.8557347965960981, 0.8557347965960981, 0.8557347965960981, 0.8557347965960981, 0.863736955866255, 0.863736955866255, 0.863736955866255, 0.863736955866255, 0.863736955866255, 0.863736955866255, 0.863736955866255, 0.863736955866255, 0.863736955866255, 0.863736955866255, 0.863736955866255, 0.863736955866255, 0.863736955866255, 0.863736955866255, 0.863736955866255, 0.863736955866255, 0.863736955866255, 0.863736955866255, 0.863736955866255]}], \"log_loss\": [{\"categories\": [\"0\", \"1\", \"2\", \"3\", \"4\", \"5\", \"6\", \"7\", \"8\", \"9\", \"10\", \"11\", \"12\", \"13\", \"14\", \"15\", \"16\", \"17\", \"18\", \"19\", \"20\", \"21\", \"22\", \"23\", \"24\", \"25\", \"26\", \"27\", \"28\", \"29\", \"30\", \"31\", \"32\", \"33\", \"34\", \"35\", \"36\"], \"mode\": \"markers\", \"name\": \"log_loss\", \"stepped\": false, \"type\": \"scatter\", \"data\": [0.5791360620615199, 0.4649911805096085, 0.4023105752560368, 0.3997083903657382, 0.51384733307489, 0.4154168849864177, 0.8227842173029031, 0.5670960799213888, 0.4848889514346584, 0.39044237779062874, 0.5126981642200975, 0.3917076432367678, 0.43630390615552034, 0.43491937872974756, 0.41635020190221644, 0.45026228417547776, 0.4336877632946468, 0.5152411019553823, 0.4137521015398871, 0.39497977519844785, 0.44235238858040393, 0.47823390594365417, 0.4007276503569213, 0.4874363943943787, 0.4351968825412325, 0.4513479752787443, 0.4046133173272599, 0.46357857925861173, 0.44004677143746235, 0.4570575290863625, 0.6232585947445751, 0.47910230370477375, 0.4362955412568971, 0.5230040020254948, 0.41279009998539506, 0.4709937840051664, 0.4595687425465493]}, {\"categories\": [\"0\", \"1\", \"2\", \"3\", \"4\", \"5\", \"6\", \"7\", \"8\", \"9\", \"10\", \"11\", \"12\", \"13\", \"14\", \"15\", \"16\", \"17\", \"18\", \"19\", \"20\", \"21\", \"22\", \"23\", \"24\", \"25\", \"26\", \"27\", \"28\", \"29\", \"30\", \"31\", \"32\", \"33\", \"34\", \"35\", \"36\"], \"mode\": \"lines\", \"name\": \"log_loss_min\", \"stepped\": true, \"type\": \"scatter\", \"data\": [0.5791360620615199, 0.4649911805096085, 0.4023105752560368, 0.3997083903657382, 0.3997083903657382, 0.3997083903657382, 0.3997083903657382, 0.3997083903657382, 0.3997083903657382, 0.39044237779062874, 0.39044237779062874, 0.39044237779062874, 0.39044237779062874, 0.39044237779062874, 0.39044237779062874, 0.39044237779062874, 0.39044237779062874, 0.39044237779062874, 0.39044237779062874, 0.39044237779062874, 0.39044237779062874, 0.39044237779062874, 0.39044237779062874, 0.39044237779062874, 0.39044237779062874, 0.39044237779062874, 0.39044237779062874, 0.39044237779062874, 0.39044237779062874, 0.39044237779062874, 0.39044237779062874, 0.39044237779062874, 0.39044237779062874, 0.39044237779062874, 0.39044237779062874, 0.39044237779062874, 0.39044237779062874]}], \"balanced_accuracy\": [{\"categories\": [\"0\", \"1\", \"2\", \"3\", \"4\", \"5\", \"6\", \"7\", \"8\", \"9\", \"10\", \"11\", \"12\", \"13\", \"14\", \"15\", \"16\", \"17\", \"18\", \"19\", \"20\", \"21\", \"22\", \"23\", \"24\", \"25\", \"26\", \"27\", \"28\", \"29\", \"30\", \"31\", \"32\", \"33\", \"34\", \"35\", \"36\"], \"mode\": \"markers\", \"name\": \"balanced_accuracy\", \"stepped\": false, \"type\": \"scatter\", \"data\": [0.7665542389680322, 0.7899604037535072, 0.7940016371050854, 0.7825458463389499, 0.7914389759217345, 0.8055030399857985, 0.5682695010281217, 0.6130527078802941, 0.7776308328032465, 0.8118522463350049, 0.7824657169484756, 0.7931936862971346, 0.7579700390045216, 0.7794898346622485, 0.7992711923746407, 0.7204998101549825, 0.7634839272770307, 0.7495428926463409, 0.8270430529051218, 0.8090008727939763, 0.7500049310394138, 0.7167588771037047, 0.8012559357386944, 0.7472864490105869, 0.8169600635117877, 0.8224941690458931, 0.8028575373402959, 0.8404320576734369, 0.8072661331282021, 0.7236887133438857, 0.5, 0.7937957662095593, 0.7874191925916062, 0.5902656350932213, 0.7818251749286231, 0.749608722022515, 0.7207715104266829]}, {\"categories\": [\"0\", \"1\", \"2\", \"3\", \"4\", \"5\", \"6\", \"7\", \"8\", \"9\", \"10\", \"11\", \"12\", \"13\", \"14\", \"15\", \"16\", \"17\", \"18\", \"19\", \"20\", \"21\", \"22\", \"23\", \"24\", \"25\", \"26\", \"27\", \"28\", \"29\", \"30\", \"31\", \"32\", \"33\", \"34\", \"35\", \"36\"], \"mode\": \"lines\", \"name\": \"balanced_accuracy_max\", \"stepped\": true, \"type\": \"scatter\", \"data\": [0.7665542389680322, 0.7899604037535072, 0.7940016371050854, 0.7940016371050854, 0.7940016371050854, 0.8055030399857985, 0.8055030399857985, 0.8055030399857985, 0.8055030399857985, 0.8118522463350049, 0.8118522463350049, 0.8118522463350049, 0.8118522463350049, 0.8118522463350049, 0.8118522463350049, 0.8118522463350049, 0.8118522463350049, 0.8118522463350049, 0.8270430529051218, 0.8270430529051218, 0.8270430529051218, 0.8270430529051218, 0.8270430529051218, 0.8270430529051218, 0.8270430529051218, 0.8270430529051218, 0.8270430529051218, 0.8404320576734369, 0.8404320576734369, 0.8404320576734369, 0.8404320576734369, 0.8404320576734369, 0.8404320576734369, 0.8404320576734369, 0.8404320576734369, 0.8404320576734369, 0.8404320576734369]}], \"matthews_correlation\": [{\"categories\": [\"0\", \"1\", \"2\", \"3\", \"4\", \"5\", \"6\", \"7\", \"8\", \"9\", \"10\", \"11\", \"12\", \"13\", \"14\", \"15\", \"16\", \"17\", \"18\", \"19\", \"20\", \"21\", \"22\", \"23\", \"24\", \"25\", \"26\", \"27\", \"28\", \"29\", \"30\", \"31\", \"32\", \"33\", \"34\", \"35\", \"36\"], \"mode\": \"markers\", \"name\": \"matthews_correlation\", \"stepped\": false, \"type\": \"scatter\", \"data\": [0.5489062305154261, 0.5873460381369527, 0.6051752238443674, 0.5995124805765527, 0.6070459062011291, 0.6206903677755994, 0.2040127146646377, 0.29393554434521457, 0.5770144695579107, 0.6461573918070376, 0.5926458081870468, 0.607436350710171, 0.5496482449930625, 0.5778896703256554, 0.6501072359372069, 0.5233497936430596, 0.5533566738938602, 0.5526980019298322, 0.6744183222984236, 0.6334996171160521, 0.5295091311243018, 0.4495530395192442, 0.6187824791863809, 0.5319444599506452, 0.613384394958398, 0.6361506511986476, 0.6125854329500781, 0.663781416510665, 0.5975424565453479, 0.4986680136008821, 0.0, 0.624104415882579, 0.6075018975243628, 0.2945248654474703, 0.5838191527328217, 0.564736571132373, 0.5041816726776264]}, {\"categories\": [\"0\", \"1\", \"2\", \"3\", \"4\", \"5\", \"6\", \"7\", \"8\", \"9\", \"10\", \"11\", \"12\", \"13\", \"14\", \"15\", \"16\", \"17\", \"18\", \"19\", \"20\", \"21\", \"22\", \"23\", \"24\", \"25\", \"26\", \"27\", \"28\", \"29\", \"30\", \"31\", \"32\", \"33\", \"34\", \"35\", \"36\"], \"mode\": \"lines\", \"name\": \"matthews_correlation_max\", \"stepped\": true, \"type\": \"scatter\", \"data\": [0.5489062305154261, 0.5873460381369527, 0.6051752238443674, 0.6051752238443674, 0.6070459062011291, 0.6206903677755994, 0.6206903677755994, 0.6206903677755994, 0.6206903677755994, 0.6461573918070376, 0.6461573918070376, 0.6461573918070376, 0.6461573918070376, 0.6461573918070376, 0.6501072359372069, 0.6501072359372069, 0.6501072359372069, 0.6501072359372069, 0.6744183222984236, 0.6744183222984236, 0.6744183222984236, 0.6744183222984236, 0.6744183222984236, 0.6744183222984236, 0.6744183222984236, 0.6744183222984236, 0.6744183222984236, 0.6744183222984236, 0.6744183222984236, 0.6744183222984236, 0.6744183222984236, 0.6744183222984236, 0.6744183222984236, 0.6744183222984236, 0.6744183222984236, 0.6744183222984236, 0.6744183222984236]}], \"recall_score_micro\": [{\"categories\": [\"0\", \"1\", \"2\", \"3\", \"4\", \"5\", \"6\", \"7\", \"8\", \"9\", \"10\", \"11\", \"12\", \"13\", \"14\", \"15\", \"16\", \"17\", \"18\", \"19\", \"20\", \"21\", \"22\", \"23\", \"24\", \"25\", \"26\", \"27\", \"28\", \"29\", \"30\", \"31\", \"32\", \"33\", \"34\", \"35\", \"36\"], \"mode\": \"markers\", \"name\": \"recall_score_micro\", \"stepped\": false, \"type\": \"scatter\", \"data\": [0.8025252525252524, 0.8192929292929293, 0.8293939393939395, 0.8294612794612793, 0.8260606060606062, 0.8327272727272726, 0.699057239057239, 0.7223232323232324, 0.816060606060606, 0.8460606060606061, 0.8226936026936027, 0.8293602693602694, 0.8091919191919192, 0.816026936026936, 0.8494949494949496, 0.7992929292929292, 0.8093939393939394, 0.8128282828282828, 0.8561616161616161, 0.8393939393939395, 0.7958585858585859, 0.7624915824915824, 0.8327272727272729, 0.795892255892256, 0.8158585858585857, 0.8326262626262627, 0.8294276094276095, 0.8392255892255892, 0.7988215488215489, 0.7892255892255893, 0.6790235690235691, 0.8393939393939395, 0.8294276094276095, 0.7224242424242423, 0.8193265993265993, 0.816060606060606, 0.7925925925925926]}, {\"categories\": [\"0\", \"1\", \"2\", \"3\", \"4\", \"5\", \"6\", \"7\", \"8\", \"9\", \"10\", \"11\", \"12\", \"13\", \"14\", \"15\", \"16\", \"17\", \"18\", \"19\", \"20\", \"21\", \"22\", \"23\", \"24\", \"25\", \"26\", \"27\", \"28\", \"29\", \"30\", \"31\", \"32\", \"33\", \"34\", \"35\", \"36\"], \"mode\": \"lines\", \"name\": \"recall_score_micro_max\", \"stepped\": true, \"type\": \"scatter\", \"data\": [0.8025252525252524, 0.8192929292929293, 0.8293939393939395, 0.8294612794612793, 0.8294612794612793, 0.8327272727272726, 0.8327272727272726, 0.8327272727272726, 0.8327272727272726, 0.8460606060606061, 0.8460606060606061, 0.8460606060606061, 0.8460606060606061, 0.8460606060606061, 0.8494949494949496, 0.8494949494949496, 0.8494949494949496, 0.8494949494949496, 0.8561616161616161, 0.8561616161616161, 0.8561616161616161, 0.8561616161616161, 0.8561616161616161, 0.8561616161616161, 0.8561616161616161, 0.8561616161616161, 0.8561616161616161, 0.8561616161616161, 0.8561616161616161, 0.8561616161616161, 0.8561616161616161, 0.8561616161616161, 0.8561616161616161, 0.8561616161616161, 0.8561616161616161, 0.8561616161616161, 0.8561616161616161]}], \"precision_score_micro\": [{\"categories\": [\"0\", \"1\", \"2\", \"3\", \"4\", \"5\", \"6\", \"7\", \"8\", \"9\", \"10\", \"11\", \"12\", \"13\", \"14\", \"15\", \"16\", \"17\", \"18\", \"19\", \"20\", \"21\", \"22\", \"23\", \"24\", \"25\", \"26\", \"27\", \"28\", \"29\", \"30\", \"31\", \"32\", \"33\", \"34\", \"35\", \"36\"], \"mode\": \"markers\", \"name\": \"precision_score_micro\", \"stepped\": false, \"type\": \"scatter\", \"data\": [0.8025252525252524, 0.8192929292929293, 0.8293939393939395, 0.8294612794612793, 0.8260606060606062, 0.8327272727272726, 0.699057239057239, 0.7223232323232324, 0.816060606060606, 0.8460606060606061, 0.8226936026936027, 0.8293602693602694, 0.8091919191919192, 0.816026936026936, 0.8494949494949496, 0.7992929292929292, 0.8093939393939394, 0.8128282828282828, 0.8561616161616161, 0.8393939393939395, 0.7958585858585859, 0.7624915824915824, 0.8327272727272729, 0.795892255892256, 0.8158585858585857, 0.8326262626262627, 0.8294276094276095, 0.8392255892255892, 0.7988215488215489, 0.7892255892255893, 0.6790235690235691, 0.8393939393939395, 0.8294276094276095, 0.7224242424242423, 0.8193265993265993, 0.816060606060606, 0.7925925925925926]}, {\"categories\": [\"0\", \"1\", \"2\", \"3\", \"4\", \"5\", \"6\", \"7\", \"8\", \"9\", \"10\", \"11\", \"12\", \"13\", \"14\", \"15\", \"16\", \"17\", \"18\", \"19\", \"20\", \"21\", \"22\", \"23\", \"24\", \"25\", \"26\", \"27\", \"28\", \"29\", \"30\", \"31\", \"32\", \"33\", \"34\", \"35\", \"36\"], \"mode\": \"lines\", \"name\": \"precision_score_micro_max\", \"stepped\": true, \"type\": \"scatter\", \"data\": [0.8025252525252524, 0.8192929292929293, 0.8293939393939395, 0.8294612794612793, 0.8294612794612793, 0.8327272727272726, 0.8327272727272726, 0.8327272727272726, 0.8327272727272726, 0.8460606060606061, 0.8460606060606061, 0.8460606060606061, 0.8460606060606061, 0.8460606060606061, 0.8494949494949496, 0.8494949494949496, 0.8494949494949496, 0.8494949494949496, 0.8561616161616161, 0.8561616161616161, 0.8561616161616161, 0.8561616161616161, 0.8561616161616161, 0.8561616161616161, 0.8561616161616161, 0.8561616161616161, 0.8561616161616161, 0.8561616161616161, 0.8561616161616161, 0.8561616161616161, 0.8561616161616161, 0.8561616161616161, 0.8561616161616161, 0.8561616161616161, 0.8561616161616161, 0.8561616161616161, 0.8561616161616161]}], \"average_precision_score_micro\": [{\"categories\": [\"0\", \"1\", \"2\", \"3\", \"4\", \"5\", \"6\", \"7\", \"8\", \"9\", \"10\", \"11\", \"12\", \"13\", \"14\", \"15\", \"16\", \"17\", \"18\", \"19\", \"20\", \"21\", \"22\", \"23\", \"24\", \"25\", \"26\", \"27\", \"28\", \"29\", \"30\", \"31\", \"32\", \"33\", \"34\", \"35\", \"36\"], \"mode\": \"markers\", \"name\": \"average_precision_score_micro\", \"stepped\": false, \"type\": \"scatter\", \"data\": [0.8707751210307144, 0.8886385174313017, 0.9022507403638108, 0.8981818203118218, 0.8928807536213931, 0.8910040501461629, 0.7425845441002553, 0.7870423665153177, 0.8706513899656709, 0.9151914679615607, 0.8951834405432354, 0.9009658468796404, 0.8799087259350761, 0.8804164883411465, 0.9004879475468739, 0.8851867736309434, 0.8885879911035843, 0.875856931769975, 0.9028173461088923, 0.9011645896223728, 0.8819634743558638, 0.8621784905995254, 0.8959822736726418, 0.8743790349335203, 0.8948150367508227, 0.8942359541943922, 0.8980168746340839, 0.9027788803304609, 0.883364180615324, 0.8795703618435905, 0.7062419872982225, 0.8806914052371253, 0.8870591876146346, 0.8474667641708642, 0.8947737719478691, 0.8152234661054543, 0.8877046594281159]}, {\"categories\": [\"0\", \"1\", \"2\", \"3\", \"4\", \"5\", \"6\", \"7\", \"8\", \"9\", \"10\", \"11\", \"12\", \"13\", \"14\", \"15\", \"16\", \"17\", \"18\", \"19\", \"20\", \"21\", \"22\", \"23\", \"24\", \"25\", \"26\", \"27\", \"28\", \"29\", \"30\", \"31\", \"32\", \"33\", \"34\", \"35\", \"36\"], \"mode\": \"lines\", \"name\": \"average_precision_score_micro_max\", \"stepped\": true, \"type\": \"scatter\", \"data\": [0.8707751210307144, 0.8886385174313017, 0.9022507403638108, 0.9022507403638108, 0.9022507403638108, 0.9022507403638108, 0.9022507403638108, 0.9022507403638108, 0.9022507403638108, 0.9151914679615607, 0.9151914679615607, 0.9151914679615607, 0.9151914679615607, 0.9151914679615607, 0.9151914679615607, 0.9151914679615607, 0.9151914679615607, 0.9151914679615607, 0.9151914679615607, 0.9151914679615607, 0.9151914679615607, 0.9151914679615607, 0.9151914679615607, 0.9151914679615607, 0.9151914679615607, 0.9151914679615607, 0.9151914679615607, 0.9151914679615607, 0.9151914679615607, 0.9151914679615607, 0.9151914679615607, 0.9151914679615607, 0.9151914679615607, 0.9151914679615607, 0.9151914679615607, 0.9151914679615607, 0.9151914679615607]}], \"precision_score_macro\": [{\"categories\": [\"0\", \"1\", \"2\", \"3\", \"4\", \"5\", \"6\", \"7\", \"8\", \"9\", \"10\", \"11\", \"12\", \"13\", \"14\", \"15\", \"16\", \"17\", \"18\", \"19\", \"20\", \"21\", \"22\", \"23\", \"24\", \"25\", \"26\", \"27\", \"28\", \"29\", \"30\", \"31\", \"32\", \"33\", \"34\", \"35\", \"36\"], \"mode\": \"markers\", \"name\": \"precision_score_macro\", \"stepped\": false, \"type\": \"scatter\", \"data\": [0.7842311567478019, 0.7983113869170717, 0.8124050622309329, 0.8185767582697406, 0.8201234865449889, 0.8165514729841106, 0.6563661278335191, 0.6921104549113544, 0.8012361483177445, 0.835596969970784, 0.8124899869185717, 0.8164617977262502, 0.7932886496482987, 0.7997950892068539, 0.8545884069000508, 0.8137064943364619, 0.7911924049855085, 0.8064976689976691, 0.8493922989279089, 0.8264221403431211, 0.7840608178066333, 0.7345181358358844, 0.819379813477093, 0.7903503364267818, 0.7975398990586878, 0.8146531913294778, 0.8108119586380456, 0.8244615794054785, 0.7908158411386529, 0.7806418569618426, 0.33951178451178454, 0.832644152420743, 0.8226482534878058, 0.7450830364440049, 0.8038109955717329, 0.8203718157208423, 0.790369352869353]}, {\"categories\": [\"0\", \"1\", \"2\", \"3\", \"4\", \"5\", \"6\", \"7\", \"8\", \"9\", \"10\", \"11\", \"12\", \"13\", \"14\", \"15\", \"16\", \"17\", \"18\", \"19\", \"20\", \"21\", \"22\", \"23\", \"24\", \"25\", \"26\", \"27\", \"28\", \"29\", \"30\", \"31\", \"32\", \"33\", \"34\", \"35\", \"36\"], \"mode\": \"lines\", \"name\": \"precision_score_macro_max\", \"stepped\": true, \"type\": \"scatter\", \"data\": [0.7842311567478019, 0.7983113869170717, 0.8124050622309329, 0.8185767582697406, 0.8201234865449889, 0.8201234865449889, 0.8201234865449889, 0.8201234865449889, 0.8201234865449889, 0.835596969970784, 0.835596969970784, 0.835596969970784, 0.835596969970784, 0.835596969970784, 0.8545884069000508, 0.8545884069000508, 0.8545884069000508, 0.8545884069000508, 0.8545884069000508, 0.8545884069000508, 0.8545884069000508, 0.8545884069000508, 0.8545884069000508, 0.8545884069000508, 0.8545884069000508, 0.8545884069000508, 0.8545884069000508, 0.8545884069000508, 0.8545884069000508, 0.8545884069000508, 0.8545884069000508, 0.8545884069000508, 0.8545884069000508, 0.8545884069000508, 0.8545884069000508, 0.8545884069000508, 0.8545884069000508]}], \"AUC_macro\": [{\"categories\": [\"0\", \"1\", \"2\", \"3\", \"4\", \"5\", \"6\", \"7\", \"8\", \"9\", \"10\", \"11\", \"12\", \"13\", \"14\", \"15\", \"16\", \"17\", \"18\", \"19\", \"20\", \"21\", \"22\", \"23\", \"24\", \"25\", \"26\", \"27\", \"28\", \"29\", \"30\", \"31\", \"32\", \"33\", \"34\", \"35\", \"36\"], \"mode\": \"markers\", \"name\": \"AUC_macro\", \"stepped\": false, \"type\": \"scatter\", \"data\": [0.8550287233045853, 0.875938401455643, 0.890575008506043, 0.8950479543582993, 0.8913482941069147, 0.8752083117600359, 0.6831602538499091, 0.7416044616044616, 0.8537696070454691, 0.913478651064858, 0.8849461777047983, 0.8922508715612164, 0.8573723477171753, 0.8633355523010695, 0.8853804543459716, 0.8765208558312008, 0.8720135899446243, 0.8621193360848535, 0.8941273786101371, 0.8918877498187844, 0.8665557182798561, 0.8338769804287045, 0.8866426525047215, 0.8559702559702559, 0.8983469183469183, 0.8925978688047653, 0.8972208168759893, 0.9061030488616696, 0.885186886393783, 0.8638583904101146, 0.6322845012500184, 0.8774873149011081, 0.8728101500515294, 0.8482411968618866, 0.8866317055972228, 0.8107900511348788, 0.8758797713970128]}, {\"categories\": [\"0\", \"1\", \"2\", \"3\", \"4\", \"5\", \"6\", \"7\", \"8\", \"9\", \"10\", \"11\", \"12\", \"13\", \"14\", \"15\", \"16\", \"17\", \"18\", \"19\", \"20\", \"21\", \"22\", \"23\", \"24\", \"25\", \"26\", \"27\", \"28\", \"29\", \"30\", \"31\", \"32\", \"33\", \"34\", \"35\", \"36\"], \"mode\": \"lines\", \"name\": \"AUC_macro_max\", \"stepped\": true, \"type\": \"scatter\", \"data\": [0.8550287233045853, 0.875938401455643, 0.890575008506043, 0.8950479543582993, 0.8950479543582993, 0.8950479543582993, 0.8950479543582993, 0.8950479543582993, 0.8950479543582993, 0.913478651064858, 0.913478651064858, 0.913478651064858, 0.913478651064858, 0.913478651064858, 0.913478651064858, 0.913478651064858, 0.913478651064858, 0.913478651064858, 0.913478651064858, 0.913478651064858, 0.913478651064858, 0.913478651064858, 0.913478651064858, 0.913478651064858, 0.913478651064858, 0.913478651064858, 0.913478651064858, 0.913478651064858, 0.913478651064858, 0.913478651064858, 0.913478651064858, 0.913478651064858, 0.913478651064858, 0.913478651064858, 0.913478651064858, 0.913478651064858, 0.913478651064858]}]}, \"metricName\": null, \"primaryMetricName\": \"accuracy\", \"showLegend\": false}, \"run_metrics\": [{\"name\": \"experiment_status\", \"run_id\": \"AutoML_fb653870-cda0-4ccf-ba05-21ef2c29173f\", \"categories\": [0, 1, 2, 3, 4, 5], \"series\": [{\"data\": [\"DatasetEvaluation\", \"FeaturesGeneration\", \"DatasetFeaturization\", \"DatasetFeaturizationCompleted\", \"DatasetCrossValidationSplit\", \"ModelSelection\"]}]}, {\"name\": \"experiment_status_description\", \"run_id\": \"AutoML_fb653870-cda0-4ccf-ba05-21ef2c29173f\", \"categories\": [0, 1, 2, 3, 4, 5], \"series\": [{\"data\": [\"Gathering dataset statistics.\", \"Generating features for the dataset.\", \"Beginning to fit featurizers and featurize the dataset.\", \"Completed fit featurizers and featurizing the dataset.\", \"Generating individually featurized CV splits.\", \"Beginning model selection.\"]}]}], \"run_logs\": \"Your job is submitted in Azure cloud and we are monitoring to get logs...\", \"graph\": {}, \"widget_settings\": {\"childWidgetDisplay\": \"popup\", \"send_telemetry\": false, \"log_level\": \"INFO\", \"sdk_version\": \"1.19.0\"}, \"loading\": false}"
     },
     "metadata": {},
     "output_type": "display_data"
    }
   ],
   "source": [
    "RunDetails(remote_run).show()"
   ]
  },
  {
   "cell_type": "code",
   "execution_count": null,
   "metadata": {
    "gather": {
     "logged": 1598431121770
    },
    "jupyter": {
     "outputs_hidden": false,
     "source_hidden": false
    },
    "nteract": {
     "transient": {
      "deleting": false
     }
    }
   },
   "outputs": [],
   "source": [
    "remote_run.wait_for_completion(show_output=True)"
   ]
  },
  {
   "cell_type": "markdown",
   "metadata": {},
   "source": [
    "## Best Model\n"
   ]
  },
  {
   "cell_type": "code",
   "execution_count": null,
   "metadata": {
    "gather": {
     "logged": 1598431425670
    },
    "jupyter": {
     "outputs_hidden": false,
     "source_hidden": false
    },
    "nteract": {
     "transient": {
      "deleting": false
     }
    }
   },
   "outputs": [],
   "source": [
    "best_run, fitted_model = remote_run.get_output()"
   ]
  },
  {
   "cell_type": "code",
   "execution_count": null,
   "metadata": {},
   "outputs": [],
   "source": [
    "best_metrics = best_run.get_metrics()\n",
    "\n",
    "print(\"Best Run Id : {}\".format(best_run.id), \n",
    "      \"Accuracy : {}\".format(best_metrics['Accuracy']), \n",
    "      \"Best metrics : {}\".format(best_metrics), \n",
    "      \"Best model : {}\".format(fitted_model), sep = '\\n')"
   ]
  },
  {
   "cell_type": "code",
   "execution_count": null,
   "metadata": {},
   "outputs": [],
   "source": [
    "print(fitted_model._final_estimator)"
   ]
  },
  {
   "cell_type": "code",
   "execution_count": null,
   "metadata": {
    "gather": {
     "logged": 1598431426111
    },
    "jupyter": {
     "outputs_hidden": false,
     "source_hidden": false
    },
    "nteract": {
     "transient": {
      "deleting": false
     }
    }
   },
   "outputs": [],
   "source": [
    "# Save the best model\n",
    "model = best_run.register_model(model_name = \"heart-failure-best-model-automl\", model_path = './outputs-automl/')"
   ]
  },
  {
   "cell_type": "markdown",
   "metadata": {},
   "source": [
    "## Model Deployment\n",
    "\n",
    "Remember you have to deploy only one of the two models you trained.. Perform the steps in the rest of this notebook only if you wish to deploy this model."
   ]
  },
  {
   "cell_type": "markdown",
   "metadata": {},
   "source": [
    "### Define the environement"
   ]
  },
  {
   "cell_type": "code",
   "execution_count": null,
   "metadata": {
    "gather": {
     "logged": 1598431435189
    },
    "jupyter": {
     "outputs_hidden": false,
     "source_hidden": false
    },
    "nteract": {
     "transient": {
      "deleting": false
     }
    }
   },
   "outputs": [],
   "source": [
    "best_run.download_file('outputs-automl/conda_env_v_1_0_0.yml', 'conda_env.yml')\n",
    "environment = Environment.from_conda_specification(name = 'heart-failure-env', file_path = 'conda_env.yml')"
   ]
  },
  {
   "cell_type": "markdown",
   "metadata": {},
   "source": [
    "### Download the scoring file"
   ]
  },
  {
   "cell_type": "code",
   "execution_count": null,
   "metadata": {},
   "outputs": [],
   "source": [
    "best_run.download_file('outputs-automl/scoring_file_v_1_0_0.py', 'score.py')"
   ]
  },
  {
   "cell_type": "markdown",
   "metadata": {},
   "source": [
    "### Inference Configuration"
   ]
  },
  {
   "cell_type": "code",
   "execution_count": null,
   "metadata": {},
   "outputs": [],
   "source": [
    "inference_config = InferenceConfig(entry_script= 'score.py', environment=environment)"
   ]
  },
  {
   "cell_type": "markdown",
   "metadata": {},
   "source": [
    "### ACI Configuration"
   ]
  },
  {
   "cell_type": "code",
   "execution_count": null,
   "metadata": {},
   "outputs": [],
   "source": [
    "aci_config = AciWebservice.deploy_configuration(cpu_cores=1, memory_gb=1, auth_enabled=True, enable_app_insights=True)"
   ]
  },
  {
   "cell_type": "markdown",
   "metadata": {},
   "source": [
    "### Deploy"
   ]
  },
  {
   "cell_type": "code",
   "execution_count": null,
   "metadata": {},
   "outputs": [],
   "source": [
    "webservice = Model.deploy(workspace=ws, \n",
    "                        name='heart-failure-ws', \n",
    "                        models=[model], \n",
    "                        inference_config=inference_config,\n",
    "                        deployment_config=aci_config,\n",
    "                        overwrite=True)"
   ]
  },
  {
   "cell_type": "code",
   "execution_count": null,
   "metadata": {},
   "outputs": [],
   "source": [
    "# wait for deployment to finish and display the scoring uri and swagger uri\n",
    "webservice.wait_for_deployment(show_output=True)\n",
    "\n",
    "print(\"Status : {}\".format(webservice.state), \n",
    "      \"scoring_uri : {}\".format(webservice.scoring_uri), \n",
    "      \"swagger_uri : {}\".format(webservice.swagger_uri), sep = '\\n')"
   ]
  },
  {
   "cell_type": "markdown",
   "metadata": {},
   "source": [
    "### Consume \n",
    "# NOT FINISHED"
   ]
  },
  {
   "cell_type": "markdown",
   "metadata": {
    "collapsed": true,
    "gather": {
     "logged": 1598431657736
    },
    "jupyter": {
     "outputs_hidden": false,
     "source_hidden": false
    },
    "nteract": {
     "transient": {
      "deleting": false
     }
    }
   },
   "source": [
    "Send a request to the web service you deployed to test it."
   ]
  },
  {
   "cell_type": "code",
   "execution_count": null,
   "metadata": {
    "gather": {
     "logged": 1598432707604
    },
    "jupyter": {
     "outputs_hidden": false,
     "source_hidden": false
    },
    "nteract": {
     "transient": {
      "deleting": false
     }
    }
   },
   "outputs": [],
   "source": [
    "# select samples from the dataframe\n",
    "sample = df.sample(4)\n",
    "target = sample.pop('DEATH_EVENT')\n",
    "\n",
    "# convert the records to a json data file\n",
    "data_json = sample.to_dict(orient='records')\n",
    "\n",
    "data = json.dumps({'data': recored})\n",
    "\n",
    "# get inference\n",
    "output = webservice.run(data)\n",
    "print(output)"
   ]
  },
  {
   "cell_type": "markdown",
   "metadata": {
    "collapsed": true,
    "gather": {
     "logged": 1598432765711
    },
    "jupyter": {
     "outputs_hidden": false,
     "source_hidden": false
    },
    "nteract": {
     "transient": {
      "deleting": false
     }
    }
   },
   "source": [
    "Print the logs of the web service and delete the service"
   ]
  },
  {
   "cell_type": "code",
   "execution_count": null,
   "metadata": {
    "jupyter": {
     "outputs_hidden": false,
     "source_hidden": false
    },
    "nteract": {
     "transient": {
      "deleting": false
     }
    }
   },
   "outputs": [],
   "source": [
    "webservice.get_logs()"
   ]
  },
  {
   "cell_type": "code",
   "execution_count": null,
   "metadata": {},
   "outputs": [],
   "source": [
    "webservice.delete()\n",
    "compute_target.delete()"
   ]
  }
 ],
 "metadata": {
  "kernel_info": {
   "name": "python3-azureml"
  },
  "kernelspec": {
   "display_name": "Python 3",
   "language": "python",
   "name": "python3"
  },
  "language_info": {
   "codemirror_mode": {
    "name": "ipython",
    "version": 3
   },
   "file_extension": ".py",
   "mimetype": "text/x-python",
   "name": "python",
   "nbconvert_exporter": "python",
   "pygments_lexer": "ipython3",
   "version": "3.6.10"
  },
  "nteract": {
   "version": "nteract-front-end@1.0.0"
  }
 },
 "nbformat": 4,
 "nbformat_minor": 2
}
