{
 "cells": [
  {
   "cell_type": "markdown",
   "metadata": {},
   "source": [
    "# Automated ML"
   ]
  },
  {
   "cell_type": "markdown",
   "metadata": {},
   "source": [
    "Import all dependencies."
   ]
  },
  {
   "cell_type": "code",
   "execution_count": 1,
   "metadata": {
    "gather": {
     "logged": 1598423888013
    },
    "jupyter": {
     "outputs_hidden": false,
     "source_hidden": false
    },
    "nteract": {
     "transient": {
      "deleting": false
     }
    }
   },
   "outputs": [
    {
     "name": "stdout",
     "output_type": "stream",
     "text": [
      "SDK version: 1.20.0\n"
     ]
    }
   ],
   "source": [
    "import json\n",
    "import azureml.core\n",
    "from azureml.core import Workspace, Experiment, Model\n",
    "from azureml.core.compute import ComputeTarget, AmlCompute\n",
    "from azureml.core.compute_target import ComputeTargetException\n",
    "from azureml.widgets import RunDetails\n",
    "from azureml.train.automl import AutoMLConfig\n",
    "from azureml.core.environment import Environment\n",
    "from azureml.core.model import InferenceConfig\n",
    "from azureml.core.webservice import AciWebservice, Webservice\n",
    "\n",
    "print(\"SDK version:\", azureml.core.VERSION)"
   ]
  },
  {
   "cell_type": "markdown",
   "metadata": {},
   "source": [
    "## Initialize workspace\n",
    "\n",
    "Initialize a workspace object from persisted configuration. Make sure the config file is present at .\\config.json"
   ]
  },
  {
   "cell_type": "code",
   "execution_count": 2,
   "metadata": {},
   "outputs": [
    {
     "name": "stdout",
     "output_type": "stream",
     "text": [
      "quick-starts-ws-136394\n",
      "aml-quickstarts-136394\n",
      "southcentralus\n",
      "3e42d11f-d64d-4173-af9b-12ecaa1030b3\n"
     ]
    }
   ],
   "source": [
    "ws = Workspace.from_config()\n",
    "\n",
    "print(ws.name, ws.resource_group, ws.location, ws.subscription_id, sep = '\\n')"
   ]
  },
  {
   "cell_type": "markdown",
   "metadata": {},
   "source": [
    "## Create an Azure ML experiment"
   ]
  },
  {
   "cell_type": "code",
   "execution_count": 3,
   "metadata": {
    "gather": {
     "logged": 1598423890461
    },
    "jupyter": {
     "outputs_hidden": false,
     "source_hidden": false
    },
    "nteract": {
     "transient": {
      "deleting": false
     }
    }
   },
   "outputs": [],
   "source": [
    "# choose a name for experiment\n",
    "experiment_name = 'automl-heart-experiment'\n",
    "\n",
    "experiment = Experiment(ws, experiment_name)\n",
    "\n",
    "run = experiment.start_logging()"
   ]
  },
  {
   "cell_type": "markdown",
   "metadata": {},
   "source": [
    "## Create a Compute Cluster"
   ]
  },
  {
   "cell_type": "code",
   "execution_count": 4,
   "metadata": {},
   "outputs": [
    {
     "name": "stdout",
     "output_type": "stream",
     "text": [
      "Creating\n",
      "Succeeded................................................................................................................\n",
      "AmlCompute wait for completion finished\n",
      "\n",
      "Wait timeout has been reached\n",
      "Current provisioning state of AmlCompute is \"Succeeded\" and current node count is \"0\"\n"
     ]
    }
   ],
   "source": [
    "amlcompute_cluster_name = \"heart-compute\"\n",
    "\n",
    "# Verify that cluster does not exist already\n",
    "try:\n",
    "    compute_target = ComputeTarget(workspace=ws, name=amlcompute_cluster_name)\n",
    "    print('Found existing cluster, use it.')\n",
    "except ComputeTargetException:\n",
    "    compute_config = AmlCompute.provisioning_configuration(vm_size='STANDARD_D2_V2', max_nodes=4)\n",
    "    compute_target = ComputeTarget.create(ws, amlcompute_cluster_name, compute_config)\n",
    "\n",
    "compute_target.wait_for_completion(show_output=True, min_node_count = 1, timeout_in_minutes = 10)"
   ]
  },
  {
   "cell_type": "markdown",
   "metadata": {},
   "source": [
    "## Dataset\n",
    "\n",
    "### Overview\n",
    "For this project, I used the [Heart Failure dataset](https://www.kaggle.com/andrewmvd/heart-failure-clinical-data) from Kaggle. \n",
    "\n",
    "Heart failure is a common event caused by CVDs and this dataset contains 12 features that can be used to predict mortality by heart failure."
   ]
  },
  {
   "cell_type": "code",
   "execution_count": 5,
   "metadata": {},
   "outputs": [
    {
     "data": {
      "text/html": [
       "<div>\n",
       "<style scoped>\n",
       "    .dataframe tbody tr th:only-of-type {\n",
       "        vertical-align: middle;\n",
       "    }\n",
       "\n",
       "    .dataframe tbody tr th {\n",
       "        vertical-align: top;\n",
       "    }\n",
       "\n",
       "    .dataframe thead th {\n",
       "        text-align: right;\n",
       "    }\n",
       "</style>\n",
       "<table border=\"1\" class=\"dataframe\">\n",
       "  <thead>\n",
       "    <tr style=\"text-align: right;\">\n",
       "      <th></th>\n",
       "      <th>age</th>\n",
       "      <th>anaemia</th>\n",
       "      <th>creatinine_phosphokinase</th>\n",
       "      <th>diabetes</th>\n",
       "      <th>ejection_fraction</th>\n",
       "      <th>high_blood_pressure</th>\n",
       "      <th>platelets</th>\n",
       "      <th>serum_creatinine</th>\n",
       "      <th>serum_sodium</th>\n",
       "      <th>sex</th>\n",
       "      <th>smoking</th>\n",
       "      <th>time</th>\n",
       "      <th>DEATH_EVENT</th>\n",
       "    </tr>\n",
       "  </thead>\n",
       "  <tbody>\n",
       "    <tr>\n",
       "      <th>count</th>\n",
       "      <td>299.000000</td>\n",
       "      <td>299.000000</td>\n",
       "      <td>299.000000</td>\n",
       "      <td>299.000000</td>\n",
       "      <td>299.000000</td>\n",
       "      <td>299.000000</td>\n",
       "      <td>299.000000</td>\n",
       "      <td>299.00000</td>\n",
       "      <td>299.000000</td>\n",
       "      <td>299.000000</td>\n",
       "      <td>299.00000</td>\n",
       "      <td>299.000000</td>\n",
       "      <td>299.00000</td>\n",
       "    </tr>\n",
       "    <tr>\n",
       "      <th>mean</th>\n",
       "      <td>60.833893</td>\n",
       "      <td>0.431438</td>\n",
       "      <td>581.839465</td>\n",
       "      <td>0.418060</td>\n",
       "      <td>38.083612</td>\n",
       "      <td>0.351171</td>\n",
       "      <td>263358.029264</td>\n",
       "      <td>1.39388</td>\n",
       "      <td>136.625418</td>\n",
       "      <td>0.648829</td>\n",
       "      <td>0.32107</td>\n",
       "      <td>130.260870</td>\n",
       "      <td>0.32107</td>\n",
       "    </tr>\n",
       "    <tr>\n",
       "      <th>std</th>\n",
       "      <td>11.894809</td>\n",
       "      <td>0.496107</td>\n",
       "      <td>970.287881</td>\n",
       "      <td>0.494067</td>\n",
       "      <td>11.834841</td>\n",
       "      <td>0.478136</td>\n",
       "      <td>97804.236869</td>\n",
       "      <td>1.03451</td>\n",
       "      <td>4.412477</td>\n",
       "      <td>0.478136</td>\n",
       "      <td>0.46767</td>\n",
       "      <td>77.614208</td>\n",
       "      <td>0.46767</td>\n",
       "    </tr>\n",
       "    <tr>\n",
       "      <th>min</th>\n",
       "      <td>40.000000</td>\n",
       "      <td>0.000000</td>\n",
       "      <td>23.000000</td>\n",
       "      <td>0.000000</td>\n",
       "      <td>14.000000</td>\n",
       "      <td>0.000000</td>\n",
       "      <td>25100.000000</td>\n",
       "      <td>0.50000</td>\n",
       "      <td>113.000000</td>\n",
       "      <td>0.000000</td>\n",
       "      <td>0.00000</td>\n",
       "      <td>4.000000</td>\n",
       "      <td>0.00000</td>\n",
       "    </tr>\n",
       "    <tr>\n",
       "      <th>25%</th>\n",
       "      <td>51.000000</td>\n",
       "      <td>0.000000</td>\n",
       "      <td>116.500000</td>\n",
       "      <td>0.000000</td>\n",
       "      <td>30.000000</td>\n",
       "      <td>0.000000</td>\n",
       "      <td>212500.000000</td>\n",
       "      <td>0.90000</td>\n",
       "      <td>134.000000</td>\n",
       "      <td>0.000000</td>\n",
       "      <td>0.00000</td>\n",
       "      <td>73.000000</td>\n",
       "      <td>0.00000</td>\n",
       "    </tr>\n",
       "    <tr>\n",
       "      <th>50%</th>\n",
       "      <td>60.000000</td>\n",
       "      <td>0.000000</td>\n",
       "      <td>250.000000</td>\n",
       "      <td>0.000000</td>\n",
       "      <td>38.000000</td>\n",
       "      <td>0.000000</td>\n",
       "      <td>262000.000000</td>\n",
       "      <td>1.10000</td>\n",
       "      <td>137.000000</td>\n",
       "      <td>1.000000</td>\n",
       "      <td>0.00000</td>\n",
       "      <td>115.000000</td>\n",
       "      <td>0.00000</td>\n",
       "    </tr>\n",
       "    <tr>\n",
       "      <th>75%</th>\n",
       "      <td>70.000000</td>\n",
       "      <td>1.000000</td>\n",
       "      <td>582.000000</td>\n",
       "      <td>1.000000</td>\n",
       "      <td>45.000000</td>\n",
       "      <td>1.000000</td>\n",
       "      <td>303500.000000</td>\n",
       "      <td>1.40000</td>\n",
       "      <td>140.000000</td>\n",
       "      <td>1.000000</td>\n",
       "      <td>1.00000</td>\n",
       "      <td>203.000000</td>\n",
       "      <td>1.00000</td>\n",
       "    </tr>\n",
       "    <tr>\n",
       "      <th>max</th>\n",
       "      <td>95.000000</td>\n",
       "      <td>1.000000</td>\n",
       "      <td>7861.000000</td>\n",
       "      <td>1.000000</td>\n",
       "      <td>80.000000</td>\n",
       "      <td>1.000000</td>\n",
       "      <td>850000.000000</td>\n",
       "      <td>9.40000</td>\n",
       "      <td>148.000000</td>\n",
       "      <td>1.000000</td>\n",
       "      <td>1.00000</td>\n",
       "      <td>285.000000</td>\n",
       "      <td>1.00000</td>\n",
       "    </tr>\n",
       "  </tbody>\n",
       "</table>\n",
       "</div>"
      ],
      "text/plain": [
       "              age     anaemia  creatinine_phosphokinase    diabetes  \\\n",
       "count  299.000000  299.000000                299.000000  299.000000   \n",
       "mean    60.833893    0.431438                581.839465    0.418060   \n",
       "std     11.894809    0.496107                970.287881    0.494067   \n",
       "min     40.000000    0.000000                 23.000000    0.000000   \n",
       "25%     51.000000    0.000000                116.500000    0.000000   \n",
       "50%     60.000000    0.000000                250.000000    0.000000   \n",
       "75%     70.000000    1.000000                582.000000    1.000000   \n",
       "max     95.000000    1.000000               7861.000000    1.000000   \n",
       "\n",
       "       ejection_fraction  high_blood_pressure      platelets  \\\n",
       "count         299.000000           299.000000     299.000000   \n",
       "mean           38.083612             0.351171  263358.029264   \n",
       "std            11.834841             0.478136   97804.236869   \n",
       "min            14.000000             0.000000   25100.000000   \n",
       "25%            30.000000             0.000000  212500.000000   \n",
       "50%            38.000000             0.000000  262000.000000   \n",
       "75%            45.000000             1.000000  303500.000000   \n",
       "max            80.000000             1.000000  850000.000000   \n",
       "\n",
       "       serum_creatinine  serum_sodium         sex    smoking        time  \\\n",
       "count         299.00000    299.000000  299.000000  299.00000  299.000000   \n",
       "mean            1.39388    136.625418    0.648829    0.32107  130.260870   \n",
       "std             1.03451      4.412477    0.478136    0.46767   77.614208   \n",
       "min             0.50000    113.000000    0.000000    0.00000    4.000000   \n",
       "25%             0.90000    134.000000    0.000000    0.00000   73.000000   \n",
       "50%             1.10000    137.000000    1.000000    0.00000  115.000000   \n",
       "75%             1.40000    140.000000    1.000000    1.00000  203.000000   \n",
       "max             9.40000    148.000000    1.000000    1.00000  285.000000   \n",
       "\n",
       "       DEATH_EVENT  \n",
       "count    299.00000  \n",
       "mean       0.32107  \n",
       "std        0.46767  \n",
       "min        0.00000  \n",
       "25%        0.00000  \n",
       "50%        0.00000  \n",
       "75%        1.00000  \n",
       "max        1.00000  "
      ]
     },
     "execution_count": 5,
     "metadata": {},
     "output_type": "execute_result"
    }
   ],
   "source": [
    "key = \"heart-failure\"\n",
    "\n",
    "dataset = ws.datasets[key]\n",
    "\n",
    "df = dataset.to_pandas_dataframe()\n",
    "df.describe()"
   ]
  },
  {
   "cell_type": "markdown",
   "metadata": {},
   "source": [
    "### Explore"
   ]
  },
  {
   "cell_type": "code",
   "execution_count": 6,
   "metadata": {},
   "outputs": [
    {
     "data": {
      "text/html": [
       "<div>\n",
       "<style scoped>\n",
       "    .dataframe tbody tr th:only-of-type {\n",
       "        vertical-align: middle;\n",
       "    }\n",
       "\n",
       "    .dataframe tbody tr th {\n",
       "        vertical-align: top;\n",
       "    }\n",
       "\n",
       "    .dataframe thead th {\n",
       "        text-align: right;\n",
       "    }\n",
       "</style>\n",
       "<table border=\"1\" class=\"dataframe\">\n",
       "  <thead>\n",
       "    <tr style=\"text-align: right;\">\n",
       "      <th></th>\n",
       "      <th>age</th>\n",
       "      <th>anaemia</th>\n",
       "      <th>creatinine_phosphokinase</th>\n",
       "      <th>diabetes</th>\n",
       "      <th>ejection_fraction</th>\n",
       "      <th>high_blood_pressure</th>\n",
       "      <th>platelets</th>\n",
       "      <th>serum_creatinine</th>\n",
       "      <th>serum_sodium</th>\n",
       "      <th>sex</th>\n",
       "      <th>smoking</th>\n",
       "      <th>time</th>\n",
       "      <th>DEATH_EVENT</th>\n",
       "    </tr>\n",
       "  </thead>\n",
       "  <tbody>\n",
       "    <tr>\n",
       "      <th>0</th>\n",
       "      <td>75.0</td>\n",
       "      <td>0</td>\n",
       "      <td>582</td>\n",
       "      <td>0</td>\n",
       "      <td>20</td>\n",
       "      <td>1</td>\n",
       "      <td>265000.00</td>\n",
       "      <td>1.9</td>\n",
       "      <td>130</td>\n",
       "      <td>1</td>\n",
       "      <td>0</td>\n",
       "      <td>4</td>\n",
       "      <td>1</td>\n",
       "    </tr>\n",
       "    <tr>\n",
       "      <th>1</th>\n",
       "      <td>55.0</td>\n",
       "      <td>0</td>\n",
       "      <td>7861</td>\n",
       "      <td>0</td>\n",
       "      <td>38</td>\n",
       "      <td>0</td>\n",
       "      <td>263358.03</td>\n",
       "      <td>1.1</td>\n",
       "      <td>136</td>\n",
       "      <td>1</td>\n",
       "      <td>0</td>\n",
       "      <td>6</td>\n",
       "      <td>1</td>\n",
       "    </tr>\n",
       "    <tr>\n",
       "      <th>2</th>\n",
       "      <td>65.0</td>\n",
       "      <td>0</td>\n",
       "      <td>146</td>\n",
       "      <td>0</td>\n",
       "      <td>20</td>\n",
       "      <td>0</td>\n",
       "      <td>162000.00</td>\n",
       "      <td>1.3</td>\n",
       "      <td>129</td>\n",
       "      <td>1</td>\n",
       "      <td>1</td>\n",
       "      <td>7</td>\n",
       "      <td>1</td>\n",
       "    </tr>\n",
       "    <tr>\n",
       "      <th>3</th>\n",
       "      <td>50.0</td>\n",
       "      <td>1</td>\n",
       "      <td>111</td>\n",
       "      <td>0</td>\n",
       "      <td>20</td>\n",
       "      <td>0</td>\n",
       "      <td>210000.00</td>\n",
       "      <td>1.9</td>\n",
       "      <td>137</td>\n",
       "      <td>1</td>\n",
       "      <td>0</td>\n",
       "      <td>7</td>\n",
       "      <td>1</td>\n",
       "    </tr>\n",
       "    <tr>\n",
       "      <th>4</th>\n",
       "      <td>65.0</td>\n",
       "      <td>1</td>\n",
       "      <td>160</td>\n",
       "      <td>1</td>\n",
       "      <td>20</td>\n",
       "      <td>0</td>\n",
       "      <td>327000.00</td>\n",
       "      <td>2.7</td>\n",
       "      <td>116</td>\n",
       "      <td>0</td>\n",
       "      <td>0</td>\n",
       "      <td>8</td>\n",
       "      <td>1</td>\n",
       "    </tr>\n",
       "  </tbody>\n",
       "</table>\n",
       "</div>"
      ],
      "text/plain": [
       "    age  anaemia  creatinine_phosphokinase  diabetes  ejection_fraction  \\\n",
       "0  75.0        0                       582         0                 20   \n",
       "1  55.0        0                      7861         0                 38   \n",
       "2  65.0        0                       146         0                 20   \n",
       "3  50.0        1                       111         0                 20   \n",
       "4  65.0        1                       160         1                 20   \n",
       "\n",
       "   high_blood_pressure  platelets  serum_creatinine  serum_sodium  sex  \\\n",
       "0                    1  265000.00               1.9           130    1   \n",
       "1                    0  263358.03               1.1           136    1   \n",
       "2                    0  162000.00               1.3           129    1   \n",
       "3                    0  210000.00               1.9           137    1   \n",
       "4                    0  327000.00               2.7           116    0   \n",
       "\n",
       "   smoking  time  DEATH_EVENT  \n",
       "0        0     4            1  \n",
       "1        0     6            1  \n",
       "2        1     7            1  \n",
       "3        0     7            1  \n",
       "4        0     8            1  "
      ]
     },
     "execution_count": 6,
     "metadata": {},
     "output_type": "execute_result"
    }
   ],
   "source": [
    "dataset.take(5).to_pandas_dataframe()"
   ]
  },
  {
   "cell_type": "markdown",
   "metadata": {},
   "source": [
    "## AutoML Configuration\n",
    "\n",
    "\n",
    "Let me explain the reasoning behind my choices for the AutoML Config:\n",
    "* **experiment_timeout_minutes**: I chose 15 minutes as the maximum amount of time the experiment can takee before it terminates because I have a small dataset with only 299 entries.\n",
    "* **max_concurrent_iterations**: Represents the maximum number of iterations that would be executed in parallel. The default value is 1.\n",
    "* **n_cross_validations**: To avoid overfitting, we need to user cross validation.\n",
    "* **primary_metric**: Area Under Curve (AUC) is one of the most widely used metrics for evaluation. It is used for binary classification problem.\n",
    "* **task**: Classification, since we want to have a binary prediction (O or 1)."
   ]
  },
  {
   "cell_type": "code",
   "execution_count": 8,
   "metadata": {
    "gather": {
     "logged": 1598429217746
    },
    "jupyter": {
     "outputs_hidden": false,
     "source_hidden": false
    },
    "nteract": {
     "transient": {
      "deleting": false
     }
    }
   },
   "outputs": [],
   "source": [
    "automl_settings = {\n",
    "    \"experiment_timeout_minutes\": 15,\n",
    "    \"iterations\": 40,\n",
    "    \"max_concurrent_iterations\": 4,\n",
    "    \"n_cross_validations\": 3,\n",
    "    \"primary_metric\" : 'accuracy'\n",
    "}\n",
    "automl_config = AutoMLConfig(compute_target=compute_target,\n",
    "                             task = \"classification\",\n",
    "                             training_data=dataset,\n",
    "                             label_column_name=\"DEATH_EVENT\",\n",
    "                             enable_early_stopping= True,\n",
    "                             debug_log = \"automl_errors.log\",\n",
    "                             **automl_settings\n",
    "                            )"
   ]
  },
  {
   "cell_type": "code",
   "execution_count": 9,
   "metadata": {
    "gather": {
     "logged": 1598431107951
    },
    "jupyter": {
     "outputs_hidden": false,
     "source_hidden": false
    },
    "nteract": {
     "transient": {
      "deleting": false
     }
    }
   },
   "outputs": [
    {
     "name": "stdout",
     "output_type": "stream",
     "text": [
      "Running on remote.\n",
      "No run_configuration provided, running on heart-compute with default configuration\n",
      "Running on remote compute: heart-compute\n",
      "Parent Run ID: AutoML_ca508edf-88f5-40cc-b1d0-b10738ed89fb\n",
      "\n",
      "Current status: FeaturesGeneration. Generating features for the dataset.\n",
      "Current status: DatasetCrossValidationSplit. Generating individually featurized CV splits.\n",
      "Current status: ModelSelection. Beginning model selection.\n",
      "\n",
      "****************************************************************************************************\n",
      "DATA GUARDRAILS: \n",
      "\n",
      "TYPE:         Class balancing detection\n",
      "STATUS:       PASSED\n",
      "DESCRIPTION:  Your inputs were analyzed, and all classes are balanced in your training data.\n",
      "              Learn more about imbalanced data: https://aka.ms/AutomatedMLImbalancedData\n",
      "\n",
      "****************************************************************************************************\n",
      "\n",
      "TYPE:         Missing feature values imputation\n",
      "STATUS:       PASSED\n",
      "DESCRIPTION:  No feature missing values were detected in the training data.\n",
      "              Learn more about missing value imputation: https://aka.ms/AutomatedMLFeaturization\n",
      "\n",
      "****************************************************************************************************\n",
      "\n",
      "TYPE:         High cardinality feature detection\n",
      "STATUS:       PASSED\n",
      "DESCRIPTION:  Your inputs were analyzed, and no high cardinality features were detected.\n",
      "              Learn more about high cardinality feature handling: https://aka.ms/AutomatedMLFeaturization\n",
      "\n",
      "****************************************************************************************************\n",
      "\n",
      "****************************************************************************************************\n",
      "ITERATION: The iteration being evaluated.\n",
      "PIPELINE: A summary description of the pipeline being evaluated.\n",
      "DURATION: Time taken for the current iteration.\n",
      "METRIC: The result of computing score on the fitted pipeline.\n",
      "BEST: The best observed score thus far.\n",
      "****************************************************************************************************\n",
      "\n",
      " ITERATION   PIPELINE                                       DURATION      METRIC      BEST\n",
      "         3   MinMaxScaler RandomForest                      0:00:43       0.8360    0.8360\n",
      "         2   MinMaxScaler RandomForest                      0:00:51       0.8128    0.8360\n",
      "         0   MaxAbsScaler LightGBM                          0:00:50       0.8025    0.8360\n",
      "         6   MinMaxScaler SVM                               0:00:49       0.7291    0.8360\n",
      "         7   MaxAbsScaler GradientBoosting                  0:00:45       0.8227    0.8360\n",
      "         1   MaxAbsScaler XGBoostClassifier                 0:03:22       0.8193    0.8360\n",
      "         4   MinMaxScaler RandomForest                      0:03:35       0.8192    0.8360\n",
      "         5   MinMaxScaler SVM                               0:03:26       0.7190    0.8360\n",
      "         8   SparseNormalizer XGBoostClassifier             0:00:48       0.8294    0.8360\n",
      "         9   MaxAbsScaler LightGBM                          0:00:43       0.8026    0.8360\n",
      "        10   MinMaxScaler LightGBM                          0:00:49       0.8327    0.8360\n",
      "        11   RobustScaler GradientBoosting                  0:00:45       0.8495    0.8495\n",
      "        12   RobustScaler ExtremeRandomTrees                0:00:51       0.8395    0.8495\n",
      "        13   SparseNormalizer XGBoostClassifier             0:00:44       0.8027    0.8495\n",
      "        15   SparseNormalizer XGBoostClassifier             0:00:45       0.8294    0.8495\n",
      "        14   SparseNormalizer XGBoostClassifier             0:00:52       0.7960    0.8495\n",
      "        16   StandardScalerWrapper RandomForest             0:00:42       0.8294    0.8495\n",
      "        17   SparseNormalizer XGBoostClassifier             0:00:42       0.8461    0.8495\n",
      "        18   SparseNormalizer XGBoostClassifier             0:00:46       0.7860    0.8495\n",
      "        19   StandardScalerWrapper ExtremeRandomTrees       0:00:52       0.7291    0.8495\n",
      "        20   RobustScaler LightGBM                          0:00:55       0.7726    0.8495\n",
      "        21   MaxAbsScaler LightGBM                          0:00:56       0.7793    0.8495\n",
      "        22   StandardScalerWrapper ExtremeRandomTrees       0:00:44       0.8294    0.8495\n",
      "        23   StandardScalerWrapper LightGBM                 0:00:46       0.8293    0.8495\n",
      "        24   StandardScalerWrapper XGBoostClassifier        0:00:43       0.8127    0.8495\n",
      "        25   PCA GradientBoosting                           0:00:48       0.6790    0.8495\n",
      "        26   StandardScalerWrapper LogisticRegression       0:00:42       0.7892    0.8495\n",
      "        28   MaxAbsScaler LightGBM                          0:00:43       0.8226    0.8495\n",
      "        27   MaxAbsScaler LogisticRegression                0:00:53       0.8092    0.8495\n",
      "        30   SparseNormalizer LightGBM                      0:00:46       0.8127    0.8495\n",
      "        29   MinMaxScaler GradientBoosting                  0:00:54       0.7459    0.8495\n",
      "        31   StandardScalerWrapper XGBoostClassifier        0:00:42       0.8327    0.8495\n",
      "        32   RobustScaler RandomForest                      0:00:45       0.8260    0.8495\n",
      "        33   SparseNormalizer ExtremeRandomTrees            0:00:22          nan    0.8495\n",
      "        34                                                  0:00:10          nan    0.8495\n",
      "        35                                                  0:00:18          nan    0.8495\n",
      "        36    VotingEnsemble                                0:01:14       0.8629    0.8629\n",
      "        37    StackEnsemble                                 0:01:15       0.8461    0.8629\n"
     ]
    }
   ],
   "source": [
    "remote_run = experiment.submit(automl_config, show_output=True)"
   ]
  },
  {
   "cell_type": "markdown",
   "metadata": {},
   "source": [
    "## Run Details\n",
    "Use the `RunDetails` widget to show the different experiments."
   ]
  },
  {
   "cell_type": "code",
   "execution_count": 10,
   "metadata": {},
   "outputs": [
    {
     "data": {
      "application/vnd.jupyter.widget-view+json": {
       "model_id": "3500c5dade7945cdafaefade1146f06f",
       "version_major": 2,
       "version_minor": 0
      },
      "text/plain": [
       "_AutoMLWidget(widget_settings={'childWidgetDisplay': 'popup', 'send_telemetry': False, 'log_level': 'INFO', 's…"
      ]
     },
     "metadata": {},
     "output_type": "display_data"
    },
    {
     "data": {
      "application/aml.mini.widget.v1": "{\"status\": \"Completed\", \"workbench_run_details_uri\": \"https://ml.azure.com/experiments/automl-heart-experiment/runs/AutoML_ca508edf-88f5-40cc-b1d0-b10738ed89fb?wsid=/subscriptions/3e42d11f-d64d-4173-af9b-12ecaa1030b3/resourcegroups/aml-quickstarts-136394/workspaces/quick-starts-ws-136394\", \"run_id\": \"AutoML_ca508edf-88f5-40cc-b1d0-b10738ed89fb\", \"run_properties\": {\"run_id\": \"AutoML_ca508edf-88f5-40cc-b1d0-b10738ed89fb\", \"created_utc\": \"2021-01-28T15:38:47.638637Z\", \"properties\": {\"num_iterations\": \"40\", \"training_type\": \"TrainFull\", \"acquisition_function\": \"EI\", \"primary_metric\": \"accuracy\", \"train_split\": \"0\", \"acquisition_parameter\": \"0\", \"num_cross_validation\": \"3\", \"target\": \"heart-compute\", \"AMLSettingsJsonString\": \"{\\\"path\\\":null,\\\"name\\\":\\\"automl-heart-experiment\\\",\\\"subscription_id\\\":\\\"3e42d11f-d64d-4173-af9b-12ecaa1030b3\\\",\\\"resource_group\\\":\\\"aml-quickstarts-136394\\\",\\\"workspace_name\\\":\\\"quick-starts-ws-136394\\\",\\\"region\\\":\\\"southcentralus\\\",\\\"compute_target\\\":\\\"heart-compute\\\",\\\"spark_service\\\":null,\\\"azure_service\\\":\\\"remote\\\",\\\"many_models\\\":false,\\\"pipeline_fetch_max_batch_size\\\":1,\\\"iterations\\\":40,\\\"primary_metric\\\":\\\"accuracy\\\",\\\"task_type\\\":\\\"classification\\\",\\\"data_script\\\":null,\\\"validation_size\\\":0.0,\\\"n_cross_validations\\\":3,\\\"y_min\\\":null,\\\"y_max\\\":null,\\\"num_classes\\\":null,\\\"featurization\\\":\\\"auto\\\",\\\"_ignore_package_version_incompatibilities\\\":false,\\\"is_timeseries\\\":false,\\\"max_cores_per_iteration\\\":1,\\\"max_concurrent_iterations\\\":4,\\\"iteration_timeout_minutes\\\":null,\\\"mem_in_mb\\\":null,\\\"enforce_time_on_windows\\\":false,\\\"experiment_timeout_minutes\\\":15,\\\"experiment_exit_score\\\":null,\\\"whitelist_models\\\":null,\\\"blacklist_algos\\\":[\\\"TensorFlowLinearClassifier\\\",\\\"TensorFlowDNN\\\"],\\\"supported_models\\\":[\\\"KNN\\\",\\\"AveragedPerceptronClassifier\\\",\\\"DecisionTree\\\",\\\"GradientBoosting\\\",\\\"SGD\\\",\\\"TensorFlowDNN\\\",\\\"SVM\\\",\\\"XGBoostClassifier\\\",\\\"RandomForest\\\",\\\"LogisticRegression\\\",\\\"MultinomialNaiveBayes\\\",\\\"BernoulliNaiveBayes\\\",\\\"LinearSVM\\\",\\\"LightGBM\\\",\\\"TensorFlowLinearClassifier\\\",\\\"ExtremeRandomTrees\\\"],\\\"auto_blacklist\\\":true,\\\"blacklist_samples_reached\\\":false,\\\"exclude_nan_labels\\\":true,\\\"verbosity\\\":20,\\\"_debug_log\\\":\\\"azureml_automl.log\\\",\\\"show_warnings\\\":false,\\\"model_explainability\\\":true,\\\"service_url\\\":null,\\\"sdk_url\\\":null,\\\"sdk_packages\\\":null,\\\"enable_onnx_compatible_models\\\":false,\\\"enable_split_onnx_featurizer_estimator_models\\\":false,\\\"vm_type\\\":\\\"STANDARD_D2_V2\\\",\\\"telemetry_verbosity\\\":20,\\\"send_telemetry\\\":true,\\\"enable_dnn\\\":false,\\\"scenario\\\":\\\"SDK-1.13.0\\\",\\\"environment_label\\\":null,\\\"force_text_dnn\\\":false,\\\"enable_feature_sweeping\\\":true,\\\"enable_early_stopping\\\":true,\\\"early_stopping_n_iters\\\":10,\\\"metrics\\\":null,\\\"enable_ensembling\\\":true,\\\"enable_stack_ensembling\\\":true,\\\"ensemble_iterations\\\":15,\\\"enable_tf\\\":false,\\\"enable_subsampling\\\":false,\\\"subsample_seed\\\":null,\\\"enable_nimbusml\\\":false,\\\"enable_streaming\\\":false,\\\"force_streaming\\\":false,\\\"track_child_runs\\\":true,\\\"allowed_private_models\\\":[],\\\"label_column_name\\\":\\\"DEATH_EVENT\\\",\\\"weight_column_name\\\":null,\\\"cv_split_column_names\\\":null,\\\"enable_local_managed\\\":false,\\\"_local_managed_run_id\\\":null,\\\"cost_mode\\\":1,\\\"lag_length\\\":0,\\\"metric_operation\\\":\\\"maximize\\\",\\\"preprocess\\\":true}\", \"DataPrepJsonString\": \"{\\\\\\\"training_data\\\\\\\": \\\\\\\"{\\\\\\\\\\\\\\\"blocks\\\\\\\\\\\\\\\": [{\\\\\\\\\\\\\\\"id\\\\\\\\\\\\\\\": \\\\\\\\\\\\\\\"62c862ac-e6b5-4859-a60a-1873e230b294\\\\\\\\\\\\\\\", \\\\\\\\\\\\\\\"type\\\\\\\\\\\\\\\": \\\\\\\\\\\\\\\"Microsoft.DPrep.GetDatastoreFilesBlock\\\\\\\\\\\\\\\", \\\\\\\\\\\\\\\"arguments\\\\\\\\\\\\\\\": {\\\\\\\\\\\\\\\"datastores\\\\\\\\\\\\\\\": [{\\\\\\\\\\\\\\\"datastoreName\\\\\\\\\\\\\\\": \\\\\\\\\\\\\\\"workspaceblobstore\\\\\\\\\\\\\\\", \\\\\\\\\\\\\\\"path\\\\\\\\\\\\\\\": \\\\\\\\\\\\\\\"UI/01-28-2021_031953_UTC/heart_failure_clinical_records_dataset.csv\\\\\\\\\\\\\\\", \\\\\\\\\\\\\\\"resourceGroup\\\\\\\\\\\\\\\": \\\\\\\\\\\\\\\"aml-quickstarts-136394\\\\\\\\\\\\\\\", \\\\\\\\\\\\\\\"subscription\\\\\\\\\\\\\\\": \\\\\\\\\\\\\\\"3e42d11f-d64d-4173-af9b-12ecaa1030b3\\\\\\\\\\\\\\\", \\\\\\\\\\\\\\\"workspaceName\\\\\\\\\\\\\\\": \\\\\\\\\\\\\\\"quick-starts-ws-136394\\\\\\\\\\\\\\\"}]}, \\\\\\\\\\\\\\\"localData\\\\\\\\\\\\\\\": {}, \\\\\\\\\\\\\\\"isEnabled\\\\\\\\\\\\\\\": true, \\\\\\\\\\\\\\\"name\\\\\\\\\\\\\\\": null, \\\\\\\\\\\\\\\"annotation\\\\\\\\\\\\\\\": null}, {\\\\\\\\\\\\\\\"id\\\\\\\\\\\\\\\": \\\\\\\\\\\\\\\"3d2f5b75-70d1-418d-8d7b-2e5557d2fbec\\\\\\\\\\\\\\\", \\\\\\\\\\\\\\\"type\\\\\\\\\\\\\\\": \\\\\\\\\\\\\\\"Microsoft.DPrep.ParseDelimitedBlock\\\\\\\\\\\\\\\", \\\\\\\\\\\\\\\"arguments\\\\\\\\\\\\\\\": {\\\\\\\\\\\\\\\"columnHeadersMode\\\\\\\\\\\\\\\": 1, \\\\\\\\\\\\\\\"fileEncoding\\\\\\\\\\\\\\\": 0, \\\\\\\\\\\\\\\"handleQuotedLineBreaks\\\\\\\\\\\\\\\": false, \\\\\\\\\\\\\\\"preview\\\\\\\\\\\\\\\": false, \\\\\\\\\\\\\\\"separator\\\\\\\\\\\\\\\": \\\\\\\\\\\\\\\",\\\\\\\\\\\\\\\", \\\\\\\\\\\\\\\"skipRows\\\\\\\\\\\\\\\": 0, \\\\\\\\\\\\\\\"skipRowsMode\\\\\\\\\\\\\\\": 0}, \\\\\\\\\\\\\\\"localData\\\\\\\\\\\\\\\": {}, \\\\\\\\\\\\\\\"isEnabled\\\\\\\\\\\\\\\": true, \\\\\\\\\\\\\\\"name\\\\\\\\\\\\\\\": null, \\\\\\\\\\\\\\\"annotation\\\\\\\\\\\\\\\": null}, {\\\\\\\\\\\\\\\"id\\\\\\\\\\\\\\\": \\\\\\\\\\\\\\\"6bb7c0e6-37ce-450b-8428-1aaa75e4c1e2\\\\\\\\\\\\\\\", \\\\\\\\\\\\\\\"type\\\\\\\\\\\\\\\": \\\\\\\\\\\\\\\"Microsoft.DPrep.DropColumnsBlock\\\\\\\\\\\\\\\", \\\\\\\\\\\\\\\"arguments\\\\\\\\\\\\\\\": {\\\\\\\\\\\\\\\"columns\\\\\\\\\\\\\\\": {\\\\\\\\\\\\\\\"type\\\\\\\\\\\\\\\": 0, \\\\\\\\\\\\\\\"details\\\\\\\\\\\\\\\": {\\\\\\\\\\\\\\\"selectedColumns\\\\\\\\\\\\\\\": [\\\\\\\\\\\\\\\"Path\\\\\\\\\\\\\\\"]}}}, \\\\\\\\\\\\\\\"localData\\\\\\\\\\\\\\\": {}, \\\\\\\\\\\\\\\"isEnabled\\\\\\\\\\\\\\\": true, \\\\\\\\\\\\\\\"name\\\\\\\\\\\\\\\": null, \\\\\\\\\\\\\\\"annotation\\\\\\\\\\\\\\\": null}, {\\\\\\\\\\\\\\\"id\\\\\\\\\\\\\\\": \\\\\\\\\\\\\\\"d41c124a-c006-468e-9bec-ea5c38c7a96a\\\\\\\\\\\\\\\", \\\\\\\\\\\\\\\"type\\\\\\\\\\\\\\\": \\\\\\\\\\\\\\\"Microsoft.DPrep.SetColumnTypesBlock\\\\\\\\\\\\\\\", \\\\\\\\\\\\\\\"arguments\\\\\\\\\\\\\\\": {\\\\\\\\\\\\\\\"columnConversion\\\\\\\\\\\\\\\": [{\\\\\\\\\\\\\\\"column\\\\\\\\\\\\\\\": {\\\\\\\\\\\\\\\"type\\\\\\\\\\\\\\\": 2, \\\\\\\\\\\\\\\"details\\\\\\\\\\\\\\\": {\\\\\\\\\\\\\\\"selectedColumn\\\\\\\\\\\\\\\": \\\\\\\\\\\\\\\"Path\\\\\\\\\\\\\\\"}}, \\\\\\\\\\\\\\\"typeProperty\\\\\\\\\\\\\\\": 0}, {\\\\\\\\\\\\\\\"column\\\\\\\\\\\\\\\": {\\\\\\\\\\\\\\\"type\\\\\\\\\\\\\\\": 2, \\\\\\\\\\\\\\\"details\\\\\\\\\\\\\\\": {\\\\\\\\\\\\\\\"selectedColumn\\\\\\\\\\\\\\\": \\\\\\\\\\\\\\\"age\\\\\\\\\\\\\\\"}}, \\\\\\\\\\\\\\\"typeProperty\\\\\\\\\\\\\\\": 3}, {\\\\\\\\\\\\\\\"column\\\\\\\\\\\\\\\": {\\\\\\\\\\\\\\\"type\\\\\\\\\\\\\\\": 2, \\\\\\\\\\\\\\\"details\\\\\\\\\\\\\\\": {\\\\\\\\\\\\\\\"selectedColumn\\\\\\\\\\\\\\\": \\\\\\\\\\\\\\\"anaemia\\\\\\\\\\\\\\\"}}, \\\\\\\\\\\\\\\"typeProperty\\\\\\\\\\\\\\\": 2}, {\\\\\\\\\\\\\\\"column\\\\\\\\\\\\\\\": {\\\\\\\\\\\\\\\"type\\\\\\\\\\\\\\\": 2, \\\\\\\\\\\\\\\"details\\\\\\\\\\\\\\\": {\\\\\\\\\\\\\\\"selectedColumn\\\\\\\\\\\\\\\": \\\\\\\\\\\\\\\"creatinine_phosphokinase\\\\\\\\\\\\\\\"}}, \\\\\\\\\\\\\\\"typeProperty\\\\\\\\\\\\\\\": 2}, {\\\\\\\\\\\\\\\"column\\\\\\\\\\\\\\\": {\\\\\\\\\\\\\\\"type\\\\\\\\\\\\\\\": 2, \\\\\\\\\\\\\\\"details\\\\\\\\\\\\\\\": {\\\\\\\\\\\\\\\"selectedColumn\\\\\\\\\\\\\\\": \\\\\\\\\\\\\\\"diabetes\\\\\\\\\\\\\\\"}}, \\\\\\\\\\\\\\\"typeProperty\\\\\\\\\\\\\\\": 2}, {\\\\\\\\\\\\\\\"column\\\\\\\\\\\\\\\": {\\\\\\\\\\\\\\\"type\\\\\\\\\\\\\\\": 2, \\\\\\\\\\\\\\\"details\\\\\\\\\\\\\\\": {\\\\\\\\\\\\\\\"selectedColumn\\\\\\\\\\\\\\\": \\\\\\\\\\\\\\\"ejection_fraction\\\\\\\\\\\\\\\"}}, \\\\\\\\\\\\\\\"typeProperty\\\\\\\\\\\\\\\": 2}, {\\\\\\\\\\\\\\\"column\\\\\\\\\\\\\\\": {\\\\\\\\\\\\\\\"type\\\\\\\\\\\\\\\": 2, \\\\\\\\\\\\\\\"details\\\\\\\\\\\\\\\": {\\\\\\\\\\\\\\\"selectedColumn\\\\\\\\\\\\\\\": \\\\\\\\\\\\\\\"high_blood_pressure\\\\\\\\\\\\\\\"}}, \\\\\\\\\\\\\\\"typeProperty\\\\\\\\\\\\\\\": 2}, {\\\\\\\\\\\\\\\"column\\\\\\\\\\\\\\\": {\\\\\\\\\\\\\\\"type\\\\\\\\\\\\\\\": 2, \\\\\\\\\\\\\\\"details\\\\\\\\\\\\\\\": {\\\\\\\\\\\\\\\"selectedColumn\\\\\\\\\\\\\\\": \\\\\\\\\\\\\\\"platelets\\\\\\\\\\\\\\\"}}, \\\\\\\\\\\\\\\"typeProperty\\\\\\\\\\\\\\\": 3}, {\\\\\\\\\\\\\\\"column\\\\\\\\\\\\\\\": {\\\\\\\\\\\\\\\"type\\\\\\\\\\\\\\\": 2, \\\\\\\\\\\\\\\"details\\\\\\\\\\\\\\\": {\\\\\\\\\\\\\\\"selectedColumn\\\\\\\\\\\\\\\": \\\\\\\\\\\\\\\"serum_creatinine\\\\\\\\\\\\\\\"}}, \\\\\\\\\\\\\\\"typeProperty\\\\\\\\\\\\\\\": 3}, {\\\\\\\\\\\\\\\"column\\\\\\\\\\\\\\\": {\\\\\\\\\\\\\\\"type\\\\\\\\\\\\\\\": 2, \\\\\\\\\\\\\\\"details\\\\\\\\\\\\\\\": {\\\\\\\\\\\\\\\"selectedColumn\\\\\\\\\\\\\\\": \\\\\\\\\\\\\\\"serum_sodium\\\\\\\\\\\\\\\"}}, \\\\\\\\\\\\\\\"typeProperty\\\\\\\\\\\\\\\": 2}, {\\\\\\\\\\\\\\\"column\\\\\\\\\\\\\\\": {\\\\\\\\\\\\\\\"type\\\\\\\\\\\\\\\": 2, \\\\\\\\\\\\\\\"details\\\\\\\\\\\\\\\": {\\\\\\\\\\\\\\\"selectedColumn\\\\\\\\\\\\\\\": \\\\\\\\\\\\\\\"sex\\\\\\\\\\\\\\\"}}, \\\\\\\\\\\\\\\"typeProperty\\\\\\\\\\\\\\\": 2}, {\\\\\\\\\\\\\\\"column\\\\\\\\\\\\\\\": {\\\\\\\\\\\\\\\"type\\\\\\\\\\\\\\\": 2, \\\\\\\\\\\\\\\"details\\\\\\\\\\\\\\\": {\\\\\\\\\\\\\\\"selectedColumn\\\\\\\\\\\\\\\": \\\\\\\\\\\\\\\"smoking\\\\\\\\\\\\\\\"}}, \\\\\\\\\\\\\\\"typeProperty\\\\\\\\\\\\\\\": 2}, {\\\\\\\\\\\\\\\"column\\\\\\\\\\\\\\\": {\\\\\\\\\\\\\\\"type\\\\\\\\\\\\\\\": 2, \\\\\\\\\\\\\\\"details\\\\\\\\\\\\\\\": {\\\\\\\\\\\\\\\"selectedColumn\\\\\\\\\\\\\\\": \\\\\\\\\\\\\\\"time\\\\\\\\\\\\\\\"}}, \\\\\\\\\\\\\\\"typeProperty\\\\\\\\\\\\\\\": 2}, {\\\\\\\\\\\\\\\"column\\\\\\\\\\\\\\\": {\\\\\\\\\\\\\\\"type\\\\\\\\\\\\\\\": 2, \\\\\\\\\\\\\\\"details\\\\\\\\\\\\\\\": {\\\\\\\\\\\\\\\"selectedColumn\\\\\\\\\\\\\\\": \\\\\\\\\\\\\\\"DEATH_EVENT\\\\\\\\\\\\\\\"}}, \\\\\\\\\\\\\\\"typeProperty\\\\\\\\\\\\\\\": 2}]}, \\\\\\\\\\\\\\\"localData\\\\\\\\\\\\\\\": {}, \\\\\\\\\\\\\\\"isEnabled\\\\\\\\\\\\\\\": true, \\\\\\\\\\\\\\\"name\\\\\\\\\\\\\\\": null, \\\\\\\\\\\\\\\"annotation\\\\\\\\\\\\\\\": null}], \\\\\\\\\\\\\\\"inspectors\\\\\\\\\\\\\\\": [], \\\\\\\\\\\\\\\"meta\\\\\\\\\\\\\\\": {\\\\\\\\\\\\\\\"savedDatasetId\\\\\\\\\\\\\\\": \\\\\\\\\\\\\\\"4b3e8cc4-6367-48ab-8828-a1ba5a4646d1\\\\\\\\\\\\\\\", \\\\\\\\\\\\\\\"datasetType\\\\\\\\\\\\\\\": \\\\\\\\\\\\\\\"tabular\\\\\\\\\\\\\\\", \\\\\\\\\\\\\\\"subscriptionId\\\\\\\\\\\\\\\": \\\\\\\\\\\\\\\"3e42d11f-d64d-4173-af9b-12ecaa1030b3\\\\\\\\\\\\\\\", \\\\\\\\\\\\\\\"workspaceId\\\\\\\\\\\\\\\": \\\\\\\\\\\\\\\"ad716be8-38c4-4573-a307-6d8727ef27b6\\\\\\\\\\\\\\\", \\\\\\\\\\\\\\\"workspaceLocation\\\\\\\\\\\\\\\": \\\\\\\\\\\\\\\"southcentralus\\\\\\\\\\\\\\\"}}\\\\\\\", \\\\\\\"activities\\\\\\\": 0}\", \"EnableSubsampling\": \"False\", \"runTemplate\": \"AutoML\", \"azureml.runsource\": \"automl\", \"display_task_type\": \"classification\", \"dependencies_versions\": \"{\\\"azureml-widgets\\\": \\\"1.20.0\\\", \\\"azureml-train\\\": \\\"1.20.0\\\", \\\"azureml-train-restclients-hyperdrive\\\": \\\"1.20.0\\\", \\\"azureml-train-core\\\": \\\"1.20.0\\\", \\\"azureml-train-automl\\\": \\\"1.20.0\\\", \\\"azureml-train-automl-runtime\\\": \\\"1.20.0\\\", \\\"azureml-train-automl-client\\\": \\\"1.20.0\\\", \\\"azureml-tensorboard\\\": \\\"1.20.0\\\", \\\"azureml-telemetry\\\": \\\"1.20.0\\\", \\\"azureml-sdk\\\": \\\"1.20.0\\\", \\\"azureml-samples\\\": \\\"0+unknown\\\", \\\"azureml-pipeline\\\": \\\"1.20.0\\\", \\\"azureml-pipeline-steps\\\": \\\"1.20.0\\\", \\\"azureml-pipeline-core\\\": \\\"1.20.0\\\", \\\"azureml-opendatasets\\\": \\\"1.20.0\\\", \\\"azureml-model-management-sdk\\\": \\\"1.0.1b6.post1\\\", \\\"azureml-mlflow\\\": \\\"1.20.0.post1\\\", \\\"azureml-interpret\\\": \\\"1.20.0\\\", \\\"azureml-explain-model\\\": \\\"1.20.0\\\", \\\"azureml-defaults\\\": \\\"1.20.0\\\", \\\"azureml-dataset-runtime\\\": \\\"1.20.0\\\", \\\"azureml-dataprep\\\": \\\"2.7.3\\\", \\\"azureml-dataprep-rslex\\\": \\\"1.5.0\\\", \\\"azureml-dataprep-native\\\": \\\"27.0.0\\\", \\\"azureml-datadrift\\\": \\\"1.20.0\\\", \\\"azureml-core\\\": \\\"1.20.0\\\", \\\"azureml-contrib-services\\\": \\\"1.20.0\\\", \\\"azureml-contrib-server\\\": \\\"1.20.0\\\", \\\"azureml-contrib-reinforcementlearning\\\": \\\"1.20.0\\\", \\\"azureml-contrib-pipeline-steps\\\": \\\"1.20.0\\\", \\\"azureml-contrib-notebook\\\": \\\"1.20.0\\\", \\\"azureml-contrib-interpret\\\": \\\"1.20.0\\\", \\\"azureml-contrib-gbdt\\\": \\\"1.20.0\\\", \\\"azureml-contrib-fairness\\\": \\\"1.20.0\\\", \\\"azureml-contrib-dataset\\\": \\\"1.20.0\\\", \\\"azureml-cli-common\\\": \\\"1.20.0\\\", \\\"azureml-automl-runtime\\\": \\\"1.20.0\\\", \\\"azureml-automl-core\\\": \\\"1.20.0\\\", \\\"azureml-accel-models\\\": \\\"1.20.0\\\"}\", \"_aml_system_scenario_identification\": \"Remote.Parent\", \"ClientType\": \"SDK\", \"environment_cpu_name\": \"AzureML-AutoML\", \"environment_cpu_label\": \"prod\", \"environment_gpu_name\": \"AzureML-AutoML-GPU\", \"environment_gpu_label\": \"prod\", \"root_attribution\": \"automl\", \"attribution\": \"AutoML\", \"Orchestrator\": \"AutoML\", \"CancelUri\": \"https://southcentralus.experiments.azureml.net/jasmine/v1.0/subscriptions/3e42d11f-d64d-4173-af9b-12ecaa1030b3/resourceGroups/aml-quickstarts-136394/providers/Microsoft.MachineLearningServices/workspaces/quick-starts-ws-136394/experimentids/2ac0769f-74c4-4508-a380-e11df8914c73/cancel/AutoML_ca508edf-88f5-40cc-b1d0-b10738ed89fb\", \"ClientSdkVersion\": \"1.20.0.post1\", \"snapshotId\": \"00000000-0000-0000-0000-000000000000\", \"SetupRunId\": \"AutoML_ca508edf-88f5-40cc-b1d0-b10738ed89fb_setup\", \"SetupRunContainerId\": \"dcid.AutoML_ca508edf-88f5-40cc-b1d0-b10738ed89fb_setup\", \"FeaturizationRunJsonPath\": \"featurizer_container.json\", \"FeaturizationRunId\": \"AutoML_ca508edf-88f5-40cc-b1d0-b10738ed89fb_featurize\", \"ProblemInfoJsonString\": \"{\\\"dataset_num_categorical\\\": 0, \\\"is_sparse\\\": false, \\\"subsampling\\\": false, \\\"dataset_classes\\\": 2, \\\"dataset_features\\\": 12, \\\"dataset_samples\\\": 299, \\\"single_frequency_class_detected\\\": false}\", \"ModelExplainRunId\": \"AutoML_ca508edf-88f5-40cc-b1d0-b10738ed89fb_ModelExplain\"}, \"tags\": {\"model_explain_run\": \"best_run\", \"_aml_system_azureml.automlComponent\": \"AutoML\", \"pipeline_id\": \"\", \"score\": \"\", \"predicted_cost\": \"\", \"fit_time\": \"\", \"training_percent\": \"\", \"iteration\": \"\", \"run_preprocessor\": \"\", \"run_algorithm\": \"\", \"dynamic_whitelisting_iterations\": \"<25>;<29>;<35>;\", \"automl_best_child_run_id\": \"AutoML_ca508edf-88f5-40cc-b1d0-b10738ed89fb_36\"}, \"end_time_utc\": \"2021-01-28T16:01:52.051273Z\", \"status\": \"Completed\", \"log_files\": {}, \"log_groups\": [], \"run_duration\": \"0:23:04\"}, \"child_runs\": [{\"run_id\": \"AutoML_ca508edf-88f5-40cc-b1d0-b10738ed89fb_0\", \"run_number\": 6, \"metric\": null, \"status\": \"Completed\", \"run_type\": \"azureml.scriptrun\", \"training_percent\": \"100\", \"start_time\": \"2021-01-28T15:49:50.849213Z\", \"end_time\": \"2021-01-28T15:50:40.84689Z\", \"created_time\": \"2021-01-28T15:47:56.267603Z\", \"created_time_dt\": \"2021-01-28T15:47:56.267603Z\", \"duration\": \"0:02:44\", \"iteration\": \"0\", \"goal\": \"accuracy_max\", \"run_name\": \"MaxAbsScaler, LightGBM\", \"run_properties\": \"copy=True\", \"primary_metric\": 0.80252525, \"best_metric\": 0.80252525}, {\"run_id\": \"AutoML_ca508edf-88f5-40cc-b1d0-b10738ed89fb_1\", \"run_number\": 7, \"metric\": null, \"status\": \"Completed\", \"run_type\": \"azureml.scriptrun\", \"training_percent\": \"100\", \"start_time\": \"2021-01-28T15:50:01.104988Z\", \"end_time\": \"2021-01-28T15:53:22.7375Z\", \"created_time\": \"2021-01-28T15:47:56.395502Z\", \"created_time_dt\": \"2021-01-28T15:47:56.395502Z\", \"duration\": \"0:05:26\", \"iteration\": \"1\", \"goal\": \"accuracy_max\", \"run_name\": \"MaxAbsScaler, XGBoostClassifier\", \"run_properties\": \"copy=True\", \"primary_metric\": 0.81929293, \"best_metric\": 0.81929293}, {\"run_id\": \"AutoML_ca508edf-88f5-40cc-b1d0-b10738ed89fb_2\", \"run_number\": 8, \"metric\": null, \"status\": \"Completed\", \"run_type\": \"azureml.scriptrun\", \"training_percent\": \"100\", \"start_time\": \"2021-01-28T15:48:55.827918Z\", \"end_time\": \"2021-01-28T15:49:46.334416Z\", \"created_time\": \"2021-01-28T15:47:56.402624Z\", \"created_time_dt\": \"2021-01-28T15:47:56.402624Z\", \"duration\": \"0:01:49\", \"iteration\": \"2\", \"goal\": \"accuracy_max\", \"run_name\": \"MinMaxScaler, RandomForest\", \"run_properties\": \"copy=True, feature_range=(0, 1\", \"primary_metric\": 0.81276094, \"best_metric\": 0.81929293}, {\"run_id\": \"AutoML_ca508edf-88f5-40cc-b1d0-b10738ed89fb_3\", \"run_number\": 9, \"metric\": null, \"status\": \"Completed\", \"run_type\": \"azureml.scriptrun\", \"training_percent\": \"100\", \"start_time\": \"2021-01-28T15:48:07.78026Z\", \"end_time\": \"2021-01-28T15:48:51.213335Z\", \"created_time\": \"2021-01-28T15:47:56.484099Z\", \"created_time_dt\": \"2021-01-28T15:47:56.484099Z\", \"duration\": \"0:00:54\", \"iteration\": \"3\", \"goal\": \"accuracy_max\", \"run_name\": \"MinMaxScaler, RandomForest\", \"run_properties\": \"copy=True, feature_range=(0, 1\", \"primary_metric\": 0.83602694, \"best_metric\": 0.83602694}, {\"run_id\": \"AutoML_ca508edf-88f5-40cc-b1d0-b10738ed89fb_4\", \"run_number\": 10, \"metric\": null, \"status\": \"Completed\", \"run_type\": \"azureml.scriptrun\", \"training_percent\": \"100\", \"start_time\": \"2021-01-28T15:49:58.397097Z\", \"end_time\": \"2021-01-28T15:53:33.771745Z\", \"created_time\": \"2021-01-28T15:48:56.390247Z\", \"created_time_dt\": \"2021-01-28T15:48:56.390247Z\", \"duration\": \"0:04:37\", \"iteration\": \"4\", \"goal\": \"accuracy_max\", \"run_name\": \"MinMaxScaler, RandomForest\", \"run_properties\": \"copy=True, feature_range=(0, 1\", \"primary_metric\": 0.81915825, \"best_metric\": 0.83602694}, {\"run_id\": \"AutoML_ca508edf-88f5-40cc-b1d0-b10738ed89fb_5\", \"run_number\": 11, \"metric\": null, \"status\": \"Completed\", \"run_type\": \"azureml.scriptrun\", \"training_percent\": \"100\", \"start_time\": \"2021-01-28T15:50:06.878763Z\", \"end_time\": \"2021-01-28T15:53:32.769814Z\", \"created_time\": \"2021-01-28T15:49:50.10786Z\", \"created_time_dt\": \"2021-01-28T15:49:50.10786Z\", \"duration\": \"0:03:42\", \"iteration\": \"5\", \"goal\": \"accuracy_max\", \"run_name\": \"MinMaxScaler, SVM\", \"run_properties\": \"copy=True, feature_range=(0, 1\", \"primary_metric\": 0.7189899, \"best_metric\": 0.83602694}, {\"run_id\": \"AutoML_ca508edf-88f5-40cc-b1d0-b10738ed89fb_6\", \"run_number\": 12, \"metric\": null, \"status\": \"Completed\", \"run_type\": \"azureml.scriptrun\", \"training_percent\": \"100\", \"start_time\": \"2021-01-28T15:50:58.12748Z\", \"end_time\": \"2021-01-28T15:51:47.041608Z\", \"created_time\": \"2021-01-28T15:50:43.599219Z\", \"created_time_dt\": \"2021-01-28T15:50:43.599219Z\", \"duration\": \"0:01:03\", \"iteration\": \"6\", \"goal\": \"accuracy_max\", \"run_name\": \"MinMaxScaler, SVM\", \"run_properties\": \"copy=True, feature_range=(0, 1\", \"primary_metric\": 0.72905724, \"best_metric\": 0.83602694}, {\"run_id\": \"AutoML_ca508edf-88f5-40cc-b1d0-b10738ed89fb_7\", \"run_number\": 13, \"metric\": null, \"status\": \"Completed\", \"run_type\": \"azureml.scriptrun\", \"training_percent\": \"100\", \"start_time\": \"2021-01-28T15:52:00.757698Z\", \"end_time\": \"2021-01-28T15:52:45.413738Z\", \"created_time\": \"2021-01-28T15:51:49.699871Z\", \"created_time_dt\": \"2021-01-28T15:51:49.699871Z\", \"duration\": \"0:00:55\", \"iteration\": \"7\", \"goal\": \"accuracy_max\", \"run_name\": \"MaxAbsScaler, GradientBoosting\", \"run_properties\": \"copy=True\", \"primary_metric\": 0.8226936, \"best_metric\": 0.83602694}, {\"run_id\": \"AutoML_ca508edf-88f5-40cc-b1d0-b10738ed89fb_8\", \"run_number\": 14, \"metric\": null, \"status\": \"Completed\", \"run_type\": \"azureml.scriptrun\", \"training_percent\": \"100\", \"start_time\": \"2021-01-28T15:53:00.618208Z\", \"end_time\": \"2021-01-28T15:53:48.346381Z\", \"created_time\": \"2021-01-28T15:52:48.15752Z\", \"created_time_dt\": \"2021-01-28T15:52:48.15752Z\", \"duration\": \"0:01:00\", \"iteration\": \"8\", \"goal\": \"accuracy_max\", \"run_name\": \"SparseNormalizer, XGBoostClassifier\", \"run_properties\": \"<azureml.automl.runtime.shared.model_wrappers.SparseNormalizer object at 0x7f432a9eb400\", \"primary_metric\": 0.82939394, \"best_metric\": 0.83602694}, {\"run_id\": \"AutoML_ca508edf-88f5-40cc-b1d0-b10738ed89fb_9\", \"run_number\": 15, \"metric\": null, \"status\": \"Completed\", \"run_type\": \"azureml.scriptrun\", \"training_percent\": \"100\", \"start_time\": \"2021-01-28T15:53:38.007943Z\", \"end_time\": \"2021-01-28T15:54:20.960754Z\", \"created_time\": \"2021-01-28T15:53:25.561369Z\", \"created_time_dt\": \"2021-01-28T15:53:25.561369Z\", \"duration\": \"0:00:55\", \"iteration\": \"9\", \"goal\": \"accuracy_max\", \"run_name\": \"MaxAbsScaler, LightGBM\", \"run_properties\": \"copy=True\", \"primary_metric\": 0.80259259, \"best_metric\": 0.83602694}, {\"run_id\": \"AutoML_ca508edf-88f5-40cc-b1d0-b10738ed89fb_10\", \"run_number\": 16, \"metric\": null, \"status\": \"Completed\", \"run_type\": \"azureml.scriptrun\", \"training_percent\": \"100\", \"start_time\": \"2021-01-28T15:53:48.861867Z\", \"end_time\": \"2021-01-28T15:54:37.924726Z\", \"created_time\": \"2021-01-28T15:53:35.70588Z\", \"created_time_dt\": \"2021-01-28T15:53:35.70588Z\", \"duration\": \"0:01:02\", \"iteration\": \"10\", \"goal\": \"accuracy_max\", \"run_name\": \"MinMaxScaler, LightGBM\", \"run_properties\": \"copy=True, feature_range=(0, 1\", \"primary_metric\": 0.83272727, \"best_metric\": 0.83602694}, {\"run_id\": \"AutoML_ca508edf-88f5-40cc-b1d0-b10738ed89fb_11\", \"run_number\": 17, \"metric\": null, \"status\": \"Completed\", \"run_type\": \"azureml.scriptrun\", \"training_percent\": \"100\", \"start_time\": \"2021-01-28T15:53:52.681702Z\", \"end_time\": \"2021-01-28T15:54:37.922083Z\", \"created_time\": \"2021-01-28T15:53:41.221018Z\", \"created_time_dt\": \"2021-01-28T15:53:41.221018Z\", \"duration\": \"0:00:56\", \"iteration\": \"11\", \"goal\": \"accuracy_max\", \"run_name\": \"RobustScaler, GradientBoosting\", \"run_properties\": \"copy=True, quantile_range=[25, 75], with_centering=False,\\n             with_scaling=False\", \"primary_metric\": 0.84949495, \"best_metric\": 0.84949495}, {\"run_id\": \"AutoML_ca508edf-88f5-40cc-b1d0-b10738ed89fb_12\", \"run_number\": 18, \"metric\": null, \"status\": \"Completed\", \"run_type\": \"azureml.scriptrun\", \"training_percent\": \"100\", \"start_time\": \"2021-01-28T15:54:02.407075Z\", \"end_time\": \"2021-01-28T15:54:52.92393Z\", \"created_time\": \"2021-01-28T15:53:50.907251Z\", \"created_time_dt\": \"2021-01-28T15:53:50.907251Z\", \"duration\": \"0:01:02\", \"iteration\": \"12\", \"goal\": \"accuracy_max\", \"run_name\": \"RobustScaler, ExtremeRandomTrees\", \"run_properties\": \"copy=True, quantile_range=[25, 75], with_centering=True,\\n             with_scaling=False\", \"primary_metric\": 0.83952862, \"best_metric\": 0.84949495}, {\"run_id\": \"AutoML_ca508edf-88f5-40cc-b1d0-b10738ed89fb_13\", \"run_number\": 19, \"metric\": null, \"status\": \"Completed\", \"run_type\": \"azureml.scriptrun\", \"training_percent\": \"100\", \"start_time\": \"2021-01-28T15:54:37.870689Z\", \"end_time\": \"2021-01-28T15:55:21.802613Z\", \"created_time\": \"2021-01-28T15:54:24.509581Z\", \"created_time_dt\": \"2021-01-28T15:54:24.509581Z\", \"duration\": \"0:00:57\", \"iteration\": \"13\", \"goal\": \"accuracy_max\", \"run_name\": \"SparseNormalizer, XGBoostClassifier\", \"run_properties\": \"<azureml.automl.runtime.shared.model_wrappers.SparseNormalizer object at 0x7f948a0a49e8\", \"primary_metric\": 0.80265993, \"best_metric\": 0.84949495}, {\"run_id\": \"AutoML_ca508edf-88f5-40cc-b1d0-b10738ed89fb_15\", \"run_number\": 20, \"metric\": null, \"status\": \"Completed\", \"run_type\": \"azureml.scriptrun\", \"training_percent\": \"100\", \"start_time\": \"2021-01-28T15:54:52.104669Z\", \"end_time\": \"2021-01-28T15:55:36.816341Z\", \"created_time\": \"2021-01-28T15:54:40.568673Z\", \"created_time_dt\": \"2021-01-28T15:54:40.568673Z\", \"duration\": \"0:00:56\", \"iteration\": \"15\", \"goal\": \"accuracy_max\", \"run_name\": \"SparseNormalizer, XGBoostClassifier\", \"run_properties\": \"<azureml.automl.runtime.shared.model_wrappers.SparseNormalizer object at 0x7f33f4ccd320\", \"primary_metric\": 0.82939394, \"best_metric\": 0.84949495}, {\"run_id\": \"AutoML_ca508edf-88f5-40cc-b1d0-b10738ed89fb_14\", \"run_number\": 21, \"metric\": null, \"status\": \"Completed\", \"run_type\": \"azureml.scriptrun\", \"training_percent\": \"100\", \"start_time\": \"2021-01-28T15:54:53.605053Z\", \"end_time\": \"2021-01-28T15:55:45.820711Z\", \"created_time\": \"2021-01-28T15:54:40.613771Z\", \"created_time_dt\": \"2021-01-28T15:54:40.613771Z\", \"duration\": \"0:01:05\", \"iteration\": \"14\", \"goal\": \"accuracy_max\", \"run_name\": \"SparseNormalizer, XGBoostClassifier\", \"run_properties\": \"<azureml.automl.runtime.shared.model_wrappers.SparseNormalizer object at 0x7f6b27974dd8\", \"primary_metric\": 0.7959596, \"best_metric\": 0.84949495}, {\"run_id\": \"AutoML_ca508edf-88f5-40cc-b1d0-b10738ed89fb_16\", \"run_number\": 22, \"metric\": null, \"status\": \"Completed\", \"run_type\": \"azureml.scriptrun\", \"training_percent\": \"100\", \"start_time\": \"2021-01-28T15:55:08.085179Z\", \"end_time\": \"2021-01-28T15:55:50.172429Z\", \"created_time\": \"2021-01-28T15:54:55.343273Z\", \"created_time_dt\": \"2021-01-28T15:54:55.343273Z\", \"duration\": \"0:00:54\", \"iteration\": \"16\", \"goal\": \"accuracy_max\", \"run_name\": \"StandardScalerWrapper, RandomForest\", \"run_properties\": \"<azureml.automl.runtime.shared.model_wrappers.StandardScalerWrapper object at 0x7f052ce461d0\", \"primary_metric\": 0.82936027, \"best_metric\": 0.84949495}, {\"run_id\": \"AutoML_ca508edf-88f5-40cc-b1d0-b10738ed89fb_17\", \"run_number\": 23, \"metric\": null, \"status\": \"Completed\", \"run_type\": \"azureml.scriptrun\", \"training_percent\": \"100\", \"start_time\": \"2021-01-28T15:55:36.276048Z\", \"end_time\": \"2021-01-28T15:56:18.439078Z\", \"created_time\": \"2021-01-28T15:55:24.590025Z\", \"created_time_dt\": \"2021-01-28T15:55:24.590025Z\", \"duration\": \"0:00:53\", \"iteration\": \"17\", \"goal\": \"accuracy_max\", \"run_name\": \"SparseNormalizer, XGBoostClassifier\", \"run_properties\": \"<azureml.automl.runtime.shared.model_wrappers.SparseNormalizer object at 0x7fd014104f98\", \"primary_metric\": 0.84612795, \"best_metric\": 0.84949495}, {\"run_id\": \"AutoML_ca508edf-88f5-40cc-b1d0-b10738ed89fb_18\", \"run_number\": 24, \"metric\": null, \"status\": \"Completed\", \"run_type\": \"azureml.scriptrun\", \"training_percent\": \"100\", \"start_time\": \"2021-01-28T15:55:51.490563Z\", \"end_time\": \"2021-01-28T15:56:36.999567Z\", \"created_time\": \"2021-01-28T15:55:39.219517Z\", \"created_time_dt\": \"2021-01-28T15:55:39.219517Z\", \"duration\": \"0:00:57\", \"iteration\": \"18\", \"goal\": \"accuracy_max\", \"run_name\": \"SparseNormalizer, XGBoostClassifier\", \"run_properties\": \"<azureml.automl.runtime.shared.model_wrappers.SparseNormalizer object at 0x7faddd5b19e8\", \"primary_metric\": 0.78602694, \"best_metric\": 0.84949495}, {\"run_id\": \"AutoML_ca508edf-88f5-40cc-b1d0-b10738ed89fb_19\", \"run_number\": 25, \"metric\": null, \"status\": \"Completed\", \"run_type\": \"azureml.scriptrun\", \"training_percent\": \"100\", \"start_time\": \"2021-01-28T15:56:01.169722Z\", \"end_time\": \"2021-01-28T15:56:52.744401Z\", \"created_time\": \"2021-01-28T15:55:48.429287Z\", \"created_time_dt\": \"2021-01-28T15:55:48.429287Z\", \"duration\": \"0:01:04\", \"iteration\": \"19\", \"goal\": \"accuracy_max\", \"run_name\": \"StandardScalerWrapper, ExtremeRandomTrees\", \"run_properties\": \"<azureml.automl.runtime.shared.model_wrappers.StandardScalerWrapper object at 0x7f6358abab38\", \"primary_metric\": 0.72909091, \"best_metric\": 0.84949495}, {\"run_id\": \"AutoML_ca508edf-88f5-40cc-b1d0-b10738ed89fb_20\", \"run_number\": 26, \"metric\": null, \"status\": \"Completed\", \"run_type\": \"azureml.scriptrun\", \"training_percent\": \"100\", \"start_time\": \"2021-01-28T15:56:06.723192Z\", \"end_time\": \"2021-01-28T15:57:02.106511Z\", \"created_time\": \"2021-01-28T15:55:53.685867Z\", \"created_time_dt\": \"2021-01-28T15:55:53.685867Z\", \"duration\": \"0:01:08\", \"iteration\": \"20\", \"goal\": \"accuracy_max\", \"run_name\": \"RobustScaler, LightGBM\", \"run_properties\": \"copy=True, quantile_range=[10, 90], with_centering=True,\\n             with_scaling=False\", \"primary_metric\": 0.77259259, \"best_metric\": 0.84949495}, {\"run_id\": \"AutoML_ca508edf-88f5-40cc-b1d0-b10738ed89fb_21\", \"run_number\": 27, \"metric\": null, \"status\": \"Completed\", \"run_type\": \"azureml.scriptrun\", \"training_percent\": \"100\", \"start_time\": \"2021-01-28T15:56:35.195729Z\", \"end_time\": \"2021-01-28T15:57:31.506217Z\", \"created_time\": \"2021-01-28T15:56:20.747934Z\", \"created_time_dt\": \"2021-01-28T15:56:20.747934Z\", \"duration\": \"0:01:10\", \"iteration\": \"21\", \"goal\": \"accuracy_max\", \"run_name\": \"MaxAbsScaler, LightGBM\", \"run_properties\": \"copy=True\", \"primary_metric\": 0.77925926, \"best_metric\": 0.84949495}, {\"run_id\": \"AutoML_ca508edf-88f5-40cc-b1d0-b10738ed89fb_22\", \"run_number\": 28, \"metric\": null, \"status\": \"Completed\", \"run_type\": \"azureml.scriptrun\", \"training_percent\": \"100\", \"start_time\": \"2021-01-28T15:56:53.011826Z\", \"end_time\": \"2021-01-28T15:57:37.215589Z\", \"created_time\": \"2021-01-28T15:56:39.459724Z\", \"created_time_dt\": \"2021-01-28T15:56:39.459724Z\", \"duration\": \"0:00:57\", \"iteration\": \"22\", \"goal\": \"accuracy_max\", \"run_name\": \"StandardScalerWrapper, ExtremeRandomTrees\", \"run_properties\": \"<azureml.automl.runtime.shared.model_wrappers.StandardScalerWrapper object at 0x7fe700774b00\", \"primary_metric\": 0.82939394, \"best_metric\": 0.84949495}, {\"run_id\": \"AutoML_ca508edf-88f5-40cc-b1d0-b10738ed89fb_23\", \"run_number\": 29, \"metric\": null, \"status\": \"Completed\", \"run_type\": \"azureml.scriptrun\", \"training_percent\": \"100\", \"start_time\": \"2021-01-28T15:57:09.913438Z\", \"end_time\": \"2021-01-28T15:57:55.656493Z\", \"created_time\": \"2021-01-28T15:56:55.183683Z\", \"created_time_dt\": \"2021-01-28T15:56:55.183683Z\", \"duration\": \"0:01:00\", \"iteration\": \"23\", \"goal\": \"accuracy_max\", \"run_name\": \"StandardScalerWrapper, LightGBM\", \"run_properties\": \"<azureml.automl.runtime.shared.model_wrappers.StandardScalerWrapper object at 0x7f4e2a01eac8\", \"primary_metric\": 0.82929293, \"best_metric\": 0.84949495}, {\"run_id\": \"AutoML_ca508edf-88f5-40cc-b1d0-b10738ed89fb_24\", \"run_number\": 30, \"metric\": null, \"status\": \"Completed\", \"run_type\": \"azureml.scriptrun\", \"training_percent\": \"100\", \"start_time\": \"2021-01-28T15:57:18.268706Z\", \"end_time\": \"2021-01-28T15:58:01.328084Z\", \"created_time\": \"2021-01-28T15:57:04.451785Z\", \"created_time_dt\": \"2021-01-28T15:57:04.451785Z\", \"duration\": \"0:00:56\", \"iteration\": \"24\", \"goal\": \"accuracy_max\", \"run_name\": \"StandardScalerWrapper, XGBoostClassifier\", \"run_properties\": \"<azureml.automl.runtime.shared.model_wrappers.StandardScalerWrapper object at 0x7f92f5258588\", \"primary_metric\": 0.81265993, \"best_metric\": 0.84949495}, {\"run_id\": \"AutoML_ca508edf-88f5-40cc-b1d0-b10738ed89fb_25\", \"run_number\": 31, \"metric\": null, \"status\": \"Completed\", \"run_type\": \"azureml.scriptrun\", \"training_percent\": \"100\", \"start_time\": \"2021-01-28T15:57:47.598816Z\", \"end_time\": \"2021-01-28T15:58:35.788524Z\", \"created_time\": \"2021-01-28T15:57:35.825303Z\", \"created_time_dt\": \"2021-01-28T15:57:35.825303Z\", \"duration\": \"0:00:59\", \"iteration\": \"25\", \"goal\": \"accuracy_max\", \"run_name\": \"PCA, GradientBoosting\", \"run_properties\": \"copy=True, iterated_power='auto', n_components=0.8510526315789474,\\n    random_state=None, svd_solver='auto', tol=0.0, whiten=True\", \"primary_metric\": 0.67902357, \"best_metric\": 0.84949495}, {\"run_id\": \"AutoML_ca508edf-88f5-40cc-b1d0-b10738ed89fb_26\", \"run_number\": 32, \"metric\": null, \"status\": \"Completed\", \"run_type\": \"azureml.scriptrun\", \"training_percent\": \"100\", \"start_time\": \"2021-01-28T15:57:53.311467Z\", \"end_time\": \"2021-01-28T15:58:35.639114Z\", \"created_time\": \"2021-01-28T15:57:41.354591Z\", \"created_time_dt\": \"2021-01-28T15:57:41.354591Z\", \"duration\": \"0:00:54\", \"iteration\": \"26\", \"goal\": \"accuracy_max\", \"run_name\": \"StandardScalerWrapper, LogisticRegression\", \"run_properties\": \"<azureml.automl.runtime.shared.model_wrappers.StandardScalerWrapper object at 0x7fe3173c4ba8\", \"primary_metric\": 0.78915825, \"best_metric\": 0.84949495}, {\"run_id\": \"AutoML_ca508edf-88f5-40cc-b1d0-b10738ed89fb_27\", \"run_number\": 33, \"metric\": null, \"status\": \"Completed\", \"run_type\": \"azureml.scriptrun\", \"training_percent\": \"100\", \"start_time\": \"2021-01-28T15:58:12.725522Z\", \"end_time\": \"2021-01-28T15:59:05.309479Z\", \"created_time\": \"2021-01-28T15:57:58.467208Z\", \"created_time_dt\": \"2021-01-28T15:57:58.467208Z\", \"duration\": \"0:01:06\", \"iteration\": \"27\", \"goal\": \"accuracy_max\", \"run_name\": \"MaxAbsScaler, LogisticRegression\", \"run_properties\": \"copy=True\", \"primary_metric\": 0.80919192, \"best_metric\": 0.84949495}, {\"run_id\": \"AutoML_ca508edf-88f5-40cc-b1d0-b10738ed89fb_28\", \"run_number\": 34, \"metric\": null, \"status\": \"Completed\", \"run_type\": \"azureml.scriptrun\", \"training_percent\": \"100\", \"start_time\": \"2021-01-28T15:58:15.379755Z\", \"end_time\": \"2021-01-28T15:58:58.047419Z\", \"created_time\": \"2021-01-28T15:58:03.393743Z\", \"created_time_dt\": \"2021-01-28T15:58:03.393743Z\", \"duration\": \"0:00:54\", \"iteration\": \"28\", \"goal\": \"accuracy_max\", \"run_name\": \"MaxAbsScaler, LightGBM\", \"run_properties\": \"copy=True\", \"primary_metric\": 0.82259259, \"best_metric\": 0.84949495}, {\"run_id\": \"AutoML_ca508edf-88f5-40cc-b1d0-b10738ed89fb_29\", \"run_number\": 35, \"metric\": null, \"status\": \"Completed\", \"run_type\": \"azureml.scriptrun\", \"training_percent\": \"100\", \"start_time\": \"2021-01-28T15:58:50.916586Z\", \"end_time\": \"2021-01-28T15:59:45.380533Z\", \"created_time\": \"2021-01-28T15:58:38.82739Z\", \"created_time_dt\": \"2021-01-28T15:58:38.82739Z\", \"duration\": \"0:01:06\", \"iteration\": \"29\", \"goal\": \"accuracy_max\", \"run_name\": \"MinMaxScaler, GradientBoosting\", \"run_properties\": \"copy=True, feature_range=(0, 1\", \"primary_metric\": 0.74585859, \"best_metric\": 0.84949495}, {\"run_id\": \"AutoML_ca508edf-88f5-40cc-b1d0-b10738ed89fb_30\", \"run_number\": 36, \"metric\": null, \"status\": \"Completed\", \"run_type\": \"azureml.scriptrun\", \"training_percent\": \"100\", \"start_time\": \"2021-01-28T15:58:51.370103Z\", \"end_time\": \"2021-01-28T15:59:37.020379Z\", \"created_time\": \"2021-01-28T15:58:38.979199Z\", \"created_time_dt\": \"2021-01-28T15:58:38.979199Z\", \"duration\": \"0:00:58\", \"iteration\": \"30\", \"goal\": \"accuracy_max\", \"run_name\": \"SparseNormalizer, LightGBM\", \"run_properties\": \"<azureml.automl.runtime.shared.model_wrappers.SparseNormalizer object at 0x7f1f78286198\", \"primary_metric\": 0.81272727, \"best_metric\": 0.84949495}, {\"run_id\": \"AutoML_ca508edf-88f5-40cc-b1d0-b10738ed89fb_31\", \"run_number\": 37, \"metric\": null, \"status\": \"Completed\", \"run_type\": \"azureml.scriptrun\", \"training_percent\": \"100\", \"start_time\": \"2021-01-28T15:59:11.688592Z\", \"end_time\": \"2021-01-28T15:59:53.635016Z\", \"created_time\": \"2021-01-28T15:59:00.205073Z\", \"created_time_dt\": \"2021-01-28T15:59:00.205073Z\", \"duration\": \"0:00:53\", \"iteration\": \"31\", \"goal\": \"accuracy_max\", \"run_name\": \"StandardScalerWrapper, XGBoostClassifier\", \"run_properties\": \"<azureml.automl.runtime.shared.model_wrappers.StandardScalerWrapper object at 0x7f9b812e6940\", \"primary_metric\": 0.83272727, \"best_metric\": 0.84949495}, {\"run_id\": \"AutoML_ca508edf-88f5-40cc-b1d0-b10738ed89fb_32\", \"run_number\": 38, \"metric\": null, \"status\": \"Completed\", \"run_type\": \"azureml.scriptrun\", \"training_percent\": \"100\", \"start_time\": \"2021-01-28T15:59:17.926928Z\", \"end_time\": \"2021-01-28T16:00:02.764Z\", \"created_time\": \"2021-01-28T15:59:07.518651Z\", \"created_time_dt\": \"2021-01-28T15:59:07.518651Z\", \"duration\": \"0:00:55\", \"iteration\": \"32\", \"goal\": \"accuracy_max\", \"run_name\": \"RobustScaler, RandomForest\", \"run_properties\": \"copy=True, quantile_range=[25, 75], with_centering=True,\\n             with_scaling=False\", \"primary_metric\": 0.82602694, \"best_metric\": 0.84949495}, {\"run_id\": \"AutoML_ca508edf-88f5-40cc-b1d0-b10738ed89fb_33\", \"run_number\": 39, \"metric\": null, \"status\": \"Canceled\", \"run_type\": \"azureml.scriptrun\", \"training_percent\": \"100\", \"start_time\": \"2021-01-28T15:59:50.337174Z\", \"end_time\": \"2021-01-28T16:00:12.611251Z\", \"created_time\": \"2021-01-28T15:59:39.359239Z\", \"created_time_dt\": \"2021-01-28T15:59:39.359239Z\", \"duration\": \"0:00:33\", \"iteration\": \"33\", \"goal\": null, \"run_name\": \"SparseNormalizer, ExtremeRandomTrees\", \"run_properties\": null}, {\"run_id\": \"AutoML_ca508edf-88f5-40cc-b1d0-b10738ed89fb_34\", \"run_number\": 40, \"metric\": null, \"status\": \"Canceled\", \"run_type\": \"azureml.scriptrun\", \"training_percent\": \"100\", \"start_time\": \"2021-01-28T16:00:00.15149Z\", \"end_time\": \"2021-01-28T16:00:10.383481Z\", \"created_time\": \"2021-01-28T15:59:47.470786Z\", \"created_time_dt\": \"2021-01-28T15:59:47.470786Z\", \"duration\": \"0:00:22\", \"iteration\": \"34\", \"goal\": null, \"run_name\": \"Canceled\", \"run_properties\": null}, {\"run_id\": \"AutoML_ca508edf-88f5-40cc-b1d0-b10738ed89fb_35\", \"run_number\": 41, \"metric\": null, \"status\": \"Canceled\", \"run_type\": \"azureml.scriptrun\", \"training_percent\": \"100\", \"start_time\": \"2021-01-28T15:59:56.842811Z\", \"end_time\": \"2021-01-28T16:00:14.685872Z\", \"created_time\": \"2021-01-28T15:59:56.842811Z\", \"created_time_dt\": \"2021-01-28T15:59:56.842811Z\", \"duration\": \"0:00:17\", \"iteration\": \"35\", \"goal\": null, \"run_name\": \"Canceled\", \"run_properties\": null}, {\"run_id\": \"AutoML_ca508edf-88f5-40cc-b1d0-b10738ed89fb_36\", \"run_number\": 42, \"metric\": null, \"status\": \"Completed\", \"run_type\": \"azureml.scriptrun\", \"training_percent\": \"100\", \"start_time\": \"2021-01-28T16:00:28.627622Z\", \"end_time\": \"2021-01-28T16:01:42.683591Z\", \"created_time\": \"2021-01-28T16:00:15.811362Z\", \"created_time_dt\": \"2021-01-28T16:00:15.811362Z\", \"duration\": \"0:01:26\", \"iteration\": \"36\", \"goal\": \"accuracy_max\", \"run_name\": \"VotingEnsemble\", \"run_properties\": \"classification_labels=None,\\n                              estimators=[('11',\\n                                           Pipeline(memory=None,\\n                                                    steps=[('robustscaler',\\n                                                            RobustScaler(copy=True,\\n                                                                         quantile_range=[25,\\n                                                                                         75],\\n                                                                         with_centering=False,\\n                                                                         with_scaling=False\", \"primary_metric\": 0.86286195, \"best_metric\": 0.86286195}, {\"run_id\": \"AutoML_ca508edf-88f5-40cc-b1d0-b10738ed89fb_37\", \"run_number\": 43, \"metric\": null, \"status\": \"Completed\", \"run_type\": \"azureml.scriptrun\", \"training_percent\": \"100\", \"start_time\": \"2021-01-28T16:00:26.31847Z\", \"end_time\": \"2021-01-28T16:01:41.757739Z\", \"created_time\": \"2021-01-28T16:00:15.947765Z\", \"created_time_dt\": \"2021-01-28T16:00:15.947765Z\", \"duration\": \"0:01:25\", \"iteration\": \"37\", \"goal\": \"accuracy_max\", \"run_name\": \"StackEnsemble\", \"run_properties\": \"base_learners=[('11',\\n                                        Pipeline(memory=None,\\n                                                 steps=[('robustscaler',\\n                                                         RobustScaler(copy=True,\\n                                                                      quantile_range=[25,\\n                                                                                      75],\\n                                                                      with_centering=False,\\n                                                                      with_scaling=False\", \"primary_metric\": 0.84609428, \"best_metric\": 0.86286195}], \"children_metrics\": {\"categories\": [0], \"series\": {\"average_precision_score_micro\": [{\"categories\": [\"0\", \"1\", \"2\", \"3\", \"4\", \"5\", \"6\", \"7\", \"8\", \"9\", \"10\", \"11\", \"12\", \"13\", \"14\", \"15\", \"16\", \"17\", \"18\", \"19\", \"20\", \"21\", \"22\", \"23\", \"24\", \"25\", \"26\", \"27\", \"28\", \"29\", \"30\", \"31\", \"32\", \"36\", \"37\"], \"mode\": \"markers\", \"name\": \"average_precision_score_micro\", \"stepped\": false, \"type\": \"scatter\", \"data\": [0.8707751210307144, 0.8886385174313017, 0.9022766506145589, 0.8855581127927371, 0.8964555446564683, 0.7859047808823748, 0.7780335684933203, 0.9018238277820219, 0.8840700802473521, 0.8709173320973704, 0.8922028337350252, 0.9028101185874119, 0.8868845139534391, 0.8539928366633033, 0.8796433421946591, 0.874091639777442, 0.9067758207222645, 0.8852178342334832, 0.8682069487420879, 0.8534183871368816, 0.867747301328056, 0.8695700871343005, 0.88730271642768, 0.8985582363112042, 0.8871833901479813, 0.6478632622208721, 0.8560330766135689, 0.8690032085453625, 0.8798020037438151, 0.8611550507773962, 0.8724290146043657, 0.8497585660101077, 0.9032396738944636, 0.8994529479805532, 0.8903421949965064]}, {\"categories\": [\"0\", \"1\", \"2\", \"3\", \"4\", \"5\", \"6\", \"7\", \"8\", \"9\", \"10\", \"11\", \"12\", \"13\", \"14\", \"15\", \"16\", \"17\", \"18\", \"19\", \"20\", \"21\", \"22\", \"23\", \"24\", \"25\", \"26\", \"27\", \"28\", \"29\", \"30\", \"31\", \"32\", \"36\", \"37\"], \"mode\": \"lines\", \"name\": \"average_precision_score_micro_max\", \"stepped\": true, \"type\": \"scatter\", \"data\": [0.8707751210307144, 0.8886385174313017, 0.9022766506145589, 0.9022766506145589, 0.9022766506145589, 0.9022766506145589, 0.9022766506145589, 0.9022766506145589, 0.9022766506145589, 0.9022766506145589, 0.9022766506145589, 0.9028101185874119, 0.9028101185874119, 0.9028101185874119, 0.9028101185874119, 0.9028101185874119, 0.9067758207222645, 0.9067758207222645, 0.9067758207222645, 0.9067758207222645, 0.9067758207222645, 0.9067758207222645, 0.9067758207222645, 0.9067758207222645, 0.9067758207222645, 0.9067758207222645, 0.9067758207222645, 0.9067758207222645, 0.9067758207222645, 0.9067758207222645, 0.9067758207222645, 0.9067758207222645, 0.9067758207222645, 0.9067758207222645, 0.9067758207222645]}], \"balanced_accuracy\": [{\"categories\": [\"0\", \"1\", \"2\", \"3\", \"4\", \"5\", \"6\", \"7\", \"8\", \"9\", \"10\", \"11\", \"12\", \"13\", \"14\", \"15\", \"16\", \"17\", \"18\", \"19\", \"20\", \"21\", \"22\", \"23\", \"24\", \"25\", \"26\", \"27\", \"28\", \"29\", \"30\", \"31\", \"32\", \"36\", \"37\"], \"mode\": \"markers\", \"name\": \"balanced_accuracy\", \"stepped\": false, \"type\": \"scatter\", \"data\": [0.7665542389680322, 0.7899604037535072, 0.7918578677199367, 0.7929219860254343, 0.7817280334521713, 0.6027280975556838, 0.6251633406805821, 0.7938485283312869, 0.785528878632327, 0.7253775943431116, 0.7910844341878825, 0.8078625423453009, 0.7760637484775416, 0.7537613968648452, 0.7479269910304392, 0.7809513947444983, 0.8077308835929525, 0.8143374901995593, 0.7238386169420652, 0.5928068462551223, 0.6738132220890841, 0.701966991622164, 0.7666057683299062, 0.7789424892873168, 0.7593098024132506, 0.5, 0.7942745701366393, 0.772580215683664, 0.7816479040616972, 0.6133759375138685, 0.7675323106357589, 0.777386499800293, 0.7880212725040311, 0.822949057431816, 0.8086561931389517]}, {\"categories\": [\"0\", \"1\", \"2\", \"3\", \"4\", \"5\", \"6\", \"7\", \"8\", \"9\", \"10\", \"11\", \"12\", \"13\", \"14\", \"15\", \"16\", \"17\", \"18\", \"19\", \"20\", \"21\", \"22\", \"23\", \"24\", \"25\", \"26\", \"27\", \"28\", \"29\", \"30\", \"31\", \"32\", \"36\", \"37\"], \"mode\": \"lines\", \"name\": \"balanced_accuracy_max\", \"stepped\": true, \"type\": \"scatter\", \"data\": [0.7665542389680322, 0.7899604037535072, 0.7918578677199367, 0.7929219860254343, 0.7929219860254343, 0.7929219860254343, 0.7929219860254343, 0.7938485283312869, 0.7938485283312869, 0.7938485283312869, 0.7938485283312869, 0.8078625423453009, 0.8078625423453009, 0.8078625423453009, 0.8078625423453009, 0.8078625423453009, 0.8078625423453009, 0.8143374901995593, 0.8143374901995593, 0.8143374901995593, 0.8143374901995593, 0.8143374901995593, 0.8143374901995593, 0.8143374901995593, 0.8143374901995593, 0.8143374901995593, 0.8143374901995593, 0.8143374901995593, 0.8143374901995593, 0.8143374901995593, 0.8143374901995593, 0.8143374901995593, 0.8143374901995593, 0.822949057431816, 0.822949057431816]}], \"AUC_macro\": [{\"categories\": [\"0\", \"1\", \"2\", \"3\", \"4\", \"5\", \"6\", \"7\", \"8\", \"9\", \"10\", \"11\", \"12\", \"13\", \"14\", \"15\", \"16\", \"17\", \"18\", \"19\", \"20\", \"21\", \"22\", \"23\", \"24\", \"25\", \"26\", \"27\", \"28\", \"29\", \"30\", \"31\", \"32\", \"36\", \"37\"], \"mode\": \"markers\", \"name\": \"AUC_macro\", \"stepped\": false, \"type\": \"scatter\", \"data\": [0.8550287233045853, 0.875938401455643, 0.8964555195589679, 0.8779166358476703, 0.8812109646592406, 0.7413585013585013, 0.7208138680552474, 0.8937034078413388, 0.8723482595896389, 0.8713443739305808, 0.8801574480884825, 0.894438182024389, 0.8728588687209378, 0.8347640744192469, 0.866052850880437, 0.8608066194273091, 0.9035899446244274, 0.8723311488828731, 0.85309412861137, 0.8654110267903371, 0.8673486787279892, 0.8584387836111974, 0.875042875387703, 0.8817424813976539, 0.8816623520071797, 0.5211418561418562, 0.8534657317415939, 0.8463138014862152, 0.8599820017061397, 0.8963962977756083, 0.850605778191985, 0.8459837423630526, 0.8975329516708827, 0.8891970788522512, 0.8916703896014241]}, {\"categories\": [\"0\", \"1\", \"2\", \"3\", \"4\", \"5\", \"6\", \"7\", \"8\", \"9\", \"10\", \"11\", \"12\", \"13\", \"14\", \"15\", \"16\", \"17\", \"18\", \"19\", \"20\", \"21\", \"22\", \"23\", \"24\", \"25\", \"26\", \"27\", \"28\", \"29\", \"30\", \"31\", \"32\", \"36\", \"37\"], \"mode\": \"lines\", \"name\": \"AUC_macro_max\", \"stepped\": true, \"type\": \"scatter\", \"data\": [0.8550287233045853, 0.875938401455643, 0.8964555195589679, 0.8964555195589679, 0.8964555195589679, 0.8964555195589679, 0.8964555195589679, 0.8964555195589679, 0.8964555195589679, 0.8964555195589679, 0.8964555195589679, 0.8964555195589679, 0.8964555195589679, 0.8964555195589679, 0.8964555195589679, 0.8964555195589679, 0.9035899446244274, 0.9035899446244274, 0.9035899446244274, 0.9035899446244274, 0.9035899446244274, 0.9035899446244274, 0.9035899446244274, 0.9035899446244274, 0.9035899446244274, 0.9035899446244274, 0.9035899446244274, 0.9035899446244274, 0.9035899446244274, 0.9035899446244274, 0.9035899446244274, 0.9035899446244274, 0.9035899446244274, 0.9035899446244274, 0.9035899446244274]}], \"weighted_accuracy\": [{\"categories\": [\"0\", \"1\", \"2\", \"3\", \"4\", \"5\", \"6\", \"7\", \"8\", \"9\", \"10\", \"11\", \"12\", \"13\", \"14\", \"15\", \"16\", \"17\", \"18\", \"19\", \"20\", \"21\", \"22\", \"23\", \"24\", \"25\", \"26\", \"27\", \"28\", \"29\", \"30\", \"31\", \"32\", \"36\", \"37\"], \"mode\": \"markers\", \"name\": \"weighted_accuracy\", \"stepped\": false, \"type\": \"scatter\", \"data\": [0.8310099034285422, 0.8426543037328149, 0.8300198714339789, 0.8701032101644107, 0.848237578208539, 0.8072166988833628, 0.8075193756394449, 0.8460030220990399, 0.8634491196390175, 0.8607997440370725, 0.8651732575700519, 0.8822747363789087, 0.8882077095607673, 0.8409177551197641, 0.8339566038093498, 0.8672009316971231, 0.8474864828237362, 0.8717368183198163, 0.8345907490850966, 0.8321045626169908, 0.8478895662386444, 0.8391828054761078, 0.8777675650051123, 0.8680716752713319, 0.8545213691988242, 0.8139581109686231, 0.7864248199408594, 0.8378480235877493, 0.8541932836409608, 0.845951638961933, 0.8476123302779842, 0.8754875859149557, 0.8562472911222653, 0.8943077429194449, 0.8758702091528857]}, {\"categories\": [\"0\", \"1\", \"2\", \"3\", \"4\", \"5\", \"6\", \"7\", \"8\", \"9\", \"10\", \"11\", \"12\", \"13\", \"14\", \"15\", \"16\", \"17\", \"18\", \"19\", \"20\", \"21\", \"22\", \"23\", \"24\", \"25\", \"26\", \"27\", \"28\", \"29\", \"30\", \"31\", \"32\", \"36\", \"37\"], \"mode\": \"lines\", \"name\": \"weighted_accuracy_max\", \"stepped\": true, \"type\": \"scatter\", \"data\": [0.8310099034285422, 0.8426543037328149, 0.8426543037328149, 0.8701032101644107, 0.8701032101644107, 0.8701032101644107, 0.8701032101644107, 0.8701032101644107, 0.8701032101644107, 0.8701032101644107, 0.8701032101644107, 0.8822747363789087, 0.8882077095607673, 0.8882077095607673, 0.8882077095607673, 0.8882077095607673, 0.8882077095607673, 0.8882077095607673, 0.8882077095607673, 0.8882077095607673, 0.8882077095607673, 0.8882077095607673, 0.8882077095607673, 0.8882077095607673, 0.8882077095607673, 0.8882077095607673, 0.8882077095607673, 0.8882077095607673, 0.8882077095607673, 0.8882077095607673, 0.8882077095607673, 0.8882077095607673, 0.8882077095607673, 0.8943077429194449, 0.8943077429194449]}], \"matthews_correlation\": [{\"categories\": [\"0\", \"1\", \"2\", \"3\", \"4\", \"5\", \"6\", \"7\", \"8\", \"9\", \"10\", \"11\", \"12\", \"13\", \"14\", \"15\", \"16\", \"17\", \"18\", \"19\", \"20\", \"21\", \"22\", \"23\", \"24\", \"25\", \"26\", \"27\", \"28\", \"29\", \"30\", \"31\", \"32\", \"36\", \"37\"], \"mode\": \"markers\", \"name\": \"matthews_correlation\", \"stepped\": false, \"type\": \"scatter\", \"data\": [0.5489062305154261, 0.5873460381369527, 0.5802685058085323, 0.6216305282793536, 0.5826326892226331, 0.28778662171078695, 0.313868243816462, 0.5972565321147051, 0.6005280962129412, 0.5206978867306472, 0.6092664733139852, 0.6517413568486753, 0.6238105960072406, 0.5385820024732558, 0.5249866713828074, 0.6041615471292127, 0.6210628484698981, 0.6504831115679957, 0.4925668738146059, 0.3126780263828918, 0.4513144183863229, 0.4745899220607977, 0.5989603956243209, 0.5968408428347508, 0.5653965606437339, 0.0, 0.559915034841016, 0.5629716262730603, 0.5859017580832345, 0.3747629912693659, 0.5596224126461719, 0.607283641445234, 0.6014299455651547, 0.6840563395664755, 0.6465202738392831]}, {\"categories\": [\"0\", \"1\", \"2\", \"3\", \"4\", \"5\", \"6\", \"7\", \"8\", \"9\", \"10\", \"11\", \"12\", \"13\", \"14\", \"15\", \"16\", \"17\", \"18\", \"19\", \"20\", \"21\", \"22\", \"23\", \"24\", \"25\", \"26\", \"27\", \"28\", \"29\", \"30\", \"31\", \"32\", \"36\", \"37\"], \"mode\": \"lines\", \"name\": \"matthews_correlation_max\", \"stepped\": true, \"type\": \"scatter\", \"data\": [0.5489062305154261, 0.5873460381369527, 0.5873460381369527, 0.6216305282793536, 0.6216305282793536, 0.6216305282793536, 0.6216305282793536, 0.6216305282793536, 0.6216305282793536, 0.6216305282793536, 0.6216305282793536, 0.6517413568486753, 0.6517413568486753, 0.6517413568486753, 0.6517413568486753, 0.6517413568486753, 0.6517413568486753, 0.6517413568486753, 0.6517413568486753, 0.6517413568486753, 0.6517413568486753, 0.6517413568486753, 0.6517413568486753, 0.6517413568486753, 0.6517413568486753, 0.6517413568486753, 0.6517413568486753, 0.6517413568486753, 0.6517413568486753, 0.6517413568486753, 0.6517413568486753, 0.6517413568486753, 0.6517413568486753, 0.6840563395664755, 0.6840563395664755]}], \"AUC_weighted\": [{\"categories\": [\"0\", \"1\", \"2\", \"3\", \"4\", \"5\", \"6\", \"7\", \"8\", \"9\", \"10\", \"11\", \"12\", \"13\", \"14\", \"15\", \"16\", \"17\", \"18\", \"19\", \"20\", \"21\", \"22\", \"23\", \"24\", \"25\", \"26\", \"27\", \"28\", \"29\", \"30\", \"31\", \"32\", \"36\", \"37\"], \"mode\": \"markers\", \"name\": \"AUC_weighted\", \"stepped\": false, \"type\": \"scatter\", \"data\": [0.8550287233045855, 0.875938401455643, 0.8964555195589679, 0.8779166358476704, 0.8812109646592404, 0.7413585013585013, 0.7208138680552474, 0.8937034078413388, 0.8723482595896389, 0.8713443739305808, 0.8801574480884825, 0.894438182024389, 0.8728588687209377, 0.8347640744192467, 0.866052850880437, 0.8608066194273091, 0.9035899446244273, 0.8723311488828731, 0.8530941286113699, 0.8654110267903371, 0.867348678727989, 0.8584387836111974, 0.875042875387703, 0.8817424813976538, 0.8816623520071797, 0.5211418561418562, 0.8534657317415939, 0.8463138014862154, 0.8599820017061397, 0.896396297775608, 0.850605778191985, 0.8459837423630527, 0.8975329516708827, 0.8891970788522513, 0.8916703896014241]}, {\"categories\": [\"0\", \"1\", \"2\", \"3\", \"4\", \"5\", \"6\", \"7\", \"8\", \"9\", \"10\", \"11\", \"12\", \"13\", \"14\", \"15\", \"16\", \"17\", \"18\", \"19\", \"20\", \"21\", \"22\", \"23\", \"24\", \"25\", \"26\", \"27\", \"28\", \"29\", \"30\", \"31\", \"32\", \"36\", \"37\"], \"mode\": \"lines\", \"name\": \"AUC_weighted_max\", \"stepped\": true, \"type\": \"scatter\", \"data\": [0.8550287233045855, 0.875938401455643, 0.8964555195589679, 0.8964555195589679, 0.8964555195589679, 0.8964555195589679, 0.8964555195589679, 0.8964555195589679, 0.8964555195589679, 0.8964555195589679, 0.8964555195589679, 0.8964555195589679, 0.8964555195589679, 0.8964555195589679, 0.8964555195589679, 0.8964555195589679, 0.9035899446244273, 0.9035899446244273, 0.9035899446244273, 0.9035899446244273, 0.9035899446244273, 0.9035899446244273, 0.9035899446244273, 0.9035899446244273, 0.9035899446244273, 0.9035899446244273, 0.9035899446244273, 0.9035899446244273, 0.9035899446244273, 0.9035899446244273, 0.9035899446244273, 0.9035899446244273, 0.9035899446244273, 0.9035899446244273, 0.9035899446244273]}], \"f1_score_weighted\": [{\"categories\": [\"0\", \"1\", \"2\", \"3\", \"4\", \"5\", \"6\", \"7\", \"8\", \"9\", \"10\", \"11\", \"12\", \"13\", \"14\", \"15\", \"16\", \"17\", \"18\", \"19\", \"20\", \"21\", \"22\", \"23\", \"24\", \"25\", \"26\", \"27\", \"28\", \"29\", \"30\", \"31\", \"32\", \"36\", \"37\"], \"mode\": \"markers\", \"name\": \"f1_score_weighted\", \"stepped\": false, \"type\": \"scatter\", \"data\": [0.7994850745596541, 0.8173118768300475, 0.8120693676079025, 0.8292670119960849, 0.8169256754708522, 0.678418301914094, 0.6992557597712422, 0.8199379341956066, 0.8241448914253456, 0.7886152226273634, 0.8277054789676329, 0.8435813294609581, 0.8289239305128083, 0.7953411782056244, 0.787316602476853, 0.8227318351067745, 0.8278917614141349, 0.8422891029269284, 0.7724084350669554, 0.6697457125717996, 0.7447876899420844, 0.758227736706189, 0.8183920171827256, 0.8216105837798033, 0.8032179263903402, 0.5497345001811592, 0.794326034422792, 0.8071660975367706, 0.8191981061073491, 0.6913655440343494, 0.8074563859744015, 0.8241739471830108, 0.8213167432894215, 0.8573981302795405, 0.840926579444051]}, {\"categories\": [\"0\", \"1\", \"2\", \"3\", \"4\", \"5\", \"6\", \"7\", \"8\", \"9\", \"10\", \"11\", \"12\", \"13\", \"14\", \"15\", \"16\", \"17\", \"18\", \"19\", \"20\", \"21\", \"22\", \"23\", \"24\", \"25\", \"26\", \"27\", \"28\", \"29\", \"30\", \"31\", \"32\", \"36\", \"37\"], \"mode\": \"lines\", \"name\": \"f1_score_weighted_max\", \"stepped\": true, \"type\": \"scatter\", \"data\": [0.7994850745596541, 0.8173118768300475, 0.8173118768300475, 0.8292670119960849, 0.8292670119960849, 0.8292670119960849, 0.8292670119960849, 0.8292670119960849, 0.8292670119960849, 0.8292670119960849, 0.8292670119960849, 0.8435813294609581, 0.8435813294609581, 0.8435813294609581, 0.8435813294609581, 0.8435813294609581, 0.8435813294609581, 0.8435813294609581, 0.8435813294609581, 0.8435813294609581, 0.8435813294609581, 0.8435813294609581, 0.8435813294609581, 0.8435813294609581, 0.8435813294609581, 0.8435813294609581, 0.8435813294609581, 0.8435813294609581, 0.8435813294609581, 0.8435813294609581, 0.8435813294609581, 0.8435813294609581, 0.8435813294609581, 0.8573981302795405, 0.8573981302795405]}], \"norm_macro_recall\": [{\"categories\": [\"0\", \"1\", \"2\", \"3\", \"4\", \"5\", \"6\", \"7\", \"8\", \"9\", \"10\", \"11\", \"12\", \"13\", \"14\", \"15\", \"16\", \"17\", \"18\", \"19\", \"20\", \"21\", \"22\", \"23\", \"24\", \"25\", \"26\", \"27\", \"28\", \"29\", \"30\", \"31\", \"32\", \"36\", \"37\"], \"mode\": \"markers\", \"name\": \"norm_macro_recall\", \"stepped\": false, \"type\": \"scatter\", \"data\": [0.5331084779360642, 0.5799208075070145, 0.5837157354398733, 0.5858439720508686, 0.5634560669043428, 0.2054561951113675, 0.25032668136116415, 0.587697056662574, 0.5710577572646539, 0.4507551886862231, 0.582168868375765, 0.6157250846906018, 0.5521274969550832, 0.5075227937296902, 0.49585398206087855, 0.5619027894889964, 0.6154617671859052, 0.6286749803991184, 0.4476772338841304, 0.1856136925102443, 0.3476264441781683, 0.403933983244328, 0.5332115366598125, 0.5578849785746337, 0.5186196048265014, 0.0, 0.5885491402732783, 0.5451604313673278, 0.5632958081233944, 0.22675187502773708, 0.5350646212715178, 0.5547729996005858, 0.5760425450080623, 0.6458981148636321, 0.6173123862779034]}, {\"categories\": [\"0\", \"1\", \"2\", \"3\", \"4\", \"5\", \"6\", \"7\", \"8\", \"9\", \"10\", \"11\", \"12\", \"13\", \"14\", \"15\", \"16\", \"17\", \"18\", \"19\", \"20\", \"21\", \"22\", \"23\", \"24\", \"25\", \"26\", \"27\", \"28\", \"29\", \"30\", \"31\", \"32\", \"36\", \"37\"], \"mode\": \"lines\", \"name\": \"norm_macro_recall_max\", \"stepped\": true, \"type\": \"scatter\", \"data\": [0.5331084779360642, 0.5799208075070145, 0.5837157354398733, 0.5858439720508686, 0.5858439720508686, 0.5858439720508686, 0.5858439720508686, 0.587697056662574, 0.587697056662574, 0.587697056662574, 0.587697056662574, 0.6157250846906018, 0.6157250846906018, 0.6157250846906018, 0.6157250846906018, 0.6157250846906018, 0.6157250846906018, 0.6286749803991184, 0.6286749803991184, 0.6286749803991184, 0.6286749803991184, 0.6286749803991184, 0.6286749803991184, 0.6286749803991184, 0.6286749803991184, 0.6286749803991184, 0.6286749803991184, 0.6286749803991184, 0.6286749803991184, 0.6286749803991184, 0.6286749803991184, 0.6286749803991184, 0.6286749803991184, 0.6458981148636321, 0.6458981148636321]}], \"recall_score_macro\": [{\"categories\": [\"0\", \"1\", \"2\", \"3\", \"4\", \"5\", \"6\", \"7\", \"8\", \"9\", \"10\", \"11\", \"12\", \"13\", \"14\", \"15\", \"16\", \"17\", \"18\", \"19\", \"20\", \"21\", \"22\", \"23\", \"24\", \"25\", \"26\", \"27\", \"28\", \"29\", \"30\", \"31\", \"32\", \"36\", \"37\"], \"mode\": \"markers\", \"name\": \"recall_score_macro\", \"stepped\": false, \"type\": \"scatter\", \"data\": [0.7665542389680322, 0.7899604037535072, 0.7918578677199367, 0.7929219860254343, 0.7817280334521713, 0.6027280975556838, 0.6251633406805821, 0.7938485283312869, 0.785528878632327, 0.7253775943431116, 0.7910844341878825, 0.8078625423453009, 0.7760637484775416, 0.7537613968648452, 0.7479269910304392, 0.7809513947444983, 0.8077308835929525, 0.8143374901995593, 0.7238386169420652, 0.5928068462551223, 0.6738132220890841, 0.701966991622164, 0.7666057683299062, 0.7789424892873168, 0.7593098024132506, 0.5, 0.7942745701366393, 0.772580215683664, 0.7816479040616972, 0.6133759375138685, 0.7675323106357589, 0.777386499800293, 0.7880212725040311, 0.822949057431816, 0.8086561931389517]}, {\"categories\": [\"0\", \"1\", \"2\", \"3\", \"4\", \"5\", \"6\", \"7\", \"8\", \"9\", \"10\", \"11\", \"12\", \"13\", \"14\", \"15\", \"16\", \"17\", \"18\", \"19\", \"20\", \"21\", \"22\", \"23\", \"24\", \"25\", \"26\", \"27\", \"28\", \"29\", \"30\", \"31\", \"32\", \"36\", \"37\"], \"mode\": \"lines\", \"name\": \"recall_score_macro_max\", \"stepped\": true, \"type\": \"scatter\", \"data\": [0.7665542389680322, 0.7899604037535072, 0.7918578677199367, 0.7929219860254343, 0.7929219860254343, 0.7929219860254343, 0.7929219860254343, 0.7938485283312869, 0.7938485283312869, 0.7938485283312869, 0.7938485283312869, 0.8078625423453009, 0.8078625423453009, 0.8078625423453009, 0.8078625423453009, 0.8078625423453009, 0.8078625423453009, 0.8143374901995593, 0.8143374901995593, 0.8143374901995593, 0.8143374901995593, 0.8143374901995593, 0.8143374901995593, 0.8143374901995593, 0.8143374901995593, 0.8143374901995593, 0.8143374901995593, 0.8143374901995593, 0.8143374901995593, 0.8143374901995593, 0.8143374901995593, 0.8143374901995593, 0.8143374901995593, 0.822949057431816, 0.822949057431816]}], \"f1_score_macro\": [{\"categories\": [\"0\", \"1\", \"2\", \"3\", \"4\", \"5\", \"6\", \"7\", \"8\", \"9\", \"10\", \"11\", \"12\", \"13\", \"14\", \"15\", \"16\", \"17\", \"18\", \"19\", \"20\", \"21\", \"22\", \"23\", \"24\", \"25\", \"26\", \"27\", \"28\", \"29\", \"30\", \"31\", \"32\", \"36\", \"37\"], \"mode\": \"markers\", \"name\": \"f1_score_macro\", \"stepped\": false, \"type\": \"scatter\", \"data\": [0.7670520318568558, 0.7892216866138503, 0.785208951814344, 0.8000447556694829, 0.7859614320439582, 0.5999944974974246, 0.6299124536817827, 0.7922095516177245, 0.794177639906812, 0.7439108266217896, 0.7986690951758778, 0.8174598255263316, 0.7960688021505158, 0.7602425138914493, 0.7513627550729417, 0.7915653797392506, 0.8025715650364956, 0.8175436034237077, 0.7308690962826935, 0.5797404221317265, 0.6861953133650833, 0.7091984512944941, 0.7837577433657078, 0.7881879867343056, 0.7682489923869232, 0.40415631893298937, 0.771131966867126, 0.7758425012430505, 0.7886449618462891, 0.6080023781234634, 0.7755874083655409, 0.7922914014173624, 0.7922610818661363, 0.833392286116287, 0.8150708020419852]}, {\"categories\": [\"0\", \"1\", \"2\", \"3\", \"4\", \"5\", \"6\", \"7\", \"8\", \"9\", \"10\", \"11\", \"12\", \"13\", \"14\", \"15\", \"16\", \"17\", \"18\", \"19\", \"20\", \"21\", \"22\", \"23\", \"24\", \"25\", \"26\", \"27\", \"28\", \"29\", \"30\", \"31\", \"32\", \"36\", \"37\"], \"mode\": \"lines\", \"name\": \"f1_score_macro_max\", \"stepped\": true, \"type\": \"scatter\", \"data\": [0.7670520318568558, 0.7892216866138503, 0.7892216866138503, 0.8000447556694829, 0.8000447556694829, 0.8000447556694829, 0.8000447556694829, 0.8000447556694829, 0.8000447556694829, 0.8000447556694829, 0.8000447556694829, 0.8174598255263316, 0.8174598255263316, 0.8174598255263316, 0.8174598255263316, 0.8174598255263316, 0.8174598255263316, 0.8175436034237077, 0.8175436034237077, 0.8175436034237077, 0.8175436034237077, 0.8175436034237077, 0.8175436034237077, 0.8175436034237077, 0.8175436034237077, 0.8175436034237077, 0.8175436034237077, 0.8175436034237077, 0.8175436034237077, 0.8175436034237077, 0.8175436034237077, 0.8175436034237077, 0.8175436034237077, 0.833392286116287, 0.833392286116287]}], \"log_loss\": [{\"categories\": [\"0\", \"1\", \"2\", \"3\", \"4\", \"5\", \"6\", \"7\", \"8\", \"9\", \"10\", \"11\", \"12\", \"13\", \"14\", \"15\", \"16\", \"17\", \"18\", \"19\", \"20\", \"21\", \"22\", \"23\", \"24\", \"25\", \"26\", \"27\", \"28\", \"29\", \"30\", \"31\", \"32\", \"36\", \"37\"], \"mode\": \"markers\", \"name\": \"log_loss\", \"stepped\": false, \"type\": \"scatter\", \"data\": [0.5791360620615199, 0.4649911805096085, 0.39825442349742063, 0.43334961800209165, 0.4055973564417898, 0.5686494913232603, 0.5764156118633971, 0.39347705080358847, 0.4296126864633482, 0.4750010668021987, 0.4165975334288769, 0.3884771793202743, 0.4353616802642295, 0.5035212911897063, 0.43133401087033035, 0.4389594252559648, 0.40320412629336877, 0.4290446801962724, 0.45638348656212385, 0.5092737841055642, 0.4969216965373195, 0.4773883008219764, 0.4451128900120189, 0.43232196572746434, 0.49712904326000174, 0.6311861977393926, 0.4836972263875953, 0.4723416384520664, 0.4230796450227224, 0.525151653738792, 0.44768435916022287, 0.4537130483340941, 0.4203369345089136, 0.409238819908503, 0.41883660860279676]}, {\"categories\": [\"0\", \"1\", \"2\", \"3\", \"4\", \"5\", \"6\", \"7\", \"8\", \"9\", \"10\", \"11\", \"12\", \"13\", \"14\", \"15\", \"16\", \"17\", \"18\", \"19\", \"20\", \"21\", \"22\", \"23\", \"24\", \"25\", \"26\", \"27\", \"28\", \"29\", \"30\", \"31\", \"32\", \"36\", \"37\"], \"mode\": \"lines\", \"name\": \"log_loss_min\", \"stepped\": true, \"type\": \"scatter\", \"data\": [0.5791360620615199, 0.4649911805096085, 0.39825442349742063, 0.39825442349742063, 0.39825442349742063, 0.39825442349742063, 0.39825442349742063, 0.39347705080358847, 0.39347705080358847, 0.39347705080358847, 0.39347705080358847, 0.3884771793202743, 0.3884771793202743, 0.3884771793202743, 0.3884771793202743, 0.3884771793202743, 0.3884771793202743, 0.3884771793202743, 0.3884771793202743, 0.3884771793202743, 0.3884771793202743, 0.3884771793202743, 0.3884771793202743, 0.3884771793202743, 0.3884771793202743, 0.3884771793202743, 0.3884771793202743, 0.3884771793202743, 0.3884771793202743, 0.3884771793202743, 0.3884771793202743, 0.3884771793202743, 0.3884771793202743, 0.3884771793202743, 0.3884771793202743]}], \"accuracy\": [{\"categories\": [\"0\", \"1\", \"2\", \"3\", \"4\", \"5\", \"6\", \"7\", \"8\", \"9\", \"10\", \"11\", \"12\", \"13\", \"14\", \"15\", \"16\", \"17\", \"18\", \"19\", \"20\", \"21\", \"22\", \"23\", \"24\", \"25\", \"26\", \"27\", \"28\", \"29\", \"30\", \"31\", \"32\", \"36\", \"37\"], \"mode\": \"markers\", \"name\": \"accuracy\", \"stepped\": false, \"type\": \"scatter\", \"data\": [0.8025252525252524, 0.8192929292929293, 0.8127609427609427, 0.836026936026936, 0.8191582491582491, 0.7189898989898991, 0.729057239057239, 0.8226936026936027, 0.8293939393939395, 0.8025925925925925, 0.8327272727272729, 0.8494949494949496, 0.8395286195286196, 0.8026599326599326, 0.7959595959595959, 0.8293939393939395, 0.8293602693602694, 0.8461279461279462, 0.786026936026936, 0.7290909090909091, 0.7725925925925926, 0.7792592592592592, 0.8293939393939395, 0.8292929292929294, 0.8126599326599327, 0.6790235690235691, 0.7891582491582492, 0.8091919191919192, 0.8225925925925925, 0.7458585858585858, 0.8127272727272729, 0.8327272727272729, 0.826026936026936, 0.8628619528619529, 0.8460942760942761]}, {\"categories\": [\"0\", \"1\", \"2\", \"3\", \"4\", \"5\", \"6\", \"7\", \"8\", \"9\", \"10\", \"11\", \"12\", \"13\", \"14\", \"15\", \"16\", \"17\", \"18\", \"19\", \"20\", \"21\", \"22\", \"23\", \"24\", \"25\", \"26\", \"27\", \"28\", \"29\", \"30\", \"31\", \"32\", \"36\", \"37\"], \"mode\": \"lines\", \"name\": \"accuracy_max\", \"stepped\": true, \"type\": \"scatter\", \"data\": [0.8025252525252524, 0.8192929292929293, 0.8192929292929293, 0.836026936026936, 0.836026936026936, 0.836026936026936, 0.836026936026936, 0.836026936026936, 0.836026936026936, 0.836026936026936, 0.836026936026936, 0.8494949494949496, 0.8494949494949496, 0.8494949494949496, 0.8494949494949496, 0.8494949494949496, 0.8494949494949496, 0.8494949494949496, 0.8494949494949496, 0.8494949494949496, 0.8494949494949496, 0.8494949494949496, 0.8494949494949496, 0.8494949494949496, 0.8494949494949496, 0.8494949494949496, 0.8494949494949496, 0.8494949494949496, 0.8494949494949496, 0.8494949494949496, 0.8494949494949496, 0.8494949494949496, 0.8494949494949496, 0.8628619528619529, 0.8628619528619529]}], \"precision_score_macro\": [{\"categories\": [\"0\", \"1\", \"2\", \"3\", \"4\", \"5\", \"6\", \"7\", \"8\", \"9\", \"10\", \"11\", \"12\", \"13\", \"14\", \"15\", \"16\", \"17\", \"18\", \"19\", \"20\", \"21\", \"22\", \"23\", \"24\", \"25\", \"26\", \"27\", \"28\", \"29\", \"30\", \"31\", \"32\", \"36\", \"37\"], \"mode\": \"markers\", \"name\": \"precision_score_macro\", \"stepped\": false, \"type\": \"scatter\", \"data\": [0.7842311567478019, 0.7983113869170717, 0.789361530820032, 0.8319787980758111, 0.8022206638616175, 0.7041705571117336, 0.6971447928765002, 0.8049075049394178, 0.816445047804697, 0.8007629431971538, 0.8195905170441439, 0.8461480307660126, 0.8530520506063984, 0.7871941050071077, 0.7801462862739242, 0.8263329245564077, 0.8151788949609059, 0.8381093544137022, 0.7733400256339714, 0.7657064411096669, 0.795726829320674, 0.7848174048174048, 0.8375365535294342, 0.8208550059882458, 0.8108510998082066, 0.33951178451178454, 0.7667320399475447, 0.7916978429265947, 0.8052007151145082, 0.8123587046400921, 0.7929277626766211, 0.8332318980253691, 0.815653416166476, 0.8635369260369261, 0.8400563003823874]}, {\"categories\": [\"0\", \"1\", \"2\", \"3\", \"4\", \"5\", \"6\", \"7\", \"8\", \"9\", \"10\", \"11\", \"12\", \"13\", \"14\", \"15\", \"16\", \"17\", \"18\", \"19\", \"20\", \"21\", \"22\", \"23\", \"24\", \"25\", \"26\", \"27\", \"28\", \"29\", \"30\", \"31\", \"32\", \"36\", \"37\"], \"mode\": \"lines\", \"name\": \"precision_score_macro_max\", \"stepped\": true, \"type\": \"scatter\", \"data\": [0.7842311567478019, 0.7983113869170717, 0.7983113869170717, 0.8319787980758111, 0.8319787980758111, 0.8319787980758111, 0.8319787980758111, 0.8319787980758111, 0.8319787980758111, 0.8319787980758111, 0.8319787980758111, 0.8461480307660126, 0.8530520506063984, 0.8530520506063984, 0.8530520506063984, 0.8530520506063984, 0.8530520506063984, 0.8530520506063984, 0.8530520506063984, 0.8530520506063984, 0.8530520506063984, 0.8530520506063984, 0.8530520506063984, 0.8530520506063984, 0.8530520506063984, 0.8530520506063984, 0.8530520506063984, 0.8530520506063984, 0.8530520506063984, 0.8530520506063984, 0.8530520506063984, 0.8530520506063984, 0.8530520506063984, 0.8635369260369261, 0.8635369260369261]}], \"precision_score_weighted\": [{\"categories\": [\"0\", \"1\", \"2\", \"3\", \"4\", \"5\", \"6\", \"7\", \"8\", \"9\", \"10\", \"11\", \"12\", \"13\", \"14\", \"15\", \"16\", \"17\", \"18\", \"19\", \"20\", \"21\", \"22\", \"23\", \"24\", \"25\", \"26\", \"27\", \"28\", \"29\", \"30\", \"31\", \"32\", \"36\", \"37\"], \"mode\": \"markers\", \"name\": \"precision_score_weighted\", \"stepped\": false, \"type\": \"scatter\", \"data\": [0.8103076903348296, 0.8235687391092353, 0.8202517266659087, 0.8429855491067851, 0.8247612179139061, 0.7202933254109724, 0.7176244833155403, 0.8291084681589395, 0.8302623890440656, 0.8038309035019561, 0.8338450279168937, 0.8534636657316573, 0.8472577775820529, 0.8050139666959505, 0.7996830790194634, 0.8357998063820848, 0.841010750856151, 0.8528040458541115, 0.7875736445632023, 0.7564448037028683, 0.7914391646990263, 0.7915818009151344, 0.8365109523919593, 0.8328345682821011, 0.8211757411513508, 0.46228299493248987, 0.8146548664987453, 0.8156360029274153, 0.8238416713416713, 0.7876947769974151, 0.8099584527920398, 0.8366047840498206, 0.8324710191687803, 0.8682143884921661, 0.8511829568713627]}, {\"categories\": [\"0\", \"1\", \"2\", \"3\", \"4\", \"5\", \"6\", \"7\", \"8\", \"9\", \"10\", \"11\", \"12\", \"13\", \"14\", \"15\", \"16\", \"17\", \"18\", \"19\", \"20\", \"21\", \"22\", \"23\", \"24\", \"25\", \"26\", \"27\", \"28\", \"29\", \"30\", \"31\", \"32\", \"36\", \"37\"], \"mode\": \"lines\", \"name\": \"precision_score_weighted_max\", \"stepped\": true, \"type\": \"scatter\", \"data\": [0.8103076903348296, 0.8235687391092353, 0.8235687391092353, 0.8429855491067851, 0.8429855491067851, 0.8429855491067851, 0.8429855491067851, 0.8429855491067851, 0.8429855491067851, 0.8429855491067851, 0.8429855491067851, 0.8534636657316573, 0.8534636657316573, 0.8534636657316573, 0.8534636657316573, 0.8534636657316573, 0.8534636657316573, 0.8534636657316573, 0.8534636657316573, 0.8534636657316573, 0.8534636657316573, 0.8534636657316573, 0.8534636657316573, 0.8534636657316573, 0.8534636657316573, 0.8534636657316573, 0.8534636657316573, 0.8534636657316573, 0.8534636657316573, 0.8534636657316573, 0.8534636657316573, 0.8534636657316573, 0.8534636657316573, 0.8682143884921661, 0.8682143884921661]}], \"AUC_micro\": [{\"categories\": [\"0\", \"1\", \"2\", \"3\", \"4\", \"5\", \"6\", \"7\", \"8\", \"9\", \"10\", \"11\", \"12\", \"13\", \"14\", \"15\", \"16\", \"17\", \"18\", \"19\", \"20\", \"21\", \"22\", \"23\", \"24\", \"25\", \"26\", \"27\", \"28\", \"29\", \"30\", \"31\", \"32\", \"36\", \"37\"], \"mode\": \"markers\", \"name\": \"AUC_micro\", \"stepped\": false, \"type\": \"scatter\", \"data\": [0.8769284528789579, 0.8907238819168114, 0.9016732850389415, 0.8936507839336123, 0.8957990103050708, 0.7930338791960004, 0.785993607795123, 0.9040313233343537, 0.8865985001530455, 0.8758233751657994, 0.8950416454103323, 0.906798326701357, 0.8896145699418426, 0.8621880114274054, 0.8817159269462299, 0.8785314933850289, 0.9063961296466347, 0.8885692276298336, 0.8704284494779445, 0.8532062850729517, 0.8643424956637077, 0.8677732884399552, 0.8886113559840833, 0.8970211747100635, 0.8892426623133693, 0.6880865081794374, 0.8549061252253171, 0.8701365744992007, 0.8858675339251096, 0.8635766724483896, 0.8766237084651226, 0.8712067884229501, 0.90250154406013, 0.8999717613848928, 0.8950128796381321]}, {\"categories\": [\"0\", \"1\", \"2\", \"3\", \"4\", \"5\", \"6\", \"7\", \"8\", \"9\", \"10\", \"11\", \"12\", \"13\", \"14\", \"15\", \"16\", \"17\", \"18\", \"19\", \"20\", \"21\", \"22\", \"23\", \"24\", \"25\", \"26\", \"27\", \"28\", \"29\", \"30\", \"31\", \"32\", \"36\", \"37\"], \"mode\": \"lines\", \"name\": \"AUC_micro_max\", \"stepped\": true, \"type\": \"scatter\", \"data\": [0.8769284528789579, 0.8907238819168114, 0.9016732850389415, 0.9016732850389415, 0.9016732850389415, 0.9016732850389415, 0.9016732850389415, 0.9040313233343537, 0.9040313233343537, 0.9040313233343537, 0.9040313233343537, 0.906798326701357, 0.906798326701357, 0.906798326701357, 0.906798326701357, 0.906798326701357, 0.906798326701357, 0.906798326701357, 0.906798326701357, 0.906798326701357, 0.906798326701357, 0.906798326701357, 0.906798326701357, 0.906798326701357, 0.906798326701357, 0.906798326701357, 0.906798326701357, 0.906798326701357, 0.906798326701357, 0.906798326701357, 0.906798326701357, 0.906798326701357, 0.906798326701357, 0.906798326701357, 0.906798326701357]}], \"recall_score_weighted\": [{\"categories\": [\"0\", \"1\", \"2\", \"3\", \"4\", \"5\", \"6\", \"7\", \"8\", \"9\", \"10\", \"11\", \"12\", \"13\", \"14\", \"15\", \"16\", \"17\", \"18\", \"19\", \"20\", \"21\", \"22\", \"23\", \"24\", \"25\", \"26\", \"27\", \"28\", \"29\", \"30\", \"31\", \"32\", \"36\", \"37\"], \"mode\": \"markers\", \"name\": \"recall_score_weighted\", \"stepped\": false, \"type\": \"scatter\", \"data\": [0.8025252525252524, 0.8192929292929293, 0.8127609427609427, 0.836026936026936, 0.8191582491582491, 0.7189898989898991, 0.729057239057239, 0.8226936026936027, 0.8293939393939395, 0.8025925925925925, 0.8327272727272729, 0.8494949494949496, 0.8395286195286196, 0.8026599326599326, 0.7959595959595959, 0.8293939393939395, 0.8293602693602694, 0.8461279461279462, 0.786026936026936, 0.7290909090909091, 0.7725925925925926, 0.7792592592592592, 0.8293939393939395, 0.8292929292929294, 0.8126599326599327, 0.6790235690235691, 0.7891582491582492, 0.8091919191919192, 0.8225925925925925, 0.7458585858585858, 0.8127272727272729, 0.8327272727272729, 0.826026936026936, 0.8628619528619529, 0.8460942760942761]}, {\"categories\": [\"0\", \"1\", \"2\", \"3\", \"4\", \"5\", \"6\", \"7\", \"8\", \"9\", \"10\", \"11\", \"12\", \"13\", \"14\", \"15\", \"16\", \"17\", \"18\", \"19\", \"20\", \"21\", \"22\", \"23\", \"24\", \"25\", \"26\", \"27\", \"28\", \"29\", \"30\", \"31\", \"32\", \"36\", \"37\"], \"mode\": \"lines\", \"name\": \"recall_score_weighted_max\", \"stepped\": true, \"type\": \"scatter\", \"data\": [0.8025252525252524, 0.8192929292929293, 0.8192929292929293, 0.836026936026936, 0.836026936026936, 0.836026936026936, 0.836026936026936, 0.836026936026936, 0.836026936026936, 0.836026936026936, 0.836026936026936, 0.8494949494949496, 0.8494949494949496, 0.8494949494949496, 0.8494949494949496, 0.8494949494949496, 0.8494949494949496, 0.8494949494949496, 0.8494949494949496, 0.8494949494949496, 0.8494949494949496, 0.8494949494949496, 0.8494949494949496, 0.8494949494949496, 0.8494949494949496, 0.8494949494949496, 0.8494949494949496, 0.8494949494949496, 0.8494949494949496, 0.8494949494949496, 0.8494949494949496, 0.8494949494949496, 0.8494949494949496, 0.8628619528619529, 0.8628619528619529]}], \"average_precision_score_macro\": [{\"categories\": [\"0\", \"1\", \"2\", \"3\", \"4\", \"5\", \"6\", \"7\", \"8\", \"9\", \"10\", \"11\", \"12\", \"13\", \"14\", \"15\", \"16\", \"17\", \"18\", \"19\", \"20\", \"21\", \"22\", \"23\", \"24\", \"25\", \"26\", \"27\", \"28\", \"29\", \"30\", \"31\", \"32\", \"36\", \"37\"], \"mode\": \"markers\", \"name\": \"average_precision_score_macro\", \"stepped\": false, \"type\": \"scatter\", \"data\": [0.8323265818260129, 0.8521645844042397, 0.8827905002437605, 0.8704538823837487, 0.8677346564022678, 0.721112258807031, 0.7054033125582921, 0.8754732978484457, 0.8505468707843259, 0.8382720336141182, 0.8575204048886892, 0.8789046989788764, 0.8608858833433938, 0.812148279236013, 0.8435382285712448, 0.8409974690442054, 0.8787552364111756, 0.8512602837858495, 0.8255708758665872, 0.8476859477843592, 0.8465708017950281, 0.8351050242254466, 0.8646685134088514, 0.8589512923573883, 0.8568638975868582, 0.5145661618885103, 0.8398311350116415, 0.835486301017097, 0.843576012822171, 0.8704995249141083, 0.8441826423063761, 0.8191373807610473, 0.8806800682137612, 0.8694571759007962, 0.8769448868883515]}, {\"categories\": [\"0\", \"1\", \"2\", \"3\", \"4\", \"5\", \"6\", \"7\", \"8\", \"9\", \"10\", \"11\", \"12\", \"13\", \"14\", \"15\", \"16\", \"17\", \"18\", \"19\", \"20\", \"21\", \"22\", \"23\", \"24\", \"25\", \"26\", \"27\", \"28\", \"29\", \"30\", \"31\", \"32\", \"36\", \"37\"], \"mode\": \"lines\", \"name\": \"average_precision_score_macro_max\", \"stepped\": true, \"type\": \"scatter\", \"data\": [0.8323265818260129, 0.8521645844042397, 0.8827905002437605, 0.8827905002437605, 0.8827905002437605, 0.8827905002437605, 0.8827905002437605, 0.8827905002437605, 0.8827905002437605, 0.8827905002437605, 0.8827905002437605, 0.8827905002437605, 0.8827905002437605, 0.8827905002437605, 0.8827905002437605, 0.8827905002437605, 0.8827905002437605, 0.8827905002437605, 0.8827905002437605, 0.8827905002437605, 0.8827905002437605, 0.8827905002437605, 0.8827905002437605, 0.8827905002437605, 0.8827905002437605, 0.8827905002437605, 0.8827905002437605, 0.8827905002437605, 0.8827905002437605, 0.8827905002437605, 0.8827905002437605, 0.8827905002437605, 0.8827905002437605, 0.8827905002437605, 0.8827905002437605]}], \"f1_score_micro\": [{\"categories\": [\"0\", \"1\", \"2\", \"3\", \"4\", \"5\", \"6\", \"7\", \"8\", \"9\", \"10\", \"11\", \"12\", \"13\", \"14\", \"15\", \"16\", \"17\", \"18\", \"19\", \"20\", \"21\", \"22\", \"23\", \"24\", \"25\", \"26\", \"27\", \"28\", \"29\", \"30\", \"31\", \"32\", \"36\", \"37\"], \"mode\": \"markers\", \"name\": \"f1_score_micro\", \"stepped\": false, \"type\": \"scatter\", \"data\": [0.8025252525252525, 0.8192929292929293, 0.8127609427609427, 0.836026936026936, 0.8191582491582491, 0.7189898989898991, 0.7290572390572391, 0.8226936026936027, 0.8293939393939395, 0.8025925925925925, 0.8327272727272729, 0.8494949494949496, 0.8395286195286196, 0.8026599326599326, 0.7959595959595959, 0.8293939393939395, 0.8293602693602694, 0.8461279461279462, 0.786026936026936, 0.7290909090909091, 0.7725925925925926, 0.7792592592592592, 0.8293939393939395, 0.8292929292929294, 0.8126599326599325, 0.6790235690235691, 0.7891582491582492, 0.8091919191919192, 0.8225925925925925, 0.7458585858585858, 0.8127272727272729, 0.8327272727272729, 0.826026936026936, 0.8628619528619529, 0.8460942760942761]}, {\"categories\": [\"0\", \"1\", \"2\", \"3\", \"4\", \"5\", \"6\", \"7\", \"8\", \"9\", \"10\", \"11\", \"12\", \"13\", \"14\", \"15\", \"16\", \"17\", \"18\", \"19\", \"20\", \"21\", \"22\", \"23\", \"24\", \"25\", \"26\", \"27\", \"28\", \"29\", \"30\", \"31\", \"32\", \"36\", \"37\"], \"mode\": \"lines\", \"name\": \"f1_score_micro_max\", \"stepped\": true, \"type\": \"scatter\", \"data\": [0.8025252525252525, 0.8192929292929293, 0.8192929292929293, 0.836026936026936, 0.836026936026936, 0.836026936026936, 0.836026936026936, 0.836026936026936, 0.836026936026936, 0.836026936026936, 0.836026936026936, 0.8494949494949496, 0.8494949494949496, 0.8494949494949496, 0.8494949494949496, 0.8494949494949496, 0.8494949494949496, 0.8494949494949496, 0.8494949494949496, 0.8494949494949496, 0.8494949494949496, 0.8494949494949496, 0.8494949494949496, 0.8494949494949496, 0.8494949494949496, 0.8494949494949496, 0.8494949494949496, 0.8494949494949496, 0.8494949494949496, 0.8494949494949496, 0.8494949494949496, 0.8494949494949496, 0.8494949494949496, 0.8628619528619529, 0.8628619528619529]}], \"precision_score_micro\": [{\"categories\": [\"0\", \"1\", \"2\", \"3\", \"4\", \"5\", \"6\", \"7\", \"8\", \"9\", \"10\", \"11\", \"12\", \"13\", \"14\", \"15\", \"16\", \"17\", \"18\", \"19\", \"20\", \"21\", \"22\", \"23\", \"24\", \"25\", \"26\", \"27\", \"28\", \"29\", \"30\", \"31\", \"32\", \"36\", \"37\"], \"mode\": \"markers\", \"name\": \"precision_score_micro\", \"stepped\": false, \"type\": \"scatter\", \"data\": [0.8025252525252524, 0.8192929292929293, 0.8127609427609427, 0.836026936026936, 0.8191582491582491, 0.7189898989898991, 0.729057239057239, 0.8226936026936027, 0.8293939393939395, 0.8025925925925925, 0.8327272727272729, 0.8494949494949496, 0.8395286195286196, 0.8026599326599326, 0.7959595959595959, 0.8293939393939395, 0.8293602693602694, 0.8461279461279462, 0.786026936026936, 0.7290909090909091, 0.7725925925925926, 0.7792592592592592, 0.8293939393939395, 0.8292929292929294, 0.8126599326599327, 0.6790235690235691, 0.7891582491582492, 0.8091919191919192, 0.8225925925925925, 0.7458585858585858, 0.8127272727272729, 0.8327272727272729, 0.826026936026936, 0.8628619528619529, 0.8460942760942761]}, {\"categories\": [\"0\", \"1\", \"2\", \"3\", \"4\", \"5\", \"6\", \"7\", \"8\", \"9\", \"10\", \"11\", \"12\", \"13\", \"14\", \"15\", \"16\", \"17\", \"18\", \"19\", \"20\", \"21\", \"22\", \"23\", \"24\", \"25\", \"26\", \"27\", \"28\", \"29\", \"30\", \"31\", \"32\", \"36\", \"37\"], \"mode\": \"lines\", \"name\": \"precision_score_micro_max\", \"stepped\": true, \"type\": \"scatter\", \"data\": [0.8025252525252524, 0.8192929292929293, 0.8192929292929293, 0.836026936026936, 0.836026936026936, 0.836026936026936, 0.836026936026936, 0.836026936026936, 0.836026936026936, 0.836026936026936, 0.836026936026936, 0.8494949494949496, 0.8494949494949496, 0.8494949494949496, 0.8494949494949496, 0.8494949494949496, 0.8494949494949496, 0.8494949494949496, 0.8494949494949496, 0.8494949494949496, 0.8494949494949496, 0.8494949494949496, 0.8494949494949496, 0.8494949494949496, 0.8494949494949496, 0.8494949494949496, 0.8494949494949496, 0.8494949494949496, 0.8494949494949496, 0.8494949494949496, 0.8494949494949496, 0.8494949494949496, 0.8494949494949496, 0.8628619528619529, 0.8628619528619529]}], \"average_precision_score_weighted\": [{\"categories\": [\"0\", \"1\", \"2\", \"3\", \"4\", \"5\", \"6\", \"7\", \"8\", \"9\", \"10\", \"11\", \"12\", \"13\", \"14\", \"15\", \"16\", \"17\", \"18\", \"19\", \"20\", \"21\", \"22\", \"23\", \"24\", \"25\", \"26\", \"27\", \"28\", \"29\", \"30\", \"31\", \"32\", \"36\", \"37\"], \"mode\": \"markers\", \"name\": \"average_precision_score_weighted\", \"stepped\": false, \"type\": \"scatter\", \"data\": [0.8648843990393956, 0.8836277505100775, 0.9062739647185322, 0.8898580083926322, 0.8948377307297743, 0.768992747401164, 0.7540230090255354, 0.8999768740205413, 0.8814167072739009, 0.870580446723077, 0.8868679666018128, 0.9022189982006809, 0.8855391228985333, 0.8440446723791495, 0.8735011642783362, 0.8707379505592444, 0.9045886033871198, 0.8806970143667671, 0.8586019351230716, 0.8748417403663852, 0.8790163401889908, 0.8676964869159459, 0.8885234015956053, 0.8905771247229389, 0.8863439156336567, 0.5781009989125909, 0.8697716605144064, 0.8646052647339645, 0.8714485108487525, 0.893554244303694, 0.8692726829311764, 0.8439671111711364, 0.9053366189706598, 0.8962645546643593, 0.9009452143613176]}, {\"categories\": [\"0\", \"1\", \"2\", \"3\", \"4\", \"5\", \"6\", \"7\", \"8\", \"9\", \"10\", \"11\", \"12\", \"13\", \"14\", \"15\", \"16\", \"17\", \"18\", \"19\", \"20\", \"21\", \"22\", \"23\", \"24\", \"25\", \"26\", \"27\", \"28\", \"29\", \"30\", \"31\", \"32\", \"36\", \"37\"], \"mode\": \"lines\", \"name\": \"average_precision_score_weighted_max\", \"stepped\": true, \"type\": \"scatter\", \"data\": [0.8648843990393956, 0.8836277505100775, 0.9062739647185322, 0.9062739647185322, 0.9062739647185322, 0.9062739647185322, 0.9062739647185322, 0.9062739647185322, 0.9062739647185322, 0.9062739647185322, 0.9062739647185322, 0.9062739647185322, 0.9062739647185322, 0.9062739647185322, 0.9062739647185322, 0.9062739647185322, 0.9062739647185322, 0.9062739647185322, 0.9062739647185322, 0.9062739647185322, 0.9062739647185322, 0.9062739647185322, 0.9062739647185322, 0.9062739647185322, 0.9062739647185322, 0.9062739647185322, 0.9062739647185322, 0.9062739647185322, 0.9062739647185322, 0.9062739647185322, 0.9062739647185322, 0.9062739647185322, 0.9062739647185322, 0.9062739647185322, 0.9062739647185322]}], \"recall_score_micro\": [{\"categories\": [\"0\", \"1\", \"2\", \"3\", \"4\", \"5\", \"6\", \"7\", \"8\", \"9\", \"10\", \"11\", \"12\", \"13\", \"14\", \"15\", \"16\", \"17\", \"18\", \"19\", \"20\", \"21\", \"22\", \"23\", \"24\", \"25\", \"26\", \"27\", \"28\", \"29\", \"30\", \"31\", \"32\", \"36\", \"37\"], \"mode\": \"markers\", \"name\": \"recall_score_micro\", \"stepped\": false, \"type\": \"scatter\", \"data\": [0.8025252525252524, 0.8192929292929293, 0.8127609427609427, 0.836026936026936, 0.8191582491582491, 0.7189898989898991, 0.729057239057239, 0.8226936026936027, 0.8293939393939395, 0.8025925925925925, 0.8327272727272729, 0.8494949494949496, 0.8395286195286196, 0.8026599326599326, 0.7959595959595959, 0.8293939393939395, 0.8293602693602694, 0.8461279461279462, 0.786026936026936, 0.7290909090909091, 0.7725925925925926, 0.7792592592592592, 0.8293939393939395, 0.8292929292929294, 0.8126599326599327, 0.6790235690235691, 0.7891582491582492, 0.8091919191919192, 0.8225925925925925, 0.7458585858585858, 0.8127272727272729, 0.8327272727272729, 0.826026936026936, 0.8628619528619529, 0.8460942760942761]}, {\"categories\": [\"0\", \"1\", \"2\", \"3\", \"4\", \"5\", \"6\", \"7\", \"8\", \"9\", \"10\", \"11\", \"12\", \"13\", \"14\", \"15\", \"16\", \"17\", \"18\", \"19\", \"20\", \"21\", \"22\", \"23\", \"24\", \"25\", \"26\", \"27\", \"28\", \"29\", \"30\", \"31\", \"32\", \"36\", \"37\"], \"mode\": \"lines\", \"name\": \"recall_score_micro_max\", \"stepped\": true, \"type\": \"scatter\", \"data\": [0.8025252525252524, 0.8192929292929293, 0.8192929292929293, 0.836026936026936, 0.836026936026936, 0.836026936026936, 0.836026936026936, 0.836026936026936, 0.836026936026936, 0.836026936026936, 0.836026936026936, 0.8494949494949496, 0.8494949494949496, 0.8494949494949496, 0.8494949494949496, 0.8494949494949496, 0.8494949494949496, 0.8494949494949496, 0.8494949494949496, 0.8494949494949496, 0.8494949494949496, 0.8494949494949496, 0.8494949494949496, 0.8494949494949496, 0.8494949494949496, 0.8494949494949496, 0.8494949494949496, 0.8494949494949496, 0.8494949494949496, 0.8494949494949496, 0.8494949494949496, 0.8494949494949496, 0.8494949494949496, 0.8628619528619529, 0.8628619528619529]}]}, \"metricName\": null, \"primaryMetricName\": \"accuracy\", \"showLegend\": false}, \"run_metrics\": [{\"name\": \"experiment_status\", \"run_id\": \"AutoML_ca508edf-88f5-40cc-b1d0-b10738ed89fb\", \"categories\": [0, 1, 2, 3, 4, 5], \"series\": [{\"data\": [\"DatasetEvaluation\", \"FeaturesGeneration\", \"DatasetFeaturization\", \"DatasetFeaturizationCompleted\", \"DatasetCrossValidationSplit\", \"ModelSelection\"]}]}, {\"name\": \"experiment_status_description\", \"run_id\": \"AutoML_ca508edf-88f5-40cc-b1d0-b10738ed89fb\", \"categories\": [0, 1, 2, 3, 4, 5], \"series\": [{\"data\": [\"Gathering dataset statistics.\", \"Generating features for the dataset.\", \"Beginning to fit featurizers and featurize the dataset.\", \"Completed fit featurizers and featurizing the dataset.\", \"Generating individually featurized CV splits.\", \"Beginning model selection.\"]}]}, {\"name\": \"balanced_accuracy\", \"run_id\": \"AutoML_ca508edf-88f5-40cc-b1d0-b10738ed89fb\", \"categories\": [0], \"series\": [{\"data\": [0.822949057431816]}]}, {\"name\": \"precision_score_weighted\", \"run_id\": \"AutoML_ca508edf-88f5-40cc-b1d0-b10738ed89fb\", \"categories\": [0], \"series\": [{\"data\": [0.8682143884921661]}]}, {\"name\": \"AUC_micro\", \"run_id\": \"AutoML_ca508edf-88f5-40cc-b1d0-b10738ed89fb\", \"categories\": [0], \"series\": [{\"data\": [0.8999717613848928]}]}, {\"name\": \"precision_score_macro\", \"run_id\": \"AutoML_ca508edf-88f5-40cc-b1d0-b10738ed89fb\", \"categories\": [0], \"series\": [{\"data\": [0.8635369260369261]}]}, {\"name\": \"weighted_accuracy\", \"run_id\": \"AutoML_ca508edf-88f5-40cc-b1d0-b10738ed89fb\", \"categories\": [0], \"series\": [{\"data\": [0.8943077429194449]}]}, {\"name\": \"recall_score_micro\", \"run_id\": \"AutoML_ca508edf-88f5-40cc-b1d0-b10738ed89fb\", \"categories\": [0], \"series\": [{\"data\": [0.8628619528619529]}]}, {\"name\": \"accuracy\", \"run_id\": \"AutoML_ca508edf-88f5-40cc-b1d0-b10738ed89fb\", \"categories\": [0], \"series\": [{\"data\": [0.8628619528619529]}]}, {\"name\": \"f1_score_weighted\", \"run_id\": \"AutoML_ca508edf-88f5-40cc-b1d0-b10738ed89fb\", \"categories\": [0], \"series\": [{\"data\": [0.8573981302795405]}]}, {\"name\": \"f1_score_macro\", \"run_id\": \"AutoML_ca508edf-88f5-40cc-b1d0-b10738ed89fb\", \"categories\": [0], \"series\": [{\"data\": [0.833392286116287]}]}, {\"name\": \"log_loss\", \"run_id\": \"AutoML_ca508edf-88f5-40cc-b1d0-b10738ed89fb\", \"categories\": [0], \"series\": [{\"data\": [0.409238819908503]}]}, {\"name\": \"AUC_macro\", \"run_id\": \"AutoML_ca508edf-88f5-40cc-b1d0-b10738ed89fb\", \"categories\": [0], \"series\": [{\"data\": [0.8891970788522512]}]}, {\"name\": \"average_precision_score_weighted\", \"run_id\": \"AutoML_ca508edf-88f5-40cc-b1d0-b10738ed89fb\", \"categories\": [0], \"series\": [{\"data\": [0.8962645546643593]}]}, {\"name\": \"norm_macro_recall\", \"run_id\": \"AutoML_ca508edf-88f5-40cc-b1d0-b10738ed89fb\", \"categories\": [0], \"series\": [{\"data\": [0.6458981148636321]}]}, {\"name\": \"recall_score_weighted\", \"run_id\": \"AutoML_ca508edf-88f5-40cc-b1d0-b10738ed89fb\", \"categories\": [0], \"series\": [{\"data\": [0.8628619528619529]}]}, {\"name\": \"average_precision_score_micro\", \"run_id\": \"AutoML_ca508edf-88f5-40cc-b1d0-b10738ed89fb\", \"categories\": [0], \"series\": [{\"data\": [0.8994529479805532]}]}, {\"name\": \"average_precision_score_macro\", \"run_id\": \"AutoML_ca508edf-88f5-40cc-b1d0-b10738ed89fb\", \"categories\": [0], \"series\": [{\"data\": [0.8694571759007962]}]}, {\"name\": \"recall_score_macro\", \"run_id\": \"AutoML_ca508edf-88f5-40cc-b1d0-b10738ed89fb\", \"categories\": [0], \"series\": [{\"data\": [0.822949057431816]}]}, {\"name\": \"f1_score_micro\", \"run_id\": \"AutoML_ca508edf-88f5-40cc-b1d0-b10738ed89fb\", \"categories\": [0], \"series\": [{\"data\": [0.8628619528619529]}]}, {\"name\": \"AUC_weighted\", \"run_id\": \"AutoML_ca508edf-88f5-40cc-b1d0-b10738ed89fb\", \"categories\": [0], \"series\": [{\"data\": [0.8891970788522513]}]}, {\"name\": \"matthews_correlation\", \"run_id\": \"AutoML_ca508edf-88f5-40cc-b1d0-b10738ed89fb\", \"categories\": [0], \"series\": [{\"data\": [0.6840563395664755]}]}, {\"name\": \"precision_score_micro\", \"run_id\": \"AutoML_ca508edf-88f5-40cc-b1d0-b10738ed89fb\", \"categories\": [0], \"series\": [{\"data\": [0.8628619528619529]}]}], \"run_logs\": \"\\nRun is completed.\", \"graph\": {}, \"widget_settings\": {\"childWidgetDisplay\": \"popup\", \"send_telemetry\": false, \"log_level\": \"INFO\", \"sdk_version\": \"1.20.0\"}, \"loading\": false}"
     },
     "metadata": {},
     "output_type": "display_data"
    }
   ],
   "source": [
    "RunDetails(remote_run).show()"
   ]
  },
  {
   "cell_type": "code",
   "execution_count": 11,
   "metadata": {
    "gather": {
     "logged": 1598431121770
    },
    "jupyter": {
     "outputs_hidden": false,
     "source_hidden": false
    },
    "nteract": {
     "transient": {
      "deleting": false
     }
    }
   },
   "outputs": [
    {
     "name": "stdout",
     "output_type": "stream",
     "text": [
      "\n",
      "\n",
      "****************************************************************************************************\n",
      "DATA GUARDRAILS: \n",
      "\n",
      "TYPE:         Class balancing detection\n",
      "STATUS:       PASSED\n",
      "DESCRIPTION:  Your inputs were analyzed, and all classes are balanced in your training data.\n",
      "              Learn more about imbalanced data: https://aka.ms/AutomatedMLImbalancedData\n",
      "\n",
      "****************************************************************************************************\n",
      "\n",
      "TYPE:         Missing feature values imputation\n",
      "STATUS:       PASSED\n",
      "DESCRIPTION:  No feature missing values were detected in the training data.\n",
      "              Learn more about missing value imputation: https://aka.ms/AutomatedMLFeaturization\n",
      "\n",
      "****************************************************************************************************\n",
      "\n",
      "TYPE:         High cardinality feature detection\n",
      "STATUS:       PASSED\n",
      "DESCRIPTION:  Your inputs were analyzed, and no high cardinality features were detected.\n",
      "              Learn more about high cardinality feature handling: https://aka.ms/AutomatedMLFeaturization\n",
      "\n",
      "****************************************************************************************************\n",
      "\n",
      "****************************************************************************************************\n",
      "ITERATION: The iteration being evaluated.\n",
      "PIPELINE: A summary description of the pipeline being evaluated.\n",
      "DURATION: Time taken for the current iteration.\n",
      "METRIC: The result of computing score on the fitted pipeline.\n",
      "BEST: The best observed score thus far.\n",
      "****************************************************************************************************\n",
      "\n",
      " ITERATION   PIPELINE                                       DURATION      METRIC      BEST\n",
      "         0   MaxAbsScaler LightGBM                          0:00:50       0.8025    0.8025\n",
      "         1   MaxAbsScaler XGBoostClassifier                 0:03:22       0.8193    0.8193\n",
      "         2   MinMaxScaler RandomForest                      0:00:51       0.8128    0.8193\n",
      "         3   MinMaxScaler RandomForest                      0:00:43       0.8360    0.8360\n",
      "         4   MinMaxScaler RandomForest                      0:03:35       0.8192    0.8360\n",
      "         5   MinMaxScaler SVM                               0:03:26       0.7190    0.8360\n",
      "         6   MinMaxScaler SVM                               0:00:49       0.7291    0.8360\n",
      "         7   MaxAbsScaler GradientBoosting                  0:00:45       0.8227    0.8360\n",
      "        10   MinMaxScaler LightGBM                          0:00:49       0.8327    0.8360\n",
      "        11   RobustScaler GradientBoosting                  0:00:45       0.8495    0.8495\n",
      "         8   SparseNormalizer XGBoostClassifier             0:00:48       0.8294    0.8495\n",
      "         9   MaxAbsScaler LightGBM                          0:00:43       0.8026    0.8495\n",
      "        12   RobustScaler ExtremeRandomTrees                0:00:51       0.8395    0.8495\n",
      "        13   SparseNormalizer XGBoostClassifier             0:00:44       0.8027    0.8495\n",
      "        14   SparseNormalizer XGBoostClassifier             0:00:52       0.7960    0.8495\n",
      "        15   SparseNormalizer XGBoostClassifier             0:00:45       0.8294    0.8495\n",
      "        16   StandardScalerWrapper RandomForest             0:00:42       0.8294    0.8495\n",
      "        17   SparseNormalizer XGBoostClassifier             0:00:42       0.8461    0.8495\n",
      "        18   SparseNormalizer XGBoostClassifier             0:00:46       0.7860    0.8495\n",
      "        19   StandardScalerWrapper ExtremeRandomTrees       0:00:52       0.7291    0.8495\n",
      "        20   RobustScaler LightGBM                          0:00:55       0.7726    0.8495\n",
      "        21   MaxAbsScaler LightGBM                          0:00:56       0.7793    0.8495\n",
      "        22   StandardScalerWrapper ExtremeRandomTrees       0:00:44       0.8294    0.8495\n",
      "        23   StandardScalerWrapper LightGBM                 0:00:46       0.8293    0.8495\n",
      "        24   StandardScalerWrapper XGBoostClassifier        0:00:43       0.8127    0.8495\n",
      "        25   PCA GradientBoosting                           0:00:48       0.6790    0.8495\n",
      "        26   StandardScalerWrapper LogisticRegression       0:00:42       0.7892    0.8495\n",
      "        27   MaxAbsScaler LogisticRegression                0:00:53       0.8092    0.8495\n",
      "        28   MaxAbsScaler LightGBM                          0:00:43       0.8226    0.8495\n",
      "        29   MinMaxScaler GradientBoosting                  0:00:54       0.7459    0.8495\n",
      "        30   SparseNormalizer LightGBM                      0:00:46       0.8127    0.8495\n",
      "        31   StandardScalerWrapper XGBoostClassifier        0:00:42       0.8327    0.8495\n",
      "        32   RobustScaler RandomForest                      0:00:45       0.8260    0.8495\n",
      "        33   SparseNormalizer ExtremeRandomTrees            0:00:22          nan    0.8495\n",
      "        34                                                  0:00:10          nan    0.8495\n",
      "        35                                                  0:00:18          nan    0.8495\n",
      "        36    VotingEnsemble                                0:01:14       0.8629    0.8629\n",
      "        37    StackEnsemble                                 0:01:15       0.8461    0.8629\n"
     ]
    },
    {
     "data": {
      "text/plain": [
       "{'runId': 'AutoML_ca508edf-88f5-40cc-b1d0-b10738ed89fb',\n",
       " 'target': 'heart-compute',\n",
       " 'status': 'Completed',\n",
       " 'startTimeUtc': '2021-01-28T15:39:03.334334Z',\n",
       " 'endTimeUtc': '2021-01-28T16:01:52.051273Z',\n",
       " 'properties': {'num_iterations': '40',\n",
       "  'training_type': 'TrainFull',\n",
       "  'acquisition_function': 'EI',\n",
       "  'primary_metric': 'accuracy',\n",
       "  'train_split': '0',\n",
       "  'acquisition_parameter': '0',\n",
       "  'num_cross_validation': '3',\n",
       "  'target': 'heart-compute',\n",
       "  'AMLSettingsJsonString': '{\"path\":null,\"name\":\"automl-heart-experiment\",\"subscription_id\":\"3e42d11f-d64d-4173-af9b-12ecaa1030b3\",\"resource_group\":\"aml-quickstarts-136394\",\"workspace_name\":\"quick-starts-ws-136394\",\"region\":\"southcentralus\",\"compute_target\":\"heart-compute\",\"spark_service\":null,\"azure_service\":\"remote\",\"many_models\":false,\"pipeline_fetch_max_batch_size\":1,\"iterations\":40,\"primary_metric\":\"accuracy\",\"task_type\":\"classification\",\"data_script\":null,\"validation_size\":0.0,\"n_cross_validations\":3,\"y_min\":null,\"y_max\":null,\"num_classes\":null,\"featurization\":\"auto\",\"_ignore_package_version_incompatibilities\":false,\"is_timeseries\":false,\"max_cores_per_iteration\":1,\"max_concurrent_iterations\":4,\"iteration_timeout_minutes\":null,\"mem_in_mb\":null,\"enforce_time_on_windows\":false,\"experiment_timeout_minutes\":15,\"experiment_exit_score\":null,\"whitelist_models\":null,\"blacklist_algos\":[\"TensorFlowLinearClassifier\",\"TensorFlowDNN\"],\"supported_models\":[\"KNN\",\"AveragedPerceptronClassifier\",\"DecisionTree\",\"GradientBoosting\",\"SGD\",\"TensorFlowDNN\",\"SVM\",\"XGBoostClassifier\",\"RandomForest\",\"LogisticRegression\",\"MultinomialNaiveBayes\",\"BernoulliNaiveBayes\",\"LinearSVM\",\"LightGBM\",\"TensorFlowLinearClassifier\",\"ExtremeRandomTrees\"],\"auto_blacklist\":true,\"blacklist_samples_reached\":false,\"exclude_nan_labels\":true,\"verbosity\":20,\"_debug_log\":\"azureml_automl.log\",\"show_warnings\":false,\"model_explainability\":true,\"service_url\":null,\"sdk_url\":null,\"sdk_packages\":null,\"enable_onnx_compatible_models\":false,\"enable_split_onnx_featurizer_estimator_models\":false,\"vm_type\":\"STANDARD_D2_V2\",\"telemetry_verbosity\":20,\"send_telemetry\":true,\"enable_dnn\":false,\"scenario\":\"SDK-1.13.0\",\"environment_label\":null,\"force_text_dnn\":false,\"enable_feature_sweeping\":true,\"enable_early_stopping\":true,\"early_stopping_n_iters\":10,\"metrics\":null,\"enable_ensembling\":true,\"enable_stack_ensembling\":true,\"ensemble_iterations\":15,\"enable_tf\":false,\"enable_subsampling\":false,\"subsample_seed\":null,\"enable_nimbusml\":false,\"enable_streaming\":false,\"force_streaming\":false,\"track_child_runs\":true,\"allowed_private_models\":[],\"label_column_name\":\"DEATH_EVENT\",\"weight_column_name\":null,\"cv_split_column_names\":null,\"enable_local_managed\":false,\"_local_managed_run_id\":null,\"cost_mode\":1,\"lag_length\":0,\"metric_operation\":\"maximize\",\"preprocess\":true}',\n",
       "  'DataPrepJsonString': '{\\\\\"training_data\\\\\": \\\\\"{\\\\\\\\\\\\\"blocks\\\\\\\\\\\\\": [{\\\\\\\\\\\\\"id\\\\\\\\\\\\\": \\\\\\\\\\\\\"62c862ac-e6b5-4859-a60a-1873e230b294\\\\\\\\\\\\\", \\\\\\\\\\\\\"type\\\\\\\\\\\\\": \\\\\\\\\\\\\"Microsoft.DPrep.GetDatastoreFilesBlock\\\\\\\\\\\\\", \\\\\\\\\\\\\"arguments\\\\\\\\\\\\\": {\\\\\\\\\\\\\"datastores\\\\\\\\\\\\\": [{\\\\\\\\\\\\\"datastoreName\\\\\\\\\\\\\": \\\\\\\\\\\\\"workspaceblobstore\\\\\\\\\\\\\", \\\\\\\\\\\\\"path\\\\\\\\\\\\\": \\\\\\\\\\\\\"UI/01-28-2021_031953_UTC/heart_failure_clinical_records_dataset.csv\\\\\\\\\\\\\", \\\\\\\\\\\\\"resourceGroup\\\\\\\\\\\\\": \\\\\\\\\\\\\"aml-quickstarts-136394\\\\\\\\\\\\\", \\\\\\\\\\\\\"subscription\\\\\\\\\\\\\": \\\\\\\\\\\\\"3e42d11f-d64d-4173-af9b-12ecaa1030b3\\\\\\\\\\\\\", \\\\\\\\\\\\\"workspaceName\\\\\\\\\\\\\": \\\\\\\\\\\\\"quick-starts-ws-136394\\\\\\\\\\\\\"}]}, \\\\\\\\\\\\\"localData\\\\\\\\\\\\\": {}, \\\\\\\\\\\\\"isEnabled\\\\\\\\\\\\\": true, \\\\\\\\\\\\\"name\\\\\\\\\\\\\": null, \\\\\\\\\\\\\"annotation\\\\\\\\\\\\\": null}, {\\\\\\\\\\\\\"id\\\\\\\\\\\\\": \\\\\\\\\\\\\"3d2f5b75-70d1-418d-8d7b-2e5557d2fbec\\\\\\\\\\\\\", \\\\\\\\\\\\\"type\\\\\\\\\\\\\": \\\\\\\\\\\\\"Microsoft.DPrep.ParseDelimitedBlock\\\\\\\\\\\\\", \\\\\\\\\\\\\"arguments\\\\\\\\\\\\\": {\\\\\\\\\\\\\"columnHeadersMode\\\\\\\\\\\\\": 1, \\\\\\\\\\\\\"fileEncoding\\\\\\\\\\\\\": 0, \\\\\\\\\\\\\"handleQuotedLineBreaks\\\\\\\\\\\\\": false, \\\\\\\\\\\\\"preview\\\\\\\\\\\\\": false, \\\\\\\\\\\\\"separator\\\\\\\\\\\\\": \\\\\\\\\\\\\",\\\\\\\\\\\\\", \\\\\\\\\\\\\"skipRows\\\\\\\\\\\\\": 0, \\\\\\\\\\\\\"skipRowsMode\\\\\\\\\\\\\": 0}, \\\\\\\\\\\\\"localData\\\\\\\\\\\\\": {}, \\\\\\\\\\\\\"isEnabled\\\\\\\\\\\\\": true, \\\\\\\\\\\\\"name\\\\\\\\\\\\\": null, \\\\\\\\\\\\\"annotation\\\\\\\\\\\\\": null}, {\\\\\\\\\\\\\"id\\\\\\\\\\\\\": \\\\\\\\\\\\\"6bb7c0e6-37ce-450b-8428-1aaa75e4c1e2\\\\\\\\\\\\\", \\\\\\\\\\\\\"type\\\\\\\\\\\\\": \\\\\\\\\\\\\"Microsoft.DPrep.DropColumnsBlock\\\\\\\\\\\\\", \\\\\\\\\\\\\"arguments\\\\\\\\\\\\\": {\\\\\\\\\\\\\"columns\\\\\\\\\\\\\": {\\\\\\\\\\\\\"type\\\\\\\\\\\\\": 0, \\\\\\\\\\\\\"details\\\\\\\\\\\\\": {\\\\\\\\\\\\\"selectedColumns\\\\\\\\\\\\\": [\\\\\\\\\\\\\"Path\\\\\\\\\\\\\"]}}}, \\\\\\\\\\\\\"localData\\\\\\\\\\\\\": {}, \\\\\\\\\\\\\"isEnabled\\\\\\\\\\\\\": true, \\\\\\\\\\\\\"name\\\\\\\\\\\\\": null, \\\\\\\\\\\\\"annotation\\\\\\\\\\\\\": null}, {\\\\\\\\\\\\\"id\\\\\\\\\\\\\": \\\\\\\\\\\\\"d41c124a-c006-468e-9bec-ea5c38c7a96a\\\\\\\\\\\\\", \\\\\\\\\\\\\"type\\\\\\\\\\\\\": \\\\\\\\\\\\\"Microsoft.DPrep.SetColumnTypesBlock\\\\\\\\\\\\\", \\\\\\\\\\\\\"arguments\\\\\\\\\\\\\": {\\\\\\\\\\\\\"columnConversion\\\\\\\\\\\\\": [{\\\\\\\\\\\\\"column\\\\\\\\\\\\\": {\\\\\\\\\\\\\"type\\\\\\\\\\\\\": 2, \\\\\\\\\\\\\"details\\\\\\\\\\\\\": {\\\\\\\\\\\\\"selectedColumn\\\\\\\\\\\\\": \\\\\\\\\\\\\"Path\\\\\\\\\\\\\"}}, \\\\\\\\\\\\\"typeProperty\\\\\\\\\\\\\": 0}, {\\\\\\\\\\\\\"column\\\\\\\\\\\\\": {\\\\\\\\\\\\\"type\\\\\\\\\\\\\": 2, \\\\\\\\\\\\\"details\\\\\\\\\\\\\": {\\\\\\\\\\\\\"selectedColumn\\\\\\\\\\\\\": \\\\\\\\\\\\\"age\\\\\\\\\\\\\"}}, \\\\\\\\\\\\\"typeProperty\\\\\\\\\\\\\": 3}, {\\\\\\\\\\\\\"column\\\\\\\\\\\\\": {\\\\\\\\\\\\\"type\\\\\\\\\\\\\": 2, \\\\\\\\\\\\\"details\\\\\\\\\\\\\": {\\\\\\\\\\\\\"selectedColumn\\\\\\\\\\\\\": \\\\\\\\\\\\\"anaemia\\\\\\\\\\\\\"}}, \\\\\\\\\\\\\"typeProperty\\\\\\\\\\\\\": 2}, {\\\\\\\\\\\\\"column\\\\\\\\\\\\\": {\\\\\\\\\\\\\"type\\\\\\\\\\\\\": 2, \\\\\\\\\\\\\"details\\\\\\\\\\\\\": {\\\\\\\\\\\\\"selectedColumn\\\\\\\\\\\\\": \\\\\\\\\\\\\"creatinine_phosphokinase\\\\\\\\\\\\\"}}, \\\\\\\\\\\\\"typeProperty\\\\\\\\\\\\\": 2}, {\\\\\\\\\\\\\"column\\\\\\\\\\\\\": {\\\\\\\\\\\\\"type\\\\\\\\\\\\\": 2, \\\\\\\\\\\\\"details\\\\\\\\\\\\\": {\\\\\\\\\\\\\"selectedColumn\\\\\\\\\\\\\": \\\\\\\\\\\\\"diabetes\\\\\\\\\\\\\"}}, \\\\\\\\\\\\\"typeProperty\\\\\\\\\\\\\": 2}, {\\\\\\\\\\\\\"column\\\\\\\\\\\\\": {\\\\\\\\\\\\\"type\\\\\\\\\\\\\": 2, \\\\\\\\\\\\\"details\\\\\\\\\\\\\": {\\\\\\\\\\\\\"selectedColumn\\\\\\\\\\\\\": \\\\\\\\\\\\\"ejection_fraction\\\\\\\\\\\\\"}}, \\\\\\\\\\\\\"typeProperty\\\\\\\\\\\\\": 2}, {\\\\\\\\\\\\\"column\\\\\\\\\\\\\": {\\\\\\\\\\\\\"type\\\\\\\\\\\\\": 2, \\\\\\\\\\\\\"details\\\\\\\\\\\\\": {\\\\\\\\\\\\\"selectedColumn\\\\\\\\\\\\\": \\\\\\\\\\\\\"high_blood_pressure\\\\\\\\\\\\\"}}, \\\\\\\\\\\\\"typeProperty\\\\\\\\\\\\\": 2}, {\\\\\\\\\\\\\"column\\\\\\\\\\\\\": {\\\\\\\\\\\\\"type\\\\\\\\\\\\\": 2, \\\\\\\\\\\\\"details\\\\\\\\\\\\\": {\\\\\\\\\\\\\"selectedColumn\\\\\\\\\\\\\": \\\\\\\\\\\\\"platelets\\\\\\\\\\\\\"}}, \\\\\\\\\\\\\"typeProperty\\\\\\\\\\\\\": 3}, {\\\\\\\\\\\\\"column\\\\\\\\\\\\\": {\\\\\\\\\\\\\"type\\\\\\\\\\\\\": 2, \\\\\\\\\\\\\"details\\\\\\\\\\\\\": {\\\\\\\\\\\\\"selectedColumn\\\\\\\\\\\\\": \\\\\\\\\\\\\"serum_creatinine\\\\\\\\\\\\\"}}, \\\\\\\\\\\\\"typeProperty\\\\\\\\\\\\\": 3}, {\\\\\\\\\\\\\"column\\\\\\\\\\\\\": {\\\\\\\\\\\\\"type\\\\\\\\\\\\\": 2, \\\\\\\\\\\\\"details\\\\\\\\\\\\\": {\\\\\\\\\\\\\"selectedColumn\\\\\\\\\\\\\": \\\\\\\\\\\\\"serum_sodium\\\\\\\\\\\\\"}}, \\\\\\\\\\\\\"typeProperty\\\\\\\\\\\\\": 2}, {\\\\\\\\\\\\\"column\\\\\\\\\\\\\": {\\\\\\\\\\\\\"type\\\\\\\\\\\\\": 2, \\\\\\\\\\\\\"details\\\\\\\\\\\\\": {\\\\\\\\\\\\\"selectedColumn\\\\\\\\\\\\\": \\\\\\\\\\\\\"sex\\\\\\\\\\\\\"}}, \\\\\\\\\\\\\"typeProperty\\\\\\\\\\\\\": 2}, {\\\\\\\\\\\\\"column\\\\\\\\\\\\\": {\\\\\\\\\\\\\"type\\\\\\\\\\\\\": 2, \\\\\\\\\\\\\"details\\\\\\\\\\\\\": {\\\\\\\\\\\\\"selectedColumn\\\\\\\\\\\\\": \\\\\\\\\\\\\"smoking\\\\\\\\\\\\\"}}, \\\\\\\\\\\\\"typeProperty\\\\\\\\\\\\\": 2}, {\\\\\\\\\\\\\"column\\\\\\\\\\\\\": {\\\\\\\\\\\\\"type\\\\\\\\\\\\\": 2, \\\\\\\\\\\\\"details\\\\\\\\\\\\\": {\\\\\\\\\\\\\"selectedColumn\\\\\\\\\\\\\": \\\\\\\\\\\\\"time\\\\\\\\\\\\\"}}, \\\\\\\\\\\\\"typeProperty\\\\\\\\\\\\\": 2}, {\\\\\\\\\\\\\"column\\\\\\\\\\\\\": {\\\\\\\\\\\\\"type\\\\\\\\\\\\\": 2, \\\\\\\\\\\\\"details\\\\\\\\\\\\\": {\\\\\\\\\\\\\"selectedColumn\\\\\\\\\\\\\": \\\\\\\\\\\\\"DEATH_EVENT\\\\\\\\\\\\\"}}, \\\\\\\\\\\\\"typeProperty\\\\\\\\\\\\\": 2}]}, \\\\\\\\\\\\\"localData\\\\\\\\\\\\\": {}, \\\\\\\\\\\\\"isEnabled\\\\\\\\\\\\\": true, \\\\\\\\\\\\\"name\\\\\\\\\\\\\": null, \\\\\\\\\\\\\"annotation\\\\\\\\\\\\\": null}], \\\\\\\\\\\\\"inspectors\\\\\\\\\\\\\": [], \\\\\\\\\\\\\"meta\\\\\\\\\\\\\": {\\\\\\\\\\\\\"savedDatasetId\\\\\\\\\\\\\": \\\\\\\\\\\\\"4b3e8cc4-6367-48ab-8828-a1ba5a4646d1\\\\\\\\\\\\\", \\\\\\\\\\\\\"datasetType\\\\\\\\\\\\\": \\\\\\\\\\\\\"tabular\\\\\\\\\\\\\", \\\\\\\\\\\\\"subscriptionId\\\\\\\\\\\\\": \\\\\\\\\\\\\"3e42d11f-d64d-4173-af9b-12ecaa1030b3\\\\\\\\\\\\\", \\\\\\\\\\\\\"workspaceId\\\\\\\\\\\\\": \\\\\\\\\\\\\"ad716be8-38c4-4573-a307-6d8727ef27b6\\\\\\\\\\\\\", \\\\\\\\\\\\\"workspaceLocation\\\\\\\\\\\\\": \\\\\\\\\\\\\"southcentralus\\\\\\\\\\\\\"}}\\\\\", \\\\\"activities\\\\\": 0}',\n",
       "  'EnableSubsampling': 'False',\n",
       "  'runTemplate': 'AutoML',\n",
       "  'azureml.runsource': 'automl',\n",
       "  'display_task_type': 'classification',\n",
       "  'dependencies_versions': '{\"azureml-widgets\": \"1.20.0\", \"azureml-train\": \"1.20.0\", \"azureml-train-restclients-hyperdrive\": \"1.20.0\", \"azureml-train-core\": \"1.20.0\", \"azureml-train-automl\": \"1.20.0\", \"azureml-train-automl-runtime\": \"1.20.0\", \"azureml-train-automl-client\": \"1.20.0\", \"azureml-tensorboard\": \"1.20.0\", \"azureml-telemetry\": \"1.20.0\", \"azureml-sdk\": \"1.20.0\", \"azureml-samples\": \"0+unknown\", \"azureml-pipeline\": \"1.20.0\", \"azureml-pipeline-steps\": \"1.20.0\", \"azureml-pipeline-core\": \"1.20.0\", \"azureml-opendatasets\": \"1.20.0\", \"azureml-model-management-sdk\": \"1.0.1b6.post1\", \"azureml-mlflow\": \"1.20.0.post1\", \"azureml-interpret\": \"1.20.0\", \"azureml-explain-model\": \"1.20.0\", \"azureml-defaults\": \"1.20.0\", \"azureml-dataset-runtime\": \"1.20.0\", \"azureml-dataprep\": \"2.7.3\", \"azureml-dataprep-rslex\": \"1.5.0\", \"azureml-dataprep-native\": \"27.0.0\", \"azureml-datadrift\": \"1.20.0\", \"azureml-core\": \"1.20.0\", \"azureml-contrib-services\": \"1.20.0\", \"azureml-contrib-server\": \"1.20.0\", \"azureml-contrib-reinforcementlearning\": \"1.20.0\", \"azureml-contrib-pipeline-steps\": \"1.20.0\", \"azureml-contrib-notebook\": \"1.20.0\", \"azureml-contrib-interpret\": \"1.20.0\", \"azureml-contrib-gbdt\": \"1.20.0\", \"azureml-contrib-fairness\": \"1.20.0\", \"azureml-contrib-dataset\": \"1.20.0\", \"azureml-cli-common\": \"1.20.0\", \"azureml-automl-runtime\": \"1.20.0\", \"azureml-automl-core\": \"1.20.0\", \"azureml-accel-models\": \"1.20.0\"}',\n",
       "  '_aml_system_scenario_identification': 'Remote.Parent',\n",
       "  'ClientType': 'SDK',\n",
       "  'environment_cpu_name': 'AzureML-AutoML',\n",
       "  'environment_cpu_label': 'prod',\n",
       "  'environment_gpu_name': 'AzureML-AutoML-GPU',\n",
       "  'environment_gpu_label': 'prod',\n",
       "  'root_attribution': 'automl',\n",
       "  'attribution': 'AutoML',\n",
       "  'Orchestrator': 'AutoML',\n",
       "  'CancelUri': 'https://southcentralus.experiments.azureml.net/jasmine/v1.0/subscriptions/3e42d11f-d64d-4173-af9b-12ecaa1030b3/resourceGroups/aml-quickstarts-136394/providers/Microsoft.MachineLearningServices/workspaces/quick-starts-ws-136394/experimentids/2ac0769f-74c4-4508-a380-e11df8914c73/cancel/AutoML_ca508edf-88f5-40cc-b1d0-b10738ed89fb',\n",
       "  'ClientSdkVersion': '1.20.0.post1',\n",
       "  'snapshotId': '00000000-0000-0000-0000-000000000000',\n",
       "  'SetupRunId': 'AutoML_ca508edf-88f5-40cc-b1d0-b10738ed89fb_setup',\n",
       "  'SetupRunContainerId': 'dcid.AutoML_ca508edf-88f5-40cc-b1d0-b10738ed89fb_setup',\n",
       "  'FeaturizationRunJsonPath': 'featurizer_container.json',\n",
       "  'FeaturizationRunId': 'AutoML_ca508edf-88f5-40cc-b1d0-b10738ed89fb_featurize',\n",
       "  'ProblemInfoJsonString': '{\"dataset_num_categorical\": 0, \"is_sparse\": false, \"subsampling\": false, \"dataset_classes\": 2, \"dataset_features\": 12, \"dataset_samples\": 299, \"single_frequency_class_detected\": false}',\n",
       "  'ModelExplainRunId': 'AutoML_ca508edf-88f5-40cc-b1d0-b10738ed89fb_ModelExplain'},\n",
       " 'inputDatasets': [{'dataset': {'id': '4b3e8cc4-6367-48ab-8828-a1ba5a4646d1'}, 'consumptionDetails': {'type': 'RunInput', 'inputName': 'training_data', 'mechanism': 'Direct'}}],\n",
       " 'outputDatasets': [],\n",
       " 'logFiles': {},\n",
       " 'submittedBy': 'ODL_User 136394'}"
      ]
     },
     "execution_count": 11,
     "metadata": {},
     "output_type": "execute_result"
    }
   ],
   "source": [
    "remote_run.wait_for_completion(show_output=True)"
   ]
  },
  {
   "cell_type": "markdown",
   "metadata": {},
   "source": [
    "## Best Model\n"
   ]
  },
  {
   "cell_type": "code",
   "execution_count": 12,
   "metadata": {
    "gather": {
     "logged": 1598431425670
    },
    "jupyter": {
     "outputs_hidden": false,
     "source_hidden": false
    },
    "nteract": {
     "transient": {
      "deleting": false
     }
    }
   },
   "outputs": [],
   "source": [
    "best_run, fitted_model = remote_run.get_output()"
   ]
  },
  {
   "cell_type": "code",
   "execution_count": 14,
   "metadata": {},
   "outputs": [
    {
     "name": "stdout",
     "output_type": "stream",
     "text": [
      "Best Run Id : AutoML_ca508edf-88f5-40cc-b1d0-b10738ed89fb_36\n",
      "Accuracy : 0.8628619528619529\n",
      "Best metrics : {'precision_score_micro': 0.8628619528619529, 'matthews_correlation': 0.6840563395664755, 'recall_score_micro': 0.8628619528619529, 'log_loss': 0.409238819908503, 'AUC_micro': 0.8999717613848928, 'average_precision_score_weighted': 0.8962645546643593, 'recall_score_macro': 0.822949057431816, 'accuracy': 0.8628619528619529, 'average_precision_score_macro': 0.8694571759007962, 'norm_macro_recall': 0.6458981148636321, 'recall_score_weighted': 0.8628619528619529, 'precision_score_macro': 0.8635369260369261, 'f1_score_micro': 0.8628619528619529, 'balanced_accuracy': 0.822949057431816, 'precision_score_weighted': 0.8682143884921661, 'average_precision_score_micro': 0.8994529479805532, 'weighted_accuracy': 0.8943077429194449, 'AUC_macro': 0.8891970788522512, 'f1_score_macro': 0.833392286116287, 'f1_score_weighted': 0.8573981302795405, 'AUC_weighted': 0.8891970788522513, 'confusion_matrix': 'aml://artifactId/ExperimentRun/dcid.AutoML_ca508edf-88f5-40cc-b1d0-b10738ed89fb_36/confusion_matrix', 'accuracy_table': 'aml://artifactId/ExperimentRun/dcid.AutoML_ca508edf-88f5-40cc-b1d0-b10738ed89fb_36/accuracy_table'}\n",
      "Best model : Pipeline(memory=None,\n",
      "         steps=[('datatransformer',\n",
      "                 DataTransformer(enable_dnn=None, enable_feature_sweeping=None,\n",
      "                                 feature_sweeping_config=None,\n",
      "                                 feature_sweeping_timeout=None,\n",
      "                                 featurization_config=None, force_text_dnn=None,\n",
      "                                 is_cross_validation=None,\n",
      "                                 is_onnx_compatible=None, logger=None,\n",
      "                                 observer=None, task=None, working_dir=None)),\n",
      "                ('prefittedsoftvotingclassifier',...\n",
      "                                                                                               seed=None,\n",
      "                                                                                               silent=None,\n",
      "                                                                                               subsample=1,\n",
      "                                                                                               tree_method='auto',\n",
      "                                                                                               verbose=-10,\n",
      "                                                                                               verbosity=0))],\n",
      "                                                                     verbose=False))],\n",
      "                                               flatten_transform=None,\n",
      "                                               weights=[0.13333333333333333,\n",
      "                                                        0.2,\n",
      "                                                        0.06666666666666667,\n",
      "                                                        0.06666666666666667,\n",
      "                                                        0.06666666666666667,\n",
      "                                                        0.06666666666666667,\n",
      "                                                        0.06666666666666667,\n",
      "                                                        0.06666666666666667,\n",
      "                                                        0.13333333333333333,\n",
      "                                                        0.06666666666666667,\n",
      "                                                        0.06666666666666667]))],\n",
      "         verbose=False)\n"
     ]
    }
   ],
   "source": [
    "best_metrics = best_run.get_metrics()\n",
    "\n",
    "print(\"Best Run Id : {}\".format(best_run.id), \n",
    "      \"Accuracy : {}\".format(best_metrics['accuracy']), \n",
    "      \"Best metrics : {}\".format(best_metrics), \n",
    "      \"Best model : {}\".format(fitted_model), sep = '\\n')"
   ]
  },
  {
   "cell_type": "code",
   "execution_count": 15,
   "metadata": {},
   "outputs": [
    {
     "name": "stdout",
     "output_type": "stream",
     "text": [
      "PreFittedSoftVotingClassifier(classification_labels=None,\n",
      "                              estimators=[('11',\n",
      "                                           Pipeline(memory=None,\n",
      "                                                    steps=[('robustscaler',\n",
      "                                                            RobustScaler(copy=True,\n",
      "                                                                         quantile_range=[25,\n",
      "                                                                                         75],\n",
      "                                                                         with_centering=False,\n",
      "                                                                         with_scaling=False)),\n",
      "                                                           ('gradientboostingclassifier',\n",
      "                                                            GradientBoostingClassifier(ccp_alpha=0.0,\n",
      "                                                                                       criterion='friedman_mse',\n",
      "                                                                                       init=None,\n",
      "                                                                                       learning_rate=0.1,\n",
      "                                                                                       loss='deviance',\n",
      "                                                                                       max...\n",
      "                                                                              scale_pos_weight=1,\n",
      "                                                                              seed=None,\n",
      "                                                                              silent=None,\n",
      "                                                                              subsample=1,\n",
      "                                                                              tree_method='auto',\n",
      "                                                                              verbose=-10,\n",
      "                                                                              verbosity=0))],\n",
      "                                                    verbose=False))],\n",
      "                              flatten_transform=None,\n",
      "                              weights=[0.13333333333333333, 0.2,\n",
      "                                       0.06666666666666667, 0.06666666666666667,\n",
      "                                       0.06666666666666667, 0.06666666666666667,\n",
      "                                       0.06666666666666667, 0.06666666666666667,\n",
      "                                       0.13333333333333333, 0.06666666666666667,\n",
      "                                       0.06666666666666667])\n"
     ]
    }
   ],
   "source": [
    "print(fitted_model._final_estimator)"
   ]
  },
  {
   "cell_type": "code",
   "execution_count": 17,
   "metadata": {
    "gather": {
     "logged": 1598431426111
    },
    "jupyter": {
     "outputs_hidden": false,
     "source_hidden": false
    },
    "nteract": {
     "transient": {
      "deleting": false
     }
    }
   },
   "outputs": [],
   "source": [
    "# Save the best model\n",
    "model = best_run.register_model(model_name = \"heart-failure-best-model-automl\", model_path = './outputs/')"
   ]
  },
  {
   "cell_type": "markdown",
   "metadata": {},
   "source": [
    "## Model Deployment\n",
    "\n",
    "Remember you have to deploy only one of the two models you trained.. Perform the steps in the rest of this notebook only if you wish to deploy this model."
   ]
  },
  {
   "cell_type": "markdown",
   "metadata": {},
   "source": [
    "### Define the environement"
   ]
  },
  {
   "cell_type": "code",
   "execution_count": null,
   "metadata": {
    "gather": {
     "logged": 1598431435189
    },
    "jupyter": {
     "outputs_hidden": false,
     "source_hidden": false
    },
    "nteract": {
     "transient": {
      "deleting": false
     }
    }
   },
   "outputs": [],
   "source": [
    "best_run.download_file('outputs-automl/conda_env_v_1_0_0.yml', 'conda_env.yml')\n",
    "environment = Environment.from_conda_specification(name = 'heart-failure-env', file_path = 'conda_env.yml')"
   ]
  },
  {
   "cell_type": "markdown",
   "metadata": {},
   "source": [
    "### Download the scoring file"
   ]
  },
  {
   "cell_type": "code",
   "execution_count": null,
   "metadata": {},
   "outputs": [],
   "source": [
    "best_run.download_file('outputs-automl/scoring_file_v_1_0_0.py', 'score.py')"
   ]
  },
  {
   "cell_type": "markdown",
   "metadata": {},
   "source": [
    "### Inference Configuration"
   ]
  },
  {
   "cell_type": "code",
   "execution_count": null,
   "metadata": {},
   "outputs": [],
   "source": [
    "inference_config = InferenceConfig(entry_script= 'score.py', environment=environment)"
   ]
  },
  {
   "cell_type": "markdown",
   "metadata": {},
   "source": [
    "### ACI Configuration"
   ]
  },
  {
   "cell_type": "code",
   "execution_count": null,
   "metadata": {},
   "outputs": [],
   "source": [
    "aci_config = AciWebservice.deploy_configuration(cpu_cores=1, memory_gb=1, auth_enabled=True, enable_app_insights=True)"
   ]
  },
  {
   "cell_type": "markdown",
   "metadata": {},
   "source": [
    "### Deploy"
   ]
  },
  {
   "cell_type": "code",
   "execution_count": null,
   "metadata": {},
   "outputs": [],
   "source": [
    "webservice = Model.deploy(workspace=ws, \n",
    "                        name='heart-failure-ws', \n",
    "                        models=[model], \n",
    "                        inference_config=inference_config,\n",
    "                        deployment_config=aci_config,\n",
    "                        overwrite=True)"
   ]
  },
  {
   "cell_type": "code",
   "execution_count": null,
   "metadata": {},
   "outputs": [],
   "source": [
    "# wait for deployment to finish and display the scoring uri and swagger uri\n",
    "webservice.wait_for_deployment(show_output=True)\n",
    "\n",
    "print(\"Status : {}\".format(webservice.state), \n",
    "      \"scoring_uri : {}\".format(webservice.scoring_uri), \n",
    "      \"swagger_uri : {}\".format(webservice.swagger_uri), sep = '\\n')"
   ]
  },
  {
   "cell_type": "markdown",
   "metadata": {},
   "source": [
    "### Consume \n",
    "# NOT FINISHED"
   ]
  },
  {
   "cell_type": "markdown",
   "metadata": {
    "collapsed": true,
    "gather": {
     "logged": 1598431657736
    },
    "jupyter": {
     "outputs_hidden": false,
     "source_hidden": false
    },
    "nteract": {
     "transient": {
      "deleting": false
     }
    }
   },
   "source": [
    "Send a request to the web service you deployed to test it."
   ]
  },
  {
   "cell_type": "code",
   "execution_count": null,
   "metadata": {
    "gather": {
     "logged": 1598432707604
    },
    "jupyter": {
     "outputs_hidden": false,
     "source_hidden": false
    },
    "nteract": {
     "transient": {
      "deleting": false
     }
    }
   },
   "outputs": [],
   "source": [
    "# select samples from the dataframe\n",
    "sample = df.sample(4)\n",
    "target = sample.pop('DEATH_EVENT')\n",
    "\n",
    "# convert the records to a json data file\n",
    "data_json = sample.to_dict(orient='records')\n",
    "\n",
    "data = json.dumps({'data': recored})\n",
    "\n",
    "# get inference\n",
    "output = webservice.run(data)\n",
    "print(output)"
   ]
  },
  {
   "cell_type": "markdown",
   "metadata": {
    "collapsed": true,
    "gather": {
     "logged": 1598432765711
    },
    "jupyter": {
     "outputs_hidden": false,
     "source_hidden": false
    },
    "nteract": {
     "transient": {
      "deleting": false
     }
    }
   },
   "source": [
    "Print the logs of the web service and delete the service"
   ]
  },
  {
   "cell_type": "code",
   "execution_count": null,
   "metadata": {
    "jupyter": {
     "outputs_hidden": false,
     "source_hidden": false
    },
    "nteract": {
     "transient": {
      "deleting": false
     }
    }
   },
   "outputs": [],
   "source": [
    "webservice.get_logs()"
   ]
  },
  {
   "cell_type": "code",
   "execution_count": null,
   "metadata": {},
   "outputs": [],
   "source": [
    "webservice.delete()\n",
    "compute_target.delete()"
   ]
  }
 ],
 "metadata": {
  "kernel_info": {
   "name": "python3-azureml"
  },
  "kernelspec": {
   "display_name": "Python 3",
   "language": "python",
   "name": "python3"
  },
  "language_info": {
   "codemirror_mode": {
    "name": "ipython",
    "version": 3
   },
   "file_extension": ".py",
   "mimetype": "text/x-python",
   "name": "python",
   "nbconvert_exporter": "python",
   "pygments_lexer": "ipython3",
   "version": "3.6.9"
  },
  "nteract": {
   "version": "nteract-front-end@1.0.0"
  }
 },
 "nbformat": 4,
 "nbformat_minor": 2
}
