{
 "cells": [
  {
   "cell_type": "markdown",
   "metadata": {},
   "source": [
    "# Automated ML"
   ]
  },
  {
   "cell_type": "markdown",
   "metadata": {},
   "source": [
    "Import all dependencies."
   ]
  },
  {
   "cell_type": "code",
   "execution_count": 1,
   "metadata": {
    "gather": {
     "logged": 1598423888013
    },
    "jupyter": {
     "outputs_hidden": false,
     "source_hidden": false
    },
    "nteract": {
     "transient": {
      "deleting": false
     }
    }
   },
   "outputs": [
    {
     "name": "stdout",
     "output_type": "stream",
     "text": [
      "SDK version: 1.20.0\n"
     ]
    }
   ],
   "source": [
    "import json\n",
    "import azureml.core\n",
    "from azureml.core import Workspace, Experiment, Model\n",
    "from azureml.core.compute import ComputeTarget, AmlCompute\n",
    "from azureml.core.compute_target import ComputeTargetException\n",
    "from azureml.widgets import RunDetails\n",
    "from azureml.train.automl import AutoMLConfig\n",
    "from azureml.core.environment import Environment\n",
    "from azureml.core.model import InferenceConfig\n",
    "from azureml.core.webservice import AciWebservice, Webservice\n",
    "\n",
    "print(\"SDK version:\", azureml.core.VERSION)"
   ]
  },
  {
   "cell_type": "markdown",
   "metadata": {},
   "source": [
    "## Initialize workspace\n",
    "\n",
    "Initialize a workspace object from persisted configuration. Make sure the config file is present at .\\config.json"
   ]
  },
  {
   "cell_type": "code",
   "execution_count": 2,
   "metadata": {},
   "outputs": [
    {
     "name": "stdout",
     "output_type": "stream",
     "text": [
      "quick-starts-ws-136710\n",
      "aml-quickstarts-136710\n",
      "southcentralus\n",
      "cdbe0b43-92a0-4715-838a-f2648cc7ad21\n"
     ]
    }
   ],
   "source": [
    "ws = Workspace.from_config()\n",
    "\n",
    "print(ws.name, ws.resource_group, ws.location, ws.subscription_id, sep = '\\n')"
   ]
  },
  {
   "cell_type": "markdown",
   "metadata": {},
   "source": [
    "## Create an Azure ML experiment"
   ]
  },
  {
   "cell_type": "code",
   "execution_count": 3,
   "metadata": {
    "gather": {
     "logged": 1598423890461
    },
    "jupyter": {
     "outputs_hidden": false,
     "source_hidden": false
    },
    "nteract": {
     "transient": {
      "deleting": false
     }
    }
   },
   "outputs": [],
   "source": [
    "# choose a name for experiment\n",
    "experiment_name = 'automl-heart-experiment'\n",
    "\n",
    "experiment = Experiment(ws, experiment_name)\n",
    "\n",
    "run = experiment.start_logging()"
   ]
  },
  {
   "cell_type": "markdown",
   "metadata": {},
   "source": [
    "## Create a Compute Cluster"
   ]
  },
  {
   "cell_type": "code",
   "execution_count": 4,
   "metadata": {},
   "outputs": [
    {
     "name": "stdout",
     "output_type": "stream",
     "text": [
      "Found existing cluster, use it.\n",
      "Succeeded...................................................................................................................\n",
      "AmlCompute wait for completion finished\n",
      "\n",
      "Wait timeout has been reached\n",
      "Current provisioning state of AmlCompute is \"Succeeded\" and current node count is \"0\"\n"
     ]
    }
   ],
   "source": [
    "amlcompute_cluster_name = \"heart-compute\"\n",
    "\n",
    "# Verify that cluster does not exist already\n",
    "try:\n",
    "    compute_target = ComputeTarget(workspace=ws, name=amlcompute_cluster_name)\n",
    "    print('Found existing cluster, use it.')\n",
    "except ComputeTargetException:\n",
    "    compute_config = AmlCompute.provisioning_configuration(vm_size='STANDARD_D2_V2', max_nodes=4)\n",
    "    compute_target = ComputeTarget.create(ws, amlcompute_cluster_name, compute_config)\n",
    "\n",
    "compute_target.wait_for_completion(show_output=True, min_node_count = 1, timeout_in_minutes = 10)"
   ]
  },
  {
   "cell_type": "markdown",
   "metadata": {},
   "source": [
    "## Dataset\n",
    "\n",
    "### Overview\n",
    "For this project, I used the [Heart Failure dataset](https://www.kaggle.com/andrewmvd/heart-failure-clinical-data) from Kaggle. \n",
    "\n",
    "Heart failure is a common event caused by CVDs and this dataset contains 12 features that can be used to predict mortality by heart failure."
   ]
  },
  {
   "cell_type": "code",
   "execution_count": 5,
   "metadata": {},
   "outputs": [
    {
     "data": {
      "text/html": [
       "<div>\n",
       "<style scoped>\n",
       "    .dataframe tbody tr th:only-of-type {\n",
       "        vertical-align: middle;\n",
       "    }\n",
       "\n",
       "    .dataframe tbody tr th {\n",
       "        vertical-align: top;\n",
       "    }\n",
       "\n",
       "    .dataframe thead th {\n",
       "        text-align: right;\n",
       "    }\n",
       "</style>\n",
       "<table border=\"1\" class=\"dataframe\">\n",
       "  <thead>\n",
       "    <tr style=\"text-align: right;\">\n",
       "      <th></th>\n",
       "      <th>age</th>\n",
       "      <th>anaemia</th>\n",
       "      <th>creatinine_phosphokinase</th>\n",
       "      <th>diabetes</th>\n",
       "      <th>ejection_fraction</th>\n",
       "      <th>high_blood_pressure</th>\n",
       "      <th>platelets</th>\n",
       "      <th>serum_creatinine</th>\n",
       "      <th>serum_sodium</th>\n",
       "      <th>sex</th>\n",
       "      <th>smoking</th>\n",
       "      <th>time</th>\n",
       "      <th>DEATH_EVENT</th>\n",
       "    </tr>\n",
       "  </thead>\n",
       "  <tbody>\n",
       "    <tr>\n",
       "      <th>count</th>\n",
       "      <td>299.000000</td>\n",
       "      <td>299.000000</td>\n",
       "      <td>299.000000</td>\n",
       "      <td>299.000000</td>\n",
       "      <td>299.000000</td>\n",
       "      <td>299.000000</td>\n",
       "      <td>299.000000</td>\n",
       "      <td>299.00000</td>\n",
       "      <td>299.000000</td>\n",
       "      <td>299.000000</td>\n",
       "      <td>299.00000</td>\n",
       "      <td>299.000000</td>\n",
       "      <td>299.00000</td>\n",
       "    </tr>\n",
       "    <tr>\n",
       "      <th>mean</th>\n",
       "      <td>60.833893</td>\n",
       "      <td>0.431438</td>\n",
       "      <td>581.839465</td>\n",
       "      <td>0.418060</td>\n",
       "      <td>38.083612</td>\n",
       "      <td>0.351171</td>\n",
       "      <td>263358.029264</td>\n",
       "      <td>1.39388</td>\n",
       "      <td>136.625418</td>\n",
       "      <td>0.648829</td>\n",
       "      <td>0.32107</td>\n",
       "      <td>130.260870</td>\n",
       "      <td>0.32107</td>\n",
       "    </tr>\n",
       "    <tr>\n",
       "      <th>std</th>\n",
       "      <td>11.894809</td>\n",
       "      <td>0.496107</td>\n",
       "      <td>970.287881</td>\n",
       "      <td>0.494067</td>\n",
       "      <td>11.834841</td>\n",
       "      <td>0.478136</td>\n",
       "      <td>97804.236869</td>\n",
       "      <td>1.03451</td>\n",
       "      <td>4.412477</td>\n",
       "      <td>0.478136</td>\n",
       "      <td>0.46767</td>\n",
       "      <td>77.614208</td>\n",
       "      <td>0.46767</td>\n",
       "    </tr>\n",
       "    <tr>\n",
       "      <th>min</th>\n",
       "      <td>40.000000</td>\n",
       "      <td>0.000000</td>\n",
       "      <td>23.000000</td>\n",
       "      <td>0.000000</td>\n",
       "      <td>14.000000</td>\n",
       "      <td>0.000000</td>\n",
       "      <td>25100.000000</td>\n",
       "      <td>0.50000</td>\n",
       "      <td>113.000000</td>\n",
       "      <td>0.000000</td>\n",
       "      <td>0.00000</td>\n",
       "      <td>4.000000</td>\n",
       "      <td>0.00000</td>\n",
       "    </tr>\n",
       "    <tr>\n",
       "      <th>25%</th>\n",
       "      <td>51.000000</td>\n",
       "      <td>0.000000</td>\n",
       "      <td>116.500000</td>\n",
       "      <td>0.000000</td>\n",
       "      <td>30.000000</td>\n",
       "      <td>0.000000</td>\n",
       "      <td>212500.000000</td>\n",
       "      <td>0.90000</td>\n",
       "      <td>134.000000</td>\n",
       "      <td>0.000000</td>\n",
       "      <td>0.00000</td>\n",
       "      <td>73.000000</td>\n",
       "      <td>0.00000</td>\n",
       "    </tr>\n",
       "    <tr>\n",
       "      <th>50%</th>\n",
       "      <td>60.000000</td>\n",
       "      <td>0.000000</td>\n",
       "      <td>250.000000</td>\n",
       "      <td>0.000000</td>\n",
       "      <td>38.000000</td>\n",
       "      <td>0.000000</td>\n",
       "      <td>262000.000000</td>\n",
       "      <td>1.10000</td>\n",
       "      <td>137.000000</td>\n",
       "      <td>1.000000</td>\n",
       "      <td>0.00000</td>\n",
       "      <td>115.000000</td>\n",
       "      <td>0.00000</td>\n",
       "    </tr>\n",
       "    <tr>\n",
       "      <th>75%</th>\n",
       "      <td>70.000000</td>\n",
       "      <td>1.000000</td>\n",
       "      <td>582.000000</td>\n",
       "      <td>1.000000</td>\n",
       "      <td>45.000000</td>\n",
       "      <td>1.000000</td>\n",
       "      <td>303500.000000</td>\n",
       "      <td>1.40000</td>\n",
       "      <td>140.000000</td>\n",
       "      <td>1.000000</td>\n",
       "      <td>1.00000</td>\n",
       "      <td>203.000000</td>\n",
       "      <td>1.00000</td>\n",
       "    </tr>\n",
       "    <tr>\n",
       "      <th>max</th>\n",
       "      <td>95.000000</td>\n",
       "      <td>1.000000</td>\n",
       "      <td>7861.000000</td>\n",
       "      <td>1.000000</td>\n",
       "      <td>80.000000</td>\n",
       "      <td>1.000000</td>\n",
       "      <td>850000.000000</td>\n",
       "      <td>9.40000</td>\n",
       "      <td>148.000000</td>\n",
       "      <td>1.000000</td>\n",
       "      <td>1.00000</td>\n",
       "      <td>285.000000</td>\n",
       "      <td>1.00000</td>\n",
       "    </tr>\n",
       "  </tbody>\n",
       "</table>\n",
       "</div>"
      ],
      "text/plain": [
       "              age     anaemia  creatinine_phosphokinase    diabetes  \\\n",
       "count  299.000000  299.000000                299.000000  299.000000   \n",
       "mean    60.833893    0.431438                581.839465    0.418060   \n",
       "std     11.894809    0.496107                970.287881    0.494067   \n",
       "min     40.000000    0.000000                 23.000000    0.000000   \n",
       "25%     51.000000    0.000000                116.500000    0.000000   \n",
       "50%     60.000000    0.000000                250.000000    0.000000   \n",
       "75%     70.000000    1.000000                582.000000    1.000000   \n",
       "max     95.000000    1.000000               7861.000000    1.000000   \n",
       "\n",
       "       ejection_fraction  high_blood_pressure      platelets  \\\n",
       "count         299.000000           299.000000     299.000000   \n",
       "mean           38.083612             0.351171  263358.029264   \n",
       "std            11.834841             0.478136   97804.236869   \n",
       "min            14.000000             0.000000   25100.000000   \n",
       "25%            30.000000             0.000000  212500.000000   \n",
       "50%            38.000000             0.000000  262000.000000   \n",
       "75%            45.000000             1.000000  303500.000000   \n",
       "max            80.000000             1.000000  850000.000000   \n",
       "\n",
       "       serum_creatinine  serum_sodium         sex    smoking        time  \\\n",
       "count         299.00000    299.000000  299.000000  299.00000  299.000000   \n",
       "mean            1.39388    136.625418    0.648829    0.32107  130.260870   \n",
       "std             1.03451      4.412477    0.478136    0.46767   77.614208   \n",
       "min             0.50000    113.000000    0.000000    0.00000    4.000000   \n",
       "25%             0.90000    134.000000    0.000000    0.00000   73.000000   \n",
       "50%             1.10000    137.000000    1.000000    0.00000  115.000000   \n",
       "75%             1.40000    140.000000    1.000000    1.00000  203.000000   \n",
       "max             9.40000    148.000000    1.000000    1.00000  285.000000   \n",
       "\n",
       "       DEATH_EVENT  \n",
       "count    299.00000  \n",
       "mean       0.32107  \n",
       "std        0.46767  \n",
       "min        0.00000  \n",
       "25%        0.00000  \n",
       "50%        0.00000  \n",
       "75%        1.00000  \n",
       "max        1.00000  "
      ]
     },
     "execution_count": 5,
     "metadata": {},
     "output_type": "execute_result"
    }
   ],
   "source": [
    "key = \"heart-failure\"\n",
    "\n",
    "dataset = ws.datasets[key]\n",
    "\n",
    "df = dataset.to_pandas_dataframe()\n",
    "df.describe()"
   ]
  },
  {
   "cell_type": "markdown",
   "metadata": {},
   "source": [
    "### Explore"
   ]
  },
  {
   "cell_type": "code",
   "execution_count": 6,
   "metadata": {},
   "outputs": [
    {
     "data": {
      "text/html": [
       "<div>\n",
       "<style scoped>\n",
       "    .dataframe tbody tr th:only-of-type {\n",
       "        vertical-align: middle;\n",
       "    }\n",
       "\n",
       "    .dataframe tbody tr th {\n",
       "        vertical-align: top;\n",
       "    }\n",
       "\n",
       "    .dataframe thead th {\n",
       "        text-align: right;\n",
       "    }\n",
       "</style>\n",
       "<table border=\"1\" class=\"dataframe\">\n",
       "  <thead>\n",
       "    <tr style=\"text-align: right;\">\n",
       "      <th></th>\n",
       "      <th>age</th>\n",
       "      <th>anaemia</th>\n",
       "      <th>creatinine_phosphokinase</th>\n",
       "      <th>diabetes</th>\n",
       "      <th>ejection_fraction</th>\n",
       "      <th>high_blood_pressure</th>\n",
       "      <th>platelets</th>\n",
       "      <th>serum_creatinine</th>\n",
       "      <th>serum_sodium</th>\n",
       "      <th>sex</th>\n",
       "      <th>smoking</th>\n",
       "      <th>time</th>\n",
       "      <th>DEATH_EVENT</th>\n",
       "    </tr>\n",
       "  </thead>\n",
       "  <tbody>\n",
       "    <tr>\n",
       "      <th>0</th>\n",
       "      <td>75.0</td>\n",
       "      <td>0</td>\n",
       "      <td>582</td>\n",
       "      <td>0</td>\n",
       "      <td>20</td>\n",
       "      <td>1</td>\n",
       "      <td>265000.00</td>\n",
       "      <td>1.9</td>\n",
       "      <td>130</td>\n",
       "      <td>1</td>\n",
       "      <td>0</td>\n",
       "      <td>4</td>\n",
       "      <td>1</td>\n",
       "    </tr>\n",
       "    <tr>\n",
       "      <th>1</th>\n",
       "      <td>55.0</td>\n",
       "      <td>0</td>\n",
       "      <td>7861</td>\n",
       "      <td>0</td>\n",
       "      <td>38</td>\n",
       "      <td>0</td>\n",
       "      <td>263358.03</td>\n",
       "      <td>1.1</td>\n",
       "      <td>136</td>\n",
       "      <td>1</td>\n",
       "      <td>0</td>\n",
       "      <td>6</td>\n",
       "      <td>1</td>\n",
       "    </tr>\n",
       "    <tr>\n",
       "      <th>2</th>\n",
       "      <td>65.0</td>\n",
       "      <td>0</td>\n",
       "      <td>146</td>\n",
       "      <td>0</td>\n",
       "      <td>20</td>\n",
       "      <td>0</td>\n",
       "      <td>162000.00</td>\n",
       "      <td>1.3</td>\n",
       "      <td>129</td>\n",
       "      <td>1</td>\n",
       "      <td>1</td>\n",
       "      <td>7</td>\n",
       "      <td>1</td>\n",
       "    </tr>\n",
       "    <tr>\n",
       "      <th>3</th>\n",
       "      <td>50.0</td>\n",
       "      <td>1</td>\n",
       "      <td>111</td>\n",
       "      <td>0</td>\n",
       "      <td>20</td>\n",
       "      <td>0</td>\n",
       "      <td>210000.00</td>\n",
       "      <td>1.9</td>\n",
       "      <td>137</td>\n",
       "      <td>1</td>\n",
       "      <td>0</td>\n",
       "      <td>7</td>\n",
       "      <td>1</td>\n",
       "    </tr>\n",
       "    <tr>\n",
       "      <th>4</th>\n",
       "      <td>65.0</td>\n",
       "      <td>1</td>\n",
       "      <td>160</td>\n",
       "      <td>1</td>\n",
       "      <td>20</td>\n",
       "      <td>0</td>\n",
       "      <td>327000.00</td>\n",
       "      <td>2.7</td>\n",
       "      <td>116</td>\n",
       "      <td>0</td>\n",
       "      <td>0</td>\n",
       "      <td>8</td>\n",
       "      <td>1</td>\n",
       "    </tr>\n",
       "  </tbody>\n",
       "</table>\n",
       "</div>"
      ],
      "text/plain": [
       "    age  anaemia  creatinine_phosphokinase  diabetes  ejection_fraction  \\\n",
       "0  75.0        0                       582         0                 20   \n",
       "1  55.0        0                      7861         0                 38   \n",
       "2  65.0        0                       146         0                 20   \n",
       "3  50.0        1                       111         0                 20   \n",
       "4  65.0        1                       160         1                 20   \n",
       "\n",
       "   high_blood_pressure  platelets  serum_creatinine  serum_sodium  sex  \\\n",
       "0                    1  265000.00               1.9           130    1   \n",
       "1                    0  263358.03               1.1           136    1   \n",
       "2                    0  162000.00               1.3           129    1   \n",
       "3                    0  210000.00               1.9           137    1   \n",
       "4                    0  327000.00               2.7           116    0   \n",
       "\n",
       "   smoking  time  DEATH_EVENT  \n",
       "0        0     4            1  \n",
       "1        0     6            1  \n",
       "2        1     7            1  \n",
       "3        0     7            1  \n",
       "4        0     8            1  "
      ]
     },
     "execution_count": 6,
     "metadata": {},
     "output_type": "execute_result"
    }
   ],
   "source": [
    "dataset.take(5).to_pandas_dataframe()"
   ]
  },
  {
   "cell_type": "markdown",
   "metadata": {},
   "source": [
    "## AutoML Configuration\n",
    "\n",
    "\n",
    "Let me explain the reasoning behind my choices for the AutoML Config:\n",
    "* **experiment_timeout_minutes**: I chose 15 minutes as the maximum amount of time the experiment can takee before it terminates because I have a small dataset with only 299 entries.\n",
    "* **max_concurrent_iterations**: Represents the maximum number of iterations that would be executed in parallel. The default value is 1.\n",
    "* **n_cross_validations**: To avoid overfitting, we need to user cross validation.\n",
    "* **primary_metric**: Area Under Curve (AUC) is one of the most widely used metrics for evaluation. It is used for binary classification problem.\n",
    "* **task**: Classification, since we want to have a binary prediction (O or 1)."
   ]
  },
  {
   "cell_type": "code",
   "execution_count": 7,
   "metadata": {
    "gather": {
     "logged": 1598429217746
    },
    "jupyter": {
     "outputs_hidden": false,
     "source_hidden": false
    },
    "nteract": {
     "transient": {
      "deleting": false
     }
    }
   },
   "outputs": [],
   "source": [
    "automl_settings = {\n",
    "    \"experiment_timeout_minutes\": 15,\n",
    "    \"iterations\": 40,\n",
    "    \"max_concurrent_iterations\": 4,\n",
    "    \"n_cross_validations\": 3,\n",
    "    \"primary_metric\" : 'accuracy'\n",
    "}\n",
    "automl_config = AutoMLConfig(compute_target=compute_target,\n",
    "                             task = \"classification\",\n",
    "                             training_data=dataset,\n",
    "                             label_column_name=\"DEATH_EVENT\",\n",
    "                             enable_early_stopping= True,\n",
    "                             debug_log = \"automl_errors.log\",\n",
    "                             **automl_settings\n",
    "                            )"
   ]
  },
  {
   "cell_type": "code",
   "execution_count": 8,
   "metadata": {
    "gather": {
     "logged": 1598431107951
    },
    "jupyter": {
     "outputs_hidden": false,
     "source_hidden": false
    },
    "nteract": {
     "transient": {
      "deleting": false
     }
    }
   },
   "outputs": [
    {
     "name": "stdout",
     "output_type": "stream",
     "text": [
      "Running on remote.\n",
      "No run_configuration provided, running on heart-compute with default configuration\n",
      "Running on remote compute: heart-compute\n",
      "Parent Run ID: AutoML_9245f821-c61e-417e-a3b7-85db6aa64f61\n",
      "\n",
      "Current status: FeaturesGeneration. Generating features for the dataset.\n",
      "Current status: DatasetCrossValidationSplit. Generating individually featurized CV splits.\n",
      "Current status: ModelSelection. Beginning model selection.\n",
      "\n",
      "****************************************************************************************************\n",
      "DATA GUARDRAILS: \n",
      "\n",
      "TYPE:         Class balancing detection\n",
      "STATUS:       PASSED\n",
      "DESCRIPTION:  Your inputs were analyzed, and all classes are balanced in your training data.\n",
      "              Learn more about imbalanced data: https://aka.ms/AutomatedMLImbalancedData\n",
      "\n",
      "****************************************************************************************************\n",
      "\n",
      "TYPE:         Missing feature values imputation\n",
      "STATUS:       PASSED\n",
      "DESCRIPTION:  No feature missing values were detected in the training data.\n",
      "              Learn more about missing value imputation: https://aka.ms/AutomatedMLFeaturization\n",
      "\n",
      "****************************************************************************************************\n",
      "\n",
      "TYPE:         High cardinality feature detection\n",
      "STATUS:       PASSED\n",
      "DESCRIPTION:  Your inputs were analyzed, and no high cardinality features were detected.\n",
      "              Learn more about high cardinality feature handling: https://aka.ms/AutomatedMLFeaturization\n",
      "\n",
      "****************************************************************************************************\n",
      "\n",
      "****************************************************************************************************\n",
      "ITERATION: The iteration being evaluated.\n",
      "PIPELINE: A summary description of the pipeline being evaluated.\n",
      "DURATION: Time taken for the current iteration.\n",
      "METRIC: The result of computing score on the fitted pipeline.\n",
      "BEST: The best observed score thus far.\n",
      "****************************************************************************************************\n",
      "\n",
      " ITERATION   PIPELINE                                       DURATION      METRIC      BEST\n",
      "         0   MaxAbsScaler LightGBM                          0:00:50       0.8025    0.8025\n",
      "         3   MinMaxScaler RandomForest                      0:00:51       0.8360    0.8360\n",
      "         1   MaxAbsScaler XGBoostClassifier                 0:00:55       0.8193    0.8360\n",
      "         6   StandardScalerWrapper LightGBM                 0:00:48       0.7824    0.8360\n",
      "         7   MaxAbsScaler LightGBM                          0:00:48       0.8428    0.8428\n",
      "         2   MinMaxScaler RandomForest                      0:03:16       0.8426    0.8428\n",
      "         5   StandardScalerWrapper LightGBM                 0:03:27       0.8161    0.8428\n",
      "         4   MinMaxScaler RandomForest                      0:03:40       0.8395    0.8428\n",
      "         8   MaxAbsScaler LogisticRegression                0:00:57       0.8193    0.8428\n",
      "         9   MinMaxScaler SVM                               0:00:45       0.7023    0.8428\n",
      "        10   SparseNormalizer LightGBM                      0:00:47       0.8127    0.8428\n",
      "        11   RobustScaler RandomForest                      0:00:55       0.8393    0.8428\n",
      "        12   SparseNormalizer XGBoostClassifier             0:00:47       0.8027    0.8428\n",
      "        13   StandardScalerWrapper LightGBM                 0:00:55       0.8427    0.8428\n",
      "        14   RobustScaler ExtremeRandomTrees                0:00:45       0.8562    0.8562\n",
      "        15   SparseNormalizer XGBoostClassifier             0:00:47       0.8294    0.8562\n",
      "        16   StandardScalerWrapper RandomForest             0:00:49       0.8528    0.8562\n",
      "        17   SparseNormalizer XGBoostClassifier             0:00:46       0.7994    0.8562\n",
      "        18   MaxAbsScaler LightGBM                          0:00:45       0.6991    0.8562\n",
      "        19   MinMaxScaler LightGBM                          0:00:47       0.8226    0.8562\n",
      "        20   MaxAbsScaler LightGBM                          0:00:48       0.8026    0.8562\n",
      "        21   MaxAbsScaler ExtremeRandomTrees                0:00:49       0.8194    0.8562\n",
      "        22   MinMaxScaler LightGBM                          0:00:44       0.8093    0.8562\n",
      "        23   StandardScalerWrapper LightGBM                 0:00:49       0.8294    0.8562\n",
      "        24   MinMaxScaler LightGBM                          0:00:44       0.7758    0.8562\n",
      "        25   TruncatedSVDWrapper ExtremeRandomTrees         0:00:51       0.6790    0.8562\n",
      "        26   MaxAbsScaler LightGBM                          0:00:49       0.8093    0.8562\n",
      "        27   MinMaxScaler LightGBM                          0:00:51       0.8292    0.8562\n",
      "        28   StandardScalerWrapper RandomForest             0:00:51       0.7726    0.8562\n",
      "        29   MaxAbsScaler ExtremeRandomTrees                0:00:54       0.8126    0.8562\n",
      "        30   StandardScalerWrapper ExtremeRandomTrees       0:00:44       0.4745    0.8562\n",
      "        31   StandardScalerWrapper RandomForest             0:00:48       0.8159    0.8562\n",
      "        32   SparseNormalizer ExtremeRandomTrees            0:00:45       0.7559    0.8562\n",
      "        33   MinMaxScaler LightGBM                          0:00:37       0.8162    0.8562\n",
      "        34   StandardScalerWrapper LightGBM                 0:00:27          nan    0.8562\n",
      "        35                                                  0:00:19          nan    0.8562\n",
      "        36    VotingEnsemble                                0:01:15       0.8595    0.8595\n",
      "        37    StackEnsemble                                 0:01:31       0.8293    0.8595\n"
     ]
    }
   ],
   "source": [
    "remote_run = experiment.submit(automl_config, show_output=True)"
   ]
  },
  {
   "cell_type": "markdown",
   "metadata": {},
   "source": [
    "## Run Details\n",
    "Use the `RunDetails` widget to show the different experiments."
   ]
  },
  {
   "cell_type": "code",
   "execution_count": 9,
   "metadata": {},
   "outputs": [
    {
     "data": {
      "application/vnd.jupyter.widget-view+json": {
       "model_id": "671674bce1bc479d94dd6fcb73729ac7",
       "version_major": 2,
       "version_minor": 0
      },
      "text/plain": [
       "_AutoMLWidget(widget_settings={'childWidgetDisplay': 'popup', 'send_telemetry': False, 'log_level': 'INFO', 's…"
      ]
     },
     "metadata": {},
     "output_type": "display_data"
    },
    {
     "data": {
      "application/aml.mini.widget.v1": "{\"status\": \"Completed\", \"workbench_run_details_uri\": \"https://ml.azure.com/experiments/automl-heart-experiment/runs/AutoML_9245f821-c61e-417e-a3b7-85db6aa64f61?wsid=/subscriptions/cdbe0b43-92a0-4715-838a-f2648cc7ad21/resourcegroups/aml-quickstarts-136710/workspaces/quick-starts-ws-136710\", \"run_id\": \"AutoML_9245f821-c61e-417e-a3b7-85db6aa64f61\", \"run_properties\": {\"run_id\": \"AutoML_9245f821-c61e-417e-a3b7-85db6aa64f61\", \"created_utc\": \"2021-01-31T11:50:05.151445Z\", \"properties\": {\"num_iterations\": \"40\", \"training_type\": \"TrainFull\", \"acquisition_function\": \"EI\", \"primary_metric\": \"accuracy\", \"train_split\": \"0\", \"acquisition_parameter\": \"0\", \"num_cross_validation\": \"3\", \"target\": \"heart-compute\", \"AMLSettingsJsonString\": \"{\\\"path\\\":null,\\\"name\\\":\\\"automl-heart-experiment\\\",\\\"subscription_id\\\":\\\"cdbe0b43-92a0-4715-838a-f2648cc7ad21\\\",\\\"resource_group\\\":\\\"aml-quickstarts-136710\\\",\\\"workspace_name\\\":\\\"quick-starts-ws-136710\\\",\\\"region\\\":\\\"southcentralus\\\",\\\"compute_target\\\":\\\"heart-compute\\\",\\\"spark_service\\\":null,\\\"azure_service\\\":\\\"remote\\\",\\\"many_models\\\":false,\\\"pipeline_fetch_max_batch_size\\\":1,\\\"iterations\\\":40,\\\"primary_metric\\\":\\\"accuracy\\\",\\\"task_type\\\":\\\"classification\\\",\\\"data_script\\\":null,\\\"validation_size\\\":0.0,\\\"n_cross_validations\\\":3,\\\"y_min\\\":null,\\\"y_max\\\":null,\\\"num_classes\\\":null,\\\"featurization\\\":\\\"auto\\\",\\\"_ignore_package_version_incompatibilities\\\":false,\\\"is_timeseries\\\":false,\\\"max_cores_per_iteration\\\":1,\\\"max_concurrent_iterations\\\":4,\\\"iteration_timeout_minutes\\\":null,\\\"mem_in_mb\\\":null,\\\"enforce_time_on_windows\\\":false,\\\"experiment_timeout_minutes\\\":15,\\\"experiment_exit_score\\\":null,\\\"whitelist_models\\\":null,\\\"blacklist_algos\\\":[\\\"TensorFlowLinearClassifier\\\",\\\"TensorFlowDNN\\\"],\\\"supported_models\\\":[\\\"TensorFlowDNN\\\",\\\"LinearSVM\\\",\\\"XGBoostClassifier\\\",\\\"AveragedPerceptronClassifier\\\",\\\"DecisionTree\\\",\\\"LogisticRegression\\\",\\\"GradientBoosting\\\",\\\"TensorFlowLinearClassifier\\\",\\\"BernoulliNaiveBayes\\\",\\\"SGD\\\",\\\"ExtremeRandomTrees\\\",\\\"LightGBM\\\",\\\"SVM\\\",\\\"RandomForest\\\",\\\"KNN\\\",\\\"MultinomialNaiveBayes\\\"],\\\"auto_blacklist\\\":true,\\\"blacklist_samples_reached\\\":false,\\\"exclude_nan_labels\\\":true,\\\"verbosity\\\":20,\\\"_debug_log\\\":\\\"azureml_automl.log\\\",\\\"show_warnings\\\":false,\\\"model_explainability\\\":true,\\\"service_url\\\":null,\\\"sdk_url\\\":null,\\\"sdk_packages\\\":null,\\\"enable_onnx_compatible_models\\\":false,\\\"enable_split_onnx_featurizer_estimator_models\\\":false,\\\"vm_type\\\":\\\"STANDARD_D2_V2\\\",\\\"telemetry_verbosity\\\":20,\\\"send_telemetry\\\":true,\\\"enable_dnn\\\":false,\\\"scenario\\\":\\\"SDK-1.13.0\\\",\\\"environment_label\\\":null,\\\"force_text_dnn\\\":false,\\\"enable_feature_sweeping\\\":true,\\\"enable_early_stopping\\\":true,\\\"early_stopping_n_iters\\\":10,\\\"metrics\\\":null,\\\"enable_ensembling\\\":true,\\\"enable_stack_ensembling\\\":true,\\\"ensemble_iterations\\\":15,\\\"enable_tf\\\":false,\\\"enable_subsampling\\\":false,\\\"subsample_seed\\\":null,\\\"enable_nimbusml\\\":false,\\\"enable_streaming\\\":false,\\\"force_streaming\\\":false,\\\"track_child_runs\\\":true,\\\"allowed_private_models\\\":[],\\\"label_column_name\\\":\\\"DEATH_EVENT\\\",\\\"weight_column_name\\\":null,\\\"cv_split_column_names\\\":null,\\\"enable_local_managed\\\":false,\\\"_local_managed_run_id\\\":null,\\\"cost_mode\\\":1,\\\"lag_length\\\":0,\\\"metric_operation\\\":\\\"maximize\\\",\\\"preprocess\\\":true}\", \"DataPrepJsonString\": \"{\\\\\\\"training_data\\\\\\\": \\\\\\\"{\\\\\\\\\\\\\\\"blocks\\\\\\\\\\\\\\\": [{\\\\\\\\\\\\\\\"id\\\\\\\\\\\\\\\": \\\\\\\\\\\\\\\"a871689b-e1a5-4074-95da-9ff1408cb06c\\\\\\\\\\\\\\\", \\\\\\\\\\\\\\\"type\\\\\\\\\\\\\\\": \\\\\\\\\\\\\\\"Microsoft.DPrep.GetDatastoreFilesBlock\\\\\\\\\\\\\\\", \\\\\\\\\\\\\\\"arguments\\\\\\\\\\\\\\\": {\\\\\\\\\\\\\\\"datastores\\\\\\\\\\\\\\\": [{\\\\\\\\\\\\\\\"datastoreName\\\\\\\\\\\\\\\": \\\\\\\\\\\\\\\"workspaceblobstore\\\\\\\\\\\\\\\", \\\\\\\\\\\\\\\"path\\\\\\\\\\\\\\\": \\\\\\\\\\\\\\\"UI/01-31-2021_103119_UTC/heart_failure_clinical_records_dataset.csv\\\\\\\\\\\\\\\", \\\\\\\\\\\\\\\"resourceGroup\\\\\\\\\\\\\\\": \\\\\\\\\\\\\\\"aml-quickstarts-136710\\\\\\\\\\\\\\\", \\\\\\\\\\\\\\\"subscription\\\\\\\\\\\\\\\": \\\\\\\\\\\\\\\"cdbe0b43-92a0-4715-838a-f2648cc7ad21\\\\\\\\\\\\\\\", \\\\\\\\\\\\\\\"workspaceName\\\\\\\\\\\\\\\": \\\\\\\\\\\\\\\"quick-starts-ws-136710\\\\\\\\\\\\\\\"}]}, \\\\\\\\\\\\\\\"localData\\\\\\\\\\\\\\\": {}, \\\\\\\\\\\\\\\"isEnabled\\\\\\\\\\\\\\\": true, \\\\\\\\\\\\\\\"name\\\\\\\\\\\\\\\": null, \\\\\\\\\\\\\\\"annotation\\\\\\\\\\\\\\\": null}, {\\\\\\\\\\\\\\\"id\\\\\\\\\\\\\\\": \\\\\\\\\\\\\\\"7e576027-1ac8-47b7-b8cc-e991a0189c8a\\\\\\\\\\\\\\\", \\\\\\\\\\\\\\\"type\\\\\\\\\\\\\\\": \\\\\\\\\\\\\\\"Microsoft.DPrep.ParseDelimitedBlock\\\\\\\\\\\\\\\", \\\\\\\\\\\\\\\"arguments\\\\\\\\\\\\\\\": {\\\\\\\\\\\\\\\"columnHeadersMode\\\\\\\\\\\\\\\": 1, \\\\\\\\\\\\\\\"fileEncoding\\\\\\\\\\\\\\\": 0, \\\\\\\\\\\\\\\"handleQuotedLineBreaks\\\\\\\\\\\\\\\": false, \\\\\\\\\\\\\\\"preview\\\\\\\\\\\\\\\": false, \\\\\\\\\\\\\\\"separator\\\\\\\\\\\\\\\": \\\\\\\\\\\\\\\",\\\\\\\\\\\\\\\", \\\\\\\\\\\\\\\"skipRows\\\\\\\\\\\\\\\": 0, \\\\\\\\\\\\\\\"skipRowsMode\\\\\\\\\\\\\\\": 0}, \\\\\\\\\\\\\\\"localData\\\\\\\\\\\\\\\": {}, \\\\\\\\\\\\\\\"isEnabled\\\\\\\\\\\\\\\": true, \\\\\\\\\\\\\\\"name\\\\\\\\\\\\\\\": null, \\\\\\\\\\\\\\\"annotation\\\\\\\\\\\\\\\": null}, {\\\\\\\\\\\\\\\"id\\\\\\\\\\\\\\\": \\\\\\\\\\\\\\\"40aee7d4-5489-41a9-a4dc-7b98350ded4c\\\\\\\\\\\\\\\", \\\\\\\\\\\\\\\"type\\\\\\\\\\\\\\\": \\\\\\\\\\\\\\\"Microsoft.DPrep.DropColumnsBlock\\\\\\\\\\\\\\\", \\\\\\\\\\\\\\\"arguments\\\\\\\\\\\\\\\": {\\\\\\\\\\\\\\\"columns\\\\\\\\\\\\\\\": {\\\\\\\\\\\\\\\"type\\\\\\\\\\\\\\\": 0, \\\\\\\\\\\\\\\"details\\\\\\\\\\\\\\\": {\\\\\\\\\\\\\\\"selectedColumns\\\\\\\\\\\\\\\": [\\\\\\\\\\\\\\\"Path\\\\\\\\\\\\\\\"]}}}, \\\\\\\\\\\\\\\"localData\\\\\\\\\\\\\\\": {}, \\\\\\\\\\\\\\\"isEnabled\\\\\\\\\\\\\\\": true, \\\\\\\\\\\\\\\"name\\\\\\\\\\\\\\\": null, \\\\\\\\\\\\\\\"annotation\\\\\\\\\\\\\\\": null}, {\\\\\\\\\\\\\\\"id\\\\\\\\\\\\\\\": \\\\\\\\\\\\\\\"63ef99a8-cd60-4e4c-b596-706c6f76b34d\\\\\\\\\\\\\\\", \\\\\\\\\\\\\\\"type\\\\\\\\\\\\\\\": \\\\\\\\\\\\\\\"Microsoft.DPrep.SetColumnTypesBlock\\\\\\\\\\\\\\\", \\\\\\\\\\\\\\\"arguments\\\\\\\\\\\\\\\": {\\\\\\\\\\\\\\\"columnConversion\\\\\\\\\\\\\\\": [{\\\\\\\\\\\\\\\"column\\\\\\\\\\\\\\\": {\\\\\\\\\\\\\\\"type\\\\\\\\\\\\\\\": 2, \\\\\\\\\\\\\\\"details\\\\\\\\\\\\\\\": {\\\\\\\\\\\\\\\"selectedColumn\\\\\\\\\\\\\\\": \\\\\\\\\\\\\\\"Path\\\\\\\\\\\\\\\"}}, \\\\\\\\\\\\\\\"typeProperty\\\\\\\\\\\\\\\": 0}, {\\\\\\\\\\\\\\\"column\\\\\\\\\\\\\\\": {\\\\\\\\\\\\\\\"type\\\\\\\\\\\\\\\": 2, \\\\\\\\\\\\\\\"details\\\\\\\\\\\\\\\": {\\\\\\\\\\\\\\\"selectedColumn\\\\\\\\\\\\\\\": \\\\\\\\\\\\\\\"age\\\\\\\\\\\\\\\"}}, \\\\\\\\\\\\\\\"typeProperty\\\\\\\\\\\\\\\": 3}, {\\\\\\\\\\\\\\\"column\\\\\\\\\\\\\\\": {\\\\\\\\\\\\\\\"type\\\\\\\\\\\\\\\": 2, \\\\\\\\\\\\\\\"details\\\\\\\\\\\\\\\": {\\\\\\\\\\\\\\\"selectedColumn\\\\\\\\\\\\\\\": \\\\\\\\\\\\\\\"anaemia\\\\\\\\\\\\\\\"}}, \\\\\\\\\\\\\\\"typeProperty\\\\\\\\\\\\\\\": 2}, {\\\\\\\\\\\\\\\"column\\\\\\\\\\\\\\\": {\\\\\\\\\\\\\\\"type\\\\\\\\\\\\\\\": 2, \\\\\\\\\\\\\\\"details\\\\\\\\\\\\\\\": {\\\\\\\\\\\\\\\"selectedColumn\\\\\\\\\\\\\\\": \\\\\\\\\\\\\\\"creatinine_phosphokinase\\\\\\\\\\\\\\\"}}, \\\\\\\\\\\\\\\"typeProperty\\\\\\\\\\\\\\\": 2}, {\\\\\\\\\\\\\\\"column\\\\\\\\\\\\\\\": {\\\\\\\\\\\\\\\"type\\\\\\\\\\\\\\\": 2, \\\\\\\\\\\\\\\"details\\\\\\\\\\\\\\\": {\\\\\\\\\\\\\\\"selectedColumn\\\\\\\\\\\\\\\": \\\\\\\\\\\\\\\"diabetes\\\\\\\\\\\\\\\"}}, \\\\\\\\\\\\\\\"typeProperty\\\\\\\\\\\\\\\": 2}, {\\\\\\\\\\\\\\\"column\\\\\\\\\\\\\\\": {\\\\\\\\\\\\\\\"type\\\\\\\\\\\\\\\": 2, \\\\\\\\\\\\\\\"details\\\\\\\\\\\\\\\": {\\\\\\\\\\\\\\\"selectedColumn\\\\\\\\\\\\\\\": \\\\\\\\\\\\\\\"ejection_fraction\\\\\\\\\\\\\\\"}}, \\\\\\\\\\\\\\\"typeProperty\\\\\\\\\\\\\\\": 2}, {\\\\\\\\\\\\\\\"column\\\\\\\\\\\\\\\": {\\\\\\\\\\\\\\\"type\\\\\\\\\\\\\\\": 2, \\\\\\\\\\\\\\\"details\\\\\\\\\\\\\\\": {\\\\\\\\\\\\\\\"selectedColumn\\\\\\\\\\\\\\\": \\\\\\\\\\\\\\\"high_blood_pressure\\\\\\\\\\\\\\\"}}, \\\\\\\\\\\\\\\"typeProperty\\\\\\\\\\\\\\\": 2}, {\\\\\\\\\\\\\\\"column\\\\\\\\\\\\\\\": {\\\\\\\\\\\\\\\"type\\\\\\\\\\\\\\\": 2, \\\\\\\\\\\\\\\"details\\\\\\\\\\\\\\\": {\\\\\\\\\\\\\\\"selectedColumn\\\\\\\\\\\\\\\": \\\\\\\\\\\\\\\"platelets\\\\\\\\\\\\\\\"}}, \\\\\\\\\\\\\\\"typeProperty\\\\\\\\\\\\\\\": 3}, {\\\\\\\\\\\\\\\"column\\\\\\\\\\\\\\\": {\\\\\\\\\\\\\\\"type\\\\\\\\\\\\\\\": 2, \\\\\\\\\\\\\\\"details\\\\\\\\\\\\\\\": {\\\\\\\\\\\\\\\"selectedColumn\\\\\\\\\\\\\\\": \\\\\\\\\\\\\\\"serum_creatinine\\\\\\\\\\\\\\\"}}, \\\\\\\\\\\\\\\"typeProperty\\\\\\\\\\\\\\\": 3}, {\\\\\\\\\\\\\\\"column\\\\\\\\\\\\\\\": {\\\\\\\\\\\\\\\"type\\\\\\\\\\\\\\\": 2, \\\\\\\\\\\\\\\"details\\\\\\\\\\\\\\\": {\\\\\\\\\\\\\\\"selectedColumn\\\\\\\\\\\\\\\": \\\\\\\\\\\\\\\"serum_sodium\\\\\\\\\\\\\\\"}}, \\\\\\\\\\\\\\\"typeProperty\\\\\\\\\\\\\\\": 2}, {\\\\\\\\\\\\\\\"column\\\\\\\\\\\\\\\": {\\\\\\\\\\\\\\\"type\\\\\\\\\\\\\\\": 2, \\\\\\\\\\\\\\\"details\\\\\\\\\\\\\\\": {\\\\\\\\\\\\\\\"selectedColumn\\\\\\\\\\\\\\\": \\\\\\\\\\\\\\\"sex\\\\\\\\\\\\\\\"}}, \\\\\\\\\\\\\\\"typeProperty\\\\\\\\\\\\\\\": 2}, {\\\\\\\\\\\\\\\"column\\\\\\\\\\\\\\\": {\\\\\\\\\\\\\\\"type\\\\\\\\\\\\\\\": 2, \\\\\\\\\\\\\\\"details\\\\\\\\\\\\\\\": {\\\\\\\\\\\\\\\"selectedColumn\\\\\\\\\\\\\\\": \\\\\\\\\\\\\\\"smoking\\\\\\\\\\\\\\\"}}, \\\\\\\\\\\\\\\"typeProperty\\\\\\\\\\\\\\\": 2}, {\\\\\\\\\\\\\\\"column\\\\\\\\\\\\\\\": {\\\\\\\\\\\\\\\"type\\\\\\\\\\\\\\\": 2, \\\\\\\\\\\\\\\"details\\\\\\\\\\\\\\\": {\\\\\\\\\\\\\\\"selectedColumn\\\\\\\\\\\\\\\": \\\\\\\\\\\\\\\"time\\\\\\\\\\\\\\\"}}, \\\\\\\\\\\\\\\"typeProperty\\\\\\\\\\\\\\\": 2}, {\\\\\\\\\\\\\\\"column\\\\\\\\\\\\\\\": {\\\\\\\\\\\\\\\"type\\\\\\\\\\\\\\\": 2, \\\\\\\\\\\\\\\"details\\\\\\\\\\\\\\\": {\\\\\\\\\\\\\\\"selectedColumn\\\\\\\\\\\\\\\": \\\\\\\\\\\\\\\"DEATH_EVENT\\\\\\\\\\\\\\\"}}, \\\\\\\\\\\\\\\"typeProperty\\\\\\\\\\\\\\\": 2}]}, \\\\\\\\\\\\\\\"localData\\\\\\\\\\\\\\\": {}, \\\\\\\\\\\\\\\"isEnabled\\\\\\\\\\\\\\\": true, \\\\\\\\\\\\\\\"name\\\\\\\\\\\\\\\": null, \\\\\\\\\\\\\\\"annotation\\\\\\\\\\\\\\\": null}], \\\\\\\\\\\\\\\"inspectors\\\\\\\\\\\\\\\": [], \\\\\\\\\\\\\\\"meta\\\\\\\\\\\\\\\": {\\\\\\\\\\\\\\\"savedDatasetId\\\\\\\\\\\\\\\": \\\\\\\\\\\\\\\"1e5b4d82-b871-4d15-bbd3-85e9b14c4ed2\\\\\\\\\\\\\\\", \\\\\\\\\\\\\\\"datasetType\\\\\\\\\\\\\\\": \\\\\\\\\\\\\\\"tabular\\\\\\\\\\\\\\\", \\\\\\\\\\\\\\\"subscriptionId\\\\\\\\\\\\\\\": \\\\\\\\\\\\\\\"cdbe0b43-92a0-4715-838a-f2648cc7ad21\\\\\\\\\\\\\\\", \\\\\\\\\\\\\\\"workspaceId\\\\\\\\\\\\\\\": \\\\\\\\\\\\\\\"0418f4bb-862f-43a9-9ffc-a1114c8964ef\\\\\\\\\\\\\\\", \\\\\\\\\\\\\\\"workspaceLocation\\\\\\\\\\\\\\\": \\\\\\\\\\\\\\\"southcentralus\\\\\\\\\\\\\\\"}}\\\\\\\", \\\\\\\"activities\\\\\\\": 0}\", \"EnableSubsampling\": \"False\", \"runTemplate\": \"AutoML\", \"azureml.runsource\": \"automl\", \"display_task_type\": \"classification\", \"dependencies_versions\": \"{\\\"azureml-widgets\\\": \\\"1.20.0\\\", \\\"azureml-train\\\": \\\"1.20.0\\\", \\\"azureml-train-restclients-hyperdrive\\\": \\\"1.20.0\\\", \\\"azureml-train-core\\\": \\\"1.20.0\\\", \\\"azureml-train-automl\\\": \\\"1.20.0\\\", \\\"azureml-train-automl-runtime\\\": \\\"1.20.0\\\", \\\"azureml-train-automl-client\\\": \\\"1.20.0\\\", \\\"azureml-tensorboard\\\": \\\"1.20.0\\\", \\\"azureml-telemetry\\\": \\\"1.20.0\\\", \\\"azureml-sdk\\\": \\\"1.20.0\\\", \\\"azureml-samples\\\": \\\"0+unknown\\\", \\\"azureml-pipeline\\\": \\\"1.20.0\\\", \\\"azureml-pipeline-steps\\\": \\\"1.20.0\\\", \\\"azureml-pipeline-core\\\": \\\"1.20.0\\\", \\\"azureml-opendatasets\\\": \\\"1.20.0\\\", \\\"azureml-model-management-sdk\\\": \\\"1.0.1b6.post1\\\", \\\"azureml-mlflow\\\": \\\"1.20.0.post1\\\", \\\"azureml-interpret\\\": \\\"1.20.0\\\", \\\"azureml-explain-model\\\": \\\"1.20.0\\\", \\\"azureml-defaults\\\": \\\"1.20.0\\\", \\\"azureml-dataset-runtime\\\": \\\"1.20.0\\\", \\\"azureml-dataprep\\\": \\\"2.7.3\\\", \\\"azureml-dataprep-rslex\\\": \\\"1.5.0\\\", \\\"azureml-dataprep-native\\\": \\\"27.0.0\\\", \\\"azureml-datadrift\\\": \\\"1.20.0\\\", \\\"azureml-core\\\": \\\"1.20.0\\\", \\\"azureml-contrib-services\\\": \\\"1.20.0\\\", \\\"azureml-contrib-server\\\": \\\"1.20.0\\\", \\\"azureml-contrib-reinforcementlearning\\\": \\\"1.20.0\\\", \\\"azureml-contrib-pipeline-steps\\\": \\\"1.20.0\\\", \\\"azureml-contrib-notebook\\\": \\\"1.20.0\\\", \\\"azureml-contrib-interpret\\\": \\\"1.20.0\\\", \\\"azureml-contrib-gbdt\\\": \\\"1.20.0\\\", \\\"azureml-contrib-fairness\\\": \\\"1.20.0\\\", \\\"azureml-contrib-dataset\\\": \\\"1.20.0\\\", \\\"azureml-cli-common\\\": \\\"1.20.0\\\", \\\"azureml-automl-runtime\\\": \\\"1.20.0\\\", \\\"azureml-automl-core\\\": \\\"1.20.0\\\", \\\"azureml-accel-models\\\": \\\"1.20.0\\\"}\", \"_aml_system_scenario_identification\": \"Remote.Parent\", \"ClientType\": \"SDK\", \"environment_cpu_name\": \"AzureML-AutoML\", \"environment_cpu_label\": \"prod\", \"environment_gpu_name\": \"AzureML-AutoML-GPU\", \"environment_gpu_label\": \"prod\", \"root_attribution\": \"automl\", \"attribution\": \"AutoML\", \"Orchestrator\": \"AutoML\", \"CancelUri\": \"https://southcentralus.experiments.azureml.net/jasmine/v1.0/subscriptions/cdbe0b43-92a0-4715-838a-f2648cc7ad21/resourceGroups/aml-quickstarts-136710/providers/Microsoft.MachineLearningServices/workspaces/quick-starts-ws-136710/experimentids/05c716de-3762-41a3-9fde-64d6005514bc/cancel/AutoML_9245f821-c61e-417e-a3b7-85db6aa64f61\", \"ClientSdkVersion\": \"1.20.0.post1\", \"snapshotId\": \"00000000-0000-0000-0000-000000000000\", \"SetupRunId\": \"AutoML_9245f821-c61e-417e-a3b7-85db6aa64f61_setup\", \"SetupRunContainerId\": \"dcid.AutoML_9245f821-c61e-417e-a3b7-85db6aa64f61_setup\", \"FeaturizationRunJsonPath\": \"featurizer_container.json\", \"FeaturizationRunId\": \"AutoML_9245f821-c61e-417e-a3b7-85db6aa64f61_featurize\", \"ProblemInfoJsonString\": \"{\\\"dataset_num_categorical\\\": 0, \\\"is_sparse\\\": false, \\\"subsampling\\\": false, \\\"dataset_classes\\\": 2, \\\"dataset_features\\\": 12, \\\"dataset_samples\\\": 299, \\\"single_frequency_class_detected\\\": false}\", \"ModelExplainRunId\": \"AutoML_9245f821-c61e-417e-a3b7-85db6aa64f61_ModelExplain\"}, \"tags\": {\"model_explain_run\": \"best_run\", \"_aml_system_azureml.automlComponent\": \"AutoML\", \"pipeline_id\": \"\", \"score\": \"\", \"predicted_cost\": \"\", \"fit_time\": \"\", \"training_percent\": \"\", \"iteration\": \"\", \"run_preprocessor\": \"\", \"run_algorithm\": \"\", \"dynamic_whitelisting_iterations\": \"<25>;<30>;<35>;\", \"automl_best_child_run_id\": \"AutoML_9245f821-c61e-417e-a3b7-85db6aa64f61_36\", \"model_explain_best_run_child_id\": \"AutoML_9245f821-c61e-417e-a3b7-85db6aa64f61_36\"}, \"end_time_utc\": \"2021-01-31T12:13:57.239828Z\", \"status\": \"Completed\", \"log_files\": {}, \"log_groups\": [], \"run_duration\": \"0:23:52\"}, \"child_runs\": [{\"run_id\": \"AutoML_9245f821-c61e-417e-a3b7-85db6aa64f61_0\", \"run_number\": 6, \"metric\": null, \"status\": \"Completed\", \"run_type\": \"azureml.scriptrun\", \"training_percent\": \"100\", \"start_time\": \"2021-01-31T11:59:08.517237Z\", \"end_time\": \"2021-01-31T11:59:58.818608Z\", \"created_time\": \"2021-01-31T11:58:57.874433Z\", \"created_time_dt\": \"2021-01-31T11:58:57.874433Z\", \"duration\": \"0:01:00\", \"iteration\": \"0\", \"goal\": \"accuracy_max\", \"run_name\": \"MaxAbsScaler, LightGBM\", \"run_properties\": \"copy=True\", \"primary_metric\": 0.80252525, \"best_metric\": 0.80252525}, {\"run_id\": \"AutoML_9245f821-c61e-417e-a3b7-85db6aa64f61_2\", \"run_number\": 7, \"metric\": null, \"status\": \"Completed\", \"run_type\": \"azureml.scriptrun\", \"training_percent\": \"100\", \"start_time\": \"2021-01-31T12:01:21.648968Z\", \"end_time\": \"2021-01-31T12:04:37.912242Z\", \"created_time\": \"2021-01-31T11:58:58.012825Z\", \"created_time_dt\": \"2021-01-31T11:58:58.012825Z\", \"duration\": \"0:05:39\", \"iteration\": \"2\", \"goal\": \"accuracy_max\", \"run_name\": \"MinMaxScaler, RandomForest\", \"run_properties\": \"copy=True, feature_range=(0, 1\", \"primary_metric\": 0.84262626, \"best_metric\": 0.84262626}, {\"run_id\": \"AutoML_9245f821-c61e-417e-a3b7-85db6aa64f61_1\", \"run_number\": 8, \"metric\": null, \"status\": \"Completed\", \"run_type\": \"azureml.scriptrun\", \"training_percent\": \"100\", \"start_time\": \"2021-01-31T12:00:59.898023Z\", \"end_time\": \"2021-01-31T12:01:55.077592Z\", \"created_time\": \"2021-01-31T11:58:58.013363Z\", \"created_time_dt\": \"2021-01-31T11:58:58.013363Z\", \"duration\": \"0:02:57\", \"iteration\": \"1\", \"goal\": \"accuracy_max\", \"run_name\": \"MaxAbsScaler, XGBoostClassifier\", \"run_properties\": \"copy=True\", \"primary_metric\": 0.81929293, \"best_metric\": 0.81929293}, {\"run_id\": \"AutoML_9245f821-c61e-417e-a3b7-85db6aa64f61_3\", \"run_number\": 9, \"metric\": null, \"status\": \"Completed\", \"run_type\": \"azureml.scriptrun\", \"training_percent\": \"100\", \"start_time\": \"2021-01-31T12:00:03.792828Z\", \"end_time\": \"2021-01-31T12:00:54.745969Z\", \"created_time\": \"2021-01-31T11:58:58.02005Z\", \"created_time_dt\": \"2021-01-31T11:58:58.02005Z\", \"duration\": \"0:01:56\", \"iteration\": \"3\", \"goal\": \"accuracy_max\", \"run_name\": \"MinMaxScaler, RandomForest\", \"run_properties\": \"copy=True, feature_range=(0, 1\", \"primary_metric\": 0.83602694, \"best_metric\": 0.84262626}, {\"run_id\": \"AutoML_9245f821-c61e-417e-a3b7-85db6aa64f61_4\", \"run_number\": 10, \"metric\": null, \"status\": \"Completed\", \"run_type\": \"azureml.scriptrun\", \"training_percent\": \"100\", \"start_time\": \"2021-01-31T12:01:19.167161Z\", \"end_time\": \"2021-01-31T12:04:59.488572Z\", \"created_time\": \"2021-01-31T12:00:00.739673Z\", \"created_time_dt\": \"2021-01-31T12:00:00.739673Z\", \"duration\": \"0:04:58\", \"iteration\": \"4\", \"goal\": \"accuracy_max\", \"run_name\": \"MinMaxScaler, RandomForest\", \"run_properties\": \"copy=True, feature_range=(0, 1\", \"primary_metric\": 0.83946128, \"best_metric\": 0.84262626}, {\"run_id\": \"AutoML_9245f821-c61e-417e-a3b7-85db6aa64f61_5\", \"run_number\": 11, \"metric\": null, \"status\": \"Completed\", \"run_type\": \"azureml.scriptrun\", \"training_percent\": \"100\", \"start_time\": \"2021-01-31T12:01:20.785959Z\", \"end_time\": \"2021-01-31T12:04:47.505885Z\", \"created_time\": \"2021-01-31T12:00:58.134169Z\", \"created_time_dt\": \"2021-01-31T12:00:58.134169Z\", \"duration\": \"0:03:49\", \"iteration\": \"5\", \"goal\": \"accuracy_max\", \"run_name\": \"StandardScalerWrapper, LightGBM\", \"run_properties\": \"<azureml.automl.runtime.shared.model_wrappers.StandardScalerWrapper object at 0x7f9882c62390\", \"primary_metric\": 0.81606061, \"best_metric\": 0.84262626}, {\"run_id\": \"AutoML_9245f821-c61e-417e-a3b7-85db6aa64f61_6\", \"run_number\": 12, \"metric\": null, \"status\": \"Completed\", \"run_type\": \"azureml.scriptrun\", \"training_percent\": \"100\", \"start_time\": \"2021-01-31T12:02:10.260079Z\", \"end_time\": \"2021-01-31T12:02:58.076412Z\", \"created_time\": \"2021-01-31T12:01:58.561969Z\", \"created_time_dt\": \"2021-01-31T12:01:58.561969Z\", \"duration\": \"0:00:59\", \"iteration\": \"6\", \"goal\": \"accuracy_max\", \"run_name\": \"StandardScalerWrapper, LightGBM\", \"run_properties\": \"<azureml.automl.runtime.shared.model_wrappers.StandardScalerWrapper object at 0x7f95f9de0ac8\", \"primary_metric\": 0.78242424, \"best_metric\": 0.84262626}, {\"run_id\": \"AutoML_9245f821-c61e-417e-a3b7-85db6aa64f61_7\", \"run_number\": 13, \"metric\": null, \"status\": \"Completed\", \"run_type\": \"azureml.scriptrun\", \"training_percent\": \"100\", \"start_time\": \"2021-01-31T12:03:13.619159Z\", \"end_time\": \"2021-01-31T12:04:01.549909Z\", \"created_time\": \"2021-01-31T12:03:01.128555Z\", \"created_time_dt\": \"2021-01-31T12:03:01.128555Z\", \"duration\": \"0:01:00\", \"iteration\": \"7\", \"goal\": \"accuracy_max\", \"run_name\": \"MaxAbsScaler, LightGBM\", \"run_properties\": \"copy=True\", \"primary_metric\": 0.84276094, \"best_metric\": 0.84276094}, {\"run_id\": \"AutoML_9245f821-c61e-417e-a3b7-85db6aa64f61_8\", \"run_number\": 14, \"metric\": null, \"status\": \"Completed\", \"run_type\": \"azureml.scriptrun\", \"training_percent\": \"100\", \"start_time\": \"2021-01-31T12:04:15.511558Z\", \"end_time\": \"2021-01-31T12:05:12.66433Z\", \"created_time\": \"2021-01-31T12:04:04.569438Z\", \"created_time_dt\": \"2021-01-31T12:04:04.569438Z\", \"duration\": \"0:01:08\", \"iteration\": \"8\", \"goal\": \"accuracy_max\", \"run_name\": \"MaxAbsScaler, LogisticRegression\", \"run_properties\": \"copy=True\", \"primary_metric\": 0.81929293, \"best_metric\": 0.84276094}, {\"run_id\": \"AutoML_9245f821-c61e-417e-a3b7-85db6aa64f61_9\", \"run_number\": 15, \"metric\": null, \"status\": \"Completed\", \"run_type\": \"azureml.scriptrun\", \"training_percent\": \"100\", \"start_time\": \"2021-01-31T12:04:51.39903Z\", \"end_time\": \"2021-01-31T12:05:36.294937Z\", \"created_time\": \"2021-01-31T12:04:40.507858Z\", \"created_time_dt\": \"2021-01-31T12:04:40.507858Z\", \"duration\": \"0:00:55\", \"iteration\": \"9\", \"goal\": \"accuracy_max\", \"run_name\": \"MinMaxScaler, SVM\", \"run_properties\": \"copy=True, feature_range=(0, 1\", \"primary_metric\": 0.70232323, \"best_metric\": 0.84276094}, {\"run_id\": \"AutoML_9245f821-c61e-417e-a3b7-85db6aa64f61_10\", \"run_number\": 16, \"metric\": null, \"status\": \"Completed\", \"run_type\": \"azureml.scriptrun\", \"training_percent\": \"100\", \"start_time\": \"2021-01-31T12:05:00.216312Z\", \"end_time\": \"2021-01-31T12:05:47.496143Z\", \"created_time\": \"2021-01-31T12:04:50.572384Z\", \"created_time_dt\": \"2021-01-31T12:04:50.572384Z\", \"duration\": \"0:00:56\", \"iteration\": \"10\", \"goal\": \"accuracy_max\", \"run_name\": \"SparseNormalizer, LightGBM\", \"run_properties\": \"<azureml.automl.runtime.shared.model_wrappers.SparseNormalizer object at 0x7fa2551c7668\", \"primary_metric\": 0.81265993, \"best_metric\": 0.84276094}, {\"run_id\": \"AutoML_9245f821-c61e-417e-a3b7-85db6aa64f61_11\", \"run_number\": 17, \"metric\": null, \"status\": \"Completed\", \"run_type\": \"azureml.scriptrun\", \"training_percent\": \"100\", \"start_time\": \"2021-01-31T12:05:15.079248Z\", \"end_time\": \"2021-01-31T12:06:09.937257Z\", \"created_time\": \"2021-01-31T12:05:01.939263Z\", \"created_time_dt\": \"2021-01-31T12:05:01.939263Z\", \"duration\": \"0:01:07\", \"iteration\": \"11\", \"goal\": \"accuracy_max\", \"run_name\": \"RobustScaler, RandomForest\", \"run_properties\": \"copy=True, quantile_range=[25, 75], with_centering=False,\\n             with_scaling=True\", \"primary_metric\": 0.8393266, \"best_metric\": 0.84276094}, {\"run_id\": \"AutoML_9245f821-c61e-417e-a3b7-85db6aa64f61_12\", \"run_number\": 18, \"metric\": null, \"status\": \"Completed\", \"run_type\": \"azureml.scriptrun\", \"training_percent\": \"100\", \"start_time\": \"2021-01-31T12:05:25.480452Z\", \"end_time\": \"2021-01-31T12:06:12.883815Z\", \"created_time\": \"2021-01-31T12:05:15.344155Z\", \"created_time_dt\": \"2021-01-31T12:05:15.344155Z\", \"duration\": \"0:00:57\", \"iteration\": \"12\", \"goal\": \"accuracy_max\", \"run_name\": \"SparseNormalizer, XGBoostClassifier\", \"run_properties\": \"<azureml.automl.runtime.shared.model_wrappers.SparseNormalizer object at 0x7f8950360550\", \"primary_metric\": 0.80265993, \"best_metric\": 0.84276094}, {\"run_id\": \"AutoML_9245f821-c61e-417e-a3b7-85db6aa64f61_13\", \"run_number\": 19, \"metric\": null, \"status\": \"Completed\", \"run_type\": \"azureml.scriptrun\", \"training_percent\": \"100\", \"start_time\": \"2021-01-31T12:05:54.018631Z\", \"end_time\": \"2021-01-31T12:06:48.852186Z\", \"created_time\": \"2021-01-31T12:05:39.189007Z\", \"created_time_dt\": \"2021-01-31T12:05:39.189007Z\", \"duration\": \"0:01:09\", \"iteration\": \"13\", \"goal\": \"accuracy_max\", \"run_name\": \"StandardScalerWrapper, LightGBM\", \"run_properties\": \"<azureml.automl.runtime.shared.model_wrappers.StandardScalerWrapper object at 0x7f9a62d09e80\", \"primary_metric\": 0.84272727, \"best_metric\": 0.84276094}, {\"run_id\": \"AutoML_9245f821-c61e-417e-a3b7-85db6aa64f61_14\", \"run_number\": 20, \"metric\": null, \"status\": \"Completed\", \"run_type\": \"azureml.scriptrun\", \"training_percent\": \"100\", \"start_time\": \"2021-01-31T12:06:02.328053Z\", \"end_time\": \"2021-01-31T12:06:46.870611Z\", \"created_time\": \"2021-01-31T12:05:50.312608Z\", \"created_time_dt\": \"2021-01-31T12:05:50.312608Z\", \"duration\": \"0:00:56\", \"iteration\": \"14\", \"goal\": \"accuracy_max\", \"run_name\": \"RobustScaler, ExtremeRandomTrees\", \"run_properties\": \"copy=True, quantile_range=[25, 75], with_centering=True,\\n             with_scaling=False\", \"primary_metric\": 0.85616162, \"best_metric\": 0.85616162}, {\"run_id\": \"AutoML_9245f821-c61e-417e-a3b7-85db6aa64f61_15\", \"run_number\": 21, \"metric\": null, \"status\": \"Completed\", \"run_type\": \"azureml.scriptrun\", \"training_percent\": \"100\", \"start_time\": \"2021-01-31T12:06:31.260761Z\", \"end_time\": \"2021-01-31T12:07:18.051908Z\", \"created_time\": \"2021-01-31T12:06:13.419515Z\", \"created_time_dt\": \"2021-01-31T12:06:13.419515Z\", \"duration\": \"0:01:04\", \"iteration\": \"15\", \"goal\": \"accuracy_max\", \"run_name\": \"SparseNormalizer, XGBoostClassifier\", \"run_properties\": \"<azureml.automl.runtime.shared.model_wrappers.SparseNormalizer object at 0x7f75fc7b11d0\", \"primary_metric\": 0.82939394, \"best_metric\": 0.85616162}, {\"run_id\": \"AutoML_9245f821-c61e-417e-a3b7-85db6aa64f61_16\", \"run_number\": 22, \"metric\": null, \"status\": \"Completed\", \"run_type\": \"azureml.scriptrun\", \"training_percent\": \"100\", \"start_time\": \"2021-01-31T12:06:37.291439Z\", \"end_time\": \"2021-01-31T12:07:26.156202Z\", \"created_time\": \"2021-01-31T12:06:24.310765Z\", \"created_time_dt\": \"2021-01-31T12:06:24.310765Z\", \"duration\": \"0:01:01\", \"iteration\": \"16\", \"goal\": \"accuracy_max\", \"run_name\": \"StandardScalerWrapper, RandomForest\", \"run_properties\": \"<azureml.automl.runtime.shared.model_wrappers.StandardScalerWrapper object at 0x7fd98992fcc0\", \"primary_metric\": 0.85282828, \"best_metric\": 0.85616162}, {\"run_id\": \"AutoML_9245f821-c61e-417e-a3b7-85db6aa64f61_17\", \"run_number\": 23, \"metric\": null, \"status\": \"Completed\", \"run_type\": \"azureml.scriptrun\", \"training_percent\": \"100\", \"start_time\": \"2021-01-31T12:07:02.81653Z\", \"end_time\": \"2021-01-31T12:07:48.850392Z\", \"created_time\": \"2021-01-31T12:06:49.296559Z\", \"created_time_dt\": \"2021-01-31T12:06:49.296559Z\", \"duration\": \"0:00:59\", \"iteration\": \"17\", \"goal\": \"accuracy_max\", \"run_name\": \"SparseNormalizer, XGBoostClassifier\", \"run_properties\": \"<azureml.automl.runtime.shared.model_wrappers.SparseNormalizer object at 0x7fb6093528d0\", \"primary_metric\": 0.79942761, \"best_metric\": 0.85616162}, {\"run_id\": \"AutoML_9245f821-c61e-417e-a3b7-85db6aa64f61_18\", \"run_number\": 24, \"metric\": null, \"status\": \"Completed\", \"run_type\": \"azureml.scriptrun\", \"training_percent\": \"100\", \"start_time\": \"2021-01-31T12:07:05.513331Z\", \"end_time\": \"2021-01-31T12:07:50.017048Z\", \"created_time\": \"2021-01-31T12:06:55.204503Z\", \"created_time_dt\": \"2021-01-31T12:06:55.204503Z\", \"duration\": \"0:00:54\", \"iteration\": \"18\", \"goal\": \"accuracy_max\", \"run_name\": \"MaxAbsScaler, LightGBM\", \"run_properties\": \"copy=True\", \"primary_metric\": 0.69909091, \"best_metric\": 0.85616162}, {\"run_id\": \"AutoML_9245f821-c61e-417e-a3b7-85db6aa64f61_19\", \"run_number\": 25, \"metric\": null, \"status\": \"Completed\", \"run_type\": \"azureml.scriptrun\", \"training_percent\": \"100\", \"start_time\": \"2021-01-31T12:07:31.398994Z\", \"end_time\": \"2021-01-31T12:08:18.73754Z\", \"created_time\": \"2021-01-31T12:07:20.350739Z\", \"created_time_dt\": \"2021-01-31T12:07:20.350739Z\", \"duration\": \"0:00:58\", \"iteration\": \"19\", \"goal\": \"accuracy_max\", \"run_name\": \"MinMaxScaler, LightGBM\", \"run_properties\": \"copy=True, feature_range=(0, 1\", \"primary_metric\": 0.82262626, \"best_metric\": 0.85616162}, {\"run_id\": \"AutoML_9245f821-c61e-417e-a3b7-85db6aa64f61_20\", \"run_number\": 26, \"metric\": null, \"status\": \"Completed\", \"run_type\": \"azureml.scriptrun\", \"training_percent\": \"100\", \"start_time\": \"2021-01-31T12:07:38.936709Z\", \"end_time\": \"2021-01-31T12:08:26.638556Z\", \"created_time\": \"2021-01-31T12:07:28.451042Z\", \"created_time_dt\": \"2021-01-31T12:07:28.451042Z\", \"duration\": \"0:00:58\", \"iteration\": \"20\", \"goal\": \"accuracy_max\", \"run_name\": \"MaxAbsScaler, LightGBM\", \"run_properties\": \"copy=True\", \"primary_metric\": 0.80259259, \"best_metric\": 0.85616162}, {\"run_id\": \"AutoML_9245f821-c61e-417e-a3b7-85db6aa64f61_21\", \"run_number\": 27, \"metric\": null, \"status\": \"Completed\", \"run_type\": \"azureml.scriptrun\", \"training_percent\": \"100\", \"start_time\": \"2021-01-31T12:08:02.995555Z\", \"end_time\": \"2021-01-31T12:08:52.12332Z\", \"created_time\": \"2021-01-31T12:07:51.030546Z\", \"created_time_dt\": \"2021-01-31T12:07:51.030546Z\", \"duration\": \"0:01:01\", \"iteration\": \"21\", \"goal\": \"accuracy_max\", \"run_name\": \"MaxAbsScaler, ExtremeRandomTrees\", \"run_properties\": \"copy=True\", \"primary_metric\": 0.81936027, \"best_metric\": 0.85616162}, {\"run_id\": \"AutoML_9245f821-c61e-417e-a3b7-85db6aa64f61_22\", \"run_number\": 28, \"metric\": null, \"status\": \"Completed\", \"run_type\": \"azureml.scriptrun\", \"training_percent\": \"100\", \"start_time\": \"2021-01-31T12:08:11.601961Z\", \"end_time\": \"2021-01-31T12:08:55.34862Z\", \"created_time\": \"2021-01-31T12:07:56.255816Z\", \"created_time_dt\": \"2021-01-31T12:07:56.255816Z\", \"duration\": \"0:00:59\", \"iteration\": \"22\", \"goal\": \"accuracy_max\", \"run_name\": \"MinMaxScaler, LightGBM\", \"run_properties\": \"copy=True, feature_range=(0, 1\", \"primary_metric\": 0.80929293, \"best_metric\": 0.85616162}, {\"run_id\": \"AutoML_9245f821-c61e-417e-a3b7-85db6aa64f61_23\", \"run_number\": 29, \"metric\": null, \"status\": \"Completed\", \"run_type\": \"azureml.scriptrun\", \"training_percent\": \"100\", \"start_time\": \"2021-01-31T12:08:36.918592Z\", \"end_time\": \"2021-01-31T12:09:26.267602Z\", \"created_time\": \"2021-01-31T12:08:22.374937Z\", \"created_time_dt\": \"2021-01-31T12:08:22.374937Z\", \"duration\": \"0:01:03\", \"iteration\": \"23\", \"goal\": \"accuracy_max\", \"run_name\": \"StandardScalerWrapper, LightGBM\", \"run_properties\": \"<azureml.automl.runtime.shared.model_wrappers.StandardScalerWrapper object at 0x7f0c89c66160\", \"primary_metric\": 0.82939394, \"best_metric\": 0.85616162}, {\"run_id\": \"AutoML_9245f821-c61e-417e-a3b7-85db6aa64f61_24\", \"run_number\": 30, \"metric\": null, \"status\": \"Completed\", \"run_type\": \"azureml.scriptrun\", \"training_percent\": \"100\", \"start_time\": \"2021-01-31T12:08:43.78078Z\", \"end_time\": \"2021-01-31T12:09:27.802348Z\", \"created_time\": \"2021-01-31T12:08:30.202575Z\", \"created_time_dt\": \"2021-01-31T12:08:30.202575Z\", \"duration\": \"0:00:57\", \"iteration\": \"24\", \"goal\": \"accuracy_max\", \"run_name\": \"MinMaxScaler, LightGBM\", \"run_properties\": \"copy=True, feature_range=(0, 1\", \"primary_metric\": 0.77582492, \"best_metric\": 0.85616162}, {\"run_id\": \"AutoML_9245f821-c61e-417e-a3b7-85db6aa64f61_25\", \"run_number\": 31, \"metric\": null, \"status\": \"Completed\", \"run_type\": \"azureml.scriptrun\", \"training_percent\": \"100\", \"start_time\": \"2021-01-31T12:09:07.525987Z\", \"end_time\": \"2021-01-31T12:09:58.465035Z\", \"created_time\": \"2021-01-31T12:08:55.924585Z\", \"created_time_dt\": \"2021-01-31T12:08:55.924585Z\", \"duration\": \"0:01:02\", \"iteration\": \"25\", \"goal\": \"accuracy_max\", \"run_name\": \"TruncatedSVDWrapper, ExtremeRandomTrees\", \"run_properties\": \"n_components=0.10894736842105263, random_state=None\", \"primary_metric\": 0.67902357, \"best_metric\": 0.85616162}, {\"run_id\": \"AutoML_9245f821-c61e-417e-a3b7-85db6aa64f61_26\", \"run_number\": 32, \"metric\": null, \"status\": \"Completed\", \"run_type\": \"azureml.scriptrun\", \"training_percent\": \"100\", \"start_time\": \"2021-01-31T12:09:16.077573Z\", \"end_time\": \"2021-01-31T12:10:05.402018Z\", \"created_time\": \"2021-01-31T12:09:02.021801Z\", \"created_time_dt\": \"2021-01-31T12:09:02.021801Z\", \"duration\": \"0:01:03\", \"iteration\": \"26\", \"goal\": \"accuracy_max\", \"run_name\": \"MaxAbsScaler, LightGBM\", \"run_properties\": \"copy=True\", \"primary_metric\": 0.80929293, \"best_metric\": 0.85616162}, {\"run_id\": \"AutoML_9245f821-c61e-417e-a3b7-85db6aa64f61_27\", \"run_number\": 33, \"metric\": null, \"status\": \"Completed\", \"run_type\": \"azureml.scriptrun\", \"training_percent\": \"100\", \"start_time\": \"2021-01-31T12:09:46.597097Z\", \"end_time\": \"2021-01-31T12:10:37.731678Z\", \"created_time\": \"2021-01-31T12:09:33.635316Z\", \"created_time_dt\": \"2021-01-31T12:09:33.635316Z\", \"duration\": \"0:01:04\", \"iteration\": \"27\", \"goal\": \"accuracy_max\", \"run_name\": \"MinMaxScaler, LightGBM\", \"run_properties\": \"copy=True, feature_range=(0, 1\", \"primary_metric\": 0.82922559, \"best_metric\": 0.85616162}, {\"run_id\": \"AutoML_9245f821-c61e-417e-a3b7-85db6aa64f61_28\", \"run_number\": 34, \"metric\": null, \"status\": \"Completed\", \"run_type\": \"azureml.scriptrun\", \"training_percent\": \"100\", \"start_time\": \"2021-01-31T12:09:53.410076Z\", \"end_time\": \"2021-01-31T12:10:44.855285Z\", \"created_time\": \"2021-01-31T12:09:39.397843Z\", \"created_time_dt\": \"2021-01-31T12:09:39.397843Z\", \"duration\": \"0:01:05\", \"iteration\": \"28\", \"goal\": \"accuracy_max\", \"run_name\": \"StandardScalerWrapper, RandomForest\", \"run_properties\": \"<azureml.automl.runtime.shared.model_wrappers.StandardScalerWrapper object at 0x7f64fc9b6e10\", \"primary_metric\": 0.77255892, \"best_metric\": 0.85616162}, {\"run_id\": \"AutoML_9245f821-c61e-417e-a3b7-85db6aa64f61_29\", \"run_number\": 35, \"metric\": null, \"status\": \"Completed\", \"run_type\": \"azureml.scriptrun\", \"training_percent\": \"100\", \"start_time\": \"2021-01-31T12:10:16.297026Z\", \"end_time\": \"2021-01-31T12:11:10.294589Z\", \"created_time\": \"2021-01-31T12:10:01.798952Z\", \"created_time_dt\": \"2021-01-31T12:10:01.798952Z\", \"duration\": \"0:01:08\", \"iteration\": \"29\", \"goal\": \"accuracy_max\", \"run_name\": \"MaxAbsScaler, ExtremeRandomTrees\", \"run_properties\": \"copy=True\", \"primary_metric\": 0.81259259, \"best_metric\": 0.85616162}, {\"run_id\": \"AutoML_9245f821-c61e-417e-a3b7-85db6aa64f61_30\", \"run_number\": 36, \"metric\": null, \"status\": \"Completed\", \"run_type\": \"azureml.scriptrun\", \"training_percent\": \"100\", \"start_time\": \"2021-01-31T12:10:19.636816Z\", \"end_time\": \"2021-01-31T12:11:04.107723Z\", \"created_time\": \"2021-01-31T12:10:08.86203Z\", \"created_time_dt\": \"2021-01-31T12:10:08.86203Z\", \"duration\": \"0:00:55\", \"iteration\": \"30\", \"goal\": \"accuracy_max\", \"run_name\": \"StandardScalerWrapper, ExtremeRandomTrees\", \"run_properties\": \"<azureml.automl.runtime.shared.model_wrappers.StandardScalerWrapper object at 0x7f8360b8fcf8\", \"primary_metric\": 0.47451178, \"best_metric\": 0.85616162}, {\"run_id\": \"AutoML_9245f821-c61e-417e-a3b7-85db6aa64f61_31\", \"run_number\": 37, \"metric\": null, \"status\": \"Completed\", \"run_type\": \"azureml.scriptrun\", \"training_percent\": \"100\", \"start_time\": \"2021-01-31T12:10:52.780596Z\", \"end_time\": \"2021-01-31T12:11:41.004413Z\", \"created_time\": \"2021-01-31T12:10:40.23102Z\", \"created_time_dt\": \"2021-01-31T12:10:40.23102Z\", \"duration\": \"0:01:00\", \"iteration\": \"31\", \"goal\": \"accuracy_max\", \"run_name\": \"StandardScalerWrapper, RandomForest\", \"run_properties\": \"<azureml.automl.runtime.shared.model_wrappers.StandardScalerWrapper object at 0x7f1c8853c160\", \"primary_metric\": 0.81585859, \"best_metric\": 0.85616162}, {\"run_id\": \"AutoML_9245f821-c61e-417e-a3b7-85db6aa64f61_32\", \"run_number\": 38, \"metric\": null, \"status\": \"Completed\", \"run_type\": \"azureml.scriptrun\", \"training_percent\": \"100\", \"start_time\": \"2021-01-31T12:10:58.648071Z\", \"end_time\": \"2021-01-31T12:11:43.73333Z\", \"created_time\": \"2021-01-31T12:10:47.270098Z\", \"created_time_dt\": \"2021-01-31T12:10:47.270098Z\", \"duration\": \"0:00:56\", \"iteration\": \"32\", \"goal\": \"accuracy_max\", \"run_name\": \"SparseNormalizer, ExtremeRandomTrees\", \"run_properties\": \"<azureml.automl.runtime.shared.model_wrappers.SparseNormalizer object at 0x7fe532d2b198\", \"primary_metric\": 0.75585859, \"best_metric\": 0.85616162}, {\"run_id\": \"AutoML_9245f821-c61e-417e-a3b7-85db6aa64f61_33\", \"run_number\": 39, \"metric\": null, \"status\": \"Canceled\", \"run_type\": \"azureml.scriptrun\", \"training_percent\": \"100\", \"start_time\": \"2021-01-31T12:11:19.92016Z\", \"end_time\": \"2021-01-31T12:11:56.488608Z\", \"created_time\": \"2021-01-31T12:11:07.803149Z\", \"created_time_dt\": \"2021-01-31T12:11:07.803149Z\", \"duration\": \"0:00:48\", \"iteration\": \"33\", \"goal\": \"accuracy_max\", \"run_name\": \"MinMaxScaler, LightGBM\", \"run_properties\": \"copy=True, feature_range=(0, 1\", \"primary_metric\": 0.81616162, \"best_metric\": 0.85616162}, {\"run_id\": \"AutoML_9245f821-c61e-417e-a3b7-85db6aa64f61_34\", \"run_number\": 40, \"metric\": null, \"status\": \"Canceled\", \"run_type\": \"azureml.scriptrun\", \"training_percent\": \"100\", \"start_time\": \"2021-01-31T12:11:28.905029Z\", \"end_time\": \"2021-01-31T12:11:55.805765Z\", \"created_time\": \"2021-01-31T12:11:14.619707Z\", \"created_time_dt\": \"2021-01-31T12:11:14.619707Z\", \"duration\": \"0:00:41\", \"iteration\": \"34\", \"goal\": null, \"run_name\": \"StandardScalerWrapper, LightGBM\", \"run_properties\": null}, {\"run_id\": \"AutoML_9245f821-c61e-417e-a3b7-85db6aa64f61_35\", \"run_number\": 41, \"metric\": null, \"status\": \"Canceled\", \"run_type\": \"azureml.scriptrun\", \"training_percent\": \"100\", \"start_time\": \"2021-01-31T12:11:45.48185Z\", \"end_time\": \"2021-01-31T12:12:04.357932Z\", \"created_time\": \"2021-01-31T12:11:45.48185Z\", \"created_time_dt\": \"2021-01-31T12:11:45.48185Z\", \"duration\": \"0:00:18\", \"iteration\": \"35\", \"goal\": null, \"run_name\": \"Canceled\", \"run_properties\": null}, {\"run_id\": \"AutoML_9245f821-c61e-417e-a3b7-85db6aa64f61_36\", \"run_number\": 42, \"metric\": null, \"status\": \"Completed\", \"run_type\": \"azureml.scriptrun\", \"training_percent\": \"100\", \"start_time\": \"2021-01-31T12:12:19.227749Z\", \"end_time\": \"2021-01-31T12:13:34.433568Z\", \"created_time\": \"2021-01-31T12:12:06.571537Z\", \"created_time_dt\": \"2021-01-31T12:12:06.571537Z\", \"duration\": \"0:01:27\", \"iteration\": \"36\", \"goal\": \"accuracy_max\", \"run_name\": \"VotingEnsemble\", \"run_properties\": \"classification_labels=None,\\n                              estimators=[('14',\\n                                           Pipeline(memory=None,\\n                                                    steps=[('robustscaler',\\n                                                            RobustScaler(copy=True,\\n                                                                         quantile_range=[25,\\n                                                                                         75],\\n                                                                         with_centering=True,\\n                                                                         with_scaling=False\", \"primary_metric\": 0.85952862, \"best_metric\": 0.85952862}, {\"run_id\": \"AutoML_9245f821-c61e-417e-a3b7-85db6aa64f61_37\", \"run_number\": 43, \"metric\": null, \"status\": \"Completed\", \"run_type\": \"azureml.scriptrun\", \"training_percent\": \"100\", \"start_time\": \"2021-01-31T12:12:19.34133Z\", \"end_time\": \"2021-01-31T12:13:50.723958Z\", \"created_time\": \"2021-01-31T12:12:06.657235Z\", \"created_time_dt\": \"2021-01-31T12:12:06.657235Z\", \"duration\": \"0:01:44\", \"iteration\": \"37\", \"goal\": \"accuracy_max\", \"run_name\": \"StackEnsemble\", \"run_properties\": \"base_learners=[('14',\\n                                        Pipeline(memory=None,\\n                                                 steps=[('robustscaler',\\n                                                         RobustScaler(copy=True,\\n                                                                      quantile_range=[25,\\n                                                                                      75],\\n                                                                      with_centering=True,\\n                                                                      with_scaling=False\", \"primary_metric\": 0.82929293, \"best_metric\": 0.85952862}], \"children_metrics\": {\"categories\": [0], \"series\": {\"average_precision_score_micro\": [{\"categories\": [\"0\", \"1\", \"2\", \"3\", \"4\", \"5\", \"6\", \"7\", \"8\", \"9\", \"10\", \"11\", \"12\", \"13\", \"14\", \"15\", \"16\", \"17\", \"18\", \"19\", \"20\", \"21\", \"22\", \"23\", \"24\", \"25\", \"26\", \"27\", \"28\", \"29\", \"30\", \"31\", \"32\", \"33\", \"36\", \"37\"], \"mode\": \"markers\", \"name\": \"average_precision_score_micro\", \"stepped\": false, \"type\": \"scatter\", \"data\": [0.8707751210307144, 0.8886385174313017, 0.9098776387091759, 0.8865281377447717, 0.9016154422220272, 0.870152573073853, 0.8738968069369908, 0.8933441390841729, 0.8698098393477225, 0.7883054949385983, 0.8643694948883017, 0.9070573065670909, 0.8539928366633033, 0.894940918663783, 0.8990574028970952, 0.8840700802473521, 0.908234692788457, 0.8659903758597212, 0.835060711294645, 0.8880883003543888, 0.8709173320973704, 0.8808517485004915, 0.8866537186553008, 0.8929478929150475, 0.8743207429859569, 0.6335292049493063, 0.8982841959454614, 0.8876162433952951, 0.8864002836996258, 0.880831361055045, 0.554147150169845, 0.8908877163769876, 0.8325685650743009, 0.8906117183233796, 0.9087606349983991, 0.9026573637512979]}, {\"categories\": [\"0\", \"1\", \"2\", \"3\", \"4\", \"5\", \"6\", \"7\", \"8\", \"9\", \"10\", \"11\", \"12\", \"13\", \"14\", \"15\", \"16\", \"17\", \"18\", \"19\", \"20\", \"21\", \"22\", \"23\", \"24\", \"25\", \"26\", \"27\", \"28\", \"29\", \"30\", \"31\", \"32\", \"33\", \"36\", \"37\"], \"mode\": \"lines\", \"name\": \"average_precision_score_micro_max\", \"stepped\": true, \"type\": \"scatter\", \"data\": [0.8707751210307144, 0.8886385174313017, 0.9098776387091759, 0.9098776387091759, 0.9098776387091759, 0.9098776387091759, 0.9098776387091759, 0.9098776387091759, 0.9098776387091759, 0.9098776387091759, 0.9098776387091759, 0.9098776387091759, 0.9098776387091759, 0.9098776387091759, 0.9098776387091759, 0.9098776387091759, 0.9098776387091759, 0.9098776387091759, 0.9098776387091759, 0.9098776387091759, 0.9098776387091759, 0.9098776387091759, 0.9098776387091759, 0.9098776387091759, 0.9098776387091759, 0.9098776387091759, 0.9098776387091759, 0.9098776387091759, 0.9098776387091759, 0.9098776387091759, 0.9098776387091759, 0.9098776387091759, 0.9098776387091759, 0.9098776387091759, 0.9098776387091759, 0.9098776387091759]}], \"precision_score_weighted\": [{\"categories\": [\"0\", \"1\", \"2\", \"3\", \"4\", \"5\", \"6\", \"7\", \"8\", \"9\", \"10\", \"11\", \"12\", \"13\", \"14\", \"15\", \"16\", \"17\", \"18\", \"19\", \"20\", \"21\", \"22\", \"23\", \"24\", \"25\", \"26\", \"27\", \"28\", \"29\", \"30\", \"31\", \"32\", \"33\", \"36\", \"37\"], \"mode\": \"markers\", \"name\": \"precision_score_weighted\", \"stepped\": false, \"type\": \"scatter\", \"data\": [0.8103076903348296, 0.8235687391092353, 0.8481475018039326, 0.8461446105562748, 0.8452212574758237, 0.8206071262071263, 0.7824460999565228, 0.8476970326126443, 0.8247422656407338, 0.6772307236260723, 0.8142651047445568, 0.8468219371905487, 0.8050139666959505, 0.8486677683526128, 0.862026963609242, 0.8302623890440656, 0.8601106000300885, 0.7976356292542087, 0.792728834739144, 0.8261143832831902, 0.8038309035019561, 0.8251755924306291, 0.8203676804566603, 0.834372998255048, 0.7814740317836472, 0.46228299493248987, 0.8180823918431032, 0.8349376265581195, 0.7763032510773474, 0.8234306198730287, 0.6666551376059503, 0.8390257073324645, 0.775516496964184, 0.8275535029847658, 0.8633436421194771, 0.8387225228364573]}, {\"categories\": [\"0\", \"1\", \"2\", \"3\", \"4\", \"5\", \"6\", \"7\", \"8\", \"9\", \"10\", \"11\", \"12\", \"13\", \"14\", \"15\", \"16\", \"17\", \"18\", \"19\", \"20\", \"21\", \"22\", \"23\", \"24\", \"25\", \"26\", \"27\", \"28\", \"29\", \"30\", \"31\", \"32\", \"33\", \"36\", \"37\"], \"mode\": \"lines\", \"name\": \"precision_score_weighted_max\", \"stepped\": true, \"type\": \"scatter\", \"data\": [0.8103076903348296, 0.8235687391092353, 0.8481475018039326, 0.8481475018039326, 0.8481475018039326, 0.8481475018039326, 0.8481475018039326, 0.8481475018039326, 0.8481475018039326, 0.8481475018039326, 0.8481475018039326, 0.8481475018039326, 0.8481475018039326, 0.8486677683526128, 0.862026963609242, 0.862026963609242, 0.862026963609242, 0.862026963609242, 0.862026963609242, 0.862026963609242, 0.862026963609242, 0.862026963609242, 0.862026963609242, 0.862026963609242, 0.862026963609242, 0.862026963609242, 0.862026963609242, 0.862026963609242, 0.862026963609242, 0.862026963609242, 0.862026963609242, 0.862026963609242, 0.862026963609242, 0.862026963609242, 0.8633436421194771, 0.8633436421194771]}], \"accuracy\": [{\"categories\": [\"0\", \"1\", \"2\", \"3\", \"4\", \"5\", \"6\", \"7\", \"8\", \"9\", \"10\", \"11\", \"12\", \"13\", \"14\", \"15\", \"16\", \"17\", \"18\", \"19\", \"20\", \"21\", \"22\", \"23\", \"24\", \"25\", \"26\", \"27\", \"28\", \"29\", \"30\", \"31\", \"32\", \"33\", \"36\", \"37\"], \"mode\": \"markers\", \"name\": \"accuracy\", \"stepped\": false, \"type\": \"scatter\", \"data\": [0.8025252525252524, 0.8192929292929293, 0.8426262626262626, 0.836026936026936, 0.8394612794612795, 0.816060606060606, 0.7824242424242426, 0.8427609427609428, 0.8192929292929293, 0.7023232323232323, 0.8126599326599327, 0.8393265993265994, 0.8026599326599326, 0.8427272727272728, 0.8561616161616162, 0.8293939393939395, 0.8528282828282828, 0.7994276094276094, 0.6990909090909092, 0.8226262626262626, 0.8025925925925925, 0.8193602693602693, 0.8092929292929293, 0.8293939393939395, 0.7758249158249159, 0.6790235690235691, 0.8092929292929293, 0.8292255892255892, 0.7725589225589226, 0.8125925925925926, 0.47451178451178455, 0.8158585858585857, 0.7558585858585859, 0.8161616161616162, 0.8595286195286196, 0.8292929292929294]}, {\"categories\": [\"0\", \"1\", \"2\", \"3\", \"4\", \"5\", \"6\", \"7\", \"8\", \"9\", \"10\", \"11\", \"12\", \"13\", \"14\", \"15\", \"16\", \"17\", \"18\", \"19\", \"20\", \"21\", \"22\", \"23\", \"24\", \"25\", \"26\", \"27\", \"28\", \"29\", \"30\", \"31\", \"32\", \"33\", \"36\", \"37\"], \"mode\": \"lines\", \"name\": \"accuracy_max\", \"stepped\": true, \"type\": \"scatter\", \"data\": [0.8025252525252524, 0.8192929292929293, 0.8426262626262626, 0.8426262626262626, 0.8426262626262626, 0.8426262626262626, 0.8426262626262626, 0.8427609427609428, 0.8427609427609428, 0.8427609427609428, 0.8427609427609428, 0.8427609427609428, 0.8427609427609428, 0.8427609427609428, 0.8561616161616162, 0.8561616161616162, 0.8561616161616162, 0.8561616161616162, 0.8561616161616162, 0.8561616161616162, 0.8561616161616162, 0.8561616161616162, 0.8561616161616162, 0.8561616161616162, 0.8561616161616162, 0.8561616161616162, 0.8561616161616162, 0.8561616161616162, 0.8561616161616162, 0.8561616161616162, 0.8561616161616162, 0.8561616161616162, 0.8561616161616162, 0.8561616161616162, 0.8595286195286196, 0.8595286195286196]}], \"AUC_macro\": [{\"categories\": [\"0\", \"1\", \"2\", \"3\", \"4\", \"5\", \"6\", \"7\", \"8\", \"9\", \"10\", \"11\", \"12\", \"13\", \"14\", \"15\", \"16\", \"17\", \"18\", \"19\", \"20\", \"21\", \"22\", \"23\", \"24\", \"25\", \"26\", \"27\", \"28\", \"29\", \"30\", \"31\", \"32\", \"33\", \"36\", \"37\"], \"mode\": \"markers\", \"name\": \"AUC_macro\", \"stepped\": false, \"type\": \"scatter\", \"data\": [0.8550287233045853, 0.875938401455643, 0.900532453635902, 0.8758082220151184, 0.8925308066687377, 0.8589098458063975, 0.8613892217340493, 0.8822649250235458, 0.8472251068802793, 0.7415250965250966, 0.8532082821737994, 0.9029714443507547, 0.8347640744192469, 0.8849198952647228, 0.8868179016454879, 0.8723482595896389, 0.9028825377101238, 0.8431663436835851, 0.8356867705143568, 0.8694430884086057, 0.8713443739305808, 0.8694481057412092, 0.880745129365819, 0.8810950852330164, 0.8604915260087674, 0.49625825332721885, 0.8942475480406514, 0.8700247045074633, 0.8817026879095845, 0.8740856620166966, 0.5834975369458129, 0.8971803330424019, 0.8218166935408315, 0.8889025971784593, 0.900206561241044, 0.9031020182744322]}, {\"categories\": [\"0\", \"1\", \"2\", \"3\", \"4\", \"5\", \"6\", \"7\", \"8\", \"9\", \"10\", \"11\", \"12\", \"13\", \"14\", \"15\", \"16\", \"17\", \"18\", \"19\", \"20\", \"21\", \"22\", \"23\", \"24\", \"25\", \"26\", \"27\", \"28\", \"29\", \"30\", \"31\", \"32\", \"33\", \"36\", \"37\"], \"mode\": \"lines\", \"name\": \"AUC_macro_max\", \"stepped\": true, \"type\": \"scatter\", \"data\": [0.8550287233045853, 0.875938401455643, 0.900532453635902, 0.900532453635902, 0.900532453635902, 0.900532453635902, 0.900532453635902, 0.900532453635902, 0.900532453635902, 0.900532453635902, 0.900532453635902, 0.9029714443507547, 0.9029714443507547, 0.9029714443507547, 0.9029714443507547, 0.9029714443507547, 0.9029714443507547, 0.9029714443507547, 0.9029714443507547, 0.9029714443507547, 0.9029714443507547, 0.9029714443507547, 0.9029714443507547, 0.9029714443507547, 0.9029714443507547, 0.9029714443507547, 0.9029714443507547, 0.9029714443507547, 0.9029714443507547, 0.9029714443507547, 0.9029714443507547, 0.9029714443507547, 0.9029714443507547, 0.9029714443507547, 0.9029714443507547, 0.9031020182744322]}], \"log_loss\": [{\"categories\": [\"0\", \"1\", \"2\", \"3\", \"4\", \"5\", \"6\", \"7\", \"8\", \"9\", \"10\", \"11\", \"12\", \"13\", \"14\", \"15\", \"16\", \"17\", \"18\", \"19\", \"20\", \"21\", \"22\", \"23\", \"24\", \"25\", \"26\", \"27\", \"28\", \"29\", \"30\", \"31\", \"32\", \"33\", \"36\", \"37\"], \"mode\": \"markers\", \"name\": \"log_loss\", \"stepped\": false, \"type\": \"scatter\", \"data\": [0.5791360620615199, 0.4649911805096085, 0.3877637437633093, 0.43127356969321684, 0.3995425668882204, 0.5502665109505386, 0.4726016260384978, 0.4396012224772759, 0.46219968687307117, 0.5721528207446452, 0.4497756869017715, 0.404763701978438, 0.5035212911897063, 0.39965148795746214, 0.41620758840627686, 0.4296126864633482, 0.40598008066841107, 0.5197378399215814, 0.5602527782991368, 0.4241382669193028, 0.4750010668021987, 0.5387687042356927, 0.4484870405766992, 0.4435998204177965, 0.45862329450213996, 0.6320877298540539, 0.431813596860852, 0.4179052672260772, 0.45288715049152817, 0.4857202999172345, 0.6903767875188714, 0.4341226610052069, 0.609911082519811, 0.46236490571474004, 0.4049952940035509, 0.40999850497130597]}, {\"categories\": [\"0\", \"1\", \"2\", \"3\", \"4\", \"5\", \"6\", \"7\", \"8\", \"9\", \"10\", \"11\", \"12\", \"13\", \"14\", \"15\", \"16\", \"17\", \"18\", \"19\", \"20\", \"21\", \"22\", \"23\", \"24\", \"25\", \"26\", \"27\", \"28\", \"29\", \"30\", \"31\", \"32\", \"33\", \"36\", \"37\"], \"mode\": \"lines\", \"name\": \"log_loss_min\", \"stepped\": true, \"type\": \"scatter\", \"data\": [0.5791360620615199, 0.4649911805096085, 0.3877637437633093, 0.3877637437633093, 0.3877637437633093, 0.3877637437633093, 0.3877637437633093, 0.3877637437633093, 0.3877637437633093, 0.3877637437633093, 0.3877637437633093, 0.3877637437633093, 0.3877637437633093, 0.3877637437633093, 0.3877637437633093, 0.3877637437633093, 0.3877637437633093, 0.3877637437633093, 0.3877637437633093, 0.3877637437633093, 0.3877637437633093, 0.3877637437633093, 0.3877637437633093, 0.3877637437633093, 0.3877637437633093, 0.3877637437633093, 0.3877637437633093, 0.3877637437633093, 0.3877637437633093, 0.3877637437633093, 0.3877637437633093, 0.3877637437633093, 0.3877637437633093, 0.3877637437633093, 0.3877637437633093, 0.3877637437633093]}], \"AUC_weighted\": [{\"categories\": [\"0\", \"1\", \"2\", \"3\", \"4\", \"5\", \"6\", \"7\", \"8\", \"9\", \"10\", \"11\", \"12\", \"13\", \"14\", \"15\", \"16\", \"17\", \"18\", \"19\", \"20\", \"21\", \"22\", \"23\", \"24\", \"25\", \"26\", \"27\", \"28\", \"29\", \"30\", \"31\", \"32\", \"33\", \"36\", \"37\"], \"mode\": \"markers\", \"name\": \"AUC_weighted\", \"stepped\": false, \"type\": \"scatter\", \"data\": [0.8550287233045855, 0.875938401455643, 0.900532453635902, 0.8758082220151185, 0.8925308066687377, 0.8589098458063975, 0.8613892217340493, 0.8822649250235458, 0.8472251068802793, 0.7415250965250966, 0.8532082821737994, 0.9029714443507547, 0.8347640744192467, 0.8849198952647228, 0.8868179016454878, 0.8723482595896389, 0.902882537710124, 0.8431663436835851, 0.8356867705143567, 0.8694430884086057, 0.8713443739305808, 0.8693719350788317, 0.880745129365819, 0.8810950852330164, 0.8604915260087674, 0.49625825332721885, 0.8942475480406515, 0.8700247045074633, 0.8817026879095845, 0.8740856620166962, 0.5834975369458129, 0.8971803330424021, 0.8218166935408315, 0.8889025971784593, 0.9002065612410438, 0.9031020182744322]}, {\"categories\": [\"0\", \"1\", \"2\", \"3\", \"4\", \"5\", \"6\", \"7\", \"8\", \"9\", \"10\", \"11\", \"12\", \"13\", \"14\", \"15\", \"16\", \"17\", \"18\", \"19\", \"20\", \"21\", \"22\", \"23\", \"24\", \"25\", \"26\", \"27\", \"28\", \"29\", \"30\", \"31\", \"32\", \"33\", \"36\", \"37\"], \"mode\": \"lines\", \"name\": \"AUC_weighted_max\", \"stepped\": true, \"type\": \"scatter\", \"data\": [0.8550287233045855, 0.875938401455643, 0.900532453635902, 0.900532453635902, 0.900532453635902, 0.900532453635902, 0.900532453635902, 0.900532453635902, 0.900532453635902, 0.900532453635902, 0.900532453635902, 0.9029714443507547, 0.9029714443507547, 0.9029714443507547, 0.9029714443507547, 0.9029714443507547, 0.9029714443507547, 0.9029714443507547, 0.9029714443507547, 0.9029714443507547, 0.9029714443507547, 0.9029714443507547, 0.9029714443507547, 0.9029714443507547, 0.9029714443507547, 0.9029714443507547, 0.9029714443507547, 0.9029714443507547, 0.9029714443507547, 0.9029714443507547, 0.9029714443507547, 0.9029714443507547, 0.9029714443507547, 0.9029714443507547, 0.9029714443507547, 0.9031020182744322]}], \"average_precision_score_weighted\": [{\"categories\": [\"0\", \"1\", \"2\", \"3\", \"4\", \"5\", \"6\", \"7\", \"8\", \"9\", \"10\", \"11\", \"12\", \"13\", \"14\", \"15\", \"16\", \"17\", \"18\", \"19\", \"20\", \"21\", \"22\", \"23\", \"24\", \"25\", \"26\", \"27\", \"28\", \"29\", \"30\", \"31\", \"32\", \"33\", \"36\", \"37\"], \"mode\": \"markers\", \"name\": \"average_precision_score_weighted\", \"stepped\": false, \"type\": \"scatter\", \"data\": [0.8648843990393956, 0.8836277505100775, 0.9060314345419305, 0.8870234973961192, 0.8992076409685484, 0.8665528310098817, 0.8798059641086136, 0.8937907080659183, 0.8636440545296108, 0.7694299063837627, 0.8597234499323904, 0.9102410552090664, 0.8440446723791495, 0.890522782553609, 0.8978688213810315, 0.8814167072739009, 0.9107767513319601, 0.859855750640523, 0.8490668190333938, 0.878199934527998, 0.870580446723077, 0.8725356198678366, 0.888992050370565, 0.8934687593119897, 0.8722912600375636, 0.5618942056546632, 0.9011897786243579, 0.8782621638672471, 0.8900309842792874, 0.8860411681454313, 0.6142219768234863, 0.9034470721628534, 0.8389937150584635, 0.8941797010881257, 0.9075481993186054, 0.910495203820664]}, {\"categories\": [\"0\", \"1\", \"2\", \"3\", \"4\", \"5\", \"6\", \"7\", \"8\", \"9\", \"10\", \"11\", \"12\", \"13\", \"14\", \"15\", \"16\", \"17\", \"18\", \"19\", \"20\", \"21\", \"22\", \"23\", \"24\", \"25\", \"26\", \"27\", \"28\", \"29\", \"30\", \"31\", \"32\", \"33\", \"36\", \"37\"], \"mode\": \"lines\", \"name\": \"average_precision_score_weighted_max\", \"stepped\": true, \"type\": \"scatter\", \"data\": [0.8648843990393956, 0.8836277505100775, 0.9060314345419305, 0.9060314345419305, 0.9060314345419305, 0.9060314345419305, 0.9060314345419305, 0.9060314345419305, 0.9060314345419305, 0.9060314345419305, 0.9060314345419305, 0.9102410552090664, 0.9102410552090664, 0.9102410552090664, 0.9102410552090664, 0.9102410552090664, 0.9107767513319601, 0.9107767513319601, 0.9107767513319601, 0.9107767513319601, 0.9107767513319601, 0.9107767513319601, 0.9107767513319601, 0.9107767513319601, 0.9107767513319601, 0.9107767513319601, 0.9107767513319601, 0.9107767513319601, 0.9107767513319601, 0.9107767513319601, 0.9107767513319601, 0.9107767513319601, 0.9107767513319601, 0.9107767513319601, 0.9107767513319601, 0.9107767513319601]}], \"precision_score_micro\": [{\"categories\": [\"0\", \"1\", \"2\", \"3\", \"4\", \"5\", \"6\", \"7\", \"8\", \"9\", \"10\", \"11\", \"12\", \"13\", \"14\", \"15\", \"16\", \"17\", \"18\", \"19\", \"20\", \"21\", \"22\", \"23\", \"24\", \"25\", \"26\", \"27\", \"28\", \"29\", \"30\", \"31\", \"32\", \"33\", \"36\", \"37\"], \"mode\": \"markers\", \"name\": \"precision_score_micro\", \"stepped\": false, \"type\": \"scatter\", \"data\": [0.8025252525252524, 0.8192929292929293, 0.8426262626262626, 0.836026936026936, 0.8394612794612795, 0.816060606060606, 0.7824242424242426, 0.8427609427609428, 0.8192929292929293, 0.7023232323232323, 0.8126599326599327, 0.8393265993265994, 0.8026599326599326, 0.8427272727272728, 0.8561616161616162, 0.8293939393939395, 0.8528282828282828, 0.7994276094276094, 0.6990909090909092, 0.8226262626262626, 0.8025925925925925, 0.8193602693602693, 0.8092929292929293, 0.8293939393939395, 0.7758249158249159, 0.6790235690235691, 0.8092929292929293, 0.8292255892255892, 0.7725589225589226, 0.8125925925925926, 0.47451178451178455, 0.8158585858585857, 0.7558585858585859, 0.8161616161616162, 0.8595286195286196, 0.8292929292929294]}, {\"categories\": [\"0\", \"1\", \"2\", \"3\", \"4\", \"5\", \"6\", \"7\", \"8\", \"9\", \"10\", \"11\", \"12\", \"13\", \"14\", \"15\", \"16\", \"17\", \"18\", \"19\", \"20\", \"21\", \"22\", \"23\", \"24\", \"25\", \"26\", \"27\", \"28\", \"29\", \"30\", \"31\", \"32\", \"33\", \"36\", \"37\"], \"mode\": \"lines\", \"name\": \"precision_score_micro_max\", \"stepped\": true, \"type\": \"scatter\", \"data\": [0.8025252525252524, 0.8192929292929293, 0.8426262626262626, 0.8426262626262626, 0.8426262626262626, 0.8426262626262626, 0.8426262626262626, 0.8427609427609428, 0.8427609427609428, 0.8427609427609428, 0.8427609427609428, 0.8427609427609428, 0.8427609427609428, 0.8427609427609428, 0.8561616161616162, 0.8561616161616162, 0.8561616161616162, 0.8561616161616162, 0.8561616161616162, 0.8561616161616162, 0.8561616161616162, 0.8561616161616162, 0.8561616161616162, 0.8561616161616162, 0.8561616161616162, 0.8561616161616162, 0.8561616161616162, 0.8561616161616162, 0.8561616161616162, 0.8561616161616162, 0.8561616161616162, 0.8561616161616162, 0.8561616161616162, 0.8561616161616162, 0.8595286195286196, 0.8595286195286196]}], \"balanced_accuracy\": [{\"categories\": [\"0\", \"1\", \"2\", \"3\", \"4\", \"5\", \"6\", \"7\", \"8\", \"9\", \"10\", \"11\", \"12\", \"13\", \"14\", \"15\", \"16\", \"17\", \"18\", \"19\", \"20\", \"21\", \"22\", \"23\", \"24\", \"25\", \"26\", \"27\", \"28\", \"29\", \"30\", \"31\", \"32\", \"33\", \"36\", \"37\"], \"mode\": \"markers\", \"name\": \"balanced_accuracy\", \"stepped\": false, \"type\": \"scatter\", \"data\": [0.7665542389680322, 0.7899604037535072, 0.8167014304945339, 0.7876968101106033, 0.8152985497813084, 0.7854558992490027, 0.722930812585985, 0.7932666656804588, 0.7809656947587982, 0.565969910797497, 0.7586835604076984, 0.8155631000458587, 0.7537613968648452, 0.8115733960561546, 0.8061566492600974, 0.785528878632327, 0.8214874973495663, 0.7373664304698787, 0.5316143729936833, 0.7829635053772984, 0.7253775943431116, 0.7882929727757314, 0.7424646321198045, 0.7676782694024075, 0.7080072683520959, 0.5, 0.7437287040735318, 0.7930965448206827, 0.6836888612750682, 0.8017335069059207, 0.5476190476190476, 0.8169600635117877, 0.7483601828429415, 0.7468473399507882, 0.8213546058373645, 0.799926034408793]}, {\"categories\": [\"0\", \"1\", \"2\", \"3\", \"4\", \"5\", \"6\", \"7\", \"8\", \"9\", \"10\", \"11\", \"12\", \"13\", \"14\", \"15\", \"16\", \"17\", \"18\", \"19\", \"20\", \"21\", \"22\", \"23\", \"24\", \"25\", \"26\", \"27\", \"28\", \"29\", \"30\", \"31\", \"32\", \"33\", \"36\", \"37\"], \"mode\": \"lines\", \"name\": \"balanced_accuracy_max\", \"stepped\": true, \"type\": \"scatter\", \"data\": [0.7665542389680322, 0.7899604037535072, 0.8167014304945339, 0.8167014304945339, 0.8167014304945339, 0.8167014304945339, 0.8167014304945339, 0.8167014304945339, 0.8167014304945339, 0.8167014304945339, 0.8167014304945339, 0.8167014304945339, 0.8167014304945339, 0.8167014304945339, 0.8167014304945339, 0.8167014304945339, 0.8214874973495663, 0.8214874973495663, 0.8214874973495663, 0.8214874973495663, 0.8214874973495663, 0.8214874973495663, 0.8214874973495663, 0.8214874973495663, 0.8214874973495663, 0.8214874973495663, 0.8214874973495663, 0.8214874973495663, 0.8214874973495663, 0.8214874973495663, 0.8214874973495663, 0.8214874973495663, 0.8214874973495663, 0.8214874973495663, 0.8214874973495663, 0.8214874973495663]}], \"average_precision_score_macro\": [{\"categories\": [\"0\", \"1\", \"2\", \"3\", \"4\", \"5\", \"6\", \"7\", \"8\", \"9\", \"10\", \"11\", \"12\", \"13\", \"14\", \"15\", \"16\", \"17\", \"18\", \"19\", \"20\", \"21\", \"22\", \"23\", \"24\", \"25\", \"26\", \"27\", \"28\", \"29\", \"30\", \"31\", \"32\", \"33\", \"36\", \"37\"], \"mode\": \"markers\", \"name\": \"average_precision_score_macro\", \"stepped\": false, \"type\": \"scatter\", \"data\": [0.8323265818260129, 0.8521645844042397, 0.8789457051047137, 0.8612968586646179, 0.8721050262586578, 0.8343649290014016, 0.8469705865627839, 0.8683137205146764, 0.8351893031723264, 0.7217219080821254, 0.8296215090326796, 0.8862907953296587, 0.812148279236013, 0.8636208696930425, 0.8742513820108805, 0.8505468707843259, 0.8883027159925302, 0.8304799197680294, 0.8090693354543234, 0.8478276775549043, 0.8382720336141182, 0.8390850384272048, 0.8591926692107226, 0.8693243978081123, 0.8398507254616799, 0.5015150044891244, 0.8761223244202117, 0.8496581019227096, 0.8585787515175066, 0.8602152233124655, 0.549668192280392, 0.8794710088053245, 0.8029916071392923, 0.8670804660779291, 0.8836335619163993, 0.887285013508681]}, {\"categories\": [\"0\", \"1\", \"2\", \"3\", \"4\", \"5\", \"6\", \"7\", \"8\", \"9\", \"10\", \"11\", \"12\", \"13\", \"14\", \"15\", \"16\", \"17\", \"18\", \"19\", \"20\", \"21\", \"22\", \"23\", \"24\", \"25\", \"26\", \"27\", \"28\", \"29\", \"30\", \"31\", \"32\", \"33\", \"36\", \"37\"], \"mode\": \"lines\", \"name\": \"average_precision_score_macro_max\", \"stepped\": true, \"type\": \"scatter\", \"data\": [0.8323265818260129, 0.8521645844042397, 0.8789457051047137, 0.8789457051047137, 0.8789457051047137, 0.8789457051047137, 0.8789457051047137, 0.8789457051047137, 0.8789457051047137, 0.8789457051047137, 0.8789457051047137, 0.8862907953296587, 0.8862907953296587, 0.8862907953296587, 0.8862907953296587, 0.8862907953296587, 0.8883027159925302, 0.8883027159925302, 0.8883027159925302, 0.8883027159925302, 0.8883027159925302, 0.8883027159925302, 0.8883027159925302, 0.8883027159925302, 0.8883027159925302, 0.8883027159925302, 0.8883027159925302, 0.8883027159925302, 0.8883027159925302, 0.8883027159925302, 0.8883027159925302, 0.8883027159925302, 0.8883027159925302, 0.8883027159925302, 0.8883027159925302, 0.8883027159925302]}], \"matthews_correlation\": [{\"categories\": [\"0\", \"1\", \"2\", \"3\", \"4\", \"5\", \"6\", \"7\", \"8\", \"9\", \"10\", \"11\", \"12\", \"13\", \"14\", \"15\", \"16\", \"17\", \"18\", \"19\", \"20\", \"21\", \"22\", \"23\", \"24\", \"25\", \"26\", \"27\", \"28\", \"29\", \"30\", \"31\", \"32\", \"33\", \"36\", \"37\"], \"mode\": \"markers\", \"name\": \"matthews_correlation\", \"stepped\": false, \"type\": \"scatter\", \"data\": [0.5489062305154261, 0.5873460381369527, 0.6416905607231708, 0.6216827120790501, 0.6359464721206751, 0.5795590928874853, 0.4815588246030213, 0.6324558017747307, 0.5843400439356289, 0.19035811068097688, 0.5571387639909112, 0.6375261282653972, 0.5385820024732558, 0.6412964407404492, 0.6656409444908021, 0.6005280962129412, 0.6657132486364675, 0.5203035911996873, 0.20923944371597888, 0.5880761939805343, 0.5206978867306472, 0.5882122724626488, 0.5499245674188529, 0.5965685709206162, 0.46816772751578867, 0.0, 0.5496166144709007, 0.6056766144194518, 0.4441106728068229, 0.5883005701403573, 0.14254087089639803, 0.613384394958398, 0.4754335754813144, 0.5691423412465948, 0.6757879301394585, 0.6156621847996461]}, {\"categories\": [\"0\", \"1\", \"2\", \"3\", \"4\", \"5\", \"6\", \"7\", \"8\", \"9\", \"10\", \"11\", \"12\", \"13\", \"14\", \"15\", \"16\", \"17\", \"18\", \"19\", \"20\", \"21\", \"22\", \"23\", \"24\", \"25\", \"26\", \"27\", \"28\", \"29\", \"30\", \"31\", \"32\", \"33\", \"36\", \"37\"], \"mode\": \"lines\", \"name\": \"matthews_correlation_max\", \"stepped\": true, \"type\": \"scatter\", \"data\": [0.5489062305154261, 0.5873460381369527, 0.6416905607231708, 0.6416905607231708, 0.6416905607231708, 0.6416905607231708, 0.6416905607231708, 0.6416905607231708, 0.6416905607231708, 0.6416905607231708, 0.6416905607231708, 0.6416905607231708, 0.6416905607231708, 0.6416905607231708, 0.6656409444908021, 0.6656409444908021, 0.6657132486364675, 0.6657132486364675, 0.6657132486364675, 0.6657132486364675, 0.6657132486364675, 0.6657132486364675, 0.6657132486364675, 0.6657132486364675, 0.6657132486364675, 0.6657132486364675, 0.6657132486364675, 0.6657132486364675, 0.6657132486364675, 0.6657132486364675, 0.6657132486364675, 0.6657132486364675, 0.6657132486364675, 0.6657132486364675, 0.6757879301394585, 0.6757879301394585]}], \"f1_score_weighted\": [{\"categories\": [\"0\", \"1\", \"2\", \"3\", \"4\", \"5\", \"6\", \"7\", \"8\", \"9\", \"10\", \"11\", \"12\", \"13\", \"14\", \"15\", \"16\", \"17\", \"18\", \"19\", \"20\", \"21\", \"22\", \"23\", \"24\", \"25\", \"26\", \"27\", \"28\", \"29\", \"30\", \"31\", \"32\", \"33\", \"36\", \"37\"], \"mode\": \"markers\", \"name\": \"f1_score_weighted\", \"stepped\": false, \"type\": \"scatter\", \"data\": [0.7994850745596541, 0.8173118768300475, 0.8416810022404722, 0.8273007057222199, 0.8380560978160297, 0.81314938866131, 0.7751445271899816, 0.8352683629141334, 0.815994500357363, 0.6410916095781778, 0.8051349200262031, 0.8383079697000942, 0.7953411782056244, 0.8389917429109909, 0.8486285348551332, 0.8241448914253456, 0.8493365244715739, 0.7894581369719007, 0.5941255812766298, 0.8186690722299401, 0.7886152226273634, 0.8164618313061069, 0.7935497752348963, 0.8198733429672599, 0.762976367758435, 0.5497345001811592, 0.796548050565644, 0.8259040800273331, 0.7507795132286438, 0.81419129348307, 0.37546794083637397, 0.8198892867817723, 0.7601260298683568, 0.7987874656896169, 0.8537289281396695, 0.8257524623746725]}, {\"categories\": [\"0\", \"1\", \"2\", \"3\", \"4\", \"5\", \"6\", \"7\", \"8\", \"9\", \"10\", \"11\", \"12\", \"13\", \"14\", \"15\", \"16\", \"17\", \"18\", \"19\", \"20\", \"21\", \"22\", \"23\", \"24\", \"25\", \"26\", \"27\", \"28\", \"29\", \"30\", \"31\", \"32\", \"33\", \"36\", \"37\"], \"mode\": \"lines\", \"name\": \"f1_score_weighted_max\", \"stepped\": true, \"type\": \"scatter\", \"data\": [0.7994850745596541, 0.8173118768300475, 0.8416810022404722, 0.8416810022404722, 0.8416810022404722, 0.8416810022404722, 0.8416810022404722, 0.8416810022404722, 0.8416810022404722, 0.8416810022404722, 0.8416810022404722, 0.8416810022404722, 0.8416810022404722, 0.8416810022404722, 0.8486285348551332, 0.8486285348551332, 0.8493365244715739, 0.8493365244715739, 0.8493365244715739, 0.8493365244715739, 0.8493365244715739, 0.8493365244715739, 0.8493365244715739, 0.8493365244715739, 0.8493365244715739, 0.8493365244715739, 0.8493365244715739, 0.8493365244715739, 0.8493365244715739, 0.8493365244715739, 0.8493365244715739, 0.8493365244715739, 0.8493365244715739, 0.8493365244715739, 0.8537289281396695, 0.8537289281396695]}], \"recall_score_weighted\": [{\"categories\": [\"0\", \"1\", \"2\", \"3\", \"4\", \"5\", \"6\", \"7\", \"8\", \"9\", \"10\", \"11\", \"12\", \"13\", \"14\", \"15\", \"16\", \"17\", \"18\", \"19\", \"20\", \"21\", \"22\", \"23\", \"24\", \"25\", \"26\", \"27\", \"28\", \"29\", \"30\", \"31\", \"32\", \"33\", \"36\", \"37\"], \"mode\": \"markers\", \"name\": \"recall_score_weighted\", \"stepped\": false, \"type\": \"scatter\", \"data\": [0.8025252525252524, 0.8192929292929293, 0.8426262626262626, 0.836026936026936, 0.8394612794612795, 0.816060606060606, 0.7824242424242426, 0.8427609427609428, 0.8192929292929293, 0.7023232323232323, 0.8126599326599327, 0.8393265993265994, 0.8026599326599326, 0.8427272727272728, 0.8561616161616162, 0.8293939393939395, 0.8528282828282828, 0.7994276094276094, 0.6990909090909092, 0.8226262626262626, 0.8025925925925925, 0.8193602693602693, 0.8092929292929293, 0.8293939393939395, 0.7758249158249159, 0.6790235690235691, 0.8092929292929293, 0.8292255892255892, 0.7725589225589226, 0.8125925925925926, 0.47451178451178455, 0.8158585858585857, 0.7558585858585859, 0.8161616161616162, 0.8595286195286196, 0.8292929292929294]}, {\"categories\": [\"0\", \"1\", \"2\", \"3\", \"4\", \"5\", \"6\", \"7\", \"8\", \"9\", \"10\", \"11\", \"12\", \"13\", \"14\", \"15\", \"16\", \"17\", \"18\", \"19\", \"20\", \"21\", \"22\", \"23\", \"24\", \"25\", \"26\", \"27\", \"28\", \"29\", \"30\", \"31\", \"32\", \"33\", \"36\", \"37\"], \"mode\": \"lines\", \"name\": \"recall_score_weighted_max\", \"stepped\": true, \"type\": \"scatter\", \"data\": [0.8025252525252524, 0.8192929292929293, 0.8426262626262626, 0.8426262626262626, 0.8426262626262626, 0.8426262626262626, 0.8426262626262626, 0.8427609427609428, 0.8427609427609428, 0.8427609427609428, 0.8427609427609428, 0.8427609427609428, 0.8427609427609428, 0.8427609427609428, 0.8561616161616162, 0.8561616161616162, 0.8561616161616162, 0.8561616161616162, 0.8561616161616162, 0.8561616161616162, 0.8561616161616162, 0.8561616161616162, 0.8561616161616162, 0.8561616161616162, 0.8561616161616162, 0.8561616161616162, 0.8561616161616162, 0.8561616161616162, 0.8561616161616162, 0.8561616161616162, 0.8561616161616162, 0.8561616161616162, 0.8561616161616162, 0.8561616161616162, 0.8595286195286196, 0.8595286195286196]}], \"recall_score_macro\": [{\"categories\": [\"0\", \"1\", \"2\", \"3\", \"4\", \"5\", \"6\", \"7\", \"8\", \"9\", \"10\", \"11\", \"12\", \"13\", \"14\", \"15\", \"16\", \"17\", \"18\", \"19\", \"20\", \"21\", \"22\", \"23\", \"24\", \"25\", \"26\", \"27\", \"28\", \"29\", \"30\", \"31\", \"32\", \"33\", \"36\", \"37\"], \"mode\": \"markers\", \"name\": \"recall_score_macro\", \"stepped\": false, \"type\": \"scatter\", \"data\": [0.7665542389680322, 0.7899604037535072, 0.8167014304945339, 0.7876968101106033, 0.8152985497813084, 0.7854558992490027, 0.722930812585985, 0.7932666656804588, 0.7809656947587982, 0.565969910797497, 0.7586835604076984, 0.8155631000458587, 0.7537613968648452, 0.8115733960561546, 0.8061566492600974, 0.785528878632327, 0.8214874973495663, 0.7373664304698787, 0.5316143729936833, 0.7829635053772984, 0.7253775943431116, 0.7882929727757314, 0.7424646321198045, 0.7676782694024075, 0.7080072683520959, 0.5, 0.7437287040735318, 0.7930965448206827, 0.6836888612750682, 0.8017335069059207, 0.5476190476190476, 0.8169600635117877, 0.7483601828429415, 0.7468473399507882, 0.8213546058373645, 0.799926034408793]}, {\"categories\": [\"0\", \"1\", \"2\", \"3\", \"4\", \"5\", \"6\", \"7\", \"8\", \"9\", \"10\", \"11\", \"12\", \"13\", \"14\", \"15\", \"16\", \"17\", \"18\", \"19\", \"20\", \"21\", \"22\", \"23\", \"24\", \"25\", \"26\", \"27\", \"28\", \"29\", \"30\", \"31\", \"32\", \"33\", \"36\", \"37\"], \"mode\": \"lines\", \"name\": \"recall_score_macro_max\", \"stepped\": true, \"type\": \"scatter\", \"data\": [0.7665542389680322, 0.7899604037535072, 0.8167014304945339, 0.8167014304945339, 0.8167014304945339, 0.8167014304945339, 0.8167014304945339, 0.8167014304945339, 0.8167014304945339, 0.8167014304945339, 0.8167014304945339, 0.8167014304945339, 0.8167014304945339, 0.8167014304945339, 0.8167014304945339, 0.8167014304945339, 0.8214874973495663, 0.8214874973495663, 0.8214874973495663, 0.8214874973495663, 0.8214874973495663, 0.8214874973495663, 0.8214874973495663, 0.8214874973495663, 0.8214874973495663, 0.8214874973495663, 0.8214874973495663, 0.8214874973495663, 0.8214874973495663, 0.8214874973495663, 0.8214874973495663, 0.8214874973495663, 0.8214874973495663, 0.8214874973495663, 0.8214874973495663, 0.8214874973495663]}], \"recall_score_micro\": [{\"categories\": [\"0\", \"1\", \"2\", \"3\", \"4\", \"5\", \"6\", \"7\", \"8\", \"9\", \"10\", \"11\", \"12\", \"13\", \"14\", \"15\", \"16\", \"17\", \"18\", \"19\", \"20\", \"21\", \"22\", \"23\", \"24\", \"25\", \"26\", \"27\", \"28\", \"29\", \"30\", \"31\", \"32\", \"33\", \"36\", \"37\"], \"mode\": \"markers\", \"name\": \"recall_score_micro\", \"stepped\": false, \"type\": \"scatter\", \"data\": [0.8025252525252524, 0.8192929292929293, 0.8426262626262626, 0.836026936026936, 0.8394612794612795, 0.816060606060606, 0.7824242424242426, 0.8427609427609428, 0.8192929292929293, 0.7023232323232323, 0.8126599326599327, 0.8393265993265994, 0.8026599326599326, 0.8427272727272728, 0.8561616161616162, 0.8293939393939395, 0.8528282828282828, 0.7994276094276094, 0.6990909090909092, 0.8226262626262626, 0.8025925925925925, 0.8193602693602693, 0.8092929292929293, 0.8293939393939395, 0.7758249158249159, 0.6790235690235691, 0.8092929292929293, 0.8292255892255892, 0.7725589225589226, 0.8125925925925926, 0.47451178451178455, 0.8158585858585857, 0.7558585858585859, 0.8161616161616162, 0.8595286195286196, 0.8292929292929294]}, {\"categories\": [\"0\", \"1\", \"2\", \"3\", \"4\", \"5\", \"6\", \"7\", \"8\", \"9\", \"10\", \"11\", \"12\", \"13\", \"14\", \"15\", \"16\", \"17\", \"18\", \"19\", \"20\", \"21\", \"22\", \"23\", \"24\", \"25\", \"26\", \"27\", \"28\", \"29\", \"30\", \"31\", \"32\", \"33\", \"36\", \"37\"], \"mode\": \"lines\", \"name\": \"recall_score_micro_max\", \"stepped\": true, \"type\": \"scatter\", \"data\": [0.8025252525252524, 0.8192929292929293, 0.8426262626262626, 0.8426262626262626, 0.8426262626262626, 0.8426262626262626, 0.8426262626262626, 0.8427609427609428, 0.8427609427609428, 0.8427609427609428, 0.8427609427609428, 0.8427609427609428, 0.8427609427609428, 0.8427609427609428, 0.8561616161616162, 0.8561616161616162, 0.8561616161616162, 0.8561616161616162, 0.8561616161616162, 0.8561616161616162, 0.8561616161616162, 0.8561616161616162, 0.8561616161616162, 0.8561616161616162, 0.8561616161616162, 0.8561616161616162, 0.8561616161616162, 0.8561616161616162, 0.8561616161616162, 0.8561616161616162, 0.8561616161616162, 0.8561616161616162, 0.8561616161616162, 0.8561616161616162, 0.8595286195286196, 0.8595286195286196]}], \"norm_macro_recall\": [{\"categories\": [\"0\", \"1\", \"2\", \"3\", \"4\", \"5\", \"6\", \"7\", \"8\", \"9\", \"10\", \"11\", \"12\", \"13\", \"14\", \"15\", \"16\", \"17\", \"18\", \"19\", \"20\", \"21\", \"22\", \"23\", \"24\", \"25\", \"26\", \"27\", \"28\", \"29\", \"30\", \"31\", \"32\", \"33\", \"36\", \"37\"], \"mode\": \"markers\", \"name\": \"norm_macro_recall\", \"stepped\": false, \"type\": \"scatter\", \"data\": [0.5331084779360642, 0.5799208075070145, 0.633402860989068, 0.5753936202212063, 0.6305970995626168, 0.5709117984980054, 0.44586162517197, 0.5865333313609176, 0.5619313895175965, 0.13193982159499407, 0.5173671208153966, 0.6311262000917174, 0.5075227937296902, 0.6231467921123094, 0.612313298520195, 0.5710577572646539, 0.6429749946991327, 0.4747328609397576, 0.06322874598736661, 0.565927010754597, 0.4507551886862231, 0.5765859455514628, 0.4849292642396091, 0.5353565388048146, 0.41601453670419186, 0.0, 0.48745740814706334, 0.5861930896413655, 0.3673777225501363, 0.6034670138118413, 0.09523809523809519, 0.6339201270235754, 0.49672036568588296, 0.49369467990157645, 0.6427092116747289, 0.599852068817586]}, {\"categories\": [\"0\", \"1\", \"2\", \"3\", \"4\", \"5\", \"6\", \"7\", \"8\", \"9\", \"10\", \"11\", \"12\", \"13\", \"14\", \"15\", \"16\", \"17\", \"18\", \"19\", \"20\", \"21\", \"22\", \"23\", \"24\", \"25\", \"26\", \"27\", \"28\", \"29\", \"30\", \"31\", \"32\", \"33\", \"36\", \"37\"], \"mode\": \"lines\", \"name\": \"norm_macro_recall_max\", \"stepped\": true, \"type\": \"scatter\", \"data\": [0.5331084779360642, 0.5799208075070145, 0.633402860989068, 0.633402860989068, 0.633402860989068, 0.633402860989068, 0.633402860989068, 0.633402860989068, 0.633402860989068, 0.633402860989068, 0.633402860989068, 0.633402860989068, 0.633402860989068, 0.633402860989068, 0.633402860989068, 0.633402860989068, 0.6429749946991327, 0.6429749946991327, 0.6429749946991327, 0.6429749946991327, 0.6429749946991327, 0.6429749946991327, 0.6429749946991327, 0.6429749946991327, 0.6429749946991327, 0.6429749946991327, 0.6429749946991327, 0.6429749946991327, 0.6429749946991327, 0.6429749946991327, 0.6429749946991327, 0.6429749946991327, 0.6429749946991327, 0.6429749946991327, 0.6429749946991327, 0.6429749946991327]}], \"AUC_micro\": [{\"categories\": [\"0\", \"1\", \"2\", \"3\", \"4\", \"5\", \"6\", \"7\", \"8\", \"9\", \"10\", \"11\", \"12\", \"13\", \"14\", \"15\", \"16\", \"17\", \"18\", \"19\", \"20\", \"21\", \"22\", \"23\", \"24\", \"25\", \"26\", \"27\", \"28\", \"29\", \"30\", \"31\", \"32\", \"33\", \"36\", \"37\"], \"mode\": \"markers\", \"name\": \"AUC_micro\", \"stepped\": false, \"type\": \"scatter\", \"data\": [0.8769284528789579, 0.8907238819168114, 0.9060301397816549, 0.8892451994694418, 0.900895622895623, 0.8777660136720744, 0.8677386083052748, 0.8944502737815868, 0.8722233751657994, 0.7935838791960004, 0.8744670271740979, 0.9046150800938678, 0.8621880114274054, 0.8989248920178211, 0.8990265823215319, 0.8865985001530455, 0.9075594089038533, 0.8697539944903582, 0.826668050879162, 0.8903199877563513, 0.8758233751657994, 0.8828149100431929, 0.8847721048872564, 0.8946528109376594, 0.8717927490392138, 0.6774538550488046, 0.8990651634186988, 0.8909023909124919, 0.8820717647859061, 0.8826866578240314, 0.5257105873550318, 0.8929027344148556, 0.8357846308199844, 0.8881296296296296, 0.9081776825493998, 0.9008232017141108]}, {\"categories\": [\"0\", \"1\", \"2\", \"3\", \"4\", \"5\", \"6\", \"7\", \"8\", \"9\", \"10\", \"11\", \"12\", \"13\", \"14\", \"15\", \"16\", \"17\", \"18\", \"19\", \"20\", \"21\", \"22\", \"23\", \"24\", \"25\", \"26\", \"27\", \"28\", \"29\", \"30\", \"31\", \"32\", \"33\", \"36\", \"37\"], \"mode\": \"lines\", \"name\": \"AUC_micro_max\", \"stepped\": true, \"type\": \"scatter\", \"data\": [0.8769284528789579, 0.8907238819168114, 0.9060301397816549, 0.9060301397816549, 0.9060301397816549, 0.9060301397816549, 0.9060301397816549, 0.9060301397816549, 0.9060301397816549, 0.9060301397816549, 0.9060301397816549, 0.9060301397816549, 0.9060301397816549, 0.9060301397816549, 0.9060301397816549, 0.9060301397816549, 0.9075594089038533, 0.9075594089038533, 0.9075594089038533, 0.9075594089038533, 0.9075594089038533, 0.9075594089038533, 0.9075594089038533, 0.9075594089038533, 0.9075594089038533, 0.9075594089038533, 0.9075594089038533, 0.9075594089038533, 0.9075594089038533, 0.9075594089038533, 0.9075594089038533, 0.9075594089038533, 0.9075594089038533, 0.9075594089038533, 0.9081776825493998, 0.9081776825493998]}], \"f1_score_macro\": [{\"categories\": [\"0\", \"1\", \"2\", \"3\", \"4\", \"5\", \"6\", \"7\", \"8\", \"9\", \"10\", \"11\", \"12\", \"13\", \"14\", \"15\", \"16\", \"17\", \"18\", \"19\", \"20\", \"21\", \"22\", \"23\", \"24\", \"25\", \"26\", \"27\", \"28\", \"29\", \"30\", \"31\", \"32\", \"33\", \"36\", \"37\"], \"mode\": \"markers\", \"name\": \"f1_score_macro\", \"stepped\": false, \"type\": \"scatter\", \"data\": [0.7670520318568558, 0.7892216866138503, 0.8168419806441781, 0.7964433989229741, 0.8132750752517978, 0.7841574004049218, 0.7329434454434454, 0.8055824864607293, 0.7857193527377507, 0.5406744785569302, 0.7696365612510329, 0.8135894208035097, 0.7602425138914493, 0.8135142593592369, 0.8215745835285454, 0.794177639906812, 0.8252638364376922, 0.7500889337446779, 0.46847695715125653, 0.7879727976471832, 0.7439108266217896, 0.7878735500048727, 0.7525641260724752, 0.7851945721610435, 0.7175300599958133, 0.40415631893298937, 0.756677265020671, 0.796247472070775, 0.6961742385557194, 0.7897389168240793, 0.3761475700867804, 0.7979648526982629, 0.7312551472112765, 0.7601271258140466, 0.8297084365390162, 0.7989922587438514]}, {\"categories\": [\"0\", \"1\", \"2\", \"3\", \"4\", \"5\", \"6\", \"7\", \"8\", \"9\", \"10\", \"11\", \"12\", \"13\", \"14\", \"15\", \"16\", \"17\", \"18\", \"19\", \"20\", \"21\", \"22\", \"23\", \"24\", \"25\", \"26\", \"27\", \"28\", \"29\", \"30\", \"31\", \"32\", \"33\", \"36\", \"37\"], \"mode\": \"lines\", \"name\": \"f1_score_macro_max\", \"stepped\": true, \"type\": \"scatter\", \"data\": [0.7670520318568558, 0.7892216866138503, 0.8168419806441781, 0.8168419806441781, 0.8168419806441781, 0.8168419806441781, 0.8168419806441781, 0.8168419806441781, 0.8168419806441781, 0.8168419806441781, 0.8168419806441781, 0.8168419806441781, 0.8168419806441781, 0.8168419806441781, 0.8215745835285454, 0.8215745835285454, 0.8252638364376922, 0.8252638364376922, 0.8252638364376922, 0.8252638364376922, 0.8252638364376922, 0.8252638364376922, 0.8252638364376922, 0.8252638364376922, 0.8252638364376922, 0.8252638364376922, 0.8252638364376922, 0.8252638364376922, 0.8252638364376922, 0.8252638364376922, 0.8252638364376922, 0.8252638364376922, 0.8252638364376922, 0.8252638364376922, 0.8297084365390162, 0.8297084365390162]}], \"weighted_accuracy\": [{\"categories\": [\"0\", \"1\", \"2\", \"3\", \"4\", \"5\", \"6\", \"7\", \"8\", \"9\", \"10\", \"11\", \"12\", \"13\", \"14\", \"15\", \"16\", \"17\", \"18\", \"19\", \"20\", \"21\", \"22\", \"23\", \"24\", \"25\", \"26\", \"27\", \"28\", \"29\", \"30\", \"31\", \"32\", \"33\", \"36\", \"37\"], \"mode\": \"markers\", \"name\": \"weighted_accuracy\", \"stepped\": false, \"type\": \"scatter\", \"data\": [0.8310099034285422, 0.8426543037328149, 0.8632009805630023, 0.8741073271856018, 0.8588056157485461, 0.8404678576196996, 0.827764343661831, 0.881198753375032, 0.8493729938444844, 0.8045442527909349, 0.8542338447884733, 0.8585513086511855, 0.8409177551197641, 0.8677945158253574, 0.8949928578904452, 0.8634491196390175, 0.878022698423571, 0.8468894723378719, 0.825394933344393, 0.8535593565070826, 0.8607997440370725, 0.8442788841680052, 0.8610981132789015, 0.8766413952312506, 0.828192987782676, 0.8139581109686231, 0.8598902564266142, 0.8575040408962052, 0.8400850493587574, 0.8220499782629656, 0.42910766038830445, 0.8164112207757345, 0.7626229577214887, 0.8701988199150531, 0.8897873448195064, 0.8532910397583112]}, {\"categories\": [\"0\", \"1\", \"2\", \"3\", \"4\", \"5\", \"6\", \"7\", \"8\", \"9\", \"10\", \"11\", \"12\", \"13\", \"14\", \"15\", \"16\", \"17\", \"18\", \"19\", \"20\", \"21\", \"22\", \"23\", \"24\", \"25\", \"26\", \"27\", \"28\", \"29\", \"30\", \"31\", \"32\", \"33\", \"36\", \"37\"], \"mode\": \"lines\", \"name\": \"weighted_accuracy_max\", \"stepped\": true, \"type\": \"scatter\", \"data\": [0.8310099034285422, 0.8426543037328149, 0.8632009805630023, 0.8741073271856018, 0.8741073271856018, 0.8741073271856018, 0.8741073271856018, 0.881198753375032, 0.881198753375032, 0.881198753375032, 0.881198753375032, 0.881198753375032, 0.881198753375032, 0.881198753375032, 0.8949928578904452, 0.8949928578904452, 0.8949928578904452, 0.8949928578904452, 0.8949928578904452, 0.8949928578904452, 0.8949928578904452, 0.8949928578904452, 0.8949928578904452, 0.8949928578904452, 0.8949928578904452, 0.8949928578904452, 0.8949928578904452, 0.8949928578904452, 0.8949928578904452, 0.8949928578904452, 0.8949928578904452, 0.8949928578904452, 0.8949928578904452, 0.8949928578904452, 0.8949928578904452, 0.8949928578904452]}], \"precision_score_macro\": [{\"categories\": [\"0\", \"1\", \"2\", \"3\", \"4\", \"5\", \"6\", \"7\", \"8\", \"9\", \"10\", \"11\", \"12\", \"13\", \"14\", \"15\", \"16\", \"17\", \"18\", \"19\", \"20\", \"21\", \"22\", \"23\", \"24\", \"25\", \"26\", \"27\", \"28\", \"29\", \"30\", \"31\", \"32\", \"33\", \"36\", \"37\"], \"mode\": \"markers\", \"name\": \"precision_score_macro\", \"stepped\": false, \"type\": \"scatter\", \"data\": [0.7842311567478019, 0.7983113869170717, 0.8258591349145578, 0.8389685327544786, 0.8216075781508391, 0.7952966190897225, 0.7606481108565682, 0.8423427767731565, 0.8049580834341242, 0.6487053736223172, 0.8008658462083119, 0.8231258343198643, 0.7871941050071077, 0.8315494925923108, 0.8628738298042095, 0.816445047804697, 0.846254699384287, 0.7857213250549399, 0.8464653902798233, 0.8066063793751411, 0.8007629431971538, 0.8013768072691239, 0.816179671587341, 0.8329740981596266, 0.7657567030626297, 0.33951178451178454, 0.8123725180776917, 0.814267385598554, 0.7699347590160843, 0.7873088836557455, 0.5484441943819288, 0.7975398990586878, 0.727892100741018, 0.8317166524150629, 0.856624582583786, 0.81802932192339]}, {\"categories\": [\"0\", \"1\", \"2\", \"3\", \"4\", \"5\", \"6\", \"7\", \"8\", \"9\", \"10\", \"11\", \"12\", \"13\", \"14\", \"15\", \"16\", \"17\", \"18\", \"19\", \"20\", \"21\", \"22\", \"23\", \"24\", \"25\", \"26\", \"27\", \"28\", \"29\", \"30\", \"31\", \"32\", \"33\", \"36\", \"37\"], \"mode\": \"lines\", \"name\": \"precision_score_macro_max\", \"stepped\": true, \"type\": \"scatter\", \"data\": [0.7842311567478019, 0.7983113869170717, 0.8258591349145578, 0.8389685327544786, 0.8389685327544786, 0.8389685327544786, 0.8389685327544786, 0.8423427767731565, 0.8423427767731565, 0.8423427767731565, 0.8423427767731565, 0.8423427767731565, 0.8423427767731565, 0.8423427767731565, 0.8628738298042095, 0.8628738298042095, 0.8628738298042095, 0.8628738298042095, 0.8628738298042095, 0.8628738298042095, 0.8628738298042095, 0.8628738298042095, 0.8628738298042095, 0.8628738298042095, 0.8628738298042095, 0.8628738298042095, 0.8628738298042095, 0.8628738298042095, 0.8628738298042095, 0.8628738298042095, 0.8628738298042095, 0.8628738298042095, 0.8628738298042095, 0.8628738298042095, 0.8628738298042095, 0.8628738298042095]}], \"f1_score_micro\": [{\"categories\": [\"0\", \"1\", \"2\", \"3\", \"4\", \"5\", \"6\", \"7\", \"8\", \"9\", \"10\", \"11\", \"12\", \"13\", \"14\", \"15\", \"16\", \"17\", \"18\", \"19\", \"20\", \"21\", \"22\", \"23\", \"24\", \"25\", \"26\", \"27\", \"28\", \"29\", \"30\", \"31\", \"32\", \"33\", \"36\", \"37\"], \"mode\": \"markers\", \"name\": \"f1_score_micro\", \"stepped\": false, \"type\": \"scatter\", \"data\": [0.8025252525252525, 0.8192929292929293, 0.8426262626262625, 0.836026936026936, 0.8394612794612794, 0.816060606060606, 0.7824242424242426, 0.8427609427609428, 0.8192929292929293, 0.7023232323232325, 0.8126599326599327, 0.8393265993265993, 0.8026599326599326, 0.8427272727272728, 0.8561616161616162, 0.8293939393939395, 0.8528282828282828, 0.7994276094276094, 0.6990909090909092, 0.8226262626262626, 0.8025925925925925, 0.8193602693602693, 0.8092929292929293, 0.8293939393939395, 0.7758249158249159, 0.6790235690235691, 0.8092929292929293, 0.8292255892255892, 0.7725589225589227, 0.8125925925925926, 0.47451178451178455, 0.8158585858585857, 0.7558585858585859, 0.8161616161616161, 0.8595286195286196, 0.8292929292929294]}, {\"categories\": [\"0\", \"1\", \"2\", \"3\", \"4\", \"5\", \"6\", \"7\", \"8\", \"9\", \"10\", \"11\", \"12\", \"13\", \"14\", \"15\", \"16\", \"17\", \"18\", \"19\", \"20\", \"21\", \"22\", \"23\", \"24\", \"25\", \"26\", \"27\", \"28\", \"29\", \"30\", \"31\", \"32\", \"33\", \"36\", \"37\"], \"mode\": \"lines\", \"name\": \"f1_score_micro_max\", \"stepped\": true, \"type\": \"scatter\", \"data\": [0.8025252525252525, 0.8192929292929293, 0.8426262626262625, 0.8426262626262625, 0.8426262626262625, 0.8426262626262625, 0.8426262626262625, 0.8427609427609428, 0.8427609427609428, 0.8427609427609428, 0.8427609427609428, 0.8427609427609428, 0.8427609427609428, 0.8427609427609428, 0.8561616161616162, 0.8561616161616162, 0.8561616161616162, 0.8561616161616162, 0.8561616161616162, 0.8561616161616162, 0.8561616161616162, 0.8561616161616162, 0.8561616161616162, 0.8561616161616162, 0.8561616161616162, 0.8561616161616162, 0.8561616161616162, 0.8561616161616162, 0.8561616161616162, 0.8561616161616162, 0.8561616161616162, 0.8561616161616162, 0.8561616161616162, 0.8561616161616162, 0.8595286195286196, 0.8595286195286196]}]}, \"metricName\": null, \"primaryMetricName\": \"accuracy\", \"showLegend\": false}, \"run_metrics\": [{\"name\": \"experiment_status\", \"run_id\": \"AutoML_9245f821-c61e-417e-a3b7-85db6aa64f61\", \"categories\": [0, 1, 2, 3, 4, 5, 6, 7, 8, 9, 10, 11, 12, 13], \"series\": [{\"data\": [\"DatasetEvaluation\", \"FeaturesGeneration\", \"DatasetFeaturization\", \"DatasetFeaturizationCompleted\", \"DatasetCrossValidationSplit\", \"ModelSelection\", \"BestRunExplainModel\", \"ModelExplanationDataSetSetup\", \"PickSurrogateModel\", \"EngineeredFeatureExplanations\", \"EngineeredFeatureExplanations\", \"RawFeaturesExplanations\", \"RawFeaturesExplanations\", \"BestRunExplainModel\"]}]}, {\"name\": \"experiment_status_description\", \"run_id\": \"AutoML_9245f821-c61e-417e-a3b7-85db6aa64f61\", \"categories\": [0, 1, 2, 3, 4, 5, 6, 7, 8, 9, 10, 11, 12, 13], \"series\": [{\"data\": [\"Gathering dataset statistics.\", \"Generating features for the dataset.\", \"Beginning to fit featurizers and featurize the dataset.\", \"Completed fit featurizers and featurizing the dataset.\", \"Generating individually featurized CV splits.\", \"Beginning model selection.\", \"Best run model explanations started\", \"Model explanations data setup completed\", \"Choosing LightGBM as the surrogate model for explanations\", \"Computation of engineered features started\", \"Computation of engineered features completed\", \"Computation of raw features started\", \"Computation of raw features completed\", \"Best run model explanations completed\"]}]}, {\"name\": \"f1_score_weighted\", \"run_id\": \"AutoML_9245f821-c61e-417e-a3b7-85db6aa64f61\", \"categories\": [0], \"series\": [{\"data\": [0.8537289281396695]}]}, {\"name\": \"matthews_correlation\", \"run_id\": \"AutoML_9245f821-c61e-417e-a3b7-85db6aa64f61\", \"categories\": [0], \"series\": [{\"data\": [0.6757879301394585]}]}, {\"name\": \"precision_score_micro\", \"run_id\": \"AutoML_9245f821-c61e-417e-a3b7-85db6aa64f61\", \"categories\": [0], \"series\": [{\"data\": [0.8595286195286196]}]}, {\"name\": \"average_precision_score_weighted\", \"run_id\": \"AutoML_9245f821-c61e-417e-a3b7-85db6aa64f61\", \"categories\": [0], \"series\": [{\"data\": [0.9075481993186054]}]}, {\"name\": \"weighted_accuracy\", \"run_id\": \"AutoML_9245f821-c61e-417e-a3b7-85db6aa64f61\", \"categories\": [0], \"series\": [{\"data\": [0.8897873448195064]}]}, {\"name\": \"precision_score_weighted\", \"run_id\": \"AutoML_9245f821-c61e-417e-a3b7-85db6aa64f61\", \"categories\": [0], \"series\": [{\"data\": [0.8633436421194771]}]}, {\"name\": \"AUC_weighted\", \"run_id\": \"AutoML_9245f821-c61e-417e-a3b7-85db6aa64f61\", \"categories\": [0], \"series\": [{\"data\": [0.9002065612410438]}]}, {\"name\": \"log_loss\", \"run_id\": \"AutoML_9245f821-c61e-417e-a3b7-85db6aa64f61\", \"categories\": [0], \"series\": [{\"data\": [0.4049952940035509]}]}, {\"name\": \"f1_score_macro\", \"run_id\": \"AutoML_9245f821-c61e-417e-a3b7-85db6aa64f61\", \"categories\": [0], \"series\": [{\"data\": [0.8297084365390162]}]}, {\"name\": \"AUC_micro\", \"run_id\": \"AutoML_9245f821-c61e-417e-a3b7-85db6aa64f61\", \"categories\": [0], \"series\": [{\"data\": [0.9081776825493998]}]}, {\"name\": \"average_precision_score_micro\", \"run_id\": \"AutoML_9245f821-c61e-417e-a3b7-85db6aa64f61\", \"categories\": [0], \"series\": [{\"data\": [0.9087606349983991]}]}, {\"name\": \"recall_score_macro\", \"run_id\": \"AutoML_9245f821-c61e-417e-a3b7-85db6aa64f61\", \"categories\": [0], \"series\": [{\"data\": [0.8213546058373645]}]}, {\"name\": \"f1_score_micro\", \"run_id\": \"AutoML_9245f821-c61e-417e-a3b7-85db6aa64f61\", \"categories\": [0], \"series\": [{\"data\": [0.8595286195286196]}]}, {\"name\": \"recall_score_weighted\", \"run_id\": \"AutoML_9245f821-c61e-417e-a3b7-85db6aa64f61\", \"categories\": [0], \"series\": [{\"data\": [0.8595286195286196]}]}, {\"name\": \"precision_score_macro\", \"run_id\": \"AutoML_9245f821-c61e-417e-a3b7-85db6aa64f61\", \"categories\": [0], \"series\": [{\"data\": [0.856624582583786]}]}, {\"name\": \"average_precision_score_macro\", \"run_id\": \"AutoML_9245f821-c61e-417e-a3b7-85db6aa64f61\", \"categories\": [0], \"series\": [{\"data\": [0.8836335619163993]}]}, {\"name\": \"norm_macro_recall\", \"run_id\": \"AutoML_9245f821-c61e-417e-a3b7-85db6aa64f61\", \"categories\": [0], \"series\": [{\"data\": [0.6427092116747289]}]}, {\"name\": \"balanced_accuracy\", \"run_id\": \"AutoML_9245f821-c61e-417e-a3b7-85db6aa64f61\", \"categories\": [0], \"series\": [{\"data\": [0.8213546058373645]}]}, {\"name\": \"AUC_macro\", \"run_id\": \"AutoML_9245f821-c61e-417e-a3b7-85db6aa64f61\", \"categories\": [0], \"series\": [{\"data\": [0.900206561241044]}]}, {\"name\": \"recall_score_micro\", \"run_id\": \"AutoML_9245f821-c61e-417e-a3b7-85db6aa64f61\", \"categories\": [0], \"series\": [{\"data\": [0.8595286195286196]}]}, {\"name\": \"accuracy\", \"run_id\": \"AutoML_9245f821-c61e-417e-a3b7-85db6aa64f61\", \"categories\": [0], \"series\": [{\"data\": [0.8595286195286196]}]}], \"run_logs\": \"\\nRun is completed.\", \"graph\": {}, \"widget_settings\": {\"childWidgetDisplay\": \"popup\", \"send_telemetry\": false, \"log_level\": \"INFO\", \"sdk_version\": \"1.20.0\"}, \"loading\": false}"
     },
     "metadata": {},
     "output_type": "display_data"
    }
   ],
   "source": [
    "RunDetails(remote_run).show()"
   ]
  },
  {
   "cell_type": "code",
   "execution_count": 10,
   "metadata": {
    "gather": {
     "logged": 1598431121770
    },
    "jupyter": {
     "outputs_hidden": false,
     "source_hidden": false
    },
    "nteract": {
     "transient": {
      "deleting": false
     }
    }
   },
   "outputs": [
    {
     "name": "stdout",
     "output_type": "stream",
     "text": [
      "\n",
      "\n",
      "****************************************************************************************************\n",
      "DATA GUARDRAILS: \n",
      "\n",
      "TYPE:         Class balancing detection\n",
      "STATUS:       PASSED\n",
      "DESCRIPTION:  Your inputs were analyzed, and all classes are balanced in your training data.\n",
      "              Learn more about imbalanced data: https://aka.ms/AutomatedMLImbalancedData\n",
      "\n",
      "****************************************************************************************************\n",
      "\n",
      "TYPE:         Missing feature values imputation\n",
      "STATUS:       PASSED\n",
      "DESCRIPTION:  No feature missing values were detected in the training data.\n",
      "              Learn more about missing value imputation: https://aka.ms/AutomatedMLFeaturization\n",
      "\n",
      "****************************************************************************************************\n",
      "\n",
      "TYPE:         High cardinality feature detection\n",
      "STATUS:       PASSED\n",
      "DESCRIPTION:  Your inputs were analyzed, and no high cardinality features were detected.\n",
      "              Learn more about high cardinality feature handling: https://aka.ms/AutomatedMLFeaturization\n",
      "\n",
      "****************************************************************************************************\n",
      "\n",
      "****************************************************************************************************\n",
      "ITERATION: The iteration being evaluated.\n",
      "PIPELINE: A summary description of the pipeline being evaluated.\n",
      "DURATION: Time taken for the current iteration.\n",
      "METRIC: The result of computing score on the fitted pipeline.\n",
      "BEST: The best observed score thus far.\n",
      "****************************************************************************************************\n",
      "\n",
      " ITERATION   PIPELINE                                       DURATION      METRIC      BEST\n",
      "         0   MaxAbsScaler LightGBM                          0:00:50       0.8025    0.8025\n",
      "         1   MaxAbsScaler XGBoostClassifier                 0:00:55       0.8193    0.8193\n",
      "         2   MinMaxScaler RandomForest                      0:03:16       0.8426    0.8426\n",
      "         3   MinMaxScaler RandomForest                      0:00:51       0.8360    0.8426\n",
      "         4   MinMaxScaler RandomForest                      0:03:40       0.8395    0.8426\n",
      "         5   StandardScalerWrapper LightGBM                 0:03:27       0.8161    0.8426\n",
      "         6   StandardScalerWrapper LightGBM                 0:00:48       0.7824    0.8426\n",
      "         7   MaxAbsScaler LightGBM                          0:00:48       0.8428    0.8428\n",
      "        10   SparseNormalizer LightGBM                      0:00:47       0.8127    0.8428\n",
      "        11   RobustScaler RandomForest                      0:00:55       0.8393    0.8428\n",
      "         8   MaxAbsScaler LogisticRegression                0:00:57       0.8193    0.8428\n",
      "         9   MinMaxScaler SVM                               0:00:45       0.7023    0.8428\n",
      "        12   SparseNormalizer XGBoostClassifier             0:00:47       0.8027    0.8428\n",
      "        13   StandardScalerWrapper LightGBM                 0:00:55       0.8427    0.8428\n",
      "        14   RobustScaler ExtremeRandomTrees                0:00:45       0.8562    0.8562\n",
      "        15   SparseNormalizer XGBoostClassifier             0:00:47       0.8294    0.8562\n",
      "        16   StandardScalerWrapper RandomForest             0:00:49       0.8528    0.8562\n",
      "        17   SparseNormalizer XGBoostClassifier             0:00:46       0.7994    0.8562\n",
      "        18   MaxAbsScaler LightGBM                          0:00:45       0.6991    0.8562\n",
      "        19   MinMaxScaler LightGBM                          0:00:47       0.8226    0.8562\n",
      "        20   MaxAbsScaler LightGBM                          0:00:48       0.8026    0.8562\n",
      "        21   MaxAbsScaler ExtremeRandomTrees                0:00:49       0.8194    0.8562\n",
      "        22   MinMaxScaler LightGBM                          0:00:44       0.8093    0.8562\n",
      "        23   StandardScalerWrapper LightGBM                 0:00:49       0.8294    0.8562\n",
      "        24   MinMaxScaler LightGBM                          0:00:44       0.7758    0.8562\n",
      "        25   TruncatedSVDWrapper ExtremeRandomTrees         0:00:51       0.6790    0.8562\n",
      "        26   MaxAbsScaler LightGBM                          0:00:49       0.8093    0.8562\n",
      "        27   MinMaxScaler LightGBM                          0:00:51       0.8292    0.8562\n",
      "        28   StandardScalerWrapper RandomForest             0:00:51       0.7726    0.8562\n",
      "        29   MaxAbsScaler ExtremeRandomTrees                0:00:54       0.8126    0.8562\n",
      "        30   StandardScalerWrapper ExtremeRandomTrees       0:00:44       0.4745    0.8562\n",
      "        31   StandardScalerWrapper RandomForest             0:00:48       0.8159    0.8562\n",
      "        32   SparseNormalizer ExtremeRandomTrees            0:00:45       0.7559    0.8562\n",
      "        33   MinMaxScaler LightGBM                          0:00:37       0.8162    0.8562\n",
      "        34   StandardScalerWrapper LightGBM                 0:00:27          nan    0.8562\n",
      "        35                                                  0:00:19          nan    0.8562\n",
      "        36    VotingEnsemble                                0:01:15       0.8595    0.8595\n",
      "        37    StackEnsemble                                 0:01:31       0.8293    0.8595\n"
     ]
    },
    {
     "data": {
      "text/plain": [
       "{'runId': 'AutoML_9245f821-c61e-417e-a3b7-85db6aa64f61',\n",
       " 'target': 'heart-compute',\n",
       " 'status': 'Completed',\n",
       " 'startTimeUtc': '2021-01-31T11:50:20.059746Z',\n",
       " 'endTimeUtc': '2021-01-31T12:13:57.239828Z',\n",
       " 'properties': {'num_iterations': '40',\n",
       "  'training_type': 'TrainFull',\n",
       "  'acquisition_function': 'EI',\n",
       "  'primary_metric': 'accuracy',\n",
       "  'train_split': '0',\n",
       "  'acquisition_parameter': '0',\n",
       "  'num_cross_validation': '3',\n",
       "  'target': 'heart-compute',\n",
       "  'AMLSettingsJsonString': '{\"path\":null,\"name\":\"automl-heart-experiment\",\"subscription_id\":\"cdbe0b43-92a0-4715-838a-f2648cc7ad21\",\"resource_group\":\"aml-quickstarts-136710\",\"workspace_name\":\"quick-starts-ws-136710\",\"region\":\"southcentralus\",\"compute_target\":\"heart-compute\",\"spark_service\":null,\"azure_service\":\"remote\",\"many_models\":false,\"pipeline_fetch_max_batch_size\":1,\"iterations\":40,\"primary_metric\":\"accuracy\",\"task_type\":\"classification\",\"data_script\":null,\"validation_size\":0.0,\"n_cross_validations\":3,\"y_min\":null,\"y_max\":null,\"num_classes\":null,\"featurization\":\"auto\",\"_ignore_package_version_incompatibilities\":false,\"is_timeseries\":false,\"max_cores_per_iteration\":1,\"max_concurrent_iterations\":4,\"iteration_timeout_minutes\":null,\"mem_in_mb\":null,\"enforce_time_on_windows\":false,\"experiment_timeout_minutes\":15,\"experiment_exit_score\":null,\"whitelist_models\":null,\"blacklist_algos\":[\"TensorFlowLinearClassifier\",\"TensorFlowDNN\"],\"supported_models\":[\"TensorFlowDNN\",\"LinearSVM\",\"XGBoostClassifier\",\"AveragedPerceptronClassifier\",\"DecisionTree\",\"LogisticRegression\",\"GradientBoosting\",\"TensorFlowLinearClassifier\",\"BernoulliNaiveBayes\",\"SGD\",\"ExtremeRandomTrees\",\"LightGBM\",\"SVM\",\"RandomForest\",\"KNN\",\"MultinomialNaiveBayes\"],\"auto_blacklist\":true,\"blacklist_samples_reached\":false,\"exclude_nan_labels\":true,\"verbosity\":20,\"_debug_log\":\"azureml_automl.log\",\"show_warnings\":false,\"model_explainability\":true,\"service_url\":null,\"sdk_url\":null,\"sdk_packages\":null,\"enable_onnx_compatible_models\":false,\"enable_split_onnx_featurizer_estimator_models\":false,\"vm_type\":\"STANDARD_D2_V2\",\"telemetry_verbosity\":20,\"send_telemetry\":true,\"enable_dnn\":false,\"scenario\":\"SDK-1.13.0\",\"environment_label\":null,\"force_text_dnn\":false,\"enable_feature_sweeping\":true,\"enable_early_stopping\":true,\"early_stopping_n_iters\":10,\"metrics\":null,\"enable_ensembling\":true,\"enable_stack_ensembling\":true,\"ensemble_iterations\":15,\"enable_tf\":false,\"enable_subsampling\":false,\"subsample_seed\":null,\"enable_nimbusml\":false,\"enable_streaming\":false,\"force_streaming\":false,\"track_child_runs\":true,\"allowed_private_models\":[],\"label_column_name\":\"DEATH_EVENT\",\"weight_column_name\":null,\"cv_split_column_names\":null,\"enable_local_managed\":false,\"_local_managed_run_id\":null,\"cost_mode\":1,\"lag_length\":0,\"metric_operation\":\"maximize\",\"preprocess\":true}',\n",
       "  'DataPrepJsonString': '{\\\\\"training_data\\\\\": \\\\\"{\\\\\\\\\\\\\"blocks\\\\\\\\\\\\\": [{\\\\\\\\\\\\\"id\\\\\\\\\\\\\": \\\\\\\\\\\\\"a871689b-e1a5-4074-95da-9ff1408cb06c\\\\\\\\\\\\\", \\\\\\\\\\\\\"type\\\\\\\\\\\\\": \\\\\\\\\\\\\"Microsoft.DPrep.GetDatastoreFilesBlock\\\\\\\\\\\\\", \\\\\\\\\\\\\"arguments\\\\\\\\\\\\\": {\\\\\\\\\\\\\"datastores\\\\\\\\\\\\\": [{\\\\\\\\\\\\\"datastoreName\\\\\\\\\\\\\": \\\\\\\\\\\\\"workspaceblobstore\\\\\\\\\\\\\", \\\\\\\\\\\\\"path\\\\\\\\\\\\\": \\\\\\\\\\\\\"UI/01-31-2021_103119_UTC/heart_failure_clinical_records_dataset.csv\\\\\\\\\\\\\", \\\\\\\\\\\\\"resourceGroup\\\\\\\\\\\\\": \\\\\\\\\\\\\"aml-quickstarts-136710\\\\\\\\\\\\\", \\\\\\\\\\\\\"subscription\\\\\\\\\\\\\": \\\\\\\\\\\\\"cdbe0b43-92a0-4715-838a-f2648cc7ad21\\\\\\\\\\\\\", \\\\\\\\\\\\\"workspaceName\\\\\\\\\\\\\": \\\\\\\\\\\\\"quick-starts-ws-136710\\\\\\\\\\\\\"}]}, \\\\\\\\\\\\\"localData\\\\\\\\\\\\\": {}, \\\\\\\\\\\\\"isEnabled\\\\\\\\\\\\\": true, \\\\\\\\\\\\\"name\\\\\\\\\\\\\": null, \\\\\\\\\\\\\"annotation\\\\\\\\\\\\\": null}, {\\\\\\\\\\\\\"id\\\\\\\\\\\\\": \\\\\\\\\\\\\"7e576027-1ac8-47b7-b8cc-e991a0189c8a\\\\\\\\\\\\\", \\\\\\\\\\\\\"type\\\\\\\\\\\\\": \\\\\\\\\\\\\"Microsoft.DPrep.ParseDelimitedBlock\\\\\\\\\\\\\", \\\\\\\\\\\\\"arguments\\\\\\\\\\\\\": {\\\\\\\\\\\\\"columnHeadersMode\\\\\\\\\\\\\": 1, \\\\\\\\\\\\\"fileEncoding\\\\\\\\\\\\\": 0, \\\\\\\\\\\\\"handleQuotedLineBreaks\\\\\\\\\\\\\": false, \\\\\\\\\\\\\"preview\\\\\\\\\\\\\": false, \\\\\\\\\\\\\"separator\\\\\\\\\\\\\": \\\\\\\\\\\\\",\\\\\\\\\\\\\", \\\\\\\\\\\\\"skipRows\\\\\\\\\\\\\": 0, \\\\\\\\\\\\\"skipRowsMode\\\\\\\\\\\\\": 0}, \\\\\\\\\\\\\"localData\\\\\\\\\\\\\": {}, \\\\\\\\\\\\\"isEnabled\\\\\\\\\\\\\": true, \\\\\\\\\\\\\"name\\\\\\\\\\\\\": null, \\\\\\\\\\\\\"annotation\\\\\\\\\\\\\": null}, {\\\\\\\\\\\\\"id\\\\\\\\\\\\\": \\\\\\\\\\\\\"40aee7d4-5489-41a9-a4dc-7b98350ded4c\\\\\\\\\\\\\", \\\\\\\\\\\\\"type\\\\\\\\\\\\\": \\\\\\\\\\\\\"Microsoft.DPrep.DropColumnsBlock\\\\\\\\\\\\\", \\\\\\\\\\\\\"arguments\\\\\\\\\\\\\": {\\\\\\\\\\\\\"columns\\\\\\\\\\\\\": {\\\\\\\\\\\\\"type\\\\\\\\\\\\\": 0, \\\\\\\\\\\\\"details\\\\\\\\\\\\\": {\\\\\\\\\\\\\"selectedColumns\\\\\\\\\\\\\": [\\\\\\\\\\\\\"Path\\\\\\\\\\\\\"]}}}, \\\\\\\\\\\\\"localData\\\\\\\\\\\\\": {}, \\\\\\\\\\\\\"isEnabled\\\\\\\\\\\\\": true, \\\\\\\\\\\\\"name\\\\\\\\\\\\\": null, \\\\\\\\\\\\\"annotation\\\\\\\\\\\\\": null}, {\\\\\\\\\\\\\"id\\\\\\\\\\\\\": \\\\\\\\\\\\\"63ef99a8-cd60-4e4c-b596-706c6f76b34d\\\\\\\\\\\\\", \\\\\\\\\\\\\"type\\\\\\\\\\\\\": \\\\\\\\\\\\\"Microsoft.DPrep.SetColumnTypesBlock\\\\\\\\\\\\\", \\\\\\\\\\\\\"arguments\\\\\\\\\\\\\": {\\\\\\\\\\\\\"columnConversion\\\\\\\\\\\\\": [{\\\\\\\\\\\\\"column\\\\\\\\\\\\\": {\\\\\\\\\\\\\"type\\\\\\\\\\\\\": 2, \\\\\\\\\\\\\"details\\\\\\\\\\\\\": {\\\\\\\\\\\\\"selectedColumn\\\\\\\\\\\\\": \\\\\\\\\\\\\"Path\\\\\\\\\\\\\"}}, \\\\\\\\\\\\\"typeProperty\\\\\\\\\\\\\": 0}, {\\\\\\\\\\\\\"column\\\\\\\\\\\\\": {\\\\\\\\\\\\\"type\\\\\\\\\\\\\": 2, \\\\\\\\\\\\\"details\\\\\\\\\\\\\": {\\\\\\\\\\\\\"selectedColumn\\\\\\\\\\\\\": \\\\\\\\\\\\\"age\\\\\\\\\\\\\"}}, \\\\\\\\\\\\\"typeProperty\\\\\\\\\\\\\": 3}, {\\\\\\\\\\\\\"column\\\\\\\\\\\\\": {\\\\\\\\\\\\\"type\\\\\\\\\\\\\": 2, \\\\\\\\\\\\\"details\\\\\\\\\\\\\": {\\\\\\\\\\\\\"selectedColumn\\\\\\\\\\\\\": \\\\\\\\\\\\\"anaemia\\\\\\\\\\\\\"}}, \\\\\\\\\\\\\"typeProperty\\\\\\\\\\\\\": 2}, {\\\\\\\\\\\\\"column\\\\\\\\\\\\\": {\\\\\\\\\\\\\"type\\\\\\\\\\\\\": 2, \\\\\\\\\\\\\"details\\\\\\\\\\\\\": {\\\\\\\\\\\\\"selectedColumn\\\\\\\\\\\\\": \\\\\\\\\\\\\"creatinine_phosphokinase\\\\\\\\\\\\\"}}, \\\\\\\\\\\\\"typeProperty\\\\\\\\\\\\\": 2}, {\\\\\\\\\\\\\"column\\\\\\\\\\\\\": {\\\\\\\\\\\\\"type\\\\\\\\\\\\\": 2, \\\\\\\\\\\\\"details\\\\\\\\\\\\\": {\\\\\\\\\\\\\"selectedColumn\\\\\\\\\\\\\": \\\\\\\\\\\\\"diabetes\\\\\\\\\\\\\"}}, \\\\\\\\\\\\\"typeProperty\\\\\\\\\\\\\": 2}, {\\\\\\\\\\\\\"column\\\\\\\\\\\\\": {\\\\\\\\\\\\\"type\\\\\\\\\\\\\": 2, \\\\\\\\\\\\\"details\\\\\\\\\\\\\": {\\\\\\\\\\\\\"selectedColumn\\\\\\\\\\\\\": \\\\\\\\\\\\\"ejection_fraction\\\\\\\\\\\\\"}}, \\\\\\\\\\\\\"typeProperty\\\\\\\\\\\\\": 2}, {\\\\\\\\\\\\\"column\\\\\\\\\\\\\": {\\\\\\\\\\\\\"type\\\\\\\\\\\\\": 2, \\\\\\\\\\\\\"details\\\\\\\\\\\\\": {\\\\\\\\\\\\\"selectedColumn\\\\\\\\\\\\\": \\\\\\\\\\\\\"high_blood_pressure\\\\\\\\\\\\\"}}, \\\\\\\\\\\\\"typeProperty\\\\\\\\\\\\\": 2}, {\\\\\\\\\\\\\"column\\\\\\\\\\\\\": {\\\\\\\\\\\\\"type\\\\\\\\\\\\\": 2, \\\\\\\\\\\\\"details\\\\\\\\\\\\\": {\\\\\\\\\\\\\"selectedColumn\\\\\\\\\\\\\": \\\\\\\\\\\\\"platelets\\\\\\\\\\\\\"}}, \\\\\\\\\\\\\"typeProperty\\\\\\\\\\\\\": 3}, {\\\\\\\\\\\\\"column\\\\\\\\\\\\\": {\\\\\\\\\\\\\"type\\\\\\\\\\\\\": 2, \\\\\\\\\\\\\"details\\\\\\\\\\\\\": {\\\\\\\\\\\\\"selectedColumn\\\\\\\\\\\\\": \\\\\\\\\\\\\"serum_creatinine\\\\\\\\\\\\\"}}, \\\\\\\\\\\\\"typeProperty\\\\\\\\\\\\\": 3}, {\\\\\\\\\\\\\"column\\\\\\\\\\\\\": {\\\\\\\\\\\\\"type\\\\\\\\\\\\\": 2, \\\\\\\\\\\\\"details\\\\\\\\\\\\\": {\\\\\\\\\\\\\"selectedColumn\\\\\\\\\\\\\": \\\\\\\\\\\\\"serum_sodium\\\\\\\\\\\\\"}}, \\\\\\\\\\\\\"typeProperty\\\\\\\\\\\\\": 2}, {\\\\\\\\\\\\\"column\\\\\\\\\\\\\": {\\\\\\\\\\\\\"type\\\\\\\\\\\\\": 2, \\\\\\\\\\\\\"details\\\\\\\\\\\\\": {\\\\\\\\\\\\\"selectedColumn\\\\\\\\\\\\\": \\\\\\\\\\\\\"sex\\\\\\\\\\\\\"}}, \\\\\\\\\\\\\"typeProperty\\\\\\\\\\\\\": 2}, {\\\\\\\\\\\\\"column\\\\\\\\\\\\\": {\\\\\\\\\\\\\"type\\\\\\\\\\\\\": 2, \\\\\\\\\\\\\"details\\\\\\\\\\\\\": {\\\\\\\\\\\\\"selectedColumn\\\\\\\\\\\\\": \\\\\\\\\\\\\"smoking\\\\\\\\\\\\\"}}, \\\\\\\\\\\\\"typeProperty\\\\\\\\\\\\\": 2}, {\\\\\\\\\\\\\"column\\\\\\\\\\\\\": {\\\\\\\\\\\\\"type\\\\\\\\\\\\\": 2, \\\\\\\\\\\\\"details\\\\\\\\\\\\\": {\\\\\\\\\\\\\"selectedColumn\\\\\\\\\\\\\": \\\\\\\\\\\\\"time\\\\\\\\\\\\\"}}, \\\\\\\\\\\\\"typeProperty\\\\\\\\\\\\\": 2}, {\\\\\\\\\\\\\"column\\\\\\\\\\\\\": {\\\\\\\\\\\\\"type\\\\\\\\\\\\\": 2, \\\\\\\\\\\\\"details\\\\\\\\\\\\\": {\\\\\\\\\\\\\"selectedColumn\\\\\\\\\\\\\": \\\\\\\\\\\\\"DEATH_EVENT\\\\\\\\\\\\\"}}, \\\\\\\\\\\\\"typeProperty\\\\\\\\\\\\\": 2}]}, \\\\\\\\\\\\\"localData\\\\\\\\\\\\\": {}, \\\\\\\\\\\\\"isEnabled\\\\\\\\\\\\\": true, \\\\\\\\\\\\\"name\\\\\\\\\\\\\": null, \\\\\\\\\\\\\"annotation\\\\\\\\\\\\\": null}], \\\\\\\\\\\\\"inspectors\\\\\\\\\\\\\": [], \\\\\\\\\\\\\"meta\\\\\\\\\\\\\": {\\\\\\\\\\\\\"savedDatasetId\\\\\\\\\\\\\": \\\\\\\\\\\\\"1e5b4d82-b871-4d15-bbd3-85e9b14c4ed2\\\\\\\\\\\\\", \\\\\\\\\\\\\"datasetType\\\\\\\\\\\\\": \\\\\\\\\\\\\"tabular\\\\\\\\\\\\\", \\\\\\\\\\\\\"subscriptionId\\\\\\\\\\\\\": \\\\\\\\\\\\\"cdbe0b43-92a0-4715-838a-f2648cc7ad21\\\\\\\\\\\\\", \\\\\\\\\\\\\"workspaceId\\\\\\\\\\\\\": \\\\\\\\\\\\\"0418f4bb-862f-43a9-9ffc-a1114c8964ef\\\\\\\\\\\\\", \\\\\\\\\\\\\"workspaceLocation\\\\\\\\\\\\\": \\\\\\\\\\\\\"southcentralus\\\\\\\\\\\\\"}}\\\\\", \\\\\"activities\\\\\": 0}',\n",
       "  'EnableSubsampling': 'False',\n",
       "  'runTemplate': 'AutoML',\n",
       "  'azureml.runsource': 'automl',\n",
       "  'display_task_type': 'classification',\n",
       "  'dependencies_versions': '{\"azureml-widgets\": \"1.20.0\", \"azureml-train\": \"1.20.0\", \"azureml-train-restclients-hyperdrive\": \"1.20.0\", \"azureml-train-core\": \"1.20.0\", \"azureml-train-automl\": \"1.20.0\", \"azureml-train-automl-runtime\": \"1.20.0\", \"azureml-train-automl-client\": \"1.20.0\", \"azureml-tensorboard\": \"1.20.0\", \"azureml-telemetry\": \"1.20.0\", \"azureml-sdk\": \"1.20.0\", \"azureml-samples\": \"0+unknown\", \"azureml-pipeline\": \"1.20.0\", \"azureml-pipeline-steps\": \"1.20.0\", \"azureml-pipeline-core\": \"1.20.0\", \"azureml-opendatasets\": \"1.20.0\", \"azureml-model-management-sdk\": \"1.0.1b6.post1\", \"azureml-mlflow\": \"1.20.0.post1\", \"azureml-interpret\": \"1.20.0\", \"azureml-explain-model\": \"1.20.0\", \"azureml-defaults\": \"1.20.0\", \"azureml-dataset-runtime\": \"1.20.0\", \"azureml-dataprep\": \"2.7.3\", \"azureml-dataprep-rslex\": \"1.5.0\", \"azureml-dataprep-native\": \"27.0.0\", \"azureml-datadrift\": \"1.20.0\", \"azureml-core\": \"1.20.0\", \"azureml-contrib-services\": \"1.20.0\", \"azureml-contrib-server\": \"1.20.0\", \"azureml-contrib-reinforcementlearning\": \"1.20.0\", \"azureml-contrib-pipeline-steps\": \"1.20.0\", \"azureml-contrib-notebook\": \"1.20.0\", \"azureml-contrib-interpret\": \"1.20.0\", \"azureml-contrib-gbdt\": \"1.20.0\", \"azureml-contrib-fairness\": \"1.20.0\", \"azureml-contrib-dataset\": \"1.20.0\", \"azureml-cli-common\": \"1.20.0\", \"azureml-automl-runtime\": \"1.20.0\", \"azureml-automl-core\": \"1.20.0\", \"azureml-accel-models\": \"1.20.0\"}',\n",
       "  '_aml_system_scenario_identification': 'Remote.Parent',\n",
       "  'ClientType': 'SDK',\n",
       "  'environment_cpu_name': 'AzureML-AutoML',\n",
       "  'environment_cpu_label': 'prod',\n",
       "  'environment_gpu_name': 'AzureML-AutoML-GPU',\n",
       "  'environment_gpu_label': 'prod',\n",
       "  'root_attribution': 'automl',\n",
       "  'attribution': 'AutoML',\n",
       "  'Orchestrator': 'AutoML',\n",
       "  'CancelUri': 'https://southcentralus.experiments.azureml.net/jasmine/v1.0/subscriptions/cdbe0b43-92a0-4715-838a-f2648cc7ad21/resourceGroups/aml-quickstarts-136710/providers/Microsoft.MachineLearningServices/workspaces/quick-starts-ws-136710/experimentids/05c716de-3762-41a3-9fde-64d6005514bc/cancel/AutoML_9245f821-c61e-417e-a3b7-85db6aa64f61',\n",
       "  'ClientSdkVersion': '1.20.0.post1',\n",
       "  'snapshotId': '00000000-0000-0000-0000-000000000000',\n",
       "  'SetupRunId': 'AutoML_9245f821-c61e-417e-a3b7-85db6aa64f61_setup',\n",
       "  'SetupRunContainerId': 'dcid.AutoML_9245f821-c61e-417e-a3b7-85db6aa64f61_setup',\n",
       "  'FeaturizationRunJsonPath': 'featurizer_container.json',\n",
       "  'FeaturizationRunId': 'AutoML_9245f821-c61e-417e-a3b7-85db6aa64f61_featurize',\n",
       "  'ProblemInfoJsonString': '{\"dataset_num_categorical\": 0, \"is_sparse\": false, \"subsampling\": false, \"dataset_classes\": 2, \"dataset_features\": 12, \"dataset_samples\": 299, \"single_frequency_class_detected\": false}',\n",
       "  'ModelExplainRunId': 'AutoML_9245f821-c61e-417e-a3b7-85db6aa64f61_ModelExplain'},\n",
       " 'inputDatasets': [{'dataset': {'id': '1e5b4d82-b871-4d15-bbd3-85e9b14c4ed2'}, 'consumptionDetails': {'type': 'RunInput', 'inputName': 'training_data', 'mechanism': 'Direct'}}],\n",
       " 'outputDatasets': [],\n",
       " 'logFiles': {},\n",
       " 'submittedBy': 'ODL_User 136710'}"
      ]
     },
     "execution_count": 10,
     "metadata": {},
     "output_type": "execute_result"
    }
   ],
   "source": [
    "remote_run.wait_for_completion(show_output=True)"
   ]
  },
  {
   "cell_type": "markdown",
   "metadata": {},
   "source": [
    "## Best Model\n"
   ]
  },
  {
   "cell_type": "code",
   "execution_count": 11,
   "metadata": {
    "gather": {
     "logged": 1598431425670
    },
    "jupyter": {
     "outputs_hidden": false,
     "source_hidden": false
    },
    "nteract": {
     "transient": {
      "deleting": false
     }
    }
   },
   "outputs": [],
   "source": [
    "best_run, fitted_model = remote_run.get_output()"
   ]
  },
  {
   "cell_type": "code",
   "execution_count": 12,
   "metadata": {},
   "outputs": [
    {
     "name": "stdout",
     "output_type": "stream",
     "text": [
      "Best Run Id : AutoML_9245f821-c61e-417e-a3b7-85db6aa64f61_36\n",
      "Accuracy : 0.8595286195286196\n",
      "Best metrics : {'accuracy': 0.8595286195286196, 'recall_score_micro': 0.8595286195286196, 'precision_score_macro': 0.856624582583786, 'recall_score_weighted': 0.8595286195286196, 'average_precision_score_weighted': 0.9075481993186054, 'f1_score_micro': 0.8595286195286196, 'recall_score_macro': 0.8213546058373645, 'matthews_correlation': 0.6757879301394585, 'precision_score_weighted': 0.8633436421194771, 'AUC_micro': 0.9081776825493998, 'precision_score_micro': 0.8595286195286196, 'balanced_accuracy': 0.8213546058373645, 'AUC_weighted': 0.9002065612410438, 'f1_score_macro': 0.8297084365390162, 'log_loss': 0.4049952940035509, 'weighted_accuracy': 0.8897873448195064, 'average_precision_score_macro': 0.8836335619163993, 'f1_score_weighted': 0.8537289281396695, 'AUC_macro': 0.900206561241044, 'norm_macro_recall': 0.6427092116747289, 'average_precision_score_micro': 0.9087606349983991, 'confusion_matrix': 'aml://artifactId/ExperimentRun/dcid.AutoML_9245f821-c61e-417e-a3b7-85db6aa64f61_36/confusion_matrix', 'accuracy_table': 'aml://artifactId/ExperimentRun/dcid.AutoML_9245f821-c61e-417e-a3b7-85db6aa64f61_36/accuracy_table'}\n",
      "Best model : Pipeline(memory=None,\n",
      "         steps=[('datatransformer',\n",
      "                 DataTransformer(enable_dnn=None, enable_feature_sweeping=None,\n",
      "                                 feature_sweeping_config=None,\n",
      "                                 feature_sweeping_timeout=None,\n",
      "                                 featurization_config=None, force_text_dnn=None,\n",
      "                                 is_cross_validation=None,\n",
      "                                 is_onnx_compatible=None, logger=None,\n",
      "                                 observer=None, task=None, working_dir=None)),\n",
      "                ('prefittedsoftvotingclassifier',...\n",
      "                                                                                                min_child_weight=1,\n",
      "                                                                                                min_split_gain=0.2631578947368421,\n",
      "                                                                                                n_estimators=50,\n",
      "                                                                                                n_jobs=1,\n",
      "                                                                                                num_leaves=104,\n",
      "                                                                                                objective=None,\n",
      "                                                                                                random_state=None,\n",
      "                                                                                                reg_alpha=0,\n",
      "                                                                                                reg_lambda=0.42105263157894735,\n",
      "                                                                                                silent=True,\n",
      "                                                                                                subsample=1,\n",
      "                                                                                                subsample_for_bin=200000,\n",
      "                                                                                                subsample_freq=0,\n",
      "                                                                                                verbose=-10))],\n",
      "                                                                     verbose=False))],\n",
      "                                               flatten_transform=None,\n",
      "                                               weights=[0.125, 0.125, 0.125,\n",
      "                                                        0.125, 0.125, 0.125,\n",
      "                                                        0.125, 0.125]))],\n",
      "         verbose=False)\n"
     ]
    }
   ],
   "source": [
    "best_metrics = best_run.get_metrics()\n",
    "\n",
    "print(\"Best Run Id : {}\".format(best_run.id), \n",
    "      \"Accuracy : {}\".format(best_metrics['accuracy']), \n",
    "      \"Best metrics : {}\".format(best_metrics), \n",
    "      \"Best model : {}\".format(fitted_model), sep = '\\n')"
   ]
  },
  {
   "cell_type": "code",
   "execution_count": 13,
   "metadata": {},
   "outputs": [
    {
     "name": "stdout",
     "output_type": "stream",
     "text": [
      "PreFittedSoftVotingClassifier(classification_labels=None,\n",
      "                              estimators=[('14',\n",
      "                                           Pipeline(memory=None,\n",
      "                                                    steps=[('robustscaler',\n",
      "                                                            RobustScaler(copy=True,\n",
      "                                                                         quantile_range=[25,\n",
      "                                                                                         75],\n",
      "                                                                         with_centering=True,\n",
      "                                                                         with_scaling=False)),\n",
      "                                                           ('extratreesclassifier',\n",
      "                                                            ExtraTreesClassifier(bootstrap=False,\n",
      "                                                                                 ccp_alpha=0.0,\n",
      "                                                                                 class_weight=None,\n",
      "                                                                                 criterion='entropy',\n",
      "                                                                                 max_depth=None,\n",
      "                                                                                 max_features=0.8...\n",
      "                                                                               min_child_samples=22,\n",
      "                                                                               min_child_weight=1,\n",
      "                                                                               min_split_gain=0.2631578947368421,\n",
      "                                                                               n_estimators=50,\n",
      "                                                                               n_jobs=1,\n",
      "                                                                               num_leaves=104,\n",
      "                                                                               objective=None,\n",
      "                                                                               random_state=None,\n",
      "                                                                               reg_alpha=0,\n",
      "                                                                               reg_lambda=0.42105263157894735,\n",
      "                                                                               silent=True,\n",
      "                                                                               subsample=1,\n",
      "                                                                               subsample_for_bin=200000,\n",
      "                                                                               subsample_freq=0,\n",
      "                                                                               verbose=-10))],\n",
      "                                                    verbose=False))],\n",
      "                              flatten_transform=None,\n",
      "                              weights=[0.125, 0.125, 0.125, 0.125, 0.125, 0.125,\n",
      "                                       0.125, 0.125])\n"
     ]
    }
   ],
   "source": [
    "print(fitted_model._final_estimator)"
   ]
  },
  {
   "cell_type": "code",
   "execution_count": 30,
   "metadata": {
    "gather": {
     "logged": 1598431426111
    },
    "jupyter": {
     "outputs_hidden": false,
     "source_hidden": false
    },
    "nteract": {
     "transient": {
      "deleting": false
     }
    }
   },
   "outputs": [
    {
     "name": "stdout",
     "output_type": "stream",
     "text": [
      "Model(workspace=Workspace.create(name='quick-starts-ws-136710', subscription_id='cdbe0b43-92a0-4715-838a-f2648cc7ad21', resource_group='aml-quickstarts-136710'), name=heart-failure-best-model-automl, id=heart-failure-best-model-automl:2, version=2, tags={}, properties={})\n"
     ]
    }
   ],
   "source": [
    "# Save the best model\n",
    "model = best_run.register_model(model_name = \"heart-failure-best-model-automl\", model_path = './outputs/model.pkl')\n",
    "print(model)"
   ]
  },
  {
   "cell_type": "code",
   "execution_count": 31,
   "metadata": {},
   "outputs": [
    {
     "name": "stdout",
     "output_type": "stream",
     "text": [
      "heart-failure-best-model-automl version: 2\n",
      "heart-failure-best-model-automl version: 1\n",
      "heart-failure-best-model-hdr version: 1\n"
     ]
    }
   ],
   "source": [
    "for model in Model.list(ws):\n",
    "    print(model.name, 'version:', model.version)"
   ]
  },
  {
   "cell_type": "markdown",
   "metadata": {},
   "source": [
    "## Model Deployment\n",
    "\n",
    "Remember you have to deploy only one of the two models you trained.. Perform the steps in the rest of this notebook only if you wish to deploy this model."
   ]
  },
  {
   "cell_type": "code",
   "execution_count": 41,
   "metadata": {},
   "outputs": [
    {
     "name": "stdout",
     "output_type": "stream",
     "text": [
      "Downloading from outputs/conda_env_v_1_0_0.yml to ./aml-model/conda_env_v_1_0_0.yml ...\n",
      "Downloading from outputs/env_dependencies.json to ./aml-model/env_dependencies.json ...\n",
      "Downloading from outputs/internal_cross_validated_models.pkl to ./aml-model/internal_cross_validated_models.pkl ...\n",
      "Downloading from outputs/model.pkl to ./aml-model/model.pkl ...\n",
      "Downloading from outputs/pipeline_graph.json to ./aml-model/pipeline_graph.json ...\n",
      "Downloading from outputs/scoring_file_v_1_0_0.py to ./aml-model/scoring_file_v_1_0_0.py ...\n"
     ]
    }
   ],
   "source": [
    "#Save the best model for the deployement\n",
    "import os\n",
    "os.makedirs('./aml-model', exist_ok=True)\n",
    "\n",
    "best_run.download_file('/outputs/model.pkl',os.path.join('./aml-model','heart-failure-best-model-automl.pkl'))\n",
    "\n",
    "for f in best_run.get_file_names():\n",
    "    if f.startswith('outputs'):\n",
    "        output_file_path = os.path.join('./aml-model', f.split('/')[-1])\n",
    "        print(f'Downloading from {f} to {output_file_path} ...')\n",
    "        best_run.download_file(name=f, output_file_path=output_file_path)"
   ]
  },
  {
   "cell_type": "code",
   "execution_count": 42,
   "metadata": {},
   "outputs": [],
   "source": [
    "model=best_run.register_model(\n",
    "            model_name = 'heart-failure-best-model-automl', \n",
    "            model_path = './outputs/model.pkl'\n",
    ")"
   ]
  },
  {
   "cell_type": "markdown",
   "metadata": {},
   "source": [
    "### Define the environement"
   ]
  },
  {
   "cell_type": "code",
   "execution_count": 43,
   "metadata": {
    "gather": {
     "logged": 1598431435189
    },
    "jupyter": {
     "outputs_hidden": false,
     "source_hidden": false
    },
    "nteract": {
     "transient": {
      "deleting": false
     }
    }
   },
   "outputs": [],
   "source": [
    "best_run.download_file('outputs/conda_env_v_1_0_0.yml', 'conda_env.yml')\n",
    "environment = Environment.from_conda_specification(name = 'heart-failure-env', file_path = 'conda_env.yml')"
   ]
  },
  {
   "cell_type": "markdown",
   "metadata": {},
   "source": [
    "### Download the scoring file"
   ]
  },
  {
   "cell_type": "code",
   "execution_count": 48,
   "metadata": {},
   "outputs": [],
   "source": [
    "best_run.download_file('outputs/scoring_file_v_1_0_0.py', 'score.py')"
   ]
  },
  {
   "cell_type": "markdown",
   "metadata": {},
   "source": [
    "### Inference Configuration"
   ]
  },
  {
   "cell_type": "code",
   "execution_count": 49,
   "metadata": {},
   "outputs": [],
   "source": [
    "inference_config = InferenceConfig(entry_script= 'score.py', environment=environment)"
   ]
  },
  {
   "cell_type": "markdown",
   "metadata": {},
   "source": [
    "### ACI Configuration"
   ]
  },
  {
   "cell_type": "code",
   "execution_count": 50,
   "metadata": {},
   "outputs": [],
   "source": [
    "aci_config = AciWebservice.deploy_configuration(cpu_cores=1, memory_gb=1, auth_enabled=True, enable_app_insights=True)"
   ]
  },
  {
   "cell_type": "markdown",
   "metadata": {},
   "source": [
    "### Deploy"
   ]
  },
  {
   "cell_type": "code",
   "execution_count": 51,
   "metadata": {},
   "outputs": [],
   "source": [
    "webservice = Model.deploy(workspace=ws, \n",
    "                        name='heart-failure-ws', \n",
    "                        models=[model], \n",
    "                        inference_config=inference_config,\n",
    "                        deployment_config=aci_config,\n",
    "                        overwrite=True)"
   ]
  },
  {
   "cell_type": "code",
   "execution_count": 52,
   "metadata": {},
   "outputs": [
    {
     "data": {
      "text/plain": [
       "AciWebservice(workspace=Workspace.create(name='quick-starts-ws-136710', subscription_id='cdbe0b43-92a0-4715-838a-f2648cc7ad21', resource_group='aml-quickstarts-136710'), name=heart-failure-ws, image_id=None, compute_type=None, state=ACI, scoring_uri=Failed, tags=None, properties=None, created_by={})"
      ]
     },
     "execution_count": 52,
     "metadata": {},
     "output_type": "execute_result"
    }
   ],
   "source": [
    "webservice"
   ]
  },
  {
   "cell_type": "code",
   "execution_count": 53,
   "metadata": {},
   "outputs": [
    {
     "name": "stdout",
     "output_type": "stream",
     "text": [
      "Tips: You can try get_logs(): https://aka.ms/debugimage#dockerlog or local deployment: https://aka.ms/debugimage#debug-locally to debug if deployment takes longer than 10 minutes.\n",
      "SucceededACI service creation operation finished, operation \"Succeeded\"\n",
      "Status : Healthy\n",
      "scoring_uri : http://1d45b776-9882-4b8c-991f-f0b9063efca3.southcentralus.azurecontainer.io/score\n",
      "swagger_uri : http://1d45b776-9882-4b8c-991f-f0b9063efca3.southcentralus.azurecontainer.io/swagger.json\n"
     ]
    }
   ],
   "source": [
    "# wait for deployment to finish and display the scoring uri and swagger uri\n",
    "webservice.wait_for_deployment(show_output=True)\n",
    "\n",
    "print(\"Status : {}\".format(webservice.state), \n",
    "      \"scoring_uri : {}\".format(webservice.scoring_uri), \n",
    "      \"swagger_uri : {}\".format(webservice.swagger_uri), sep = '\\n')"
   ]
  },
  {
   "cell_type": "markdown",
   "metadata": {},
   "source": [
    "### Consume \n",
    "# NOT FINISHED"
   ]
  },
  {
   "cell_type": "markdown",
   "metadata": {
    "collapsed": true,
    "gather": {
     "logged": 1598431657736
    },
    "jupyter": {
     "outputs_hidden": false,
     "source_hidden": false
    },
    "nteract": {
     "transient": {
      "deleting": false
     }
    }
   },
   "source": [
    "Send a request to the web service you deployed to test it."
   ]
  },
  {
   "cell_type": "code",
   "execution_count": 56,
   "metadata": {
    "gather": {
     "logged": 1598432707604
    },
    "jupyter": {
     "outputs_hidden": false,
     "source_hidden": false
    },
    "nteract": {
     "transient": {
      "deleting": false
     }
    }
   },
   "outputs": [
    {
     "name": "stdout",
     "output_type": "stream",
     "text": [
      "('{\"data\": [{\"age\": 70.0, \"anaemia\": 0, \"creatinine_phosphokinase\": 582, '\n",
      " '\"diabetes\": 0, \"ejection_fraction\": 40, \"high_blood_pressure\": 0, '\n",
      " '\"platelets\": 51000.0, \"serum_creatinine\": 2.7, \"serum_sodium\": 136, \"sex\": '\n",
      " '1, \"smoking\": 1, \"time\": 250}, {\"age\": 62.0, \"anaemia\": 1, '\n",
      " '\"creatinine_phosphokinase\": 655, \"diabetes\": 0, \"ejection_fraction\": 40, '\n",
      " '\"high_blood_pressure\": 0, \"platelets\": 283000.0, \"serum_creatinine\": 0.7, '\n",
      " '\"serum_sodium\": 133, \"sex\": 0, \"smoking\": 0, \"time\": 233}, {\"age\": 65.0, '\n",
      " '\"anaemia\": 0, \"creatinine_phosphokinase\": 582, \"diabetes\": 1, '\n",
      " '\"ejection_fraction\": 40, \"high_blood_pressure\": 0, \"platelets\": 270000.0, '\n",
      " '\"serum_creatinine\": 1.0, \"serum_sodium\": 138, \"sex\": 0, \"smoking\": 0, '\n",
      " '\"time\": 140}, {\"age\": 42.0, \"anaemia\": 0, \"creatinine_phosphokinase\": 5209, '\n",
      " '\"diabetes\": 0, \"ejection_fraction\": 30, \"high_blood_pressure\": 0, '\n",
      " '\"platelets\": 226000.0, \"serum_creatinine\": 1.0, \"serum_sodium\": 140, \"sex\": '\n",
      " '1, \"smoking\": 1, \"time\": 87}, {\"age\": 85.0, \"anaemia\": 1, '\n",
      " '\"creatinine_phosphokinase\": 910, \"diabetes\": 0, \"ejection_fraction\": 50, '\n",
      " '\"high_blood_pressure\": 0, \"platelets\": 235000.0, \"serum_creatinine\": 1.3, '\n",
      " '\"serum_sodium\": 134, \"sex\": 1, \"smoking\": 0, \"time\": 121}]}')\n"
     ]
    }
   ],
   "source": [
    "from pprint import pprint\n",
    "\n",
    "# select samples from the dataframe\n",
    "test_data = df.sample(5)\n",
    "test_label = test_data.pop('DEATH_EVENT')\n",
    "\n",
    "# convert the records to a json data file\n",
    "data_json = test_data.to_dict(orient='records')\n",
    "\n",
    "data = json.dumps({'data': data_json})\n",
    "pprint(data)"
   ]
  },
  {
   "cell_type": "code",
   "execution_count": 57,
   "metadata": {},
   "outputs": [
    {
     "name": "stdout",
     "output_type": "stream",
     "text": [
      "{\"result\": [0, 0, 0, 0, 0]}\n"
     ]
    }
   ],
   "source": [
    "# get inference\n",
    "output = webservice.run(data)\n",
    "print(output)"
   ]
  },
  {
   "cell_type": "markdown",
   "metadata": {
    "collapsed": true,
    "gather": {
     "logged": 1598432765711
    },
    "jupyter": {
     "outputs_hidden": false,
     "source_hidden": false
    },
    "nteract": {
     "transient": {
      "deleting": false
     }
    }
   },
   "source": [
    "Print the logs of the web service and delete the service"
   ]
  },
  {
   "cell_type": "code",
   "execution_count": 58,
   "metadata": {
    "jupyter": {
     "outputs_hidden": false,
     "source_hidden": false
    },
    "nteract": {
     "transient": {
      "deleting": false
     }
    }
   },
   "outputs": [
    {
     "data": {
      "text/plain": [
       "'2021-01-31T12:59:59,063216479+00:00 - iot-server/run \\n2021-01-31T12:59:59,065148396+00:00 - nginx/run \\n/usr/sbin/nginx: /azureml-envs/azureml_4f26b5b9300bb3a3b89415c34dafac63/lib/libcrypto.so.1.0.0: no version information available (required by /usr/sbin/nginx)\\n/usr/sbin/nginx: /azureml-envs/azureml_4f26b5b9300bb3a3b89415c34dafac63/lib/libcrypto.so.1.0.0: no version information available (required by /usr/sbin/nginx)\\n/usr/sbin/nginx: /azureml-envs/azureml_4f26b5b9300bb3a3b89415c34dafac63/lib/libssl.so.1.0.0: no version information available (required by /usr/sbin/nginx)\\n/usr/sbin/nginx: /azureml-envs/azureml_4f26b5b9300bb3a3b89415c34dafac63/lib/libssl.so.1.0.0: no version information available (required by /usr/sbin/nginx)\\n/usr/sbin/nginx: /azureml-envs/azureml_4f26b5b9300bb3a3b89415c34dafac63/lib/libssl.so.1.0.0: no version information available (required by /usr/sbin/nginx)\\n2021-01-31T12:59:59,067241222+00:00 - gunicorn/run \\n2021-01-31T12:59:59,067842859+00:00 - rsyslog/run \\nrsyslogd: /azureml-envs/azureml_4f26b5b9300bb3a3b89415c34dafac63/lib/libuuid.so.1: no version information available (required by rsyslogd)\\nEdgeHubConnectionString and IOTEDGE_IOTHUBHOSTNAME are not set. Exiting...\\n2021-01-31T12:59:59,253623903+00:00 - iot-server/finish 1 0\\n2021-01-31T12:59:59,255183897+00:00 - Exit code 1 is normal. Not restarting iot-server.\\nStarting gunicorn 19.9.0\\nListening at: http://127.0.0.1:31311 (14)\\nUsing worker: sync\\nworker timeout is set to 300\\nBooting worker with pid: 42\\nSPARK_HOME not set. Skipping PySpark Initialization.\\nGenerating new fontManager, this may take some time...\\nInitializing logger\\n2021-01-31 13:00:00,476 | root | INFO | Starting up app insights client\\n2021-01-31 13:00:00,477 | root | INFO | Starting up request id generator\\n2021-01-31 13:00:00,477 | root | INFO | Starting up app insight hooks\\n2021-01-31 13:00:00,477 | root | INFO | Invoking user\\'s init function\\n2021-01-31 13:00:02,590 | azureml.core | WARNING | Failure while loading azureml_run_type_providers. Failed to load entrypoint automl = azureml.train.automl.run:AutoMLRun._from_run_dto with exception cannot import name \\'RunType\\'.\\nFailure while loading azureml_run_type_providers. Failed to load entrypoint automl = azureml.train.automl.run:AutoMLRun._from_run_dto with exception cannot import name \\'RunType\\'.\\n2021-01-31 13:00:02,750 | root | INFO | Users\\'s init has completed successfully\\n2021-01-31 13:00:02,752 | root | INFO | Skipping middleware: dbg_model_info as it\\'s not enabled.\\n2021-01-31 13:00:02,752 | root | INFO | Skipping middleware: dbg_resource_usage as it\\'s not enabled.\\n2021-01-31 13:00:02,754 | root | INFO | Scoring timeout is found from os.environ: 60000 ms\\n2021-01-31 13:00:05,658 | root | INFO | 200\\n127.0.0.1 - - [31/Jan/2021:13:00:05 +0000] \"GET /swagger.json HTTP/1.0\" 200 2844 \"-\" \"Go-http-client/1.1\"\\n2021-01-31 13:00:20,703 | root | INFO | 200\\n127.0.0.1 - - [31/Jan/2021:13:00:20 +0000] \"GET /swagger.json HTTP/1.0\" 200 2844 \"-\" \"Go-http-client/1.1\"\\n2021-01-31 13:00:31,030 | root | INFO | 200\\n127.0.0.1 - - [31/Jan/2021:13:00:31 +0000] \"GET /swagger.json HTTP/1.0\" 200 2844 \"-\" \"Go-http-client/1.1\"\\n2021-01-31 13:00:31,599 | root | INFO | 200\\n127.0.0.1 - - [31/Jan/2021:13:00:31 +0000] \"GET /swagger.json HTTP/1.0\" 200 2844 \"-\" \"Go-http-client/1.1\"\\n2021-01-31 13:02:05,485 | root | INFO | Validation Request Content-Type\\n2021-01-31 13:02:05,486 | root | INFO | Scoring Timer is set to 60.0 seconds\\n2021-01-31 13:02:05,561 | root | INFO | 200\\n127.0.0.1 - - [31/Jan/2021:13:02:05 +0000] \"POST /score HTTP/1.0\" 200 31 \"-\" \"python-requests/2.25.1\"\\n'"
      ]
     },
     "execution_count": 58,
     "metadata": {},
     "output_type": "execute_result"
    }
   ],
   "source": [
    "webservice.get_logs()"
   ]
  },
  {
   "cell_type": "code",
   "execution_count": 65,
   "metadata": {},
   "outputs": [
    {
     "name": "stdout",
     "output_type": "stream",
     "text": [
      "{\"result\": [1, 0, 1, 1, 0, 1, 0, 0, 0, 0]}\n"
     ]
    }
   ],
   "source": [
    "# select samples from the dataframe\n",
    "test_data = df.sample(10)\n",
    "test_label = test_data.pop('DEATH_EVENT')\n",
    "\n",
    "# convert the records to a json data file\n",
    "data_json = test_data.to_dict(orient='records')\n",
    "\n",
    "data = json.dumps({'data': data_json})\n",
    "\n",
    "# get inference\n",
    "output = webservice.run(data)\n",
    "print(output)"
   ]
  },
  {
   "cell_type": "code",
   "execution_count": 66,
   "metadata": {},
   "outputs": [
    {
     "data": {
      "text/plain": [
       "'2021-01-31T12:59:59,063216479+00:00 - iot-server/run \\n2021-01-31T12:59:59,065148396+00:00 - nginx/run \\n/usr/sbin/nginx: /azureml-envs/azureml_4f26b5b9300bb3a3b89415c34dafac63/lib/libcrypto.so.1.0.0: no version information available (required by /usr/sbin/nginx)\\n/usr/sbin/nginx: /azureml-envs/azureml_4f26b5b9300bb3a3b89415c34dafac63/lib/libcrypto.so.1.0.0: no version information available (required by /usr/sbin/nginx)\\n/usr/sbin/nginx: /azureml-envs/azureml_4f26b5b9300bb3a3b89415c34dafac63/lib/libssl.so.1.0.0: no version information available (required by /usr/sbin/nginx)\\n/usr/sbin/nginx: /azureml-envs/azureml_4f26b5b9300bb3a3b89415c34dafac63/lib/libssl.so.1.0.0: no version information available (required by /usr/sbin/nginx)\\n/usr/sbin/nginx: /azureml-envs/azureml_4f26b5b9300bb3a3b89415c34dafac63/lib/libssl.so.1.0.0: no version information available (required by /usr/sbin/nginx)\\n2021-01-31T12:59:59,067241222+00:00 - gunicorn/run \\n2021-01-31T12:59:59,067842859+00:00 - rsyslog/run \\nrsyslogd: /azureml-envs/azureml_4f26b5b9300bb3a3b89415c34dafac63/lib/libuuid.so.1: no version information available (required by rsyslogd)\\nEdgeHubConnectionString and IOTEDGE_IOTHUBHOSTNAME are not set. Exiting...\\n2021-01-31T12:59:59,253623903+00:00 - iot-server/finish 1 0\\n2021-01-31T12:59:59,255183897+00:00 - Exit code 1 is normal. Not restarting iot-server.\\nStarting gunicorn 19.9.0\\nListening at: http://127.0.0.1:31311 (14)\\nUsing worker: sync\\nworker timeout is set to 300\\nBooting worker with pid: 42\\nSPARK_HOME not set. Skipping PySpark Initialization.\\nGenerating new fontManager, this may take some time...\\nInitializing logger\\n2021-01-31 13:00:00,476 | root | INFO | Starting up app insights client\\n2021-01-31 13:00:00,477 | root | INFO | Starting up request id generator\\n2021-01-31 13:00:00,477 | root | INFO | Starting up app insight hooks\\n2021-01-31 13:00:00,477 | root | INFO | Invoking user\\'s init function\\n2021-01-31 13:00:02,590 | azureml.core | WARNING | Failure while loading azureml_run_type_providers. Failed to load entrypoint automl = azureml.train.automl.run:AutoMLRun._from_run_dto with exception cannot import name \\'RunType\\'.\\nFailure while loading azureml_run_type_providers. Failed to load entrypoint automl = azureml.train.automl.run:AutoMLRun._from_run_dto with exception cannot import name \\'RunType\\'.\\n2021-01-31 13:00:02,750 | root | INFO | Users\\'s init has completed successfully\\n2021-01-31 13:00:02,752 | root | INFO | Skipping middleware: dbg_model_info as it\\'s not enabled.\\n2021-01-31 13:00:02,752 | root | INFO | Skipping middleware: dbg_resource_usage as it\\'s not enabled.\\n2021-01-31 13:00:02,754 | root | INFO | Scoring timeout is found from os.environ: 60000 ms\\n2021-01-31 13:00:05,658 | root | INFO | 200\\n127.0.0.1 - - [31/Jan/2021:13:00:05 +0000] \"GET /swagger.json HTTP/1.0\" 200 2844 \"-\" \"Go-http-client/1.1\"\\n2021-01-31 13:00:20,703 | root | INFO | 200\\n127.0.0.1 - - [31/Jan/2021:13:00:20 +0000] \"GET /swagger.json HTTP/1.0\" 200 2844 \"-\" \"Go-http-client/1.1\"\\n2021-01-31 13:00:31,030 | root | INFO | 200\\n127.0.0.1 - - [31/Jan/2021:13:00:31 +0000] \"GET /swagger.json HTTP/1.0\" 200 2844 \"-\" \"Go-http-client/1.1\"\\n2021-01-31 13:00:31,599 | root | INFO | 200\\n127.0.0.1 - - [31/Jan/2021:13:00:31 +0000] \"GET /swagger.json HTTP/1.0\" 200 2844 \"-\" \"Go-http-client/1.1\"\\n2021-01-31 13:02:05,485 | root | INFO | Validation Request Content-Type\\n2021-01-31 13:02:05,486 | root | INFO | Scoring Timer is set to 60.0 seconds\\n2021-01-31 13:02:05,561 | root | INFO | 200\\n127.0.0.1 - - [31/Jan/2021:13:02:05 +0000] \"POST /score HTTP/1.0\" 200 31 \"-\" \"python-requests/2.25.1\"\\n2021-01-31 13:05:32,311 | root | INFO | Validation Request Content-Type\\n2021-01-31 13:05:32,312 | root | INFO | Scoring Timer is set to 60.0 seconds\\n2021-01-31 13:05:32,391 | root | INFO | 200\\n127.0.0.1 - - [31/Jan/2021:13:05:32 +0000] \"POST /score HTTP/1.0\" 200 46 \"-\" \"python-requests/2.25.1\"\\n'"
      ]
     },
     "execution_count": 66,
     "metadata": {},
     "output_type": "execute_result"
    }
   ],
   "source": [
    "webservice.get_logs()"
   ]
  },
  {
   "cell_type": "code",
   "execution_count": 67,
   "metadata": {},
   "outputs": [],
   "source": [
    "webservice.delete()\n",
    "compute_target.delete()"
   ]
  },
  {
   "cell_type": "code",
   "execution_count": null,
   "metadata": {},
   "outputs": [],
   "source": []
  }
 ],
 "metadata": {
  "kernel_info": {
   "name": "python3-azureml"
  },
  "kernelspec": {
   "display_name": "Python 3",
   "language": "python",
   "name": "python3"
  },
  "language_info": {
   "codemirror_mode": {
    "name": "ipython",
    "version": 3
   },
   "file_extension": ".py",
   "mimetype": "text/x-python",
   "name": "python",
   "nbconvert_exporter": "python",
   "pygments_lexer": "ipython3",
   "version": "3.6.9"
  },
  "nteract": {
   "version": "nteract-front-end@1.0.0"
  }
 },
 "nbformat": 4,
 "nbformat_minor": 2
}
